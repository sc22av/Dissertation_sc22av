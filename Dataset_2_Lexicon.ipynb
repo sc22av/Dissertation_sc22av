{
 "cells": [
  {
   "cell_type": "markdown",
   "id": "7becc987-ea6b-46dc-8d9c-5139864dae1e",
   "metadata": {},
   "source": [
    "## LEXICON METHOD IMPLEMENTATION"
   ]
  },
  {
   "cell_type": "code",
   "execution_count": 2,
   "id": "d0dd09e1-606e-4c9d-8f44-49494c8ab3cd",
   "metadata": {
    "tags": []
   },
   "outputs": [],
   "source": [
    "import torch"
   ]
  },
  {
   "cell_type": "code",
   "execution_count": 3,
   "id": "a1126699-aa84-4c73-95dd-cd5c931fe9bd",
   "metadata": {
    "tags": []
   },
   "outputs": [
    {
     "name": "stdout",
     "output_type": "stream",
     "text": [
      "PyTorch is built with MPS\n"
     ]
    }
   ],
   "source": [
    "if torch.backends.mps.is_built():\n",
    "    print(\"PyTorch is built with MPS\")\n",
    "else:\n",
    "    print(\"MPS not available.\")\n"
   ]
  },
  {
   "cell_type": "code",
   "execution_count": 4,
   "id": "f2865284-ba73-4a0d-bcdd-810e7d4fd84c",
   "metadata": {
    "tags": []
   },
   "outputs": [],
   "source": [
    "if torch.backends.mps.is_available():\n",
    "    mps_device = torch.device(\"mps\")\n",
    "else:\n",
    "    print(\"MPS device not found\") "
   ]
  },
  {
   "cell_type": "code",
   "execution_count": 5,
   "id": "af938daa-72b6-4b5d-aef7-d57fe6d6e9d0",
   "metadata": {
    "tags": []
   },
   "outputs": [
    {
     "name": "stdout",
     "output_type": "stream",
     "text": [
      "mps:0\n",
      "mps:0\n"
     ]
    }
   ],
   "source": [
    "torch.set_default_device('mps')\n",
    "\n",
    "mod = torch.nn.Linear(20,30)\n",
    "print(mod.weight.device)\n",
    "print(mod(torch.randn(128, 20)).device)"
   ]
  },
  {
   "cell_type": "markdown",
   "id": "692df749-6cd5-4aa1-921c-1ff0fe0b1c29",
   "metadata": {},
   "source": [
    "## PRE-PROCESSING"
   ]
  },
  {
   "cell_type": "code",
   "execution_count": 29,
   "id": "cc0d1daa-348e-43f9-a4dd-efea2c7a4207",
   "metadata": {
    "tags": []
   },
   "outputs": [],
   "source": [
    "# Basic utilities\n",
    "import os\n",
    "import platform\n",
    "import re\n",
    "\n",
    "# Data handling and manipulation\n",
    "import numpy as np\n",
    "import pandas as pd\n",
    "import ast\n",
    "\n",
    "# Text preprocessing and sentiment analysis utilities\n",
    "import nltk\n",
    "from nltk.corpus import stopwords\n",
    "from nltk.stem import WordNetLemmatizer\n",
    "from nltk.sentiment import SentimentIntensityAnalyzer\n",
    "from bs4 import BeautifulSoup\n",
    "from textblob import TextBlob\n",
    "import contractions\n",
    "\n",
    "# Visualization tools\n",
    "import matplotlib.pyplot as plt\n",
    "import seaborn as sns\n",
    "\n",
    "# Scikit-learn utilities for model evaluation and data splitting\n",
    "from sklearn.model_selection import train_test_split\n",
    "from sklearn.metrics import (accuracy_score, f1_score, recall_score, \n",
    "                             precision_score, confusion_matrix, classification_report)\n",
    "\n"
   ]
  },
  {
   "cell_type": "code",
   "execution_count": 7,
   "id": "150681d7-fbbc-4ed9-b6f6-f2ae4933387e",
   "metadata": {
    "tags": []
   },
   "outputs": [
    {
     "name": "stdout",
     "output_type": "stream",
     "text": [
      "Machine: arm64\n",
      "Platform: macOS-13.5-arm64-i386-64bit\n",
      "Mac Version: ('13.5', ('', '', ''), 'arm64')\n",
      "Processor: i386\n",
      "Python Version: 3.11.4\n"
     ]
    }
   ],
   "source": [
    "def general_info():\n",
    "    print(\"Machine:\", platform.machine())\n",
    "    print(\"Platform:\", platform.platform())\n",
    "    print(\"Mac Version:\", platform.mac_ver())\n",
    "    print(\"Processor:\", platform.processor())\n",
    "    print(\"Python Version:\", platform.python_version())\n",
    "  \n",
    "general_info()"
   ]
  },
  {
   "cell_type": "code",
   "execution_count": 8,
   "id": "5f6fc87c-4d23-4dce-a571-2d928213fe90",
   "metadata": {
    "tags": []
   },
   "outputs": [
    {
     "name": "stdout",
     "output_type": "stream",
     "text": [
      "Selected Jupyter core packages...\n",
      "IPython          : 8.12.0\n",
      "ipykernel        : 6.19.2\n",
      "ipywidgets       : 8.0.4\n",
      "jupyter_client   : 7.4.9\n",
      "jupyter_core     : 5.3.0\n",
      "jupyter_server   : 1.23.4\n",
      "jupyterlab       : 3.6.3\n",
      "nbclient         : 0.5.13\n",
      "nbconvert        : 6.5.4\n",
      "nbformat         : 5.7.0\n",
      "notebook         : 6.5.4\n",
      "qtconsole        : 5.4.2\n",
      "traitlets        : 5.7.1\n"
     ]
    }
   ],
   "source": [
    "!jupyter --version"
   ]
  },
  {
   "cell_type": "code",
   "execution_count": 9,
   "id": "a8010650-1411-47a4-bb68-3c021794574c",
   "metadata": {},
   "outputs": [
    {
     "data": {
      "text/html": [
       "<div>\n",
       "<style scoped>\n",
       "    .dataframe tbody tr th:only-of-type {\n",
       "        vertical-align: middle;\n",
       "    }\n",
       "\n",
       "    .dataframe tbody tr th {\n",
       "        vertical-align: top;\n",
       "    }\n",
       "\n",
       "    .dataframe thead th {\n",
       "        text-align: right;\n",
       "    }\n",
       "</style>\n",
       "<table border=\"1\" class=\"dataframe\">\n",
       "  <thead>\n",
       "    <tr style=\"text-align: right;\">\n",
       "      <th></th>\n",
       "      <th>textID</th>\n",
       "      <th>text</th>\n",
       "      <th>selected_text</th>\n",
       "      <th>sentiment</th>\n",
       "    </tr>\n",
       "  </thead>\n",
       "  <tbody>\n",
       "    <tr>\n",
       "      <th>0</th>\n",
       "      <td>cb774db0d1</td>\n",
       "      <td>I`d have responded, if I were going</td>\n",
       "      <td>I`d have responded, if I were going</td>\n",
       "      <td>neutral</td>\n",
       "    </tr>\n",
       "    <tr>\n",
       "      <th>1</th>\n",
       "      <td>549e992a42</td>\n",
       "      <td>Sooo SAD I will miss you here in San Diego!!!</td>\n",
       "      <td>Sooo SAD</td>\n",
       "      <td>negative</td>\n",
       "    </tr>\n",
       "    <tr>\n",
       "      <th>2</th>\n",
       "      <td>088c60f138</td>\n",
       "      <td>my boss is bullying me...</td>\n",
       "      <td>bullying me</td>\n",
       "      <td>negative</td>\n",
       "    </tr>\n",
       "    <tr>\n",
       "      <th>3</th>\n",
       "      <td>9642c003ef</td>\n",
       "      <td>what interview! leave me alone</td>\n",
       "      <td>leave me alone</td>\n",
       "      <td>negative</td>\n",
       "    </tr>\n",
       "    <tr>\n",
       "      <th>4</th>\n",
       "      <td>358bd9e861</td>\n",
       "      <td>Sons of ****, why couldn`t they put them on t...</td>\n",
       "      <td>Sons of ****,</td>\n",
       "      <td>negative</td>\n",
       "    </tr>\n",
       "    <tr>\n",
       "      <th>...</th>\n",
       "      <td>...</td>\n",
       "      <td>...</td>\n",
       "      <td>...</td>\n",
       "      <td>...</td>\n",
       "    </tr>\n",
       "    <tr>\n",
       "      <th>27476</th>\n",
       "      <td>4eac33d1c0</td>\n",
       "      <td>wish we could come see u on Denver  husband l...</td>\n",
       "      <td>d lost</td>\n",
       "      <td>negative</td>\n",
       "    </tr>\n",
       "    <tr>\n",
       "      <th>27477</th>\n",
       "      <td>4f4c4fc327</td>\n",
       "      <td>I`ve wondered about rake to.  The client has ...</td>\n",
       "      <td>, don`t force</td>\n",
       "      <td>negative</td>\n",
       "    </tr>\n",
       "    <tr>\n",
       "      <th>27478</th>\n",
       "      <td>f67aae2310</td>\n",
       "      <td>Yay good for both of you. Enjoy the break - y...</td>\n",
       "      <td>Yay good for both of you.</td>\n",
       "      <td>positive</td>\n",
       "    </tr>\n",
       "    <tr>\n",
       "      <th>27479</th>\n",
       "      <td>ed167662a5</td>\n",
       "      <td>But it was worth it  ****.</td>\n",
       "      <td>But it was worth it  ****.</td>\n",
       "      <td>positive</td>\n",
       "    </tr>\n",
       "    <tr>\n",
       "      <th>27480</th>\n",
       "      <td>6f7127d9d7</td>\n",
       "      <td>All this flirting going on - The ATG smiles...</td>\n",
       "      <td>All this flirting going on - The ATG smiles. Y...</td>\n",
       "      <td>neutral</td>\n",
       "    </tr>\n",
       "  </tbody>\n",
       "</table>\n",
       "<p>27481 rows × 4 columns</p>\n",
       "</div>"
      ],
      "text/plain": [
       "           textID                                               text  \\\n",
       "0      cb774db0d1                I`d have responded, if I were going   \n",
       "1      549e992a42      Sooo SAD I will miss you here in San Diego!!!   \n",
       "2      088c60f138                          my boss is bullying me...   \n",
       "3      9642c003ef                     what interview! leave me alone   \n",
       "4      358bd9e861   Sons of ****, why couldn`t they put them on t...   \n",
       "...           ...                                                ...   \n",
       "27476  4eac33d1c0   wish we could come see u on Denver  husband l...   \n",
       "27477  4f4c4fc327   I`ve wondered about rake to.  The client has ...   \n",
       "27478  f67aae2310   Yay good for both of you. Enjoy the break - y...   \n",
       "27479  ed167662a5                         But it was worth it  ****.   \n",
       "27480  6f7127d9d7     All this flirting going on - The ATG smiles...   \n",
       "\n",
       "                                           selected_text sentiment  \n",
       "0                    I`d have responded, if I were going   neutral  \n",
       "1                                               Sooo SAD  negative  \n",
       "2                                            bullying me  negative  \n",
       "3                                         leave me alone  negative  \n",
       "4                                          Sons of ****,  negative  \n",
       "...                                                  ...       ...  \n",
       "27476                                             d lost  negative  \n",
       "27477                                      , don`t force  negative  \n",
       "27478                          Yay good for both of you.  positive  \n",
       "27479                         But it was worth it  ****.  positive  \n",
       "27480  All this flirting going on - The ATG smiles. Y...   neutral  \n",
       "\n",
       "[27481 rows x 4 columns]"
      ]
     },
     "execution_count": 9,
     "metadata": {},
     "output_type": "execute_result"
    }
   ],
   "source": [
    "# Specify the path to the dataset, load the csv into Pandas DataFrame\n",
    "data_pth = '/users/anshulvij/Desktop/Masters Project Code/Tweets.csv'\n",
    "df = pd.read_csv(data_pth)\n",
    "df"
   ]
  },
  {
   "cell_type": "code",
   "execution_count": 10,
   "id": "6b5289e1-b9dc-42c6-a651-9270e7479cbd",
   "metadata": {},
   "outputs": [
    {
     "name": "stdout",
     "output_type": "stream",
     "text": [
      "\n",
      "Count of each sentiment:\n",
      "neutral     11118\n",
      "positive     8582\n",
      "negative     7781\n",
      "Name: sentiment, dtype: int64\n",
      "neutral     40.457043\n",
      "positive    31.228849\n",
      "negative    28.314108\n",
      "Name: sentiment, dtype: float64\n"
     ]
    }
   ],
   "source": [
    "def display_sentiment_counts(dataframe, column_name='sentiment'):\n",
    "    \"\"\"\n",
    "    Display the counts and percentages of unique values in the specified column.\n",
    "    \n",
    "    Args:\n",
    "    - dataframe (pd.DataFrame): The dataframe containing the data.\n",
    "    - column_name (str): The name of the column to compute the statistics for. Default is 'sentiment'.\n",
    "    \n",
    "    Returns:\n",
    "    - None\n",
    "    \"\"\"\n",
    "    sentiment_counts = dataframe[column_name].value_counts()\n",
    "    print(\"\\nCount of each sentiment:\")\n",
    "    print(sentiment_counts)\n",
    "\n",
    "    sentiment_percentages = dataframe[column_name].value_counts(normalize=True)*100\n",
    "    print(sentiment_percentages)\n",
    "\n",
    "display_sentiment_counts(df)"
   ]
  },
  {
   "cell_type": "code",
   "execution_count": 11,
   "id": "28bd986c-66d6-4bef-b64a-a88b8bc651b4",
   "metadata": {},
   "outputs": [
    {
     "name": "stdout",
     "output_type": "stream",
     "text": [
      "Missing Values:\n",
      " textID           0\n",
      "text             1\n",
      "selected_text    1\n",
      "sentiment        0\n",
      "dtype: int64\n",
      "Post Filtering Step-1: Total Rows - 27480\n"
     ]
    }
   ],
   "source": [
    "def check_missing_data(dataframe):\n",
    "    \"\"\"\n",
    "    Check for missing data in the dataframe.\n",
    "    \n",
    "    Args:\n",
    "    - dataframe (pd.DataFrame): The dataframe to inspect.\n",
    "    \n",
    "    Returns:\n",
    "    - pd.Series: A series containing counts of missing data for each column.\n",
    "    \"\"\"\n",
    "    return dataframe.isnull().sum()\n",
    "\n",
    "# Display the number of missing values for each column\n",
    "print(\"Missing Values:\\n\", check_missing_data(df))\n",
    "\n",
    "# Remove rows with missing values\n",
    "df.dropna(inplace=True)\n",
    "print(f\"Post Filtering Step-1: Total Rows - {len(df)}\")"
   ]
  },
  {
   "cell_type": "code",
   "execution_count": 12,
   "id": "b68cdabf-0c7a-478c-972b-3a0b0a69edcd",
   "metadata": {},
   "outputs": [],
   "source": [
    "def custom_handle_contractions(text):\n",
    "    \"\"\"\n",
    "    Expand contractions in the provided text using a predefined contractions dictionary.\n",
    "    This function handles contractions formed both with standard apostrophes and backticks.\n",
    "    \n",
    "    Args:\n",
    "    - text (str): The input text containing contractions.\n",
    "    \n",
    "    Returns:\n",
    "    - str: The input text with all recognized contractions expanded.\n",
    "    \n",
    "    \"\"\"\n",
    "    \n",
    "    # Define a dictionary of contractions and their expanded forms\n",
    "    contractions_dict = contractions.contractions_dict\n",
    "    \n",
    "    # Replace the contractions with their expanded form\n",
    "    for contraction, expansion in contractions_dict.items():\n",
    "        # Handle both apostrophes and backticks\n",
    "        text = text.replace(contraction, expansion)\n",
    "        text = text.replace(contraction.replace(\"'\", \"`\"), expansion)\n",
    "\n",
    "    return text\n",
    "\n",
    "# Applying it to the DataFrame\n",
    "df['text'] = df['text'].apply(custom_handle_contractions)\n"
   ]
  },
  {
   "cell_type": "code",
   "execution_count": 13,
   "id": "04fa4125-5895-4193-bc87-5797e1286a22",
   "metadata": {},
   "outputs": [
    {
     "data": {
      "text/html": [
       "<div>\n",
       "<style scoped>\n",
       "    .dataframe tbody tr th:only-of-type {\n",
       "        vertical-align: middle;\n",
       "    }\n",
       "\n",
       "    .dataframe tbody tr th {\n",
       "        vertical-align: top;\n",
       "    }\n",
       "\n",
       "    .dataframe thead th {\n",
       "        text-align: right;\n",
       "    }\n",
       "</style>\n",
       "<table border=\"1\" class=\"dataframe\">\n",
       "  <thead>\n",
       "    <tr style=\"text-align: right;\">\n",
       "      <th></th>\n",
       "      <th>textID</th>\n",
       "      <th>text</th>\n",
       "      <th>selected_text</th>\n",
       "      <th>sentiment</th>\n",
       "    </tr>\n",
       "  </thead>\n",
       "  <tbody>\n",
       "    <tr>\n",
       "      <th>0</th>\n",
       "      <td>cb774db0d1</td>\n",
       "      <td>I would have responded, if I were going</td>\n",
       "      <td>I`d have responded, if I were going</td>\n",
       "      <td>neutral</td>\n",
       "    </tr>\n",
       "    <tr>\n",
       "      <th>1</th>\n",
       "      <td>549e992a42</td>\n",
       "      <td>Sooo SAD I will miss you here in San Diego!!!</td>\n",
       "      <td>Sooo SAD</td>\n",
       "      <td>negative</td>\n",
       "    </tr>\n",
       "    <tr>\n",
       "      <th>2</th>\n",
       "      <td>088c60f138</td>\n",
       "      <td>my boss is bullying me...</td>\n",
       "      <td>bullying me</td>\n",
       "      <td>negative</td>\n",
       "    </tr>\n",
       "    <tr>\n",
       "      <th>3</th>\n",
       "      <td>9642c003ef</td>\n",
       "      <td>what interview! leave me alone</td>\n",
       "      <td>leave me alone</td>\n",
       "      <td>negative</td>\n",
       "    </tr>\n",
       "    <tr>\n",
       "      <th>4</th>\n",
       "      <td>358bd9e861</td>\n",
       "      <td>Sons of ****, why could not they put them on ...</td>\n",
       "      <td>Sons of ****,</td>\n",
       "      <td>negative</td>\n",
       "    </tr>\n",
       "    <tr>\n",
       "      <th>...</th>\n",
       "      <td>...</td>\n",
       "      <td>...</td>\n",
       "      <td>...</td>\n",
       "      <td>...</td>\n",
       "    </tr>\n",
       "    <tr>\n",
       "      <th>27476</th>\n",
       "      <td>4eac33d1c0</td>\n",
       "      <td>wish we could come see u on Denver  husband l...</td>\n",
       "      <td>d lost</td>\n",
       "      <td>negative</td>\n",
       "    </tr>\n",
       "    <tr>\n",
       "      <th>27477</th>\n",
       "      <td>4f4c4fc327</td>\n",
       "      <td>I have wondered about rake to.  The client ha...</td>\n",
       "      <td>, don`t force</td>\n",
       "      <td>negative</td>\n",
       "    </tr>\n",
       "    <tr>\n",
       "      <th>27478</th>\n",
       "      <td>f67aae2310</td>\n",
       "      <td>Yay good for both of you. Enjoy the break - y...</td>\n",
       "      <td>Yay good for both of you.</td>\n",
       "      <td>positive</td>\n",
       "    </tr>\n",
       "    <tr>\n",
       "      <th>27479</th>\n",
       "      <td>ed167662a5</td>\n",
       "      <td>But it was worth it  ****.</td>\n",
       "      <td>But it was worth it  ****.</td>\n",
       "      <td>positive</td>\n",
       "    </tr>\n",
       "    <tr>\n",
       "      <th>27480</th>\n",
       "      <td>6f7127d9d7</td>\n",
       "      <td>All this flirting going on - The ATG smiles...</td>\n",
       "      <td>All this flirting going on - The ATG smiles. Y...</td>\n",
       "      <td>neutral</td>\n",
       "    </tr>\n",
       "  </tbody>\n",
       "</table>\n",
       "<p>27480 rows × 4 columns</p>\n",
       "</div>"
      ],
      "text/plain": [
       "           textID                                               text  \\\n",
       "0      cb774db0d1            I would have responded, if I were going   \n",
       "1      549e992a42      Sooo SAD I will miss you here in San Diego!!!   \n",
       "2      088c60f138                          my boss is bullying me...   \n",
       "3      9642c003ef                     what interview! leave me alone   \n",
       "4      358bd9e861   Sons of ****, why could not they put them on ...   \n",
       "...           ...                                                ...   \n",
       "27476  4eac33d1c0   wish we could come see u on Denver  husband l...   \n",
       "27477  4f4c4fc327   I have wondered about rake to.  The client ha...   \n",
       "27478  f67aae2310   Yay good for both of you. Enjoy the break - y...   \n",
       "27479  ed167662a5                         But it was worth it  ****.   \n",
       "27480  6f7127d9d7     All this flirting going on - The ATG smiles...   \n",
       "\n",
       "                                           selected_text sentiment  \n",
       "0                    I`d have responded, if I were going   neutral  \n",
       "1                                               Sooo SAD  negative  \n",
       "2                                            bullying me  negative  \n",
       "3                                         leave me alone  negative  \n",
       "4                                          Sons of ****,  negative  \n",
       "...                                                  ...       ...  \n",
       "27476                                             d lost  negative  \n",
       "27477                                      , don`t force  negative  \n",
       "27478                          Yay good for both of you.  positive  \n",
       "27479                         But it was worth it  ****.  positive  \n",
       "27480  All this flirting going on - The ATG smiles. Y...   neutral  \n",
       "\n",
       "[27480 rows x 4 columns]"
      ]
     },
     "execution_count": 13,
     "metadata": {},
     "output_type": "execute_result"
    }
   ],
   "source": [
    "df"
   ]
  },
  {
   "cell_type": "code",
   "execution_count": 14,
   "id": "7bfc21f8-1dcc-443f-8fe2-1ad7febc728a",
   "metadata": {},
   "outputs": [],
   "source": [
    "def clean_text(text):\n",
    "    \"\"\"\n",
    "    Clean the provided text by removing URLs, mentions, numbers, hashtags, non-ASCII characters, and converting to lowercase.\n",
    "    \n",
    "    Args:\n",
    "    - text (str): The input text.\n",
    "    \n",
    "    Returns:\n",
    "    - str: The cleaned text.\n",
    "    \"\"\"\n",
    "    text = text.lower() \n",
    "    text = re.sub(r'http\\S+|www\\S+|https\\S+', '', text, flags=re.MULTILINE)  # Remove URLs\n",
    "    text = re.sub(r'@\\w+', '', text)  # Remove mentions\n",
    "    text = re.sub(r'\\d+', '', text)  # Remove numbers\n",
    "    text = re.sub(r'#\\S+', '', text)  # Remove hashtags\n",
    "    text = re.sub(r'[^\\w\\s]', '', text)  # Remove punctuation\n",
    "    text = re.sub(r'[^\\x00-\\x7F]+', '', text)  # Remove non-ASCII characters\n",
    "    return text\n",
    "\n",
    "df['cleaned_tweets'] = df['text'].apply(clean_text)\n"
   ]
  },
  {
   "cell_type": "code",
   "execution_count": 15,
   "id": "593d1de9-4d88-4b5b-b5b2-f6ddacd63a34",
   "metadata": {},
   "outputs": [],
   "source": [
    "def retain_required_columns(df, required_columns):\n",
    "    \"\"\"\n",
    "    Retains only the specified required columns in the DataFrame and drops all others.\n",
    "    \n",
    "    Args:\n",
    "    - df (pd.DataFrame): The input DataFrame.\n",
    "    - required_columns (list): List of column names to retain.\n",
    "    \n",
    "    Returns:\n",
    "    - pd.DataFrame: DataFrame containing only the required columns.\n",
    "    \"\"\"\n",
    "    \n",
    "    # Check if required columns are present in the dataframe\n",
    "    missing_columns = [col for col in required_columns if col not in df.columns]\n",
    "    \n",
    "    if missing_columns:\n",
    "        raise ValueError(f\"The following required columns are not present in the DataFrame: {missing_columns}\")\n",
    "    \n",
    "    return df[required_columns]\n",
    "\n",
    "\n",
    "df = retain_required_columns(df, ['sentiment', 'cleaned_tweets'])"
   ]
  },
  {
   "cell_type": "code",
   "execution_count": 16,
   "id": "ad4a671a-afa4-4a92-9887-58309ab3cd5b",
   "metadata": {},
   "outputs": [
    {
     "data": {
      "text/html": [
       "<div>\n",
       "<style scoped>\n",
       "    .dataframe tbody tr th:only-of-type {\n",
       "        vertical-align: middle;\n",
       "    }\n",
       "\n",
       "    .dataframe tbody tr th {\n",
       "        vertical-align: top;\n",
       "    }\n",
       "\n",
       "    .dataframe thead th {\n",
       "        text-align: right;\n",
       "    }\n",
       "</style>\n",
       "<table border=\"1\" class=\"dataframe\">\n",
       "  <thead>\n",
       "    <tr style=\"text-align: right;\">\n",
       "      <th></th>\n",
       "      <th>sentiment</th>\n",
       "      <th>cleaned_tweets</th>\n",
       "    </tr>\n",
       "  </thead>\n",
       "  <tbody>\n",
       "    <tr>\n",
       "      <th>0</th>\n",
       "      <td>neutral</td>\n",
       "      <td>i would have responded if i were going</td>\n",
       "    </tr>\n",
       "    <tr>\n",
       "      <th>1</th>\n",
       "      <td>negative</td>\n",
       "      <td>sooo sad i will miss you here in san diego</td>\n",
       "    </tr>\n",
       "    <tr>\n",
       "      <th>2</th>\n",
       "      <td>negative</td>\n",
       "      <td>my boss is bullying me</td>\n",
       "    </tr>\n",
       "    <tr>\n",
       "      <th>3</th>\n",
       "      <td>negative</td>\n",
       "      <td>what interview leave me alone</td>\n",
       "    </tr>\n",
       "    <tr>\n",
       "      <th>4</th>\n",
       "      <td>negative</td>\n",
       "      <td>sons of  why could not they put them on the r...</td>\n",
       "    </tr>\n",
       "    <tr>\n",
       "      <th>...</th>\n",
       "      <td>...</td>\n",
       "      <td>...</td>\n",
       "    </tr>\n",
       "    <tr>\n",
       "      <th>27476</th>\n",
       "      <td>negative</td>\n",
       "      <td>wish we could come see u on denver  husband l...</td>\n",
       "    </tr>\n",
       "    <tr>\n",
       "      <th>27477</th>\n",
       "      <td>negative</td>\n",
       "      <td>i have wondered about rake to  the client has...</td>\n",
       "    </tr>\n",
       "    <tr>\n",
       "      <th>27478</th>\n",
       "      <td>positive</td>\n",
       "      <td>yay good for both of you enjoy the break  you...</td>\n",
       "    </tr>\n",
       "    <tr>\n",
       "      <th>27479</th>\n",
       "      <td>positive</td>\n",
       "      <td>but it was worth it</td>\n",
       "    </tr>\n",
       "    <tr>\n",
       "      <th>27480</th>\n",
       "      <td>neutral</td>\n",
       "      <td>all this flirting going on  the atg smiles ...</td>\n",
       "    </tr>\n",
       "  </tbody>\n",
       "</table>\n",
       "<p>27480 rows × 2 columns</p>\n",
       "</div>"
      ],
      "text/plain": [
       "      sentiment                                     cleaned_tweets\n",
       "0       neutral             i would have responded if i were going\n",
       "1      negative         sooo sad i will miss you here in san diego\n",
       "2      negative                             my boss is bullying me\n",
       "3      negative                      what interview leave me alone\n",
       "4      negative   sons of  why could not they put them on the r...\n",
       "...         ...                                                ...\n",
       "27476  negative   wish we could come see u on denver  husband l...\n",
       "27477  negative   i have wondered about rake to  the client has...\n",
       "27478  positive   yay good for both of you enjoy the break  you...\n",
       "27479  positive                              but it was worth it  \n",
       "27480   neutral     all this flirting going on  the atg smiles ...\n",
       "\n",
       "[27480 rows x 2 columns]"
      ]
     },
     "execution_count": 16,
     "metadata": {},
     "output_type": "execute_result"
    }
   ],
   "source": [
    "df"
   ]
  },
  {
   "cell_type": "code",
   "execution_count": 17,
   "id": "d092bf53-06f7-44ce-a2be-901d34800468",
   "metadata": {},
   "outputs": [],
   "source": [
    "# Detect all duplicates based on the 'cleaned_text' column\n",
    "duplicates_mask = df.duplicated(subset='cleaned_tweets', keep=False)\n",
    "\n",
    "# Remove all rows with duplicate 'cleaned_text'\n",
    "df = df[~duplicates_mask]"
   ]
  },
  {
   "cell_type": "code",
   "execution_count": 18,
   "id": "b2ad95c6-dcb0-4350-be3f-629665c53a04",
   "metadata": {},
   "outputs": [
    {
     "data": {
      "text/html": [
       "<div>\n",
       "<style scoped>\n",
       "    .dataframe tbody tr th:only-of-type {\n",
       "        vertical-align: middle;\n",
       "    }\n",
       "\n",
       "    .dataframe tbody tr th {\n",
       "        vertical-align: top;\n",
       "    }\n",
       "\n",
       "    .dataframe thead th {\n",
       "        text-align: right;\n",
       "    }\n",
       "</style>\n",
       "<table border=\"1\" class=\"dataframe\">\n",
       "  <thead>\n",
       "    <tr style=\"text-align: right;\">\n",
       "      <th></th>\n",
       "      <th>sentiment</th>\n",
       "      <th>cleaned_tweets</th>\n",
       "    </tr>\n",
       "  </thead>\n",
       "  <tbody>\n",
       "    <tr>\n",
       "      <th>0</th>\n",
       "      <td>neutral</td>\n",
       "      <td>i would have responded if i were going</td>\n",
       "    </tr>\n",
       "    <tr>\n",
       "      <th>1</th>\n",
       "      <td>negative</td>\n",
       "      <td>sooo sad i will miss you here in san diego</td>\n",
       "    </tr>\n",
       "    <tr>\n",
       "      <th>2</th>\n",
       "      <td>negative</td>\n",
       "      <td>my boss is bullying me</td>\n",
       "    </tr>\n",
       "    <tr>\n",
       "      <th>3</th>\n",
       "      <td>negative</td>\n",
       "      <td>what interview leave me alone</td>\n",
       "    </tr>\n",
       "    <tr>\n",
       "      <th>4</th>\n",
       "      <td>negative</td>\n",
       "      <td>sons of  why could not they put them on the r...</td>\n",
       "    </tr>\n",
       "    <tr>\n",
       "      <th>...</th>\n",
       "      <td>...</td>\n",
       "      <td>...</td>\n",
       "    </tr>\n",
       "    <tr>\n",
       "      <th>27476</th>\n",
       "      <td>negative</td>\n",
       "      <td>wish we could come see u on denver  husband l...</td>\n",
       "    </tr>\n",
       "    <tr>\n",
       "      <th>27477</th>\n",
       "      <td>negative</td>\n",
       "      <td>i have wondered about rake to  the client has...</td>\n",
       "    </tr>\n",
       "    <tr>\n",
       "      <th>27478</th>\n",
       "      <td>positive</td>\n",
       "      <td>yay good for both of you enjoy the break  you...</td>\n",
       "    </tr>\n",
       "    <tr>\n",
       "      <th>27479</th>\n",
       "      <td>positive</td>\n",
       "      <td>but it was worth it</td>\n",
       "    </tr>\n",
       "    <tr>\n",
       "      <th>27480</th>\n",
       "      <td>neutral</td>\n",
       "      <td>all this flirting going on  the atg smiles ...</td>\n",
       "    </tr>\n",
       "  </tbody>\n",
       "</table>\n",
       "<p>27200 rows × 2 columns</p>\n",
       "</div>"
      ],
      "text/plain": [
       "      sentiment                                     cleaned_tweets\n",
       "0       neutral             i would have responded if i were going\n",
       "1      negative         sooo sad i will miss you here in san diego\n",
       "2      negative                             my boss is bullying me\n",
       "3      negative                      what interview leave me alone\n",
       "4      negative   sons of  why could not they put them on the r...\n",
       "...         ...                                                ...\n",
       "27476  negative   wish we could come see u on denver  husband l...\n",
       "27477  negative   i have wondered about rake to  the client has...\n",
       "27478  positive   yay good for both of you enjoy the break  you...\n",
       "27479  positive                              but it was worth it  \n",
       "27480   neutral     all this flirting going on  the atg smiles ...\n",
       "\n",
       "[27200 rows x 2 columns]"
      ]
     },
     "execution_count": 18,
     "metadata": {},
     "output_type": "execute_result"
    }
   ],
   "source": [
    "df"
   ]
  },
  {
   "cell_type": "code",
   "execution_count": 19,
   "id": "0e4eb2e2-6b76-4bcd-a8e3-ee8927cfdd31",
   "metadata": {},
   "outputs": [
    {
     "name": "stdout",
     "output_type": "stream",
     "text": [
      "\n",
      "Count of each sentiment:\n",
      "neutral     11030\n",
      "positive     8435\n",
      "negative     7735\n",
      "Name: sentiment, dtype: int64\n",
      "neutral     40.551471\n",
      "positive    31.011029\n",
      "negative    28.437500\n",
      "Name: sentiment, dtype: float64\n"
     ]
    }
   ],
   "source": [
    "def display_sentiment_counts(dataframe, column_name='sentiment'):\n",
    "    \"\"\"\n",
    "    Display the counts and percentages of unique values in the specified column.\n",
    "    \n",
    "    Args:\n",
    "    - dataframe (pd.DataFrame): The dataframe containing the data.\n",
    "    - column_name (str): The name of the column to compute the statistics for. Default is 'sentiment'.\n",
    "    \n",
    "    Returns:\n",
    "    - None\n",
    "    \"\"\"\n",
    "    sentiment_counts = dataframe[column_name].value_counts()\n",
    "    print(\"\\nCount of each sentiment:\")\n",
    "    print(sentiment_counts)\n",
    "\n",
    "    sentiment_percentages = dataframe[column_name].value_counts(normalize=True)*100\n",
    "    print(sentiment_percentages)\n",
    "\n",
    "display_sentiment_counts(df)"
   ]
  },
  {
   "cell_type": "code",
   "execution_count": 20,
   "id": "ce8d9288-96e4-473d-97b1-1d57a56150e9",
   "metadata": {},
   "outputs": [
    {
     "data": {
      "image/png": "[encoded data removed]",
      "text/plain": [
       "<Figure size 640x480 with 1 Axes>"
      ]
     },
     "metadata": {},
     "output_type": "display_data"
    }
   ],
   "source": [
    "import matplotlib.pyplot as plt\n",
    "\n",
    "# Calculate sentiment frequency and its relative percentage\n",
    "sentiment_frequency = df['sentiment'].value_counts()\n",
    "sentiment_ratio = df['sentiment'].value_counts(normalize=True) * 100\n",
    "\n",
    "# Display sentiment distribution using a bar chart\n",
    "bars = plt.bar(sentiment_frequency.index, sentiment_frequency.values, alpha=0.8)\n",
    "\n",
    "# Adjust the y-axis limit\n",
    "plt.ylim(0, max(sentiment_frequency.values) * 1.15)  # Increase the upper limit by 15% of the highest bar value\n",
    "\n",
    "# Label each bar with the sentiment count and its percentage\n",
    "for idx, bar in enumerate(bars):\n",
    "    yval = bar.get_height()\n",
    "    sentiment_label = sentiment_frequency.index[idx]\n",
    "    plt.text(bar.get_x() + bar.get_width()/2, yval + max(sentiment_frequency.values) * 0.05, \n",
    "             f'{int(yval)} ({sentiment_ratio[sentiment_label]:.2f}%)',\n",
    "             ha='center', va='center')\n",
    "\n",
    "plt.xlabel('Sentiment Value')\n",
    "plt.ylabel('Frequency')\n",
    "plt.title('Sentiment Distribution Visualization')\n",
    "plt.tight_layout()\n",
    "plt.show()"
   ]
  },
  {
   "cell_type": "code",
   "execution_count": 21,
   "id": "5acfcd17-4442-4280-bb22-322726cdcd51",
   "metadata": {
    "tags": []
   },
   "outputs": [],
   "source": [
    "#!pip install textblob"
   ]
  },
  {
   "cell_type": "code",
   "execution_count": 22,
   "id": "015b7ff2-7c98-4762-a37e-8454967081ce",
   "metadata": {
    "tags": []
   },
   "outputs": [
    {
     "data": {
      "text/html": [
       "<div>\n",
       "<style scoped>\n",
       "    .dataframe tbody tr th:only-of-type {\n",
       "        vertical-align: middle;\n",
       "    }\n",
       "\n",
       "    .dataframe tbody tr th {\n",
       "        vertical-align: top;\n",
       "    }\n",
       "\n",
       "    .dataframe thead th {\n",
       "        text-align: right;\n",
       "    }\n",
       "</style>\n",
       "<table border=\"1\" class=\"dataframe\">\n",
       "  <thead>\n",
       "    <tr style=\"text-align: right;\">\n",
       "      <th></th>\n",
       "      <th>sentiment</th>\n",
       "      <th>cleaned_tweets</th>\n",
       "      <th>target</th>\n",
       "    </tr>\n",
       "  </thead>\n",
       "  <tbody>\n",
       "    <tr>\n",
       "      <th>0</th>\n",
       "      <td>neutral</td>\n",
       "      <td>i would have responded if i were going</td>\n",
       "      <td>2</td>\n",
       "    </tr>\n",
       "    <tr>\n",
       "      <th>1</th>\n",
       "      <td>negative</td>\n",
       "      <td>sooo sad i will miss you here in san diego</td>\n",
       "      <td>1</td>\n",
       "    </tr>\n",
       "    <tr>\n",
       "      <th>2</th>\n",
       "      <td>negative</td>\n",
       "      <td>my boss is bullying me</td>\n",
       "      <td>1</td>\n",
       "    </tr>\n",
       "    <tr>\n",
       "      <th>3</th>\n",
       "      <td>negative</td>\n",
       "      <td>what interview leave me alone</td>\n",
       "      <td>1</td>\n",
       "    </tr>\n",
       "    <tr>\n",
       "      <th>4</th>\n",
       "      <td>negative</td>\n",
       "      <td>sons of  why could not they put them on the r...</td>\n",
       "      <td>1</td>\n",
       "    </tr>\n",
       "  </tbody>\n",
       "</table>\n",
       "</div>"
      ],
      "text/plain": [
       "  sentiment                                     cleaned_tweets  target\n",
       "0   neutral             i would have responded if i were going       2\n",
       "1  negative         sooo sad i will miss you here in san diego       1\n",
       "2  negative                             my boss is bullying me       1\n",
       "3  negative                      what interview leave me alone       1\n",
       "4  negative   sons of  why could not they put them on the r...       1"
      ]
     },
     "execution_count": 22,
     "metadata": {},
     "output_type": "execute_result"
    }
   ],
   "source": [
    "# --- Data Preparation ---\n",
    "\n",
    "# Map the sentiments to numerical values\n",
    "target_map = {'neutral':2,'positive':0,'negative':1}\n",
    "df = df.copy()\n",
    "df.loc[:, 'target'] = df['sentiment'].map(target_map)\n",
    "df.head()"
   ]
  },
  {
   "cell_type": "code",
   "execution_count": 23,
   "id": "946fe481-0dbc-4634-8e46-7a30a9ff2615",
   "metadata": {
    "tags": []
   },
   "outputs": [],
   "source": [
    "# Extracting sentences and their labels\n",
    "X, y = df['cleaned_tweets'].values, df['target'].values\n",
    "\n",
    "# Splitting the data into training, validation, and test sets (70-15-15 split)\n",
    "X_train, X_temp, Y_train, Y_temp = train_test_split(X, y, test_size=0.3, random_state=5)\n",
    "X_val, X_test, Y_val, Y_test = train_test_split(X_temp, Y_temp, test_size=0.5, random_state=5)"
   ]
  },
  {
   "cell_type": "code",
   "execution_count": 24,
   "id": "af12e628-21ee-4648-9c09-5afb80840054",
   "metadata": {},
   "outputs": [],
   "source": [
    "def display_report(Y_true, Y_pred, dataset_type=\"Training\"):\n",
    "    \"\"\"\n",
    "    Print out the classification report and display the confusion matrix.\n",
    "    :param Y_true: true labels\n",
    "    :param Y_pred: predicted labels\n",
    "    :param dataset_type: a string specifying the dataset type (\"Training\", \"Validation\", or \"Test\")\n",
    "    :return: None\n",
    "    \"\"\"\n",
    "    # Print classification report\n",
    "    print(f\"{dataset_type} Classification Report:\\n{classification_report(Y_true, Y_pred, digits=4)}\\n\")\n",
    "\n",
    "    # Display the confusion matrix using a heatmap\n",
    "    cm = confusion_matrix(Y_true, Y_pred)\n",
    "    sns.heatmap(cm, annot=True, fmt=\"d\", cmap=\"Blues\")\n",
    "    plt.title(f\"{dataset_type} Confusion Matrix\")\n",
    "    plt.xlabel(\"Predicted Labels\")\n",
    "    plt.ylabel(\"True Labels\")\n",
    "    plt.show()\n",
    "    "
   ]
  },
  {
   "cell_type": "code",
   "execution_count": 37,
   "id": "69a138fe-2f74-4558-8d52-3f774ad8bd91",
   "metadata": {
    "tags": []
   },
   "outputs": [],
   "source": [
    "def compute_FPR_spec_metrics(cm, labels=[\"positive\", \"negative\", \"neutral\"]):\n",
    "    \"\"\"\n",
    "    Compute specificity, FPR, precision for each class, and the overall accuracy given a 3x3 confusion matrix.\n",
    "    Also, computes weighted and macro average for FPR and specificity.\n",
    "\n",
    "    Args:\n",
    "    - cm (numpy array): 3x3 confusion matrix\n",
    "    - labels (list): List of class labels in order\n",
    "\n",
    "    Returns:\n",
    "    None. It will print the results directly.\n",
    "    \"\"\"\n",
    "    \n",
    "    specificities = []\n",
    "    fprs = []\n",
    "    precisions = []\n",
    "\n",
    "    for i in range(3):\n",
    "        tp = cm[i, i]\n",
    "        tn = sum(cm[j, j] for j in range(3) if j != i)\n",
    "        fp = sum(cm[j, i] for j in range(3) if j != i)\n",
    "        fn = sum(cm[i, j] for j in range(3) if j != i)\n",
    "        \n",
    "        specificity = tn / (tn + fp) if tn + fp != 0 else 0\n",
    "        fpr = 1 - specificity\n",
    "        precision = tp / (tp + fp) if tp + fp != 0 else 0\n",
    "        \n",
    "        specificities.append(round(specificity, 4))\n",
    "        fprs.append(round(fpr, 4))\n",
    "        precisions.append(round(precision, 4))\n",
    "    \n",
    "    # Print the class values with their corresponding metrics\n",
    "    for i, label in enumerate(labels):\n",
    "        print(f\"Metrics for class {label} (Class value: {i}):\")\n",
    "        print(f\"Specificity: {specificities[i]}\")\n",
    "        print(f\"FPR: {fprs[i]}\")\n",
    "        print(f\"Precision: {precisions[i]}\\n\")\n",
    "\n",
    "    # Calculate overall accuracy\n",
    "    accuracy = round(np.trace(cm) / np.sum(cm), 4)\n",
    "    print(f\"Overall accuracy: {accuracy}\")\n",
    "\n",
    "    # Calculate true values for each class for weighting purposes\n",
    "    true_values = np.sum(cm, axis=1)\n",
    "    total_true_values = np.sum(true_values)\n",
    "\n",
    "    # Calculate weighted average specificity and FPR\n",
    "    weighted_avg_spec = round(sum(specificities[i] * true_values[i] for i in range(3)) / total_true_values, 4)\n",
    "    weighted_avg_fpr = round(sum(fprs[i] * true_values[i] for i in range(3)) / total_true_values, 4)\n",
    "\n",
    "    # Calculate macro average specificity and FPR\n",
    "    macro_avg_spec = round(np.mean(specificities), 4)\n",
    "    macro_avg_fpr = round(np.mean(fprs), 4)\n",
    "\n",
    "    print(f\"Weighted average specificity: {weighted_avg_spec}\")\n",
    "    print(f\"Weighted average FPR: {weighted_avg_fpr}\")\n",
    "    print(f\"Macro average specificity: {macro_avg_spec}\")\n",
    "    print(f\"Macro average FPR: {macro_avg_fpr}\\n\")\n"
   ]
  },
  {
   "cell_type": "code",
   "execution_count": 26,
   "id": "9afa7ea9-88c0-42d2-a37b-7748f79d63fe",
   "metadata": {},
   "outputs": [],
   "source": [
    "def display_sentences(X, Y_true, Y_pred):\n",
    "    \"\"\"\n",
    "    Display samples for true positives, true negatives, true neutrals, and the various false classifications.\n",
    "    :param X: The text sentences\n",
    "    :param Y_true: true labels\n",
    "    :param Y_pred: predicted labels\n",
    "    :return: None\n",
    "    \"\"\"    \n",
    "\n",
    "    # Extracting sample indices for different scenarios\n",
    "    true_positives = [i for i, (true, pred) in enumerate(zip(Y_true, Y_pred)) if true == pred == 0]\n",
    "    true_neutrals = [i for i, (true, pred) in enumerate(zip(Y_true, Y_pred)) if true == pred == 2]\n",
    "    true_negatives = [i for i, (true, pred) in enumerate(zip(Y_true, Y_pred)) if true == pred == 1]\n",
    "\n",
    "    # For false classifications\n",
    "    false_positives_from_neutral = [i for i, (true, pred) in enumerate(zip(Y_true, Y_pred)) if true == 2 and pred == 0]\n",
    "    false_positives_from_negative = [i for i, (true, pred) in enumerate(zip(Y_true, Y_pred)) if true == 1 and pred == 0]\n",
    "\n",
    "    false_neutrals_from_positive = [i for i, (true, pred) in enumerate(zip(Y_true, Y_pred)) if true == 0 and pred == 2]\n",
    "    false_neutrals_from_negative = [i for i, (true, pred) in enumerate(zip(Y_true, Y_pred)) if true == 1 and pred == 2]\n",
    "\n",
    "    false_negatives_from_positive = [i for i, (true, pred) in enumerate(zip(Y_true, Y_pred)) if true == 0 and pred == 1]\n",
    "    false_negatives_from_neutral = [i for i, (true, pred) in enumerate(zip(Y_true, Y_pred)) if true == 2 and pred == 1]\n",
    "\n",
    "    # Displaying the samples\n",
    "    print(\"True Positives:\\n\", [X[i] for i in true_positives[:5]])\n",
    "    print(\"True Neutrals:\\n\", [X[i] for i in true_neutrals[:5]])\n",
    "    print(\"True Negatives:\\n\", [X[i] for i in true_negatives[:5]])\n",
    "\n",
    "    # Display the sentence and misclassifications\n",
    "    print(\"\\nFalse Positives (Neutral guessed as Positive):\\n\")\n",
    "    for i in false_positives_from_neutral[:5]:\n",
    "        print(f\"Sentence: {X[i]}\")\n",
    "    \n",
    "    print(\"\\nFalse Positives (Negative guessed as Positive):\\n\")\n",
    "    for i in false_positives_from_negative[:5]:\n",
    "        print(f\"Sentence: {X[i]}\")\n",
    "\n",
    "    print(\"\\nFalse Neutrals (Positive guessed as Neutral):\\n\")\n",
    "    for i in false_neutrals_from_positive[:5]:\n",
    "        print(f\"Sentence: {X[i]}\")\n",
    "\n",
    "    print(\"\\nFalse Neutrals (Negative guessed as Neutral):\\n\")\n",
    "    for i in false_neutrals_from_negative[:5]:\n",
    "        print(f\"Sentence: {X[i]}\")\n",
    "\n",
    "    print(\"\\nFalse Negatives (Positive guessed as Negative):\\n\")\n",
    "    for i in false_negatives_from_positive[:5]:\n",
    "        print(f\"Sentence: {X[i]}\")\n",
    "\n",
    "    print(\"\\nFalse Negatives (Neutral guessed as Negative):\\n\")\n",
    "    for i in false_negatives_from_neutral[:5]:\n",
    "        print(f\"Sentence: {X[i]}\")\n"
   ]
  },
  {
   "cell_type": "markdown",
   "id": "bdd63f05-178e-405d-bdf9-cc035fd4e4c3",
   "metadata": {},
   "source": [
    "# TEXT BLOB IMPLEMENTATION"
   ]
  },
  {
   "cell_type": "code",
   "execution_count": 32,
   "id": "ddc7a8b9-c60c-4656-baa3-9d6904f3595f",
   "metadata": {
    "tags": []
   },
   "outputs": [],
   "source": [
    "def analyze_sentiment(text):\n",
    "    \"\"\"\n",
    "    Analyze sentiment of a given text using TextBlob's sentiment polarity.\n",
    "    :param text: input text to be analyzed\n",
    "    :return: sentiment label encoded as integer (0: positive, 1: negative, 2: neutral)\n",
    "    \"\"\"\n",
    "    analysis = TextBlob(text)\n",
    "    if analysis.sentiment.polarity > 0:\n",
    "        return 0  # 'positive'\n",
    "    elif analysis.sentiment.polarity == 0:\n",
    "        return 2  # 'neutral'\n",
    "    else:\n",
    "        return 1  # 'negative'"
   ]
  },
  {
   "cell_type": "code",
   "execution_count": 33,
   "id": "6ab1e3c4-d4ba-47a3-93f9-db998b7363a0",
   "metadata": {
    "tags": []
   },
   "outputs": [],
   "source": [
    "# Predicting sentiments\n",
    "Y_train_pred = [analyze_sentiment(text) for text in X_train]\n",
    "Y_val_pred = [analyze_sentiment(text) for text in X_val]\n",
    "Y_test_pred = [analyze_sentiment(text) for text in X_test]"
   ]
  },
  {
   "cell_type": "code",
   "execution_count": 34,
   "id": "5f5e2f35-e240-428e-921c-f5ba63f41382",
   "metadata": {
    "tags": []
   },
   "outputs": [
    {
     "name": "stdout",
     "output_type": "stream",
     "text": [
      "Validation Classification Report:\n",
      "              precision    recall  f1-score   support\n",
      "\n",
      "           0     0.5396    0.7879    0.6405      1254\n",
      "           1     0.6519    0.4734    0.5485      1147\n",
      "           2     0.6165    0.5200    0.5641      1679\n",
      "\n",
      "    accuracy                         0.5892      4080\n",
      "   macro avg     0.6027    0.5937    0.5844      4080\n",
      "weighted avg     0.6028    0.5892    0.5832      4080\n",
      "\n",
      "\n"
     ]
    },
    {
     "data": {
      "image/png": "[encoded data removed]",
      "text/plain": [
       "<Figure size 640x480 with 2 Axes>"
      ]
     },
     "metadata": {},
     "output_type": "display_data"
    },
    {
     "name": "stdout",
     "output_type": "stream",
     "text": [
      "Test Classification Report:\n",
      "              precision    recall  f1-score   support\n",
      "\n",
      "           0     0.5477    0.7810    0.6439      1265\n",
      "           1     0.6839    0.4657    0.5541      1194\n",
      "           2     0.5926    0.5349    0.5623      1621\n",
      "\n",
      "    accuracy                         0.5909      4080\n",
      "   macro avg     0.6081    0.5938    0.5867      4080\n",
      "weighted avg     0.6054    0.5909    0.5852      4080\n",
      "\n",
      "\n"
     ]
    },
    {
     "data": {
      "image/png": "[encoded data removed]",
      "text/plain": [
       "<Figure size 640x480 with 2 Axes>"
      ]
     },
     "metadata": {},
     "output_type": "display_data"
    }
   ],
   "source": [
    "# Evaluating on the validation and test sets\n",
    "display_report(Y_val, Y_val_pred, \"Validation\")\n",
    "display_report(Y_test, Y_test_pred, \"Test\")"
   ]
  },
  {
   "cell_type": "code",
   "execution_count": 38,
   "id": "eaa55cc8-217d-41e9-8c72-5f41ae9af24a",
   "metadata": {
    "tags": []
   },
   "outputs": [
    {
     "name": "stdout",
     "output_type": "stream",
     "text": [
      "Metrics for class positive (Class value: 0):\n",
      "Specificity: 0.6356\n",
      "FPR: 0.3644\n",
      "Precision: 0.5477\n",
      "\n",
      "Metrics for class negative (Class value: 1):\n",
      "Specificity: 0.8783\n",
      "FPR: 0.1217\n",
      "Precision: 0.6839\n",
      "\n",
      "Metrics for class neutral (Class value: 2):\n",
      "Specificity: 0.7215\n",
      "FPR: 0.2785\n",
      "Precision: 0.5926\n",
      "\n",
      "Overall accuracy: 0.5909\n",
      "Weighted average specificity: 0.7408\n",
      "Weighted average FPR: 0.2592\n",
      "Macro average specificity: 0.7451\n",
      "Macro average FPR: 0.2549\n",
      "\n"
     ]
    }
   ],
   "source": [
    "cm = np.array([[988, 53, 224], \n",
    "               [266, 556, 372], \n",
    "               [550, 204, 867]])\n",
    "\n",
    "compute_FPR_spec_metrics(cm)\n"
   ]
  },
  {
   "cell_type": "code",
   "execution_count": 35,
   "id": "9e3e2032-48f2-44f9-b547-62f6f51e8755",
   "metadata": {
    "tags": []
   },
   "outputs": [
    {
     "name": "stdout",
     "output_type": "stream",
     "text": [
      "True Positives:\n",
      " [' touch my hand video  simply amazing  love it', ' two macaroons go into a barone says oh your a nut  wow i need to get out more', 'spiderwoman she is an amazing mum gr blogger gr mentor  on top of that climbs walls   via ', 'movie is pretty interesting actually gonna finish watching it  probably seeing star trek tomorrow  zq lol', ' that would be soooooo much and geeky to the ultimate level but i work  to am']\n",
      "True Neutrals:\n",
      " ['check it out check it out check it out', ' nothing stayed home', 'omg days till st state exam', ' whwha hacky sack plans sans jackie', '  we drank ours away may day bank holiday today']\n",
      "True Negatives:\n",
      " ['back at the vet and it is not good', ' i like to support my friends  its sad that i am your only friend though', 'oh i hate friday evening', '_radio yeah s i feel all funny cause i have not slept enough  i woke my mum up cause i was singing she is not impressed s you', ' sorry again i do not have a twitter ap on my phone so i only text to it i can only reply on the internet for now']\n",
      "\n",
      "False Positives (Neutral guessed as Positive):\n",
      "\n",
      "Sentence: how i wish the result is true\n",
      "Sentence: even if it is spf  besides you do not need  you are just putting more chemicals on you face spf  is a full block\n",
      "Sentence: _baby  your not talking about your obsession with me right\n",
      "Sentence:  the winds nearly blew you out of the outfield\n",
      "Sentence:  umhow long has it been since you slept startin to worry over here well i hope you are having fun lots of love to you\n",
      "\n",
      "False Positives (Negative guessed as Positive):\n",
      "\n",
      "Sentence: on my way to school of my last friday of high school ever  and i do not even get to see holly gabbie and hannah\n",
      "Sentence: jesusi am being slammed via dms from the papaya lobbyists  ok holy  mangosteen durian or papayaor cybersecurity on a stick\n",
      "Sentence: yea baby im going to miss you so much\n",
      "Sentence:  i told that joke onstage at butlins in  one person laughed scarred for life at \n",
      "Sentence: wrong  your the only one i love they really have several women  \n",
      "\n",
      "False Neutrals (Positive guessed as Neutral):\n",
      "\n",
      "Sentence:  dinner done shower done now time to chill with block of chocolate\n",
      "Sentence: making egg tart  chinese egg pudding yum\n",
      "Sentence:  we all need that simple reminderthx\n",
      "Sentence:  _face  and nanawish i was there last night\n",
      "Sentence:  congratulations  xo\n",
      "\n",
      "False Neutrals (Negative guessed as Neutral):\n",
      "\n",
      "Sentence:    sniff i feel so left out   grin\n",
      "Sentence:  it is a dreary monday morning and i slept like give me a break\n",
      "Sentence: _cass my throat hurts today  blahhh\n",
      "Sentence: i have such a sore head\n",
      "Sentence: i just had to look up endometriosis oy\n",
      "\n",
      "False Negatives (Positive guessed as Negative):\n",
      "\n",
      "Sentence:  yay to som i no on twitterslowly slowly rest of the grade will come aroundhah  i hope ur ready for my constant tweets\n",
      "Sentence: i finally went and found some of the songs we sang in church in wellington online was easier than expected  yay google  \n",
      "Sentence: finally a black disney princess\n",
      "Sentence: tired even though i did not do much today glad we got to catch the second half of the cavs game \n",
      "Sentence:  ty for feeding our nk addictionermm i mean our uhh nope yup addiction covers it\n",
      "\n",
      "False Negatives (Neutral guessed as Negative):\n",
      "\n",
      "Sentence: has roughly cleaned his room and now is heading to pablos to read\n",
      "Sentence: oh and i am obviously back on my stupid sleep schedule luckily church is not until  tomorrow\n",
      "Sentence:  i walk to  from workabout  minsthink that makes it worse   improves once indoors tho\n",
      "Sentence:  warren has just died hannah has been killed and i am gutted i love warren even if he is nasty\n",
      "Sentence:  poor kid  that sucks hopefully things look up for her soon hugs\n"
     ]
    }
   ],
   "source": [
    "# Evaluating on the validation and test sets\n",
    "display_sentences(X_test, Y_test, Y_test_pred)"
   ]
  },
  {
   "cell_type": "markdown",
   "id": "179c19ba-ceea-4305-b201-7c87b8aaaf45",
   "metadata": {},
   "source": [
    "# VADER IMPLEMENTATION"
   ]
  },
  {
   "cell_type": "code",
   "execution_count": 36,
   "id": "a3113f2f-02e0-4689-a565-b634aa43cdd6",
   "metadata": {},
   "outputs": [],
   "source": [
    "# --- Sentiment Analysis using VADER ---\n",
    "\n",
    "sia = SentimentIntensityAnalyzer()\n",
    "\n",
    "def analyze_vader_sentiment(text):\n",
    "    \"\"\"\n",
    "    Analyze the sentiment of a text using VADER's polarity scores.\n",
    "    :param text: A string containing the text to be analyzed.\n",
    "    :return: An integer representing the sentiment (0 for positive, 1 for negative, 2 for neutral).\n",
    "    \"\"\"\n",
    "    score = sia.polarity_scores(text)['compound']\n",
    "    if score > 0.05:\n",
    "        return 0  # 'positive'\n",
    "    elif score < -0.05:\n",
    "        return 1  # 'negative'\n",
    "    else:\n",
    "        return 2  # 'neutral'"
   ]
  },
  {
   "cell_type": "code",
   "execution_count": 37,
   "id": "21e01704-582a-4ad8-a53f-79d991d6974e",
   "metadata": {},
   "outputs": [],
   "source": [
    "# Predict sentiments for the datasets\n",
    "Y_train_pred = [analyze_vader_sentiment(text) for text in X_train]\n",
    "Y_val_pred = [analyze_vader_sentiment(text) for text in X_val]\n",
    "Y_test_pred = [analyze_vader_sentiment(text) for text in X_test]\n"
   ]
  },
  {
   "cell_type": "code",
   "execution_count": 38,
   "id": "696996ab-801d-4bcb-8d6d-3aaa4974f02b",
   "metadata": {},
   "outputs": [
    {
     "name": "stdout",
     "output_type": "stream",
     "text": [
      "Validation Classification Report:\n",
      "              precision    recall  f1-score   support\n",
      "\n",
      "           0     0.5673    0.8772    0.6890      1254\n",
      "           1     0.7024    0.6234    0.6605      1147\n",
      "           2     0.7195    0.4812    0.5767      1679\n",
      "\n",
      "    accuracy                         0.6429      4080\n",
      "   macro avg     0.6631    0.6606    0.6421      4080\n",
      "weighted avg     0.6679    0.6429    0.6348      4080\n",
      "\n",
      "\n"
     ]
    },
    {
     "data": {
      "image/png": "[encoded data removed]",
      "text/plain": [
       "<Figure size 640x480 with 2 Axes>"
      ]
     },
     "metadata": {},
     "output_type": "display_data"
    },
    {
     "name": "stdout",
     "output_type": "stream",
     "text": [
      "Test Classification Report:\n",
      "              precision    recall  f1-score   support\n",
      "\n",
      "           0     0.5663    0.8640    0.6842      1265\n",
      "           1     0.7016    0.6064    0.6505      1194\n",
      "           2     0.6878    0.4744    0.5615      1621\n",
      "\n",
      "    accuracy                         0.6338      4080\n",
      "   macro avg     0.6519    0.6483    0.6321      4080\n",
      "weighted avg     0.6542    0.6338    0.6256      4080\n",
      "\n",
      "\n"
     ]
    },
    {
     "data": {
      "image/png": "[encoded data removed]",
      "text/plain": [
       "<Figure size 640x480 with 2 Axes>"
      ]
     },
     "metadata": {},
     "output_type": "display_data"
    }
   ],
   "source": [
    "# Evaluating on the validation and test sets\n",
    "display_report(Y_val, Y_val_pred, \"Validation\")\n",
    "display_report(Y_test, Y_test_pred, \"Test\")"
   ]
  },
  {
   "cell_type": "code",
   "execution_count": 39,
   "id": "986b184d-e5f0-4c68-9106-5d3c3705126e",
   "metadata": {
    "tags": []
   },
   "outputs": [
    {
     "name": "stdout",
     "output_type": "stream",
     "text": [
      "Metrics for class positive (Class value: 0):\n",
      "Specificity: 0.6408\n",
      "FPR: 0.3592\n",
      "Precision: 0.5663\n",
      "\n",
      "Metrics for class negative (Class value: 1):\n",
      "Specificity: 0.8581\n",
      "FPR: 0.1419\n",
      "Precision: 0.7016\n",
      "\n",
      "Metrics for class neutral (Class value: 2):\n",
      "Specificity: 0.8389\n",
      "FPR: 0.1611\n",
      "Precision: 0.6878\n",
      "\n",
      "Overall accuracy: 0.6338\n",
      "Weighted average specificity: 0.7831\n",
      "Weighted average FPR: 0.2169\n",
      "Macro average specificity: 0.7793\n",
      "Macro average FPR: 0.2207\n",
      "\n"
     ]
    }
   ],
   "source": [
    "cm = np.array([[1093, 48, 124], \n",
    "               [245, 724, 225], \n",
    "               [592, 260, 769]])\n",
    "\n",
    "compute_FPR_spec_metrics(cm)"
   ]
  },
  {
   "cell_type": "code",
   "execution_count": 39,
   "id": "299c6089-6bcc-473e-9e47-10ca1db6790d",
   "metadata": {
    "tags": []
   },
   "outputs": [
    {
     "name": "stdout",
     "output_type": "stream",
     "text": [
      "True Positives:\n",
      " [' yay to som i no on twitterslowly slowly rest of the grade will come aroundhah  i hope ur ready for my constant tweets', ' touch my hand video  simply amazing  love it', ' two macaroons go into a barone says oh your a nut  wow i need to get out more', 'spiderwoman she is an amazing mum gr blogger gr mentor  on top of that climbs walls   via ', 'movie is pretty interesting actually gonna finish watching it  probably seeing star trek tomorrow  zq lol']\n",
      "True Neutrals:\n",
      " ['check it out check it out check it out', ' nothing stayed home', 'has roughly cleaned his room and now is heading to pablos to read', 'omg days till st state exam', ' whwha hacky sack plans sans jackie']\n",
      "True Negatives:\n",
      " ['back at the vet and it is not good', '_cass my throat hurts today  blahhh', 'oh i hate friday evening', 'i have such a sore head', ' sorry again i do not have a twitter ap on my phone so i only text to it i can only reply on the internet for now']\n",
      "\n",
      "False Positives (Neutral guessed as Positive):\n",
      "\n",
      "Sentence: how i wish the result is true\n",
      "Sentence:   we drank ours away may day bank holiday today\n",
      "Sentence:  yeah i have revision to do but going to go starbucks instead\n",
      "Sentence:  umhow long has it been since you slept startin to worry over here well i hope you are having fun lots of love to you\n",
      "Sentence: ian is waiting for a very important pic\n",
      "\n",
      "False Positives (Negative guessed as Positive):\n",
      "\n",
      "Sentence:    sniff i feel so left out   grin\n",
      "Sentence:  i like to support my friends  its sad that i am your only friend though\n",
      "Sentence: _radio yeah s i feel all funny cause i have not slept enough  i woke my mum up cause i was singing she is not impressed s you\n",
      "Sentence: jesusi am being slammed via dms from the papaya lobbyists  ok holy  mangosteen durian or papayaor cybersecurity on a stick\n",
      "Sentence:  i told that joke onstage at butlins in  one person laughed scarred for life at \n",
      "\n",
      "False Neutrals (Positive guessed as Neutral):\n",
      "\n",
      "Sentence: making egg tart  chinese egg pudding yum\n",
      "Sentence: _l thanksi think your the first girl to say thatbesides my mom\n",
      "Sentence:  we all need that simple reminderthx\n",
      "Sentence:  _face  and nanawish i was there last night\n",
      "Sentence: finally a black disney princess\n",
      "\n",
      "False Neutrals (Negative guessed as Neutral):\n",
      "\n",
      "Sentence:  it is a dreary monday morning and i slept like give me a break\n",
      "Sentence: on my way to school of my last friday of high school ever  and i do not even get to see holly gabbie and hannah\n",
      "Sentence: just got home from school and from the wake of my friends father  so tired\n",
      "Sentence:   apple store is down for updates what is coming i wonder\n",
      "Sentence: i just had to look up endometriosis oy\n",
      "\n",
      "False Negatives (Positive guessed as Negative):\n",
      "\n",
      "Sentence:  dinner done shower done now time to chill with block of chocolate\n",
      "Sentence:  that would be soooooo much and geeky to the ultimate level but i work  to am\n",
      "Sentence: please do snl every week i could not quit laughing usnlbest nite ever\n",
      "Sentence: enjoying gears of war on my pc  this game is really gooooood\n",
      "Sentence: i was not sore yesterday but im definitely feeling those hills now my legs hurt all the way up to my booty its a good hurt\n",
      "\n",
      "False Negatives (Neutral guessed as Negative):\n",
      "\n",
      "Sentence: even if it is spf  besides you do not need  you are just putting more chemicals on you face spf  is a full block\n",
      "Sentence: _baby  your not talking about your obsession with me right\n",
      "Sentence: its a beautiful day outside today shame i am stuck in the office with the blinds shut to stop glare\n",
      "Sentence:  i walk to  from workabout  minsthink that makes it worse   improves once indoors tho\n",
      "Sentence:  i adoreeeee matt nathanson i am so jealous of you right now\n"
     ]
    }
   ],
   "source": [
    "# Evaluating on the validation and test sets\n",
    "display_sentences(X_test, Y_test, Y_test_pred)"
   ]
  },
  {
   "cell_type": "code",
   "execution_count": null,
   "id": "fd1e3acd-4622-436a-aec5-856b973db259",
   "metadata": {},
   "outputs": [],
   "source": []
  }
 ],
 "metadata": {
  "kernelspec": {
   "display_name": "Python 3 (ipykernel)",
   "language": "python",
   "name": "python3"
  },
  "language_info": {
   "codemirror_mode": {
    "name": "ipython",
    "version": 3
   },
   "file_extension": ".py",
   "mimetype": "text/x-python",
   "name": "python",
   "nbconvert_exporter": "python",
   "pygments_lexer": "ipython3",
   "version": "3.9.12"
  }
 },
 "nbformat": 4,
 "nbformat_minor": 5
}
