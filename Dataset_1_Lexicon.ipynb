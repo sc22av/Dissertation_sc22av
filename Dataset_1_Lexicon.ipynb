{
 "cells": [
  {
   "cell_type": "markdown",
   "id": "7becc987-ea6b-46dc-8d9c-5139864dae1e",
   "metadata": {},
   "source": [
    "## LEXICON METHOD IMPLEMENTATION"
   ]
  },
  {
   "cell_type": "code",
   "execution_count": 32,
   "id": "d0dd09e1-606e-4c9d-8f44-49494c8ab3cd",
   "metadata": {
    "tags": []
   },
   "outputs": [],
   "source": [
    "import torch"
   ]
  },
  {
   "cell_type": "code",
   "execution_count": 33,
   "id": "a1126699-aa84-4c73-95dd-cd5c931fe9bd",
   "metadata": {
    "tags": []
   },
   "outputs": [
    {
     "name": "stdout",
     "output_type": "stream",
     "text": [
      "PyTorch is built with MPS\n"
     ]
    }
   ],
   "source": [
    "if torch.backends.mps.is_built():\n",
    "    print(\"PyTorch is built with MPS\")\n",
    "else:\n",
    "    print(\"MPS not available.\")\n"
   ]
  },
  {
   "cell_type": "code",
   "execution_count": 34,
   "id": "f2865284-ba73-4a0d-bcdd-810e7d4fd84c",
   "metadata": {
    "tags": []
   },
   "outputs": [],
   "source": [
    "if torch.backends.mps.is_available():\n",
    "    mps_device = torch.device(\"mps\")\n",
    "else:\n",
    "    print(\"MPS device not found\") "
   ]
  },
  {
   "cell_type": "code",
   "execution_count": 35,
   "id": "af938daa-72b6-4b5d-aef7-d57fe6d6e9d0",
   "metadata": {
    "tags": []
   },
   "outputs": [
    {
     "name": "stdout",
     "output_type": "stream",
     "text": [
      "mps:0\n",
      "mps:0\n"
     ]
    }
   ],
   "source": [
    "torch.set_default_device('mps')\n",
    "\n",
    "mod = torch.nn.Linear(20,30)\n",
    "print(mod.weight.device)\n",
    "print(mod(torch.randn(128, 20)).device)"
   ]
  },
  {
   "cell_type": "markdown",
   "id": "692df749-6cd5-4aa1-921c-1ff0fe0b1c29",
   "metadata": {},
   "source": [
    "## PRE-PROCESSING"
   ]
  },
  {
   "cell_type": "code",
   "execution_count": 2,
   "id": "cc0d1daa-348e-43f9-a4dd-efea2c7a4207",
   "metadata": {
    "tags": []
   },
   "outputs": [],
   "source": [
    "# Basic utilities\n",
    "import os\n",
    "import platform\n",
    "\n",
    "# Data handling and manipulation\n",
    "import numpy as np\n",
    "import pandas as pd\n",
    "import ast\n",
    "\n",
    "# Text preprocessing and sentiment analysis utilities\n",
    "import nltk\n",
    "from nltk.corpus import stopwords\n",
    "from nltk.stem import WordNetLemmatizer\n",
    "from nltk.sentiment import SentimentIntensityAnalyzer\n",
    "from bs4 import BeautifulSoup\n",
    "from textblob import TextBlob\n",
    "\n",
    "# Visualization tools\n",
    "import matplotlib.pyplot as plt\n",
    "import seaborn as sns\n",
    "\n",
    "# Scikit-learn utilities for model evaluation and data splitting\n",
    "from sklearn.model_selection import train_test_split\n",
    "from sklearn.metrics import (accuracy_score, f1_score, recall_score, \n",
    "                             precision_score, confusion_matrix, classification_report)\n"
   ]
  },
  {
   "cell_type": "code",
   "execution_count": 37,
   "id": "150681d7-fbbc-4ed9-b6f6-f2ae4933387e",
   "metadata": {
    "tags": []
   },
   "outputs": [
    {
     "name": "stdout",
     "output_type": "stream",
     "text": [
      "Machine: arm64\n",
      "Platform: macOS-13.5-arm64-i386-64bit\n",
      "Mac Version: ('13.5', ('', '', ''), 'arm64')\n",
      "Processor: i386\n",
      "Python Version: 3.11.4\n"
     ]
    }
   ],
   "source": [
    "def general_info():\n",
    "    print(\"Machine:\", platform.machine())\n",
    "    print(\"Platform:\", platform.platform())\n",
    "    print(\"Mac Version:\", platform.mac_ver())\n",
    "    print(\"Processor:\", platform.processor())\n",
    "    print(\"Python Version:\", platform.python_version())\n",
    "  \n",
    "general_info()"
   ]
  },
  {
   "cell_type": "code",
   "execution_count": 38,
   "id": "5f6fc87c-4d23-4dce-a571-2d928213fe90",
   "metadata": {
    "tags": []
   },
   "outputs": [
    {
     "name": "stdout",
     "output_type": "stream",
     "text": [
      "Selected Jupyter core packages...\n",
      "IPython          : 8.12.0\n",
      "ipykernel        : 6.19.2\n",
      "ipywidgets       : 8.0.4\n",
      "jupyter_client   : 7.4.9\n",
      "jupyter_core     : 5.3.0\n",
      "jupyter_server   : 1.23.4\n",
      "jupyterlab       : 3.6.3\n",
      "nbclient         : 0.5.13\n",
      "nbconvert        : 6.5.4\n",
      "nbformat         : 5.7.0\n",
      "notebook         : 6.5.4\n",
      "qtconsole        : 5.4.2\n",
      "traitlets        : 5.7.1\n"
     ]
    }
   ],
   "source": [
    "!jupyter --version"
   ]
  },
  {
   "cell_type": "code",
   "execution_count": 40,
   "id": "f199fb60-f7a9-4547-9fff-b1e91383d43a",
   "metadata": {
    "tags": []
   },
   "outputs": [
    {
     "data": {
      "text/html": [
       "<div>\n",
       "<style scoped>\n",
       "    .dataframe tbody tr th:only-of-type {\n",
       "        vertical-align: middle;\n",
       "    }\n",
       "\n",
       "    .dataframe tbody tr th {\n",
       "        vertical-align: top;\n",
       "    }\n",
       "\n",
       "    .dataframe thead th {\n",
       "        text-align: right;\n",
       "    }\n",
       "</style>\n",
       "<table border=\"1\" class=\"dataframe\">\n",
       "  <thead>\n",
       "    <tr style=\"text-align: right;\">\n",
       "      <th></th>\n",
       "      <th>S No.</th>\n",
       "      <th>Title</th>\n",
       "      <th>Decisions</th>\n",
       "      <th>Words</th>\n",
       "    </tr>\n",
       "  </thead>\n",
       "  <tbody>\n",
       "    <tr>\n",
       "      <th>0</th>\n",
       "      <td>1</td>\n",
       "      <td>SpiceJet to issue 6.4 crore warrants to promoters</td>\n",
       "      <td>{\"SpiceJet\": \"neutral\"}</td>\n",
       "      <td>8</td>\n",
       "    </tr>\n",
       "    <tr>\n",
       "      <th>1</th>\n",
       "      <td>2</td>\n",
       "      <td>MMTC Q2 net loss at Rs 10.4 crore</td>\n",
       "      <td>{\"MMTC\": \"neutral\"}</td>\n",
       "      <td>8</td>\n",
       "    </tr>\n",
       "    <tr>\n",
       "      <th>2</th>\n",
       "      <td>3</td>\n",
       "      <td>Mid-cap funds can deliver more, stay put: Experts</td>\n",
       "      <td>{\"Mid-cap funds\": \"positive\"}</td>\n",
       "      <td>8</td>\n",
       "    </tr>\n",
       "    <tr>\n",
       "      <th>3</th>\n",
       "      <td>4</td>\n",
       "      <td>Mid caps now turn into market darlings</td>\n",
       "      <td>{\"Mid caps\": \"positive\"}</td>\n",
       "      <td>7</td>\n",
       "    </tr>\n",
       "    <tr>\n",
       "      <th>4</th>\n",
       "      <td>5</td>\n",
       "      <td>Market seeing patience, if not conviction: Pra...</td>\n",
       "      <td>{\"Market\": \"neutral\"}</td>\n",
       "      <td>8</td>\n",
       "    </tr>\n",
       "    <tr>\n",
       "      <th>...</th>\n",
       "      <td>...</td>\n",
       "      <td>...</td>\n",
       "      <td>...</td>\n",
       "      <td>...</td>\n",
       "    </tr>\n",
       "    <tr>\n",
       "      <th>10748</th>\n",
       "      <td>10749</td>\n",
       "      <td>Negative on Chambal, Advanta: Mitesh Thacker</td>\n",
       "      <td>{\"Chambal\": \"negative\", \"Advanta\": \"negative\"}</td>\n",
       "      <td>6</td>\n",
       "    </tr>\n",
       "    <tr>\n",
       "      <th>10749</th>\n",
       "      <td>10750</td>\n",
       "      <td>Small, Mid-cap stocks may emerge outperformers</td>\n",
       "      <td>{\"Small\": \"positive\", \"Mid-cap stocks\": \"posit...</td>\n",
       "      <td>6</td>\n",
       "    </tr>\n",
       "    <tr>\n",
       "      <th>10750</th>\n",
       "      <td>10751</td>\n",
       "      <td>Rupee slips against US dollar</td>\n",
       "      <td>{\"Rupee\": \"negative\", \"US dollar\": \"neutral\"}</td>\n",
       "      <td>5</td>\n",
       "    </tr>\n",
       "    <tr>\n",
       "      <th>10751</th>\n",
       "      <td>10752</td>\n",
       "      <td>Rupee weak against US dollar</td>\n",
       "      <td>{\"Rupee\": \"negative\", \"US dollar\": \"neutral\"}</td>\n",
       "      <td>5</td>\n",
       "    </tr>\n",
       "    <tr>\n",
       "      <th>10752</th>\n",
       "      <td>10753</td>\n",
       "      <td>Australia shares flat; energy drags</td>\n",
       "      <td>{\"Australia shares\": \"neutral\", \"energy\": \"neu...</td>\n",
       "      <td>5</td>\n",
       "    </tr>\n",
       "  </tbody>\n",
       "</table>\n",
       "<p>10753 rows × 4 columns</p>\n",
       "</div>"
      ],
      "text/plain": [
       "       S No.                                              Title  \\\n",
       "0          1  SpiceJet to issue 6.4 crore warrants to promoters   \n",
       "1          2                  MMTC Q2 net loss at Rs 10.4 crore   \n",
       "2          3  Mid-cap funds can deliver more, stay put: Experts   \n",
       "3          4             Mid caps now turn into market darlings   \n",
       "4          5  Market seeing patience, if not conviction: Pra...   \n",
       "...      ...                                                ...   \n",
       "10748  10749       Negative on Chambal, Advanta: Mitesh Thacker   \n",
       "10749  10750     Small, Mid-cap stocks may emerge outperformers   \n",
       "10750  10751                      Rupee slips against US dollar   \n",
       "10751  10752                       Rupee weak against US dollar   \n",
       "10752  10753                Australia shares flat; energy drags   \n",
       "\n",
       "                                               Decisions  Words  \n",
       "0                                {\"SpiceJet\": \"neutral\"}      8  \n",
       "1                                    {\"MMTC\": \"neutral\"}      8  \n",
       "2                          {\"Mid-cap funds\": \"positive\"}      8  \n",
       "3                               {\"Mid caps\": \"positive\"}      7  \n",
       "4                                  {\"Market\": \"neutral\"}      8  \n",
       "...                                                  ...    ...  \n",
       "10748     {\"Chambal\": \"negative\", \"Advanta\": \"negative\"}      6  \n",
       "10749  {\"Small\": \"positive\", \"Mid-cap stocks\": \"posit...      6  \n",
       "10750      {\"Rupee\": \"negative\", \"US dollar\": \"neutral\"}      5  \n",
       "10751      {\"Rupee\": \"negative\", \"US dollar\": \"neutral\"}      5  \n",
       "10752  {\"Australia shares\": \"neutral\", \"energy\": \"neu...      5  \n",
       "\n",
       "[10753 rows x 4 columns]"
      ]
     },
     "execution_count": 40,
     "metadata": {},
     "output_type": "execute_result"
    }
   ],
   "source": [
    "# Specify the path to the dataset, load the csv into Pandas DataFrame\n",
    "data_pth = '/users/anshulvij/Desktop/Masters Project/Datasets/SEntFiN-v1.1.csv'\n",
    "df = pd.read_csv(data_pth)\n",
    "df"
   ]
  },
  {
   "cell_type": "markdown",
   "id": "369b596f-54b3-4450-996b-e8751f912aad",
   "metadata": {},
   "source": [
    "#### PRE-PROCESSING STEPS IMPLEMENTED BELOW:-"
   ]
  },
  {
   "cell_type": "code",
   "execution_count": 41,
   "id": "e2089420-82d8-43ed-a140-39d08ee035bd",
   "metadata": {
    "tags": []
   },
   "outputs": [],
   "source": [
    "def filter_rows_by_colon_count(data, column):\n",
    "    \"\"\"\n",
    "    Filters out rows where the count of colons in the specified column exceeds one.\n",
    "\n",
    "    Parameters:\n",
    "    - data (pd.DataFrame): The DataFrame to be processed.\n",
    "    - column (str): The column name in which colon count needs to be checked.\n",
    "\n",
    "    Returns:\n",
    "    - pd.DataFrame: DataFrame after filtering out specific rows.\n",
    "    \"\"\"\n",
    "    condition = data[column].apply(lambda entry: str(entry).count(':') > 1)\n",
    "    return data[~condition]"
   ]
  },
  {
   "cell_type": "code",
   "execution_count": 42,
   "id": "4fa7f863-98d4-45c8-b661-b70ec69b5174",
   "metadata": {
    "tags": []
   },
   "outputs": [
    {
     "name": "stdout",
     "output_type": "stream",
     "text": [
      "Post Filtering Stage-1 Step-1: Total Rows - 7903\n"
     ]
    }
   ],
   "source": [
    "df = filter_rows_by_colon_count(df, 'Decisions')\n",
    "print(f\"Post Filtering Stage-1 Step-1: Total Rows - {len(df)}\")"
   ]
  },
  {
   "cell_type": "code",
   "execution_count": 43,
   "id": "4c379319-0c6e-4ace-a13f-28d44cc63b6e",
   "metadata": {
    "tags": []
   },
   "outputs": [
    {
     "name": "stdout",
     "output_type": "stream",
     "text": [
      "Post Filtering Stage-1 Step-2: Total Rows - 7903\n"
     ]
    }
   ],
   "source": [
    "def transform_decision_data(data, column):\n",
    "    \"\"\"\n",
    "    Transforms the specified column of the DataFrame by extracting 'Entity' and 'Polarity' \n",
    "    from a dictionary representation. Ensures that strings mimicking dictionaries are \n",
    "    converted to actual dictionaries.\n",
    "\n",
    "    Parameters:\n",
    "    - data (pd.DataFrame): The DataFrame to be processed.\n",
    "    - column (str): The column name which contains dictionary or its string representation.\n",
    "\n",
    "    Returns:\n",
    "    - pd.DataFrame: Transformed DataFrame with 'Headlines', 'Entity', and 'Sentiment' columns.\n",
    "    \"\"\"\n",
    "    data_copy = data.copy()\n",
    "    \n",
    "    # Convert string representation of dictionary to actual dictionary\n",
    "    data_copy[column] = data_copy[column].apply(lambda item: ast.literal_eval(item) if isinstance(item, str) else item)\n",
    "    \n",
    "    # Extract key and value from the dictionary\n",
    "    data_copy['Entity'] = data_copy[column].apply(lambda item: list(item.keys())[0] if isinstance(item, dict) else None)\n",
    "    data_copy['Sentiment'] = data_copy[column].apply(lambda item: list(item.values())[0] if isinstance(item, dict) else None)\n",
    "    \n",
    "    return data_copy[['Title', 'Entity', 'Sentiment']].rename(columns={'Title': 'Headlines'})\n",
    "\n",
    "processed_df = transform_decision_data(df, 'Decisions')\n",
    "\n",
    "#Dropping the entity column as the rest have been set aside in the transform_decision_data\n",
    "processed_df = processed_df.drop(columns=['Entity'])\n",
    "\n",
    "\n",
    "print(f\"Post Filtering Stage-1 Step-2: Total Rows - {len(processed_df)}\")"
   ]
  },
  {
   "cell_type": "code",
   "execution_count": 44,
   "id": "1393d916-aa31-49db-8119-60d6661fc47a",
   "metadata": {
    "tags": []
   },
   "outputs": [
    {
     "name": "stdout",
     "output_type": "stream",
     "text": [
      "Missing Values:\n",
      " Headlines    0\n",
      "Sentiment    0\n",
      "dtype: int64\n",
      "Post Filtering Stage-2 Step-1: Total Rows - 7903\n"
     ]
    }
   ],
   "source": [
    "def check_missing_data(dataframe):\n",
    "    \"\"\"\n",
    "    Checks and returns the number of missing values in each column of a DataFrame.\n",
    "\n",
    "    Parameters:\n",
    "    - dataframe (pd.DataFrame): The DataFrame to be checked.\n",
    "\n",
    "    Returns:\n",
    "    - Series: Number of missing values for each column.\n",
    "    \"\"\"\n",
    "    return dataframe.isnull().sum()\n",
    "\n",
    "print(\"Missing Values:\\n\", check_missing_data(processed_df))\n",
    "processed_df = processed_df.dropna()\n",
    "print(f\"Post Filtering Stage-2 Step-1: Total Rows - {len(processed_df)}\")"
   ]
  },
  {
   "cell_type": "code",
   "execution_count": 45,
   "id": "c1e25042-30b2-4197-bb36-25d49cc7f03a",
   "metadata": {
    "tags": []
   },
   "outputs": [
    {
     "name": "stdout",
     "output_type": "stream",
     "text": [
      "Post Filtering Stage-2 Step-2: Total Rows - 7903\n"
     ]
    }
   ],
   "source": [
    "def refine_headlines(column):\n",
    "    \"\"\"\n",
    "    Cleans and refines a given text column. The function lowercases the text, removes \n",
    "    HTML content, URLs, non-alphanumeric characters, and stopwords. It also lemmatises \n",
    "    each word for better text consistency.\n",
    "\n",
    "    Parameters:\n",
    "    - column (pd.Series): The column containing text data to be refined.\n",
    "\n",
    "    Returns:\n",
    "    - pd.Series: The refined column.\n",
    "    \"\"\"\n",
    "    column = column.str.lower()\n",
    "    \n",
    "    # Check if text looks like filename or not\n",
    "    def extract_text(text):\n",
    "        if re.match(r'^[A-Za-z0-9_\\-\\.]+$', text):\n",
    "            return text\n",
    "        return BeautifulSoup(text, 'lxml').get_text()\n",
    "    \n",
    "    column = column.str.replace('http\\S+|www.\\S+|[^\\w\\s]', '', regex=True)\n",
    "    \n",
    "   # lemmatizer = WordNetLemmatizer()\n",
    "   # stop_words = set(stopwords.words('english'))\n",
    "   # column = column.apply(lambda x: ' '.join([lemmatizer.lemmatize(word) for word in x.split() if word not in stop_words]))\n",
    "    \n",
    "    return column\n",
    "\n",
    "processed_df['Headlines'] = refine_headlines(processed_df['Headlines'])\n",
    "print(f\"Post Filtering Stage-2 Step-2: Total Rows - {len(processed_df)}\")\n"
   ]
  },
  {
   "cell_type": "code",
   "execution_count": 46,
   "id": "d336136a-4591-462b-8bf6-ab57b31d3040",
   "metadata": {
    "tags": []
   },
   "outputs": [
    {
     "name": "stdout",
     "output_type": "stream",
     "text": [
      "Post Filtering Stage-2 Step-3 Total Rows - 7858\n"
     ]
    }
   ],
   "source": [
    "# Detect and remove duplicate rows from the DataFrame\n",
    "duplicated_rows = processed_df[processed_df.duplicated()]\n",
    "processed_df.drop_duplicates(inplace=True)\n",
    "print(f\"Post Filtering Stage-2 Step-3 Total Rows - {len(processed_df)}\")\n"
   ]
  },
  {
   "cell_type": "code",
   "execution_count": 47,
   "id": "431ff172-7f6e-4395-8645-7f39b978fed0",
   "metadata": {
    "tags": []
   },
   "outputs": [
    {
     "name": "stdout",
     "output_type": "stream",
     "text": [
      "\n",
      "Count of each sentiment:\n",
      "positive    2830\n",
      "neutral     2657\n",
      "negative    2371\n",
      "Name: Sentiment, dtype: int64\n",
      "positive    36.014253\n",
      "neutral     33.812675\n",
      "negative    30.173072\n",
      "Name: Sentiment, dtype: float64\n"
     ]
    }
   ],
   "source": [
    "def display_sentiment_counts(dataframe, column_name='Sentiment'):\n",
    "    \"\"\"\n",
    "    Displays the frequency and relative percentage of each sentiment value in the given DataFrame.\n",
    "\n",
    "    Parameters:\n",
    "    - dataframe (pd.DataFrame): The DataFrame containing sentiment data.\n",
    "    - column_name (str, optional): The name of the column containing sentiment values. Default is 'Sentiment'.\n",
    "\n",
    "    Prints:\n",
    "    - Sentiment counts and their relative percentages.\n",
    "    \"\"\"\n",
    "    sentiment_counts = dataframe[column_name].value_counts()\n",
    "    print(\"\\nCount of each sentiment:\")\n",
    "    print(sentiment_counts)\n",
    "\n",
    "    sentiment_percentages = dataframe[column_name].value_counts(normalize=True)*100\n",
    "    print(sentiment_percentages)\n",
    "\n",
    "display_sentiment_counts(processed_df)\n"
   ]
  },
  {
   "cell_type": "code",
   "execution_count": 48,
   "id": "604007b6-c940-4c9a-9ed3-a7196c9217dd",
   "metadata": {
    "tags": []
   },
   "outputs": [
    {
     "data": {
      "image/png": "[encoded data removed]",
      "text/plain": [
       "<Figure size 640x480 with 1 Axes>"
      ]
     },
     "metadata": {},
     "output_type": "display_data"
    }
   ],
   "source": [
    "# Calculate and visualize the distribution of sentiment values in the DataFrame using a bar chart.\n",
    "# Each bar is labelled with the sentiment count and its relative percentage.\n",
    "\n",
    "# Calculate sentiment frequency and its relative percentage\n",
    "sentiment_frequency = processed_df['Sentiment'].value_counts()\n",
    "sentiment_ratio = processed_df['Sentiment'].value_counts(normalize=True) * 100\n",
    "\n",
    "# Display sentiment distribution using a bar chart\n",
    "bars = plt.bar(sentiment_frequency.index, sentiment_frequency.values, alpha=0.8)\n",
    "\n",
    "# Adjust the y-axis limit\n",
    "plt.ylim(0, max(sentiment_frequency.values) * 1.15)  # Increase the upper limit by 15% of the highest bar value\n",
    "\n",
    "# Label each bar with the sentiment count and its percentage\n",
    "for idx, bar in enumerate(bars):\n",
    "    yval = bar.get_height()\n",
    "    sentiment_label = sentiment_frequency.index[idx]\n",
    "    plt.text(bar.get_x() + bar.get_width()/2, yval + max(sentiment_frequency.values) * 0.05, \n",
    "             f'{int(yval)} ({sentiment_ratio[sentiment_label]:.2f}%)',\n",
    "             ha='center', va='center')\n",
    "\n",
    "plt.xlabel('Sentiment Value')\n",
    "plt.ylabel('Frequency')\n",
    "plt.title('Sentiment Distribution Visualization')\n",
    "plt.tight_layout()\n",
    "plt.show()"
   ]
  },
  {
   "cell_type": "code",
   "execution_count": 49,
   "id": "5acfcd17-4442-4280-bb22-322726cdcd51",
   "metadata": {
    "tags": []
   },
   "outputs": [],
   "source": [
    "#!pip install textblob"
   ]
  },
  {
   "cell_type": "code",
   "execution_count": 50,
   "id": "015b7ff2-7c98-4762-a37e-8454967081ce",
   "metadata": {
    "tags": []
   },
   "outputs": [
    {
     "data": {
      "text/html": [
       "<div>\n",
       "<style scoped>\n",
       "    .dataframe tbody tr th:only-of-type {\n",
       "        vertical-align: middle;\n",
       "    }\n",
       "\n",
       "    .dataframe tbody tr th {\n",
       "        vertical-align: top;\n",
       "    }\n",
       "\n",
       "    .dataframe thead th {\n",
       "        text-align: right;\n",
       "    }\n",
       "</style>\n",
       "<table border=\"1\" class=\"dataframe\">\n",
       "  <thead>\n",
       "    <tr style=\"text-align: right;\">\n",
       "      <th></th>\n",
       "      <th>Headlines</th>\n",
       "      <th>Sentiment</th>\n",
       "      <th>Target</th>\n",
       "    </tr>\n",
       "  </thead>\n",
       "  <tbody>\n",
       "    <tr>\n",
       "      <th>0</th>\n",
       "      <td>spicejet to issue 64 crore warrants to promoters</td>\n",
       "      <td>neutral</td>\n",
       "      <td>2</td>\n",
       "    </tr>\n",
       "    <tr>\n",
       "      <th>1</th>\n",
       "      <td>mmtc q2 net loss at rs 104 crore</td>\n",
       "      <td>neutral</td>\n",
       "      <td>2</td>\n",
       "    </tr>\n",
       "    <tr>\n",
       "      <th>2</th>\n",
       "      <td>midcap funds can deliver more stay put experts</td>\n",
       "      <td>positive</td>\n",
       "      <td>0</td>\n",
       "    </tr>\n",
       "    <tr>\n",
       "      <th>3</th>\n",
       "      <td>mid caps now turn into market darlings</td>\n",
       "      <td>positive</td>\n",
       "      <td>0</td>\n",
       "    </tr>\n",
       "    <tr>\n",
       "      <th>4</th>\n",
       "      <td>market seeing patience if not conviction praka...</td>\n",
       "      <td>neutral</td>\n",
       "      <td>2</td>\n",
       "    </tr>\n",
       "  </tbody>\n",
       "</table>\n",
       "</div>"
      ],
      "text/plain": [
       "                                           Headlines Sentiment  Target\n",
       "0   spicejet to issue 64 crore warrants to promoters   neutral       2\n",
       "1                   mmtc q2 net loss at rs 104 crore   neutral       2\n",
       "2     midcap funds can deliver more stay put experts  positive       0\n",
       "3             mid caps now turn into market darlings  positive       0\n",
       "4  market seeing patience if not conviction praka...   neutral       2"
      ]
     },
     "execution_count": 50,
     "metadata": {},
     "output_type": "execute_result"
    }
   ],
   "source": [
    "# --- Data Preparation ---\n",
    "\n",
    "# Map the sentiments to numerical values\n",
    "target_map = {'neutral':2,'positive':0,'negative':1}\n",
    "processed_df = processed_df.copy()\n",
    "processed_df.loc[:, 'Target'] = processed_df['Sentiment'].map(target_map)\n",
    "processed_df.head()"
   ]
  },
  {
   "cell_type": "code",
   "execution_count": 51,
   "id": "946fe481-0dbc-4634-8e46-7a30a9ff2615",
   "metadata": {
    "tags": []
   },
   "outputs": [],
   "source": [
    "# Extracting sentences and their labels\n",
    "X, y = processed_df['Headlines'].values, processed_df['Target'].values\n",
    "\n",
    "# Splitting the data into training, validation, and test sets (70-15-15 split)\n",
    "X_train, X_temp, Y_train, Y_temp = train_test_split(X, y, test_size=0.3, random_state=5)\n",
    "X_val, X_test, Y_val, Y_test = train_test_split(X_temp, Y_temp, test_size=0.5, random_state=5)"
   ]
  },
  {
   "cell_type": "code",
   "execution_count": 52,
   "id": "af12e628-21ee-4648-9c09-5afb80840054",
   "metadata": {},
   "outputs": [],
   "source": [
    "def display_report(Y_true, Y_pred, dataset_type=\"Training\"):\n",
    "    \"\"\"\n",
    "    Print out the classification report and display the confusion matrix.\n",
    "    :param Y_true: true labels\n",
    "    :param Y_pred: predicted labels\n",
    "    :param dataset_type: a string specifying the dataset type (\"Training\", \"Validation\", or \"Test\")\n",
    "    :return: None\n",
    "    \"\"\"\n",
    "    # Print classification report\n",
    "    print(f\"{dataset_type} Classification Report:\\n{classification_report(Y_true, Y_pred, digits=4)}\\n\")\n",
    "\n",
    "    # Display the confusion matrix using a heatmap\n",
    "    cm = confusion_matrix(Y_true, Y_pred)\n",
    "    sns.heatmap(cm, annot=True, fmt=\"d\", cmap=\"Blues\")\n",
    "    plt.title(f\"{dataset_type} Confusion Matrix\")\n",
    "    plt.xlabel(\"Predicted Labels\")\n",
    "    plt.ylabel(\"True Labels\")\n",
    "    plt.show()\n",
    "    "
   ]
  },
  {
   "cell_type": "code",
   "execution_count": 1,
   "id": "cc73c941-9f85-438a-8f4d-9af5a0a66849",
   "metadata": {
    "tags": []
   },
   "outputs": [],
   "source": [
    "def compute_FPR_spec_metrics(cm, labels=[\"positive\", \"negative\", \"neutral\"]):\n",
    "    \"\"\"\n",
    "    Compute specificity, FPR, precision for each class, and the overall accuracy given a 3x3 confusion matrix.\n",
    "    Also, computes weighted and macro average for FPR and specificity.\n",
    "\n",
    "    Args:\n",
    "    - cm (numpy array): 3x3 confusion matrix\n",
    "    - labels (list): List of class labels in order\n",
    "\n",
    "    Returns:\n",
    "    None. It will print the results directly.\n",
    "    \"\"\"\n",
    "    \n",
    "    specificities = []\n",
    "    fprs = []\n",
    "    precisions = []\n",
    "\n",
    "    for i in range(3):\n",
    "        tp = cm[i, i]\n",
    "        tn = sum(cm[j, j] for j in range(3) if j != i)\n",
    "        fp = sum(cm[j, i] for j in range(3) if j != i)\n",
    "        fn = sum(cm[i, j] for j in range(3) if j != i)\n",
    "        \n",
    "        specificity = tn / (tn + fp) if tn + fp != 0 else 0\n",
    "        fpr = 1 - specificity\n",
    "        precision = tp / (tp + fp) if tp + fp != 0 else 0\n",
    "        \n",
    "        specificities.append(round(specificity, 4))\n",
    "        fprs.append(round(fpr, 4))\n",
    "        precisions.append(round(precision, 4))\n",
    "    \n",
    "    # Print the class values with their corresponding metrics\n",
    "    for i, label in enumerate(labels):\n",
    "        print(f\"Metrics for class {label} (Class value: {i}):\")\n",
    "        print(f\"Specificity: {specificities[i]}\")\n",
    "        print(f\"FPR: {fprs[i]}\")\n",
    "        print(f\"Precision: {precisions[i]}\\n\")\n",
    "\n",
    "    # Calculate overall accuracy\n",
    "    accuracy = round(np.trace(cm) / np.sum(cm), 4)\n",
    "    print(f\"Overall accuracy: {accuracy}\")\n",
    "\n",
    "    # Calculate true values for each class for weighting purposes\n",
    "    true_values = np.sum(cm, axis=1)\n",
    "    total_true_values = np.sum(true_values)\n",
    "\n",
    "    # Calculate weighted average specificity and FPR\n",
    "    weighted_avg_spec = round(sum(specificities[i] * true_values[i] for i in range(3)) / total_true_values, 4)\n",
    "    weighted_avg_fpr = round(sum(fprs[i] * true_values[i] for i in range(3)) / total_true_values, 4)\n",
    "\n",
    "    # Calculate macro average specificity and FPR\n",
    "    macro_avg_spec = round(np.mean(specificities), 4)\n",
    "    macro_avg_fpr = round(np.mean(fprs), 4)\n",
    "\n",
    "    print(f\"Weighted average specificity: {weighted_avg_spec}\")\n",
    "    print(f\"Weighted average FPR: {weighted_avg_fpr}\")\n",
    "    print(f\"Macro average specificity: {macro_avg_spec}\")\n",
    "    print(f\"Macro average FPR: {macro_avg_fpr}\\n\")\n"
   ]
  },
  {
   "cell_type": "code",
   "execution_count": 53,
   "id": "9afa7ea9-88c0-42d2-a37b-7748f79d63fe",
   "metadata": {},
   "outputs": [],
   "source": [
    "def display_sentences(X, Y_true, Y_pred):\n",
    "    \"\"\"\n",
    "    Display samples for true positives, true negatives, true neutrals, and the various false classifications.\n",
    "    :param X: The text sentences\n",
    "    :param Y_true: true labels\n",
    "    :param Y_pred: predicted labels\n",
    "    :return: None\n",
    "    \"\"\"    \n",
    "\n",
    "    # Extracting sample indices for different scenarios\n",
    "    true_positives = [i for i, (true, pred) in enumerate(zip(Y_true, Y_pred)) if true == pred == 0]\n",
    "    true_neutrals = [i for i, (true, pred) in enumerate(zip(Y_true, Y_pred)) if true == pred == 2]\n",
    "    true_negatives = [i for i, (true, pred) in enumerate(zip(Y_true, Y_pred)) if true == pred == 1]\n",
    "\n",
    "    # For false classifications\n",
    "    false_positives_from_neutral = [i for i, (true, pred) in enumerate(zip(Y_true, Y_pred)) if true == 2 and pred == 0]\n",
    "    false_positives_from_negative = [i for i, (true, pred) in enumerate(zip(Y_true, Y_pred)) if true == 1 and pred == 0]\n",
    "\n",
    "    false_neutrals_from_positive = [i for i, (true, pred) in enumerate(zip(Y_true, Y_pred)) if true == 0 and pred == 2]\n",
    "    false_neutrals_from_negative = [i for i, (true, pred) in enumerate(zip(Y_true, Y_pred)) if true == 1 and pred == 2]\n",
    "\n",
    "    false_negatives_from_positive = [i for i, (true, pred) in enumerate(zip(Y_true, Y_pred)) if true == 0 and pred == 1]\n",
    "    false_negatives_from_neutral = [i for i, (true, pred) in enumerate(zip(Y_true, Y_pred)) if true == 2 and pred == 1]\n",
    "\n",
    "    # Displaying the samples\n",
    "    print(\"True Positives:\\n\", [X[i] for i in true_positives[:5]])\n",
    "    print(\"True Neutrals:\\n\", [X[i] for i in true_neutrals[:5]])\n",
    "    print(\"True Negatives:\\n\", [X[i] for i in true_negatives[:5]])\n",
    "\n",
    "    # Display the sentence and misclassifications\n",
    "    print(\"\\nFalse Positives (Neutral guessed as Positive):\\n\")\n",
    "    for i in false_positives_from_neutral[:5]:\n",
    "        print(f\"Sentence: {X[i]}\")\n",
    "    \n",
    "    print(\"\\nFalse Positives (Negative guessed as Positive):\\n\")\n",
    "    for i in false_positives_from_negative[:5]:\n",
    "        print(f\"Sentence: {X[i]}\")\n",
    "\n",
    "    print(\"\\nFalse Neutrals (Positive guessed as Neutral):\\n\")\n",
    "    for i in false_neutrals_from_positive[:5]:\n",
    "        print(f\"Sentence: {X[i]}\")\n",
    "\n",
    "    print(\"\\nFalse Neutrals (Negative guessed as Neutral):\\n\")\n",
    "    for i in false_neutrals_from_negative[:5]:\n",
    "        print(f\"Sentence: {X[i]}\")\n",
    "\n",
    "    print(\"\\nFalse Negatives (Positive guessed as Negative):\\n\")\n",
    "    for i in false_negatives_from_positive[:5]:\n",
    "        print(f\"Sentence: {X[i]}\")\n",
    "\n",
    "    print(\"\\nFalse Negatives (Neutral guessed as Negative):\\n\")\n",
    "    for i in false_negatives_from_neutral[:5]:\n",
    "        print(f\"Sentence: {X[i]}\")\n"
   ]
  },
  {
   "cell_type": "markdown",
   "id": "bdd63f05-178e-405d-bdf9-cc035fd4e4c3",
   "metadata": {},
   "source": [
    "# TEXT BLOB IMPLEMENTATION"
   ]
  },
  {
   "cell_type": "code",
   "execution_count": 54,
   "id": "ddc7a8b9-c60c-4656-baa3-9d6904f3595f",
   "metadata": {
    "tags": []
   },
   "outputs": [],
   "source": [
    "def analyze_sentiment(text):\n",
    "    \"\"\"\n",
    "    Analyze sentiment of a given text using TextBlob's sentiment polarity.\n",
    "    :param text: input text to be analyzed\n",
    "    :return: sentiment label encoded as integer (0: positive, 1: negative, 2: neutral)\n",
    "    \"\"\"\n",
    "    analysis = TextBlob(text)\n",
    "    if analysis.sentiment.polarity > 0:\n",
    "        return 0  # 'positive'\n",
    "    elif analysis.sentiment.polarity == 0:\n",
    "        return 2  # 'neutral'\n",
    "    else:\n",
    "        return 1  # 'negative'"
   ]
  },
  {
   "cell_type": "code",
   "execution_count": 55,
   "id": "6ab1e3c4-d4ba-47a3-93f9-db998b7363a0",
   "metadata": {
    "tags": []
   },
   "outputs": [],
   "source": [
    "# Predicting sentiments\n",
    "Y_train_pred = [analyze_sentiment(text) for text in X_train]\n",
    "Y_val_pred = [analyze_sentiment(text) for text in X_val]\n",
    "Y_test_pred = [analyze_sentiment(text) for text in X_test]"
   ]
  },
  {
   "cell_type": "code",
   "execution_count": 56,
   "id": "5f5e2f35-e240-428e-921c-f5ba63f41382",
   "metadata": {
    "tags": []
   },
   "outputs": [
    {
     "name": "stdout",
     "output_type": "stream",
     "text": [
      "Validation Classification Report:\n",
      "              precision    recall  f1-score   support\n",
      "\n",
      "           0     0.4768    0.2743    0.3482       412\n",
      "           1     0.5714    0.2372    0.3352       371\n",
      "           2     0.3541    0.7045    0.4713       396\n",
      "\n",
      "    accuracy                         0.4071      1179\n",
      "   macro avg     0.4674    0.4053    0.3849      1179\n",
      "weighted avg     0.4653    0.4071    0.3855      1179\n",
      "\n",
      "\n"
     ]
    },
    {
     "data": {
      "image/png": "[encoded data removed]",
      "text/plain": [
       "<Figure size 640x480 with 2 Axes>"
      ]
     },
     "metadata": {},
     "output_type": "display_data"
    },
    {
     "name": "stdout",
     "output_type": "stream",
     "text": [
      "Test Classification Report:\n",
      "              precision    recall  f1-score   support\n",
      "\n",
      "           0     0.4656    0.2632    0.3363       437\n",
      "           1     0.6230    0.3229    0.4254       353\n",
      "           2     0.3538    0.6812    0.4657       389\n",
      "\n",
      "    accuracy                         0.4190      1179\n",
      "   macro avg     0.4808    0.4224    0.4091      1179\n",
      "weighted avg     0.4758    0.4190    0.4057      1179\n",
      "\n",
      "\n"
     ]
    },
    {
     "data": {
      "image/png": "[encoded data removed]",
      "text/plain": [
       "<Figure size 640x480 with 2 Axes>"
      ]
     },
     "metadata": {},
     "output_type": "display_data"
    }
   ],
   "source": [
    "# Evaluating on the validation and test sets\n",
    "display_report(Y_val, Y_val_pred, \"Validation\")\n",
    "display_report(Y_test, Y_test_pred, \"Test\")"
   ]
  },
  {
   "cell_type": "code",
   "execution_count": 3,
   "id": "9f7fd8f9-8e50-40bf-9da0-23206b86420a",
   "metadata": {
    "tags": []
   },
   "outputs": [
    {
     "name": "stdout",
     "output_type": "stream",
     "text": [
      "Metrics for class positive (Class value: 0):\n",
      "Specificity: 0.7417\n",
      "FPR: 0.2583\n",
      "Precision: 0.4656\n",
      "\n",
      "Metrics for class negative (Class value: 1):\n",
      "Specificity: 0.8463\n",
      "FPR: 0.1537\n",
      "Precision: 0.623\n",
      "\n",
      "Metrics for class neutral (Class value: 2):\n",
      "Specificity: 0.3212\n",
      "FPR: 0.6788\n",
      "Precision: 0.3538\n",
      "\n",
      "Overall accuracy: 0.419\n",
      "Weighted average specificity: 0.6343\n",
      "Weighted average FPR: 0.3657\n",
      "Macro average specificity: 0.6364\n",
      "Macro average FPR: 0.3636\n",
      "\n"
     ]
    }
   ],
   "source": [
    "#Manually enter the matrix to get results about the specificity and FPR(Although it will remain the same if there are no changes to the dataset and split)\n",
    "cm = np.array([[115, 22, 300], \n",
    "               [55, 114, 184], \n",
    "               [77, 47, 265]])\n",
    "\n",
    "compute_FPR_spec_metrics(cm)"
   ]
  },
  {
   "cell_type": "code",
   "execution_count": 57,
   "id": "9e3e2032-48f2-44f9-b547-62f6f51e8755",
   "metadata": {
    "tags": []
   },
   "outputs": [
    {
     "name": "stdout",
     "output_type": "stream",
     "text": [
      "True Positives:\n",
      " ['jindal steel looking strong on the back of good earnings avinnash gorakssakar', 'comfortable to buy airtel at 320350 levels sajiv dhawan', 'atul ltd rallies over 5 hits 52week high on stake sale reports', 'gspl surges hits 52week high on betterthanexpected q1 numbers', 'mindtree on course to join 1bn revenue club in next 5 years but present valuations fairly rich girish pai']\n",
      "True Neutrals:\n",
      " ['micromax hopes to hit market soon with ipo', 'dhunseri petrochem and tea posts q4 pat at rs 2508 crore', 'kapil kapoor is global coo of timex group', 'union budget 201213 power cos trading mixed on ecb fuel supply decision', 'sebi board approves sharing kyc details with financial regulators']\n",
      "True Negatives:\n",
      " ['jgbs edge down as investors monitor greek situation', 'hul shares down over 3 post q4 earnings', 'world stocks down on weak data wall street dive', 'potato futures down 076 on weak demand', 'copper softens in futures trade on weak global cues']\n",
      "\n",
      "False Positives (Neutral guessed as Positive):\n",
      "\n",
      "Sentence: sebi to consider new corporate governance code tomorrow\n",
      "Sentence: meher pudumjee is the new chairperson for ciipune\n",
      "Sentence: strong deals crucial for wipros growth push\n",
      "Sentence: jindal stainless rejig shareholders creditors meet on may 16\n",
      "Sentence: invest in stocks of companies with high pricing power matthews asia\n",
      "\n",
      "False Positives (Negative guessed as Positive):\n",
      "\n",
      "Sentence: gold trades near 4month low before european central bank decision us data\n",
      "Sentence: nothing much happening in nucleus software deepak mohini\n",
      "Sentence: gold steady below 3week top fed meeting eyed\n",
      "Sentence: gold steadies near 1200 as oil firms sentiment remains bearish\n",
      "Sentence: sensex turn choppy top ten stocks in focus\n",
      "\n",
      "False Neutrals (Positive guessed as Neutral):\n",
      "\n",
      "Sentence: ivrcl rallies 5 as cdr approves rs 7000crore debt recast proposal\n",
      "Sentence: expect maruti stocks to hold up with upcoming product launches pramod gubbi\n",
      "Sentence: karur vysya bank q3 net up marginally to rs 11388 cr\n",
      "Sentence: hdfc likely to report 10 growth in q3 net profit\n",
      "Sentence: venus remedies q2 net up 45 pc to rs 115 cr\n",
      "\n",
      "False Neutrals (Negative guessed as Neutral):\n",
      "\n",
      "Sentence: china shares post biggest daily loss in six months on economy liquidity worries\n",
      "Sentence: ample supply profitbooking hurt chana futures shed 236\n",
      "Sentence: auto stocks under pressure as october sales disappoint\n",
      "Sentence: european shares edge lower after manufacturing data\n",
      "Sentence: as copper runs low producers turn ideas to boost output of metal\n",
      "\n",
      "False Negatives (Positive guessed as Negative):\n",
      "\n",
      "Sentence: multibaggers midcaps that can rally 80150 in long term\n",
      "Sentence: dollar holds firm ahead of fed meeting\n",
      "Sentence: volkswagen shares bounce back from lows to show gain of 4 in late morning\n",
      "Sentence: tight supply lifts mentha oil futures up 053 per cent\n",
      "Sentence: extremely bullish on mnc pharma space angel broking\n",
      "\n",
      "False Negatives (Neutral guessed as Negative):\n",
      "\n",
      "Sentence: hard to say if the rebound in the markets will sustain or not ashwani gujral\n",
      "Sentence: yuan firms for 4th week crosses 200day moving average\n",
      "Sentence: premarket nifty seen opening flat mat retest 8100 levels\n",
      "Sentence: nse to auction limits in bonds for foreign investors\n",
      "Sentence: dlf has become extremely flat ashwani gujral\n"
     ]
    }
   ],
   "source": [
    "# Evaluating on the validation and test sets\n",
    "display_sentences(X_test, Y_test, Y_test_pred)"
   ]
  },
  {
   "cell_type": "markdown",
   "id": "179c19ba-ceea-4305-b201-7c87b8aaaf45",
   "metadata": {},
   "source": [
    "# VADER IMPLEMENTATION"
   ]
  },
  {
   "cell_type": "code",
   "execution_count": 58,
   "id": "a3113f2f-02e0-4689-a565-b634aa43cdd6",
   "metadata": {},
   "outputs": [],
   "source": [
    "# --- Sentiment Analysis using VADER ---\n",
    "\n",
    "sia = SentimentIntensityAnalyzer()\n",
    "\n",
    "def analyze_vader_sentiment(text):\n",
    "    \"\"\"\n",
    "    Analyze the sentiment of a text using VADER's polarity scores.\n",
    "    :param text: A string containing the text to be analyzed.\n",
    "    :return: An integer representing the sentiment (0 for positive, 1 for negative, 2 for neutral).\n",
    "    \"\"\"\n",
    "    score = sia.polarity_scores(text)['compound']\n",
    "    if score > 0.05:\n",
    "        return 0  # 'positive'\n",
    "    elif score < -0.05:\n",
    "        return 1  # 'negative'\n",
    "    else:\n",
    "        return 2  # 'neutral'"
   ]
  },
  {
   "cell_type": "code",
   "execution_count": 59,
   "id": "21e01704-582a-4ad8-a53f-79d991d6974e",
   "metadata": {},
   "outputs": [],
   "source": [
    "# Predict sentiments for the datasets\n",
    "Y_train_pred = [analyze_vader_sentiment(text) for text in X_train]\n",
    "Y_val_pred = [analyze_vader_sentiment(text) for text in X_val]\n",
    "Y_test_pred = [analyze_vader_sentiment(text) for text in X_test]\n"
   ]
  },
  {
   "cell_type": "code",
   "execution_count": 60,
   "id": "696996ab-801d-4bcb-8d6d-3aaa4974f02b",
   "metadata": {},
   "outputs": [
    {
     "name": "stdout",
     "output_type": "stream",
     "text": [
      "Validation Classification Report:\n",
      "              precision    recall  f1-score   support\n",
      "\n",
      "           0     0.4931    0.5170    0.5047       412\n",
      "           1     0.6653    0.4447    0.5331       371\n",
      "           2     0.4228    0.5328    0.4715       396\n",
      "\n",
      "    accuracy                         0.4996      1179\n",
      "   macro avg     0.5271    0.4982    0.5031      1179\n",
      "weighted avg     0.5237    0.4996    0.5025      1179\n",
      "\n",
      "\n"
     ]
    },
    {
     "data": {
      "image/png": "[encoded data removed]",
      "text/plain": [
       "<Figure size 640x480 with 2 Axes>"
      ]
     },
     "metadata": {},
     "output_type": "display_data"
    },
    {
     "name": "stdout",
     "output_type": "stream",
     "text": [
      "Test Classification Report:\n",
      "              precision    recall  f1-score   support\n",
      "\n",
      "           0     0.5159    0.5195    0.5177       437\n",
      "           1     0.6942    0.4051    0.5116       353\n",
      "           2     0.4221    0.5784    0.4881       389\n",
      "\n",
      "    accuracy                         0.5047      1179\n",
      "   macro avg     0.5441    0.5010    0.5058      1179\n",
      "weighted avg     0.5383    0.5047    0.5061      1179\n",
      "\n",
      "\n"
     ]
    },
    {
     "data": {
      "image/png": "[encoded data removed]",
      "text/plain": [
       "<Figure size 640x480 with 2 Axes>"
      ]
     },
     "metadata": {},
     "output_type": "display_data"
    }
   ],
   "source": [
    "# Evaluating on the validation and test sets\n",
    "display_report(Y_val, Y_val_pred, \"Validation\")\n",
    "display_report(Y_test, Y_test_pred, \"Test\")"
   ]
  },
  {
   "cell_type": "code",
   "execution_count": 4,
   "id": "87938588-121c-4bb2-abb9-eed72a11a5a1",
   "metadata": {
    "tags": []
   },
   "outputs": [
    {
     "name": "stdout",
     "output_type": "stream",
     "text": [
      "Metrics for class positive (Class value: 0):\n",
      "Specificity: 0.6334\n",
      "FPR: 0.3666\n",
      "Precision: 0.5159\n",
      "\n",
      "Metrics for class negative (Class value: 1):\n",
      "Specificity: 0.8777\n",
      "FPR: 0.1223\n",
      "Precision: 0.6942\n",
      "\n",
      "Metrics for class neutral (Class value: 2):\n",
      "Specificity: 0.5457\n",
      "FPR: 0.4543\n",
      "Precision: 0.4221\n",
      "\n",
      "Overall accuracy: 0.5047\n",
      "Weighted average specificity: 0.6776\n",
      "Weighted average FPR: 0.3224\n",
      "Macro average specificity: 0.6856\n",
      "Macro average FPR: 0.3144\n",
      "\n"
     ]
    }
   ],
   "source": [
    "#Manually enter the matrix to get results about the specificity and FPR(Although it will remain the same if there are no changes to the dataset and split)\n",
    "cm = np.array([[227, 34, 176], \n",
    "               [78, 143, 132], \n",
    "               [135, 29, 225]])\n",
    "\n",
    "compute_FPR_spec_metrics(cm)"
   ]
  },
  {
   "cell_type": "code",
   "execution_count": 61,
   "id": "299c6089-6bcc-473e-9e47-10ca1db6790d",
   "metadata": {
    "tags": []
   },
   "outputs": [
    {
     "name": "stdout",
     "output_type": "stream",
     "text": [
      "True Positives:\n",
      " ['jindal steel looking strong on the back of good earnings avinnash gorakssakar', 'ivrcl rallies 5 as cdr approves rs 7000crore debt recast proposal', 'comfortable to buy airtel at 320350 levels sajiv dhawan', 'hdfc likely to report 10 growth in q3 net profit', 'yum beats q3 profit expectations']\n",
      "True Neutrals:\n",
      " ['sebi to consider new corporate governance code tomorrow', 'dhunseri petrochem and tea posts q4 pat at rs 2508 crore', 'kapil kapoor is global coo of timex group', 'meher pudumjee is the new chairperson for ciipune', 'yuan firms for 4th week crosses 200day moving average']\n",
      "True Negatives:\n",
      " ['gold trades near 4month low before european central bank decision us data', 'china shares post biggest daily loss in six months on economy liquidity worries', 'ample supply profitbooking hurt chana futures shed 236', 'auto stocks under pressure as october sales disappoint', 'unitech q1 dips by 53 pc to rs 4588 crore no dividend for fy12']\n",
      "\n",
      "False Positives (Neutral guessed as Positive):\n",
      "\n",
      "Sentence: micromax hopes to hit market soon with ipo\n",
      "Sentence: sebi board approves sharing kyc details with financial regulators\n",
      "Sentence: recommend to hold cipla mayuresh joshi\n",
      "Sentence: strong deals crucial for wipros growth push\n",
      "Sentence: premarket nifty seen opening flat mat retest 8100 levels\n",
      "\n",
      "False Positives (Negative guessed as Positive):\n",
      "\n",
      "Sentence: gold steady below 3week top fed meeting eyed\n",
      "Sentence: as copper runs low producers turn ideas to boost output of metal\n",
      "Sentence: hul shares down over 3 post q4 earnings\n",
      "Sentence: skorea won shares fall as fed keeps door open for sept rate hike\n",
      "Sentence: sensex turn choppy top ten stocks in focus\n",
      "\n",
      "False Neutrals (Positive guessed as Neutral):\n",
      "\n",
      "Sentence: expect maruti stocks to hold up with upcoming product launches pramod gubbi\n",
      "Sentence: atul ltd rallies over 5 hits 52week high on stake sale reports\n",
      "Sentence: karur vysya bank q3 net up marginally to rs 11388 cr\n",
      "Sentence: venus remedies q2 net up 45 pc to rs 115 cr\n",
      "Sentence: once above rs 5130 bosche can touch rs 5400 sandeep wagle\n",
      "\n",
      "False Neutrals (Negative guessed as Neutral):\n",
      "\n",
      "Sentence: jgbs edge down as investors monitor greek situation\n",
      "Sentence: nothing much happening in nucleus software deepak mohini\n",
      "Sentence: european shares edge lower after manufacturing data\n",
      "Sentence: niit technologies slips over 8 as q2 falls to rs 4010 crore\n",
      "Sentence: rail stocks plunge upto 20 for second day in a row\n",
      "\n",
      "False Negatives (Positive guessed as Negative):\n",
      "\n",
      "Sentence: steady demand rain woes push up guar prices\n",
      "Sentence: ramky infrastructure rallies on debt restructuring plans\n",
      "Sentence: ntpc among 9 cos set to lose coal blocks stock up\n",
      "Sentence: kesoram industries q3 net loss narrows at rs 88 crore\n",
      "Sentence: insider case sat rejects ril plea against sebi stock ends in green\n",
      "\n",
      "False Negatives (Neutral guessed as Negative):\n",
      "\n",
      "Sentence: hard to say if the rebound in the markets will sustain or not ashwani gujral\n",
      "Sentence: mfs get sebi warning for violating investor norms\n",
      "Sentence: nasdaq to settle facebook ipo lawsuit for 265 million\n",
      "Sentence: scores sebis complaint redressal system\n",
      "Sentence: five reasons why rupee may not appreciate much\n"
     ]
    }
   ],
   "source": [
    "# Evaluating on the validation and test sets\n",
    "display_sentences(X_test, Y_test, Y_test_pred)"
   ]
  }
 ],
 "metadata": {
  "kernelspec": {
   "display_name": "Python 3 (ipykernel)",
   "language": "python",
   "name": "python3"
  },
  "language_info": {
   "codemirror_mode": {
    "name": "ipython",
    "version": 3
   },
   "file_extension": ".py",
   "mimetype": "text/x-python",
   "name": "python",
   "nbconvert_exporter": "python",
   "pygments_lexer": "ipython3",
   "version": "3.9.12"
  }
 },
 "nbformat": 4,
 "nbformat_minor": 5
}
