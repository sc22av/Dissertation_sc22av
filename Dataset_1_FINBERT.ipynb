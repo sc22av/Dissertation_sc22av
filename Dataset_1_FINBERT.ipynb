{
 "cells": [
  {
   "cell_type": "markdown",
   "id": "7b223d6c-9353-4452-a94f-868b6c299873",
   "metadata": {},
   "source": [
    "### FinBERT IMPLEMENTATION"
   ]
  },
  {
   "cell_type": "code",
   "execution_count": 1,
   "id": "8efa810b-57db-49ff-8854-ad149c020245",
   "metadata": {
    "tags": []
   },
   "outputs": [],
   "source": [
    "import torch"
   ]
  },
  {
   "cell_type": "code",
   "execution_count": 2,
   "id": "09662bc1-68f8-47d6-b1c6-9c223f1974cf",
   "metadata": {
    "tags": []
   },
   "outputs": [
    {
     "name": "stdout",
     "output_type": "stream",
     "text": [
      "PyTorch is built with MPS\n"
     ]
    }
   ],
   "source": [
    "if torch.backends.mps.is_built():\n",
    "    print(\"PyTorch is built with MPS\")\n",
    "else:\n",
    "    print(\"MPS not available.\")\n"
   ]
  },
  {
   "cell_type": "code",
   "execution_count": 3,
   "id": "b32238be-4d67-4fb1-8dc7-e1928e16c19f",
   "metadata": {
    "tags": []
   },
   "outputs": [],
   "source": [
    "if torch.backends.mps.is_available():\n",
    "    mps_device = torch.device(\"mps\")\n",
    "else:\n",
    "    print(\"MPS device not found\") "
   ]
  },
  {
   "cell_type": "code",
   "execution_count": 4,
   "id": "c9a17834-a599-4c46-91c0-a5c613b64769",
   "metadata": {
    "tags": []
   },
   "outputs": [
    {
     "name": "stdout",
     "output_type": "stream",
     "text": [
      "cpu\n",
      "cpu\n"
     ]
    }
   ],
   "source": [
    "#torch.set_default_device('mps')\n",
    "\n",
    "mod = torch.nn.Linear(20,30)\n",
    "print(mod.weight.device)\n",
    "print(mod(torch.randn(128, 20)).device)"
   ]
  },
  {
   "cell_type": "markdown",
   "id": "36919332-ba6c-4060-a23b-b2b95366f065",
   "metadata": {},
   "source": [
    "## PRE-PROCESSING"
   ]
  },
  {
   "cell_type": "code",
   "execution_count": 5,
   "id": "202d357a-d557-4ade-bda3-be0e976af7ea",
   "metadata": {
    "tags": []
   },
   "outputs": [],
   "source": [
    "# Basic utilities\n",
    "import os\n",
    "import platform\n",
    "\n",
    "# Data handling and manipulation\n",
    "import numpy as np\n",
    "import pandas as pd\n",
    "import ast\n",
    "\n",
    "# Text preprocessing and sentiment analysis utilities\n",
    "import nltk\n",
    "from nltk.corpus import stopwords\n",
    "from nltk.stem import WordNetLemmatizer\n",
    "from nltk.sentiment import SentimentIntensityAnalyzer\n",
    "from bs4 import BeautifulSoup\n",
    "from textblob import TextBlob\n",
    "\n",
    "# Visualization tools\n",
    "import matplotlib.pyplot as plt\n",
    "import seaborn as sns\n",
    "\n",
    "# Model evaluation, data splitting, and scikit-learn utilities\n",
    "from sklearn.model_selection import train_test_split\n",
    "from sklearn.metrics import (accuracy_score, f1_score, recall_score, \n",
    "                             precision_score, confusion_matrix, classification_report)\n",
    "from sklearn.feature_extraction.text import TfidfVectorizer\n",
    "from sklearn.svm import SVC\n",
    "from sklearn.model_selection import GridSearchCV\n",
    "\n",
    "# Word embeddings and NLP models\n",
    "import gensim\n",
    "from gensim.scripts.glove2word2vec import glove2word2vec\n",
    "from transformers import AutoTokenizer, AutoModelForSequenceClassification, TrainingArguments, Trainer\n",
    "\n",
    "# TensorFlow utilities\n",
    "import tensorflow as tf\n",
    "import tensorflow_hub as hub\n",
    "#import tensorflow_text as text  # Uncomment if needed\n",
    "\n",
    "# PyTorch utilities\n",
    "import torch\n",
    "\n",
    "# Optimization utilities\n",
    "import optuna\n",
    "\n",
    "# Miscellaneous\n",
    "from sklearn.preprocessing import LabelEncoder"
   ]
  },
  {
   "cell_type": "code",
   "execution_count": 6,
   "id": "179d0833-9d0b-4bae-9ef0-d5fe99533bf7",
   "metadata": {
    "tags": []
   },
   "outputs": [
    {
     "name": "stdout",
     "output_type": "stream",
     "text": [
      "Machine: x86_64\n",
      "Platform: macOS-10.16-x86_64-i386-64bit\n",
      "Mac Version: ('10.16', ('', '', ''), 'x86_64')\n",
      "Processor: i386\n",
      "Python Version: 3.9.12\n"
     ]
    }
   ],
   "source": [
    "def general_info():\n",
    "    print(\"Machine:\", platform.machine())\n",
    "    print(\"Platform:\", platform.platform())\n",
    "    print(\"Mac Version:\", platform.mac_ver())\n",
    "    print(\"Processor:\", platform.processor())\n",
    "    print(\"Python Version:\", platform.python_version())\n",
    "  \n",
    "general_info()"
   ]
  },
  {
   "cell_type": "code",
   "execution_count": 7,
   "id": "82537b29-dd5f-40d3-92d5-feb554b1725d",
   "metadata": {
    "tags": []
   },
   "outputs": [
    {
     "name": "stdout",
     "output_type": "stream",
     "text": [
      "Selected Jupyter core packages...\n",
      "IPython          : 8.2.0\n",
      "ipykernel        : 6.9.1\n",
      "ipywidgets       : 7.6.5\n",
      "jupyter_client   : 6.1.12\n",
      "jupyter_core     : 4.9.2\n",
      "jupyter_server   : 1.13.5\n",
      "jupyterlab       : 3.3.2\n",
      "nbclient         : 0.5.13\n",
      "nbconvert        : 6.4.4\n",
      "nbformat         : 5.3.0\n",
      "notebook         : 6.4.8\n",
      "qtconsole        : 5.3.0\n",
      "traitlets        : 5.1.1\n"
     ]
    }
   ],
   "source": [
    "!jupyter --version"
   ]
  },
  {
   "cell_type": "code",
   "execution_count": 9,
   "id": "d7587262-97e8-4ad7-9c88-9cdb644d490d",
   "metadata": {
    "tags": []
   },
   "outputs": [
    {
     "data": {
      "text/html": [
       "<div>\n",
       "<style scoped>\n",
       "    .dataframe tbody tr th:only-of-type {\n",
       "        vertical-align: middle;\n",
       "    }\n",
       "\n",
       "    .dataframe tbody tr th {\n",
       "        vertical-align: top;\n",
       "    }\n",
       "\n",
       "    .dataframe thead th {\n",
       "        text-align: right;\n",
       "    }\n",
       "</style>\n",
       "<table border=\"1\" class=\"dataframe\">\n",
       "  <thead>\n",
       "    <tr style=\"text-align: right;\">\n",
       "      <th></th>\n",
       "      <th>S No.</th>\n",
       "      <th>Title</th>\n",
       "      <th>Decisions</th>\n",
       "      <th>Words</th>\n",
       "    </tr>\n",
       "  </thead>\n",
       "  <tbody>\n",
       "    <tr>\n",
       "      <th>0</th>\n",
       "      <td>1</td>\n",
       "      <td>SpiceJet to issue 6.4 crore warrants to promoters</td>\n",
       "      <td>{\"SpiceJet\": \"neutral\"}</td>\n",
       "      <td>8</td>\n",
       "    </tr>\n",
       "    <tr>\n",
       "      <th>1</th>\n",
       "      <td>2</td>\n",
       "      <td>MMTC Q2 net loss at Rs 10.4 crore</td>\n",
       "      <td>{\"MMTC\": \"neutral\"}</td>\n",
       "      <td>8</td>\n",
       "    </tr>\n",
       "    <tr>\n",
       "      <th>2</th>\n",
       "      <td>3</td>\n",
       "      <td>Mid-cap funds can deliver more, stay put: Experts</td>\n",
       "      <td>{\"Mid-cap funds\": \"positive\"}</td>\n",
       "      <td>8</td>\n",
       "    </tr>\n",
       "    <tr>\n",
       "      <th>3</th>\n",
       "      <td>4</td>\n",
       "      <td>Mid caps now turn into market darlings</td>\n",
       "      <td>{\"Mid caps\": \"positive\"}</td>\n",
       "      <td>7</td>\n",
       "    </tr>\n",
       "    <tr>\n",
       "      <th>4</th>\n",
       "      <td>5</td>\n",
       "      <td>Market seeing patience, if not conviction: Pra...</td>\n",
       "      <td>{\"Market\": \"neutral\"}</td>\n",
       "      <td>8</td>\n",
       "    </tr>\n",
       "    <tr>\n",
       "      <th>...</th>\n",
       "      <td>...</td>\n",
       "      <td>...</td>\n",
       "      <td>...</td>\n",
       "      <td>...</td>\n",
       "    </tr>\n",
       "    <tr>\n",
       "      <th>10748</th>\n",
       "      <td>10749</td>\n",
       "      <td>Negative on Chambal, Advanta: Mitesh Thacker</td>\n",
       "      <td>{\"Chambal\": \"negative\", \"Advanta\": \"negative\"}</td>\n",
       "      <td>6</td>\n",
       "    </tr>\n",
       "    <tr>\n",
       "      <th>10749</th>\n",
       "      <td>10750</td>\n",
       "      <td>Small, Mid-cap stocks may emerge outperformers</td>\n",
       "      <td>{\"Small\": \"positive\", \"Mid-cap stocks\": \"posit...</td>\n",
       "      <td>6</td>\n",
       "    </tr>\n",
       "    <tr>\n",
       "      <th>10750</th>\n",
       "      <td>10751</td>\n",
       "      <td>Rupee slips against US dollar</td>\n",
       "      <td>{\"Rupee\": \"negative\", \"US dollar\": \"neutral\"}</td>\n",
       "      <td>5</td>\n",
       "    </tr>\n",
       "    <tr>\n",
       "      <th>10751</th>\n",
       "      <td>10752</td>\n",
       "      <td>Rupee weak against US dollar</td>\n",
       "      <td>{\"Rupee\": \"negative\", \"US dollar\": \"neutral\"}</td>\n",
       "      <td>5</td>\n",
       "    </tr>\n",
       "    <tr>\n",
       "      <th>10752</th>\n",
       "      <td>10753</td>\n",
       "      <td>Australia shares flat; energy drags</td>\n",
       "      <td>{\"Australia shares\": \"neutral\", \"energy\": \"neu...</td>\n",
       "      <td>5</td>\n",
       "    </tr>\n",
       "  </tbody>\n",
       "</table>\n",
       "<p>10753 rows × 4 columns</p>\n",
       "</div>"
      ],
      "text/plain": [
       "       S No.                                              Title  \\\n",
       "0          1  SpiceJet to issue 6.4 crore warrants to promoters   \n",
       "1          2                  MMTC Q2 net loss at Rs 10.4 crore   \n",
       "2          3  Mid-cap funds can deliver more, stay put: Experts   \n",
       "3          4             Mid caps now turn into market darlings   \n",
       "4          5  Market seeing patience, if not conviction: Pra...   \n",
       "...      ...                                                ...   \n",
       "10748  10749       Negative on Chambal, Advanta: Mitesh Thacker   \n",
       "10749  10750     Small, Mid-cap stocks may emerge outperformers   \n",
       "10750  10751                      Rupee slips against US dollar   \n",
       "10751  10752                       Rupee weak against US dollar   \n",
       "10752  10753                Australia shares flat; energy drags   \n",
       "\n",
       "                                               Decisions  Words  \n",
       "0                                {\"SpiceJet\": \"neutral\"}      8  \n",
       "1                                    {\"MMTC\": \"neutral\"}      8  \n",
       "2                          {\"Mid-cap funds\": \"positive\"}      8  \n",
       "3                               {\"Mid caps\": \"positive\"}      7  \n",
       "4                                  {\"Market\": \"neutral\"}      8  \n",
       "...                                                  ...    ...  \n",
       "10748     {\"Chambal\": \"negative\", \"Advanta\": \"negative\"}      6  \n",
       "10749  {\"Small\": \"positive\", \"Mid-cap stocks\": \"posit...      6  \n",
       "10750      {\"Rupee\": \"negative\", \"US dollar\": \"neutral\"}      5  \n",
       "10751      {\"Rupee\": \"negative\", \"US dollar\": \"neutral\"}      5  \n",
       "10752  {\"Australia shares\": \"neutral\", \"energy\": \"neu...      5  \n",
       "\n",
       "[10753 rows x 4 columns]"
      ]
     },
     "execution_count": 9,
     "metadata": {},
     "output_type": "execute_result"
    }
   ],
   "source": [
    "# Specify the path to the dataset, loading the csv into Pandas DataFrame\n",
    "data_pth = '/users/anshulvij/Desktop/Masters Project/Datasets/SEntFiN-v1.1.csv'\n",
    "df = pd.read_csv(data_pth)\n",
    "df"
   ]
  },
  {
   "cell_type": "markdown",
   "id": "04741ed1-4b2d-47c9-8487-59cdb35346e4",
   "metadata": {},
   "source": [
    "### PRE-PROCESSING STEPS IMPLEMENTED BELOW:-"
   ]
  },
  {
   "cell_type": "code",
   "execution_count": 10,
   "id": "b44d39d0-b940-4c17-80d2-1c5bdf7dace3",
   "metadata": {
    "tags": []
   },
   "outputs": [],
   "source": [
    "def filter_rows_by_colon_count(data, column):\n",
    "    \"\"\"\n",
    "    Filters out rows where the count of colons in the specified column exceeds one.\n",
    "\n",
    "    Parameters:\n",
    "    - data (pd.DataFrame): The DataFrame to be processed.\n",
    "    - column (str): The column name in which colon count needs to be checked.\n",
    "\n",
    "    Returns:\n",
    "    - pd.DataFrame: DataFrame after filtering out specific rows.\n",
    "    \"\"\"\n",
    "    condition = data[column].apply(lambda entry: str(entry).count(':') > 1)\n",
    "    return data[~condition]"
   ]
  },
  {
   "cell_type": "code",
   "execution_count": 11,
   "id": "489c7bf2-5815-4492-90b0-647dbc6563eb",
   "metadata": {
    "tags": []
   },
   "outputs": [
    {
     "name": "stdout",
     "output_type": "stream",
     "text": [
      "Post Filtering Stage-1 Step-1: Total Rows - 7903\n"
     ]
    }
   ],
   "source": [
    "df = filter_rows_by_colon_count(df, 'Decisions')\n",
    "print(f\"Post Filtering Stage-1 Step-1: Total Rows - {len(df)}\")"
   ]
  },
  {
   "cell_type": "code",
   "execution_count": 12,
   "id": "64e4ec52-d9b9-4a92-88ca-41431c308443",
   "metadata": {
    "tags": []
   },
   "outputs": [
    {
     "name": "stdout",
     "output_type": "stream",
     "text": [
      "Post Filtering Stage-1 Step-2: Total Rows - 7903\n"
     ]
    }
   ],
   "source": [
    "def transform_decision_data(data, column):\n",
    "    \"\"\"\n",
    "    Transforms the specified column of the DataFrame by extracting 'Entity' and 'Polarity' \n",
    "    from a dictionary representation. Ensures that strings mimicking dictionaries are \n",
    "    converted to actual dictionaries.\n",
    "\n",
    "    Parameters:\n",
    "    - data (pd.DataFrame): The DataFrame to be processed.\n",
    "    - column (str): The column name which contains dictionary or its string representation.\n",
    "\n",
    "    Returns:\n",
    "    - pd.DataFrame: Transformed DataFrame with 'Headlines', 'Entity', and 'Sentiment' columns.\n",
    "    \"\"\"\n",
    "    data_copy = data.copy()\n",
    "    \n",
    "    # Convert string representation of dictionary to actual dictionary\n",
    "    data_copy[column] = data_copy[column].apply(lambda item: ast.literal_eval(item) if isinstance(item, str) else item)\n",
    "    \n",
    "    # Extract key and value from the dictionary\n",
    "    data_copy['Entity'] = data_copy[column].apply(lambda item: list(item.keys())[0] if isinstance(item, dict) else None)\n",
    "    data_copy['Sentiment'] = data_copy[column].apply(lambda item: list(item.values())[0] if isinstance(item, dict) else None)\n",
    "    \n",
    "    return data_copy[['Title', 'Entity', 'Sentiment']].rename(columns={'Title': 'Headlines'})\n",
    "\n",
    "processed_df = transform_decision_data(df, 'Decisions')\n",
    "\n",
    "#Dropping the entity column as the rest have been set aside in the transform_decision_data\n",
    "processed_df = processed_df.drop(columns=['Entity'])\n",
    "\n",
    "\n",
    "print(f\"Post Filtering Stage-1 Step-2: Total Rows - {len(processed_df)}\")"
   ]
  },
  {
   "cell_type": "code",
   "execution_count": 13,
   "id": "6602101e-94e0-46f2-91c8-3485859899bf",
   "metadata": {
    "tags": []
   },
   "outputs": [
    {
     "name": "stdout",
     "output_type": "stream",
     "text": [
      "Missing Values:\n",
      " Headlines    0\n",
      "Sentiment    0\n",
      "dtype: int64\n",
      "Post Filtering Stage-2 Step-1: Total Rows - 7903\n"
     ]
    }
   ],
   "source": [
    "def check_missing_data(dataframe):\n",
    "    \"\"\"\n",
    "    Checks and returns the number of missing values in each column of a DataFrame.\n",
    "\n",
    "    Parameters:\n",
    "    - dataframe (pd.DataFrame): The DataFrame to be checked.\n",
    "\n",
    "    Returns:\n",
    "    - Series: Number of missing values for each column.\n",
    "    \"\"\"\n",
    "    return dataframe.isnull().sum()\n",
    "\n",
    "print(\"Missing Values:\\n\", check_missing_data(processed_df))\n",
    "processed_df = processed_df.dropna()\n",
    "print(f\"Post Filtering Stage-2 Step-1: Total Rows - {len(processed_df)}\")"
   ]
  },
  {
   "cell_type": "code",
   "execution_count": 14,
   "id": "f4c724b2-6612-494c-815e-8b707b027b1e",
   "metadata": {
    "tags": []
   },
   "outputs": [
    {
     "name": "stdout",
     "output_type": "stream",
     "text": [
      "Post Filtering Stage-2 Step-2: Total Rows - 7903\n"
     ]
    }
   ],
   "source": [
    "def refine_headlines(column):\n",
    "    \"\"\"\n",
    "    Cleans and refines a given text column. The function lowercases the text, removes \n",
    "    HTML content, URLs, non-alphanumeric characters, and stopwords. It also lemmatises \n",
    "    each word for better text consistency.\n",
    "\n",
    "    Parameters:\n",
    "    - column (pd.Series): The column containing text data to be refined.\n",
    "\n",
    "    Returns:\n",
    "    - pd.Series: The refined column.\n",
    "    \"\"\"\n",
    "    column = column.str.lower()\n",
    "    \n",
    "    # Check if text looks like filename or not\n",
    "    def extract_text(text):\n",
    "        if re.match(r'^[A-Za-z0-9_\\-\\.]+$', text):\n",
    "            return text\n",
    "        return BeautifulSoup(text, 'lxml').get_text()\n",
    "    \n",
    "    column = column.str.replace('http\\S+|www.\\S+|[^\\w\\s]', '', regex=True)\n",
    "    \n",
    "    return column\n",
    "\n",
    "processed_df['Headlines'] = refine_headlines(processed_df['Headlines'])\n",
    "print(f\"Post Filtering Stage-2 Step-2: Total Rows - {len(processed_df)}\")\n"
   ]
  },
  {
   "cell_type": "code",
   "execution_count": 15,
   "id": "b710d3b6-9909-4848-a925-1f940efcb215",
   "metadata": {
    "tags": []
   },
   "outputs": [
    {
     "name": "stdout",
     "output_type": "stream",
     "text": [
      "Post Filtering Stage-2 Step-3 Total Rows - 7858\n"
     ]
    }
   ],
   "source": [
    "# Detect and remove duplicate rows from the DataFrame\n",
    "duplicated_rows = processed_df[processed_df.duplicated()]\n",
    "processed_df.drop_duplicates(inplace=True)\n",
    "print(f\"Post Filtering Stage-2 Step-3 Total Rows - {len(processed_df)}\")\n"
   ]
  },
  {
   "cell_type": "code",
   "execution_count": 16,
   "id": "ad7b3768-c476-4f79-8b92-cb67a127e361",
   "metadata": {
    "tags": []
   },
   "outputs": [
    {
     "name": "stdout",
     "output_type": "stream",
     "text": [
      "\n",
      "Count of each sentiment:\n",
      "positive    2830\n",
      "neutral     2657\n",
      "negative    2371\n",
      "Name: Sentiment, dtype: int64\n",
      "positive    36.014253\n",
      "neutral     33.812675\n",
      "negative    30.173072\n",
      "Name: Sentiment, dtype: float64\n"
     ]
    }
   ],
   "source": [
    "def display_sentiment_counts(dataframe, column_name='Sentiment'):\n",
    "    \"\"\"\n",
    "    Displays the frequency and relative percentage of each sentiment value in the given DataFrame.\n",
    "\n",
    "    Parameters:\n",
    "    - dataframe (pd.DataFrame): The DataFrame containing sentiment data.\n",
    "    - column_name (str, optional): The name of the column containing sentiment values. Default is 'Sentiment'.\n",
    "\n",
    "    Prints:\n",
    "    - Sentiment counts and their relative percentages.\n",
    "    \"\"\"\n",
    "    sentiment_counts = dataframe[column_name].value_counts()\n",
    "    print(\"\\nCount of each sentiment:\")\n",
    "    print(sentiment_counts)\n",
    "\n",
    "    sentiment_percentages = dataframe[column_name].value_counts(normalize=True)*100\n",
    "    print(sentiment_percentages)\n",
    "\n",
    "display_sentiment_counts(processed_df)\n"
   ]
  },
  {
   "cell_type": "code",
   "execution_count": 17,
   "id": "61767d75-f1a9-4b4a-ac4e-df6fe59f13e2",
   "metadata": {
    "tags": []
   },
   "outputs": [
    {
     "data": {
      "image/png": "[encoded data removed]",
      "text/plain": [
       "<Figure size 432x288 with 1 Axes>"
      ]
     },
     "metadata": {
      "needs_background": "light"
     },
     "output_type": "display_data"
    }
   ],
   "source": [
    "# Calculate and visualize the distribution of sentiment values in the DataFrame using a bar chart.\n",
    "# Each bar is labelled with the sentiment count and its relative percentage.\n",
    "\n",
    "# Calculate sentiment frequency and its relative percentage\n",
    "sentiment_frequency = processed_df['Sentiment'].value_counts()\n",
    "sentiment_ratio = processed_df['Sentiment'].value_counts(normalize=True) * 100\n",
    "\n",
    "# Display sentiment distribution using a bar chart\n",
    "bars = plt.bar(sentiment_frequency.index, sentiment_frequency.values, alpha=0.8)\n",
    "\n",
    "# Adjust the y-axis limit\n",
    "plt.ylim(0, max(sentiment_frequency.values) * 1.15)  # Increase the upper limit by 15% of the highest bar value\n",
    "\n",
    "# Label each bar with the sentiment count and its percentage\n",
    "for idx, bar in enumerate(bars):\n",
    "    yval = bar.get_height()\n",
    "    sentiment_label = sentiment_frequency.index[idx]\n",
    "    plt.text(bar.get_x() + bar.get_width()/2, yval + max(sentiment_frequency.values) * 0.05, \n",
    "             f'{int(yval)} ({sentiment_ratio[sentiment_label]:.2f}%)',\n",
    "             ha='center', va='center')\n",
    "\n",
    "plt.xlabel('Sentiment Value')\n",
    "plt.ylabel('Frequency')\n",
    "plt.title('Sentiment Distribution Visualization')\n",
    "plt.tight_layout()\n",
    "plt.show()"
   ]
  },
  {
   "cell_type": "code",
   "execution_count": 18,
   "id": "8670de32-ba30-4a4c-9991-03c4868a4948",
   "metadata": {
    "tags": []
   },
   "outputs": [
    {
     "data": {
      "text/html": [
       "<div>\n",
       "<style scoped>\n",
       "    .dataframe tbody tr th:only-of-type {\n",
       "        vertical-align: middle;\n",
       "    }\n",
       "\n",
       "    .dataframe tbody tr th {\n",
       "        vertical-align: top;\n",
       "    }\n",
       "\n",
       "    .dataframe thead th {\n",
       "        text-align: right;\n",
       "    }\n",
       "</style>\n",
       "<table border=\"1\" class=\"dataframe\">\n",
       "  <thead>\n",
       "    <tr style=\"text-align: right;\">\n",
       "      <th></th>\n",
       "      <th>Headlines</th>\n",
       "      <th>Sentiment</th>\n",
       "    </tr>\n",
       "  </thead>\n",
       "  <tbody>\n",
       "    <tr>\n",
       "      <th>0</th>\n",
       "      <td>spicejet to issue 64 crore warrants to promoters</td>\n",
       "      <td>neutral</td>\n",
       "    </tr>\n",
       "    <tr>\n",
       "      <th>1</th>\n",
       "      <td>mmtc q2 net loss at rs 104 crore</td>\n",
       "      <td>neutral</td>\n",
       "    </tr>\n",
       "    <tr>\n",
       "      <th>2</th>\n",
       "      <td>midcap funds can deliver more stay put experts</td>\n",
       "      <td>positive</td>\n",
       "    </tr>\n",
       "    <tr>\n",
       "      <th>3</th>\n",
       "      <td>mid caps now turn into market darlings</td>\n",
       "      <td>positive</td>\n",
       "    </tr>\n",
       "    <tr>\n",
       "      <th>4</th>\n",
       "      <td>market seeing patience if not conviction praka...</td>\n",
       "      <td>neutral</td>\n",
       "    </tr>\n",
       "    <tr>\n",
       "      <th>...</th>\n",
       "      <td>...</td>\n",
       "      <td>...</td>\n",
       "    </tr>\n",
       "    <tr>\n",
       "      <th>10697</th>\n",
       "      <td>vedantacairn deal may not go through ajay bagga</td>\n",
       "      <td>negative</td>\n",
       "    </tr>\n",
       "    <tr>\n",
       "      <th>10700</th>\n",
       "      <td>wall street opens flat sp 500 near record</td>\n",
       "      <td>neutral</td>\n",
       "    </tr>\n",
       "    <tr>\n",
       "      <th>10710</th>\n",
       "      <td>heard on the street dutchman mf fiis</td>\n",
       "      <td>neutral</td>\n",
       "    </tr>\n",
       "    <tr>\n",
       "      <th>10714</th>\n",
       "      <td>rebound for russia and china lifts stocks</td>\n",
       "      <td>positive</td>\n",
       "    </tr>\n",
       "    <tr>\n",
       "      <th>10732</th>\n",
       "      <td>masoor gram prices weaken on sluggish demand</td>\n",
       "      <td>negative</td>\n",
       "    </tr>\n",
       "  </tbody>\n",
       "</table>\n",
       "<p>7858 rows × 2 columns</p>\n",
       "</div>"
      ],
      "text/plain": [
       "                                               Headlines Sentiment\n",
       "0       spicejet to issue 64 crore warrants to promoters   neutral\n",
       "1                       mmtc q2 net loss at rs 104 crore   neutral\n",
       "2         midcap funds can deliver more stay put experts  positive\n",
       "3                 mid caps now turn into market darlings  positive\n",
       "4      market seeing patience if not conviction praka...   neutral\n",
       "...                                                  ...       ...\n",
       "10697    vedantacairn deal may not go through ajay bagga  negative\n",
       "10700          wall street opens flat sp 500 near record   neutral\n",
       "10710               heard on the street dutchman mf fiis   neutral\n",
       "10714          rebound for russia and china lifts stocks  positive\n",
       "10732       masoor gram prices weaken on sluggish demand  negative\n",
       "\n",
       "[7858 rows x 2 columns]"
      ]
     },
     "execution_count": 18,
     "metadata": {},
     "output_type": "execute_result"
    }
   ],
   "source": [
    "processed_df"
   ]
  },
  {
   "cell_type": "markdown",
   "id": "6bedecc5-9210-4f8e-a3f8-077b7377258b",
   "metadata": {},
   "source": [
    "### FINBERT IMPLEMENTATION"
   ]
  },
  {
   "cell_type": "code",
   "execution_count": 19,
   "id": "0e0d1c53-2dae-41e0-8ef0-cb5f14055779",
   "metadata": {},
   "outputs": [],
   "source": [
    "def initialize_model_and_tokenizer():\n",
    "    \"\"\"\n",
    "    Initialize the model and tokenizer for the specified pretrained version.\n",
    "\n",
    "    Returns:\n",
    "    - tokenizer: Initialized tokenizer\n",
    "    - model: Initialized model\n",
    "    \"\"\"\n",
    "    model = AutoModelForSequenceClassification.from_pretrained('ProsusAI/finbert')\n",
    "    tokenizer = AutoTokenizer.from_pretrained('ProsusAI/finbert', padding=True, truncation=True)\n",
    "    return tokenizer, model"
   ]
  },
  {
   "cell_type": "code",
   "execution_count": 20,
   "id": "5a6617bc-dbc9-4fdc-94d2-2c90ed24c0c2",
   "metadata": {},
   "outputs": [],
   "source": [
    "def process_dataframe(df):\n",
    "    \"\"\"\n",
    "    Maps sentiment to a target value.\n",
    "\n",
    "    Parameters:\n",
    "    - df (pd.DataFrame): DataFrame containing the 'Sentiment' column.\n",
    "\n",
    "    Returns:\n",
    "    - pd.DataFrame: Processed DataFrame with an additional 'Target' column.\n",
    "    \"\"\"\n",
    "    target_map = {'neutral': 2, 'positive': 0, 'negative': 1}\n",
    "    df['Target'] = df['Sentiment'].map(target_map)\n",
    "    return df"
   ]
  },
  {
   "cell_type": "code",
   "execution_count": 21,
   "id": "b2c4a602-c4ee-4f6b-93ed-e6420ed4a083",
   "metadata": {
    "tags": []
   },
   "outputs": [],
   "source": [
    "def compute_FPR_spec_metrics(cm, labels=[\"positive\", \"negative\", \"neutral\"]):\n",
    "    \"\"\"\n",
    "    Compute specificity, FPR, precision for each class, and the overall accuracy given a 3x3 confusion matrix.\n",
    "    Also, computes weighted and macro average for FPR and specificity.\n",
    "\n",
    "    Args:\n",
    "    - cm (numpy array): 3x3 confusion matrix\n",
    "    - labels (list): List of class labels in order\n",
    "\n",
    "    Returns:\n",
    "    None. It will print the results directly.\n",
    "    \"\"\"\n",
    "    \n",
    "    specificities = []\n",
    "    fprs = []\n",
    "    precisions = []\n",
    "\n",
    "    for i in range(3):\n",
    "        tp = cm[i, i]\n",
    "        tn = sum(cm[j, j] for j in range(3) if j != i)\n",
    "        fp = sum(cm[j, i] for j in range(3) if j != i)\n",
    "        fn = sum(cm[i, j] for j in range(3) if j != i)\n",
    "        \n",
    "        specificity = tn / (tn + fp) if tn + fp != 0 else 0\n",
    "        fpr = 1 - specificity\n",
    "        precision = tp / (tp + fp) if tp + fp != 0 else 0\n",
    "        \n",
    "        specificities.append(round(specificity, 4))\n",
    "        fprs.append(round(fpr, 4))\n",
    "        precisions.append(round(precision, 4))\n",
    "    \n",
    "    # Print the class values with their corresponding metrics\n",
    "    for i, label in enumerate(labels):\n",
    "        print(f\"Metrics for class {label} (Class value: {i}):\")\n",
    "        print(f\"Specificity: {specificities[i]}\")\n",
    "        print(f\"FPR: {fprs[i]}\")\n",
    "        print(f\"Precision: {precisions[i]}\\n\")\n",
    "\n",
    "    # Calculate overall accuracy\n",
    "    accuracy = round(np.trace(cm) / np.sum(cm), 4)\n",
    "    print(f\"Overall accuracy: {accuracy}\")\n",
    "\n",
    "    # Calculate true values for each class for weighting purposes\n",
    "    true_values = np.sum(cm, axis=1)\n",
    "    total_true_values = np.sum(true_values)\n",
    "\n",
    "    # Calculate weighted average specificity and FPR\n",
    "    weighted_avg_spec = round(sum(specificities[i] * true_values[i] for i in range(3)) / total_true_values, 4)\n",
    "    weighted_avg_fpr = round(sum(fprs[i] * true_values[i] for i in range(3)) / total_true_values, 4)\n",
    "\n",
    "    # Calculate macro average specificity and FPR\n",
    "    macro_avg_spec = round(np.mean(specificities), 4)\n",
    "    macro_avg_fpr = round(np.mean(fprs), 4)\n",
    "\n",
    "    print(f\"Weighted average specificity: {weighted_avg_spec}\")\n",
    "    print(f\"Weighted average FPR: {weighted_avg_fpr}\")\n",
    "    print(f\"Macro average specificity: {macro_avg_spec}\")\n",
    "    print(f\"Macro average FPR: {macro_avg_fpr}\\n\")"
   ]
  },
  {
   "cell_type": "code",
   "execution_count": 22,
   "id": "1bdc5dc7-e48e-4d46-b5db-e13a553a238e",
   "metadata": {},
   "outputs": [],
   "source": [
    "def prepare_dataset(X, y, tokenizer):\n",
    "    \"\"\"\n",
    "    Prepares the tokenized dataset for training, validation, and testing.\n",
    "\n",
    "    Parameters:\n",
    "    - X (np.array): Array of sentences.\n",
    "    - y (np.array): Array of target values.\n",
    "    - tokenizer: Tokenizer instance.\n",
    "\n",
    "    Returns:\n",
    "    - train_dataset, val_dataset, test_dataset: Torch Dataset objects.\n",
    "    \"\"\"\n",
    "    \n",
    "    X_train, X_temp, y_train, y_temp = train_test_split(X, y, test_size=0.3, random_state=5)\n",
    "    X_val, X_test, y_val, y_test = train_test_split(X_temp, y_temp, test_size=0.5, random_state=5)\n",
    "\n",
    "\n",
    "    # Encode data\n",
    "    train_encodings = tokenizer(list(X_train), truncation=True, padding=True)\n",
    "    val_encodings = tokenizer(list(X_val), truncation=True, padding=True)\n",
    "    test_encodings = tokenizer(list(X_test), truncation=True, padding=True)\n",
    "\n",
    "    # Convert encodings into Torch Dataset objects\n",
    "    train_dataset = SentimentDataset(train_encodings, y_train)\n",
    "    val_dataset = SentimentDataset(val_encodings, y_val)\n",
    "    test_dataset = SentimentDataset(test_encodings, y_test)\n",
    "    return train_dataset, val_dataset, test_dataset, y_test"
   ]
  },
  {
   "cell_type": "code",
   "execution_count": 23,
   "id": "f15b1f9d-5b2d-44af-a8bf-adfeb75fd108",
   "metadata": {},
   "outputs": [],
   "source": [
    "class SentimentDataset(torch.utils.data.Dataset):\n",
    "    \"\"\"\n",
    "    Custom Dataset class for sentiment analysis using tokenized encodings.\n",
    "    \"\"\"\n",
    "    def __init__(self, encodings, labels):\n",
    "        self.encodings = encodings\n",
    "        self.labels = labels\n",
    "\n",
    "    def __getitem__(self, idx):\n",
    "        item = {key: torch.tensor(val[idx]) for key, val in self.encodings.items()}\n",
    "        item['labels'] = torch.tensor(self.labels[idx])\n",
    "        return item\n",
    "\n",
    "    def __len__(self):\n",
    "        return len(self.labels)"
   ]
  },
  {
   "cell_type": "code",
   "execution_count": 24,
   "id": "a8227b26-dfc6-4446-84eb-1bd0083fc9f5",
   "metadata": {},
   "outputs": [],
   "source": [
    "def compute_metrics(pred):\n",
    "    \"\"\"\n",
    "    Compute accuracy for predictions.\n",
    "\n",
    "    Parameters:\n",
    "    - pred: Prediction object with `label_ids` and `predictions` attributes.\n",
    "\n",
    "    Returns:\n",
    "    - dict: Dictionary containing accuracy.\n",
    "    \"\"\"\n",
    "    labels = pred.label_ids\n",
    "    preds = pred.predictions.argmax(-1)\n",
    "    acc = accuracy_score(labels, preds)\n",
    "    return {\n",
    "        'accuracy': acc,\n",
    "    }"
   ]
  },
  {
   "cell_type": "code",
   "execution_count": 25,
   "id": "775e72b6-0091-498d-bc2c-8039a3ed55f3",
   "metadata": {},
   "outputs": [],
   "source": [
    "def objective(trial, train_dataset, val_dataset, model_init):\n",
    "    \"\"\"\n",
    "    Objective function for optimization. Trains and evaluates a model based on trial parameters.\n",
    "\n",
    "    Parameters:\n",
    "    - trial (optuna.trial.Trial): A single trial of hyperparameter optimization.\n",
    "    - train_dataset: Training dataset.\n",
    "    - val_dataset: Validation dataset.\n",
    "    - model_init: Initialization function for the model.\n",
    "\n",
    "    Returns:\n",
    "    - float: Evaluation accuracy of the trained model.\n",
    "    \"\"\"\n",
    "    training_args = TrainingArguments(\n",
    "        output_dir=\"test_trainer\",\n",
    "        use_mps_device=True,\n",
    "        num_train_epochs=trial.suggest_int(\"num_train_epochs\", 1, 10),\n",
    "        per_device_train_batch_size=trial.suggest_categorical(\"per_device_train_batch_size\", [8, 16, 32, 64]),\n",
    "        per_device_eval_batch_size=64,\n",
    "        warmup_steps=trial.suggest_int(\"warmup_steps\", 0, 500),\n",
    "        weight_decay=trial.suggest_float(\"weight_decay\", 0.0, 0.1),\n",
    "        learning_rate=trial.suggest_float('learning_rate', 1e-5, 1e-2, log=True),\n",
    "        logging_dir='./logs',\n",
    "        load_best_model_at_end=True,\n",
    "        logging_steps=250,\n",
    "        evaluation_strategy=\"steps\",\n",
    "        save_steps=500,\n",
    "        metric_for_best_model='accuracy',\n",
    "        greater_is_better=True,\n",
    "    )\n",
    "\n",
    "    trainer = Trainer(\n",
    "        model_init=model_init,\n",
    "        args=training_args,\n",
    "        train_dataset=train_dataset,\n",
    "        eval_dataset=val_dataset,\n",
    "        compute_metrics=compute_metrics,\n",
    "    )\n",
    "    print(f\"Trainer is running on: {trainer.model.device}\")\n",
    "    trainer.train()\n",
    "    return trainer.evaluate()[\"eval_accuracy\"]"
   ]
  },
  {
   "cell_type": "code",
   "execution_count": 26,
   "id": "282c6a00-9027-408f-bca5-ba1370fe37bf",
   "metadata": {},
   "outputs": [],
   "source": [
    "def optimize_hyperparameters(train_dataset, val_dataset, model_init, n_trials=50):\n",
    "    \"\"\"\n",
    "    Conduct hyperparameter optimization using Optuna.\n",
    "\n",
    "    Parameters:\n",
    "    - train_dataset: Training dataset.\n",
    "    - val_dataset: Validation dataset.\n",
    "    - model_init: Initialization function for the model.\n",
    "    - n_trials (int, optional): Number of trials. Defaults to 50.\n",
    "\n",
    "    Returns:\n",
    "    - optuna.study.Study: Optuna study object with optimization results.\n",
    "    \"\"\"\n",
    "    pruner = optuna.pruners.MedianPruner()\n",
    "    study = optuna.create_study(direction=\"maximize\", pruner=pruner)\n",
    "    study.optimize(lambda trial: objective(trial, train_dataset, val_dataset, model_init), n_trials=n_trials)\n",
    "    return study"
   ]
  },
  {
   "cell_type": "code",
   "execution_count": 27,
   "id": "3cdc3591-8f0a-4a03-93f9-b10278b03bf2",
   "metadata": {},
   "outputs": [],
   "source": [
    "def train_with_best_params(train_dataset, val_dataset, model, best_params):\n",
    "    \"\"\"\n",
    "    Train the model with the best hyperparameters obtained from optimization.\n",
    "\n",
    "    Parameters:\n",
    "    - train_dataset: Training dataset.\n",
    "    - val_dataset: Validation dataset.\n",
    "    - model: Pretrained model.\n",
    "    - best_params (dict): Dictionary containing the best hyperparameters.\n",
    "\n",
    "    Returns:\n",
    "    - Trainer: Trainer object after training.\n",
    "    \"\"\"\n",
    "    training_args = TrainingArguments(\n",
    "        output_dir=\"model_dir\",\n",
    "        use_mps_device=True,\n",
    "        num_train_epochs=best_params[\"num_train_epochs\"],\n",
    "        per_device_train_batch_size=best_params[\"per_device_train_batch_size\"],\n",
    "        learning_rate=best_params['learning_rate'],\n",
    "        weight_decay=best_params[\"weight_decay\"],\n",
    "        warmup_steps=best_params[\"warmup_steps\"],\n",
    "        evaluation_strategy=\"steps\",\n",
    "        load_best_model_at_end=True,\n",
    "        save_steps=500,\n",
    "        logging_steps=250,\n",
    "        metric_for_best_model='accuracy',\n",
    "        greater_is_better=True,\n",
    "    )\n",
    "\n",
    "    trainer = Trainer(\n",
    "        model=model,\n",
    "        args=training_args,\n",
    "        train_dataset=train_dataset,\n",
    "        eval_dataset=val_dataset,\n",
    "        compute_metrics=compute_metrics,\n",
    "    )\n",
    "    print(f\"Trainer is running on: {trainer.model.device}\")\n",
    "    trainer.train()\n",
    "    return trainer"
   ]
  },
  {
   "cell_type": "code",
   "execution_count": 28,
   "id": "45afa379-819f-4269-9ce3-5f3bf1125000",
   "metadata": {},
   "outputs": [],
   "source": [
    "def print_study_results(study):\n",
    "    \"\"\"\n",
    "    Print the optimization results of a study.\n",
    "\n",
    "    Parameters:\n",
    "    - study: The study object containing trials with their results and associated parameters.\n",
    "\n",
    "    Output:\n",
    "    Prints the trial number, its value (accuracy), and its parameters.\n",
    "    \"\"\"\n",
    "    \n",
    "    print(\"\\nOptimization Results:\")\n",
    "    for i, trial in enumerate(study.trials):\n",
    "        print(f\"Trial {i + 1}:\")\n",
    "        print(f\"  Value (Accuracy): {trial.value}\")\n",
    "        print(f\"  Params: {trial.params}\")\n",
    "        print(\"---------------------------\")\n"
   ]
  },
  {
   "cell_type": "code",
   "execution_count": 29,
   "id": "aeaf6d77-f4f4-402d-bd4f-3dc2232fb8cf",
   "metadata": {},
   "outputs": [],
   "source": [
    "def plot_losses(trainer):\n",
    "    \"\"\"\n",
    "    Plots the training and validation loss from a trainer's log history.\n",
    "    \n",
    "    Parameters:\n",
    "    - trainer: An object containing the training state and its log history. \n",
    "               It is assumed that this object has an attribute 'state' which \n",
    "               further has a 'log_history' attribute storing the losses.\n",
    "\n",
    "    Output:\n",
    "    Displays a plot with training and validation losses over logging steps.\n",
    "    \"\"\"\n",
    "    # Extract training and validation loss from log history\n",
    "    training_losses = [x['loss'] for x in trainer.state.log_history if 'loss' in x]\n",
    "    validation_losses = [x['eval_loss'] for x in trainer.state.log_history if 'eval_loss' in x]\n",
    "\n",
    "    # Plot the losses\n",
    "    plt.plot(training_losses, label=\"Training Loss\")\n",
    "    plt.plot(validation_losses, label=\"Validation Loss\")\n",
    "    plt.xlabel(\"Logging Steps\")\n",
    "    plt.ylabel(\"Loss\")\n",
    "    plt.legend()\n",
    "    plt.show()\n"
   ]
  },
  {
   "cell_type": "code",
   "execution_count": 42,
   "id": "76e60dbf-5873-465f-8104-e5d3496e70b1",
   "metadata": {},
   "outputs": [],
   "source": [
    "def test_model(trainer, test_dataset,y_true, label_encoder):\n",
    "    \"\"\"\n",
    "    Evaluates the model on a test dataset, prints the evaluation metrics, \n",
    "    and visualizes the confusion matrix.\n",
    "    \n",
    "    Parameters:\n",
    "    - trainer: An object responsible for training, evaluating, and predicting.\n",
    "               This object should have methods `evaluate` and `predict`.\n",
    "    - test_dataset: Dataset object on which the model is to be evaluated and predictions are to be made.\n",
    "    - y_true: The true labels for the test dataset.\n",
    "    - label_encoder: An encoder object that is used to transform labels. \n",
    "                     Should have a `classes_` attribute listing all unique class names.\n",
    "                     \n",
    "    Outputs:\n",
    "    - Prints the evaluation loss and accuracy on the test dataset.\n",
    "    - Prints a classification report with precision, recall, f1-score, and support.\n",
    "    - Displays a heatmap representation of the confusion matrix.\n",
    "    \"\"\"\n",
    "    # Evaluate on test dataset\n",
    "    test_results = trainer.evaluate(test_dataset)\n",
    "    print(\"\\nTest Set Evaluation:\")\n",
    "    print(f\"Evaluation Loss: {test_results['eval_loss']}\")\n",
    "    print(f\"Evaluation Accuracy: {test_results['eval_accuracy']}\")\n",
    "\n",
    "    # Get predictions\n",
    "    predictions = trainer.predict(test_dataset)\n",
    "    y_pred = np.argmax(predictions.predictions, axis=1)\n",
    "\n",
    "    # Convert target_names to string\n",
    "    target_names = [str(label) for label in label_encoder.classes_]\n",
    "\n",
    "    # Print classification report\n",
    "    print(classification_report(y_true, y_pred, target_names=target_names, digits =4))\n",
    "\n",
    "    # Plot confusion matrix using seaborn\n",
    "    cm = confusion_matrix(y_true, y_pred)\n",
    "\n",
    "    # Format annotations to integers\n",
    "    annot = np.array(cm).astype(str)\n",
    "    for i in range(cm.shape[0]):\n",
    "        for j in range(cm.shape[1]):\n",
    "            annot[i, j] = str(int(cm[i, j]))\n",
    "\n",
    "    plt.figure(figsize=(10,7))\n",
    "    sns.heatmap(cm, annot=annot, fmt=\"\", cmap='Blues', xticklabels=label_encoder.classes_, yticklabels=label_encoder.classes_)\n",
    "    plt.xlabel('Predicted labels')\n",
    "    plt.ylabel('True labels')\n",
    "    plt.show()"
   ]
  },
  {
   "cell_type": "code",
   "execution_count": 49,
   "id": "97c8d6bd-815c-41e6-bd7e-061623c02e80",
   "metadata": {},
   "outputs": [],
   "source": [
    "def extract_incorrect_samples(trainer, test_dataset, label_encoder, tokenizer):\n",
    "    \"\"\"\n",
    "    Extracts incorrect samples from the test dataset based on the model's predictions.\n",
    "\n",
    "    This function aims to identify and decode misclassified samples from a given test dataset.\n",
    "    The output provides up to five sentences from the dataset that the model has incorrectly\n",
    "    predicted for each sentiment category (positive, negative, neutral).\n",
    "\n",
    "    Parameters:\n",
    "    - trainer: An object responsible for model operations. This object should have a `predict` method.\n",
    "    - test_dataset: Dataset object from which incorrect samples are to be extracted.\n",
    "    - label_encoder: An encoder object used to transform labels. Should have a `classes_` attribute listing unique class names.\n",
    "    - tokenizer: Tokenizer object to decode tokenized text samples back into string sentences.\n",
    "\n",
    "    Returns:\n",
    "    - sample_sentences: A dictionary with keys as sentiment labels (\"positive\", \"negative\", \"neutral\").\n",
    "                        Each key contains a nested dictionary with \"sentences\" (list of decoded sentences)\n",
    "                        and \"probabilities\" (model's predicted probabilities for the respective incorrect label).\n",
    "\n",
    "    Note:\n",
    "    The function is designed for sentiment analysis tasks with three sentiment categories (positive, negative, neutral).\n",
    "    It may require modifications for other tasks or categories.\n",
    "    \"\"\"\n",
    "    # Get model predictions\n",
    "    predictions = trainer.predict(test_dataset)\n",
    "    y_pred = np.argmax(predictions.predictions, axis=1)\n",
    "\n",
    "    # Extract true labels from the test_dataset\n",
    "    y_true = [sample['labels'].item() for sample in test_dataset]\n",
    "\n",
    "    # Convert test_dataset to dataframe\n",
    "    data = {\n",
    "        'text': [sample['input_ids'] for sample in test_dataset],\n",
    "        'label': y_true\n",
    "    }\n",
    "    df = pd.DataFrame(data)\n",
    "\n",
    "    # Filter incorrect predictions\n",
    "    incorrect_df = df[y_pred != df['label']].copy()\n",
    "    incorrect_df['predicted_label'] = y_pred[y_pred != df['label'].to_numpy()]\n",
    "\n",
    "    sample_sentences = {\n",
    "        \"positive\": {\"sentences\": [], \"probabilities\": []},\n",
    "        \"negative\": {\"sentences\": [], \"probabilities\": []},\n",
    "        \"neutral\": {\"sentences\": [], \"probabilities\": []}\n",
    "     }\n",
    "    \n",
    "    for label_text, label_num in [(\"positive\", 1), (\"negative\", 0), (\"neutral\", 2)]:\n",
    "    # Filter out incorrect samples for the specific label\n",
    "        label_incorrect_df = incorrect_df[incorrect_df['label'] == label_num]\n",
    "\n",
    "    # Sample up to 5 sentences\n",
    "        num_samples = min(5, len(label_incorrect_df))\n",
    "        sampled_texts = label_incorrect_df['text'].sample(n=num_samples, random_state=5)\n",
    "    # Debug: Print out the sampled_texts\n",
    "    #   print(f\"Sampled token sequences for {label_text}:\")\n",
    "    #   print(sampled_texts)\n",
    "        \n",
    "    # Decode the tokens back to sentences and get predicted probabilities\n",
    "        decoded_sentences = [tokenizer.decode(text.numpy(), skip_special_tokens=True) for text in sampled_texts]\n",
    "        predicted_labels = label_incorrect_df.loc[sampled_texts.index, 'predicted_label']\n",
    "        predicted_probs = [predictions.predictions[i][pred_label] for i, pred_label in enumerate(predicted_labels)]\n",
    "    # Debug: Print out the decoded sentences\n",
    "    #    print(f\"Decoded sentences for {label_text}:\")\n",
    "    #    print(decoded_sentences)\n",
    "\n",
    "    # Store the sentences and probabilities\n",
    "        sample_sentences[label_text]['sentences'] = decoded_sentences\n",
    "        sample_sentences[label_text]['probabilities'] = predicted_probs\n",
    "\n",
    "    return sample_sentences\n"
   ]
  },
  {
   "cell_type": "code",
   "execution_count": 31,
   "id": "f9899db1-b903-4154-82a8-15392a98c826",
   "metadata": {
    "tags": []
   },
   "outputs": [
    {
     "name": "stderr",
     "output_type": "stream",
     "text": [
      "[I 2023-08-20 14:03:43,439] A new study created in memory with name: no-name-64d00872-62d2-413d-96fb-29926d38494f\n"
     ]
    },
    {
     "name": "stdout",
     "output_type": "stream",
     "text": [
      "Trainer is running on: mps:0\n"
     ]
    },
    {
     "name": "stderr",
     "output_type": "stream",
     "text": [
      "/Users/anshulvij/opt/anaconda3/lib/python3.9/site-packages/transformers/optimization.py:411: FutureWarning: This implementation of AdamW is deprecated and will be removed in a future version. Use the PyTorch implementation torch.optim.AdamW instead, or set `no_deprecation_warning=True` to disable this warning\n",
      "  warnings.warn(\n"
     ]
    },
    {
     "data": {
      "text/html": [
       "\n",
       "    <div>\n",
       "      \n",
       "      <progress value='220' max='220' style='width:300px; height:20px; vertical-align: middle;'></progress>\n",
       "      [220/220 03:00, Epoch 10/10]\n",
       "    </div>\n",
       "    <table border=\"1\" class=\"dataframe\">\n",
       "  <thead>\n",
       " <tr style=\"text-align: left;\">\n",
       "      <th>Step</th>\n",
       "      <th>Training Loss</th>\n",
       "      <th>Validation Loss</th>\n",
       "    </tr>\n",
       "  </thead>\n",
       "  <tbody>\n",
       "  </tbody>\n",
       "</table><p>"
      ],
      "text/plain": [
       "<IPython.core.display.HTML object>"
      ]
     },
     "metadata": {},
     "output_type": "display_data"
    },
    {
     "data": {
      "text/html": [
       "\n",
       "    <div>\n",
       "      \n",
       "      <progress value='5' max='5' style='width:300px; height:20px; vertical-align: middle;'></progress>\n",
       "      [5/5 00:00]\n",
       "    </div>\n",
       "    "
      ],
      "text/plain": [
       "<IPython.core.display.HTML object>"
      ]
     },
     "metadata": {},
     "output_type": "display_data"
    },
    {
     "name": "stderr",
     "output_type": "stream",
     "text": [
      "[I 2023-08-20 14:06:49,157] Trial 0 finished with value: 0.7288135593220338 and parameters: {'num_train_epochs': 10, 'per_device_train_batch_size': 64, 'warmup_steps': 416, 'weight_decay': 0.0864178182365929, 'learning_rate': 4.006946584754387e-05}. Best is trial 0 with value: 0.7288135593220338.\n"
     ]
    },
    {
     "name": "stdout",
     "output_type": "stream",
     "text": [
      "Trainer is running on: mps:0\n"
     ]
    },
    {
     "name": "stderr",
     "output_type": "stream",
     "text": [
      "/Users/anshulvij/opt/anaconda3/lib/python3.9/site-packages/transformers/optimization.py:411: FutureWarning: This implementation of AdamW is deprecated and will be removed in a future version. Use the PyTorch implementation torch.optim.AdamW instead, or set `no_deprecation_warning=True` to disable this warning\n",
      "  warnings.warn(\n"
     ]
    },
    {
     "data": {
      "text/html": [
       "\n",
       "    <div>\n",
       "      \n",
       "      <progress value='516' max='516' style='width:300px; height:20px; vertical-align: middle;'></progress>\n",
       "      [516/516 02:15, Epoch 6/6]\n",
       "    </div>\n",
       "    <table border=\"1\" class=\"dataframe\">\n",
       "  <thead>\n",
       " <tr style=\"text-align: left;\">\n",
       "      <th>Step</th>\n",
       "      <th>Training Loss</th>\n",
       "      <th>Validation Loss</th>\n",
       "      <th>Accuracy</th>\n",
       "    </tr>\n",
       "  </thead>\n",
       "  <tbody>\n",
       "    <tr>\n",
       "      <td>250</td>\n",
       "      <td>0.725900</td>\n",
       "      <td>0.628299</td>\n",
       "      <td>0.755932</td>\n",
       "    </tr>\n",
       "    <tr>\n",
       "      <td>500</td>\n",
       "      <td>0.622800</td>\n",
       "      <td>0.582620</td>\n",
       "      <td>0.786441</td>\n",
       "    </tr>\n",
       "  </tbody>\n",
       "</table><p>"
      ],
      "text/plain": [
       "<IPython.core.display.HTML object>"
      ]
     },
     "metadata": {},
     "output_type": "display_data"
    },
    {
     "data": {
      "text/html": [
       "\n",
       "    <div>\n",
       "      \n",
       "      <progress value='5' max='5' style='width:300px; height:20px; vertical-align: middle;'></progress>\n",
       "      [5/5 00:00]\n",
       "    </div>\n",
       "    "
      ],
      "text/plain": [
       "<IPython.core.display.HTML object>"
      ]
     },
     "metadata": {},
     "output_type": "display_data"
    },
    {
     "name": "stderr",
     "output_type": "stream",
     "text": [
      "[I 2023-08-20 14:09:10,215] Trial 1 finished with value: 0.7864406779661017 and parameters: {'num_train_epochs': 6, 'per_device_train_batch_size': 16, 'warmup_steps': 178, 'weight_decay': 0.05953659664645361, 'learning_rate': 0.00011849058183535206}. Best is trial 1 with value: 0.7864406779661017.\n"
     ]
    },
    {
     "name": "stdout",
     "output_type": "stream",
     "text": [
      "Trainer is running on: mps:0\n"
     ]
    },
    {
     "name": "stderr",
     "output_type": "stream",
     "text": [
      "/Users/anshulvij/opt/anaconda3/lib/python3.9/site-packages/transformers/optimization.py:411: FutureWarning: This implementation of AdamW is deprecated and will be removed in a future version. Use the PyTorch implementation torch.optim.AdamW instead, or set `no_deprecation_warning=True` to disable this warning\n",
      "  warnings.warn(\n"
     ]
    },
    {
     "data": {
      "text/html": [
       "\n",
       "    <div>\n",
       "      \n",
       "      <progress value='344' max='344' style='width:300px; height:20px; vertical-align: middle;'></progress>\n",
       "      [344/344 01:00, Epoch 2/2]\n",
       "    </div>\n",
       "    <table border=\"1\" class=\"dataframe\">\n",
       "  <thead>\n",
       " <tr style=\"text-align: left;\">\n",
       "      <th>Step</th>\n",
       "      <th>Training Loss</th>\n",
       "      <th>Validation Loss</th>\n",
       "      <th>Accuracy</th>\n",
       "    </tr>\n",
       "  </thead>\n",
       "  <tbody>\n",
       "    <tr>\n",
       "      <td>250</td>\n",
       "      <td>0.770100</td>\n",
       "      <td>0.729751</td>\n",
       "      <td>0.725424</td>\n",
       "    </tr>\n",
       "  </tbody>\n",
       "</table><p>"
      ],
      "text/plain": [
       "<IPython.core.display.HTML object>"
      ]
     },
     "metadata": {},
     "output_type": "display_data"
    },
    {
     "data": {
      "text/html": [
       "\n",
       "    <div>\n",
       "      \n",
       "      <progress value='5' max='5' style='width:300px; height:20px; vertical-align: middle;'></progress>\n",
       "      [5/5 00:00]\n",
       "    </div>\n",
       "    "
      ],
      "text/plain": [
       "<IPython.core.display.HTML object>"
      ]
     },
     "metadata": {},
     "output_type": "display_data"
    },
    {
     "name": "stderr",
     "output_type": "stream",
     "text": [
      "[I 2023-08-20 14:10:16,189] Trial 2 finished with value: 0.7220338983050848 and parameters: {'num_train_epochs': 2, 'per_device_train_batch_size': 8, 'warmup_steps': 119, 'weight_decay': 0.026570422078083133, 'learning_rate': 1.9273357280023197e-05}. Best is trial 1 with value: 0.7864406779661017.\n"
     ]
    },
    {
     "name": "stdout",
     "output_type": "stream",
     "text": [
      "Trainer is running on: mps:0\n"
     ]
    },
    {
     "name": "stderr",
     "output_type": "stream",
     "text": [
      "/Users/anshulvij/opt/anaconda3/lib/python3.9/site-packages/transformers/optimization.py:411: FutureWarning: This implementation of AdamW is deprecated and will be removed in a future version. Use the PyTorch implementation torch.optim.AdamW instead, or set `no_deprecation_warning=True` to disable this warning\n",
      "  warnings.warn(\n"
     ]
    },
    {
     "data": {
      "text/html": [
       "\n",
       "    <div>\n",
       "      \n",
       "      <progress value='1548' max='1548' style='width:300px; height:20px; vertical-align: middle;'></progress>\n",
       "      [1548/1548 04:43, Epoch 9/9]\n",
       "    </div>\n",
       "    <table border=\"1\" class=\"dataframe\">\n",
       "  <thead>\n",
       " <tr style=\"text-align: left;\">\n",
       "      <th>Step</th>\n",
       "      <th>Training Loss</th>\n",
       "      <th>Validation Loss</th>\n",
       "      <th>Accuracy</th>\n",
       "    </tr>\n",
       "  </thead>\n",
       "  <tbody>\n",
       "    <tr>\n",
       "      <td>250</td>\n",
       "      <td>0.734000</td>\n",
       "      <td>0.663912</td>\n",
       "      <td>0.752542</td>\n",
       "    </tr>\n",
       "    <tr>\n",
       "      <td>500</td>\n",
       "      <td>0.653700</td>\n",
       "      <td>0.623177</td>\n",
       "      <td>0.772881</td>\n",
       "    </tr>\n",
       "    <tr>\n",
       "      <td>750</td>\n",
       "      <td>0.640300</td>\n",
       "      <td>0.596897</td>\n",
       "      <td>0.776271</td>\n",
       "    </tr>\n",
       "    <tr>\n",
       "      <td>1000</td>\n",
       "      <td>0.587800</td>\n",
       "      <td>0.584674</td>\n",
       "      <td>0.796610</td>\n",
       "    </tr>\n",
       "    <tr>\n",
       "      <td>1250</td>\n",
       "      <td>0.605400</td>\n",
       "      <td>0.574753</td>\n",
       "      <td>0.793220</td>\n",
       "    </tr>\n",
       "    <tr>\n",
       "      <td>1500</td>\n",
       "      <td>0.583100</td>\n",
       "      <td>0.570488</td>\n",
       "      <td>0.796610</td>\n",
       "    </tr>\n",
       "  </tbody>\n",
       "</table><p>"
      ],
      "text/plain": [
       "<IPython.core.display.HTML object>"
      ]
     },
     "metadata": {},
     "output_type": "display_data"
    },
    {
     "data": {
      "text/html": [
       "\n",
       "    <div>\n",
       "      \n",
       "      <progress value='5' max='5' style='width:300px; height:20px; vertical-align: middle;'></progress>\n",
       "      [5/5 00:00]\n",
       "    </div>\n",
       "    "
      ],
      "text/plain": [
       "<IPython.core.display.HTML object>"
      ]
     },
     "metadata": {},
     "output_type": "display_data"
    },
    {
     "name": "stderr",
     "output_type": "stream",
     "text": [
      "[I 2023-08-20 14:15:05,094] Trial 3 finished with value: 0.7966101694915254 and parameters: {'num_train_epochs': 9, 'per_device_train_batch_size': 8, 'warmup_steps': 35, 'weight_decay': 0.010844831774157916, 'learning_rate': 6.767340190117872e-05}. Best is trial 3 with value: 0.7966101694915254.\n"
     ]
    },
    {
     "name": "stdout",
     "output_type": "stream",
     "text": [
      "Trainer is running on: mps:0\n"
     ]
    },
    {
     "name": "stderr",
     "output_type": "stream",
     "text": [
      "/Users/anshulvij/opt/anaconda3/lib/python3.9/site-packages/transformers/optimization.py:411: FutureWarning: This implementation of AdamW is deprecated and will be removed in a future version. Use the PyTorch implementation torch.optim.AdamW instead, or set `no_deprecation_warning=True` to disable this warning\n",
      "  warnings.warn(\n"
     ]
    },
    {
     "data": {
      "text/html": [
       "\n",
       "    <div>\n",
       "      \n",
       "      <progress value='344' max='344' style='width:300px; height:20px; vertical-align: middle;'></progress>\n",
       "      [344/344 01:00, Epoch 2/2]\n",
       "    </div>\n",
       "    <table border=\"1\" class=\"dataframe\">\n",
       "  <thead>\n",
       " <tr style=\"text-align: left;\">\n",
       "      <th>Step</th>\n",
       "      <th>Training Loss</th>\n",
       "      <th>Validation Loss</th>\n",
       "      <th>Accuracy</th>\n",
       "    </tr>\n",
       "  </thead>\n",
       "  <tbody>\n",
       "    <tr>\n",
       "      <td>250</td>\n",
       "      <td>0.728000</td>\n",
       "      <td>0.573361</td>\n",
       "      <td>0.779661</td>\n",
       "    </tr>\n",
       "  </tbody>\n",
       "</table><p>"
      ],
      "text/plain": [
       "<IPython.core.display.HTML object>"
      ]
     },
     "metadata": {},
     "output_type": "display_data"
    },
    {
     "data": {
      "text/html": [
       "\n",
       "    <div>\n",
       "      \n",
       "      <progress value='5' max='5' style='width:300px; height:20px; vertical-align: middle;'></progress>\n",
       "      [5/5 00:00]\n",
       "    </div>\n",
       "    "
      ],
      "text/plain": [
       "<IPython.core.display.HTML object>"
      ]
     },
     "metadata": {},
     "output_type": "display_data"
    },
    {
     "name": "stderr",
     "output_type": "stream",
     "text": [
      "[I 2023-08-20 14:16:11,042] Trial 4 finished with value: 0.8101694915254237 and parameters: {'num_train_epochs': 2, 'per_device_train_batch_size': 8, 'warmup_steps': 451, 'weight_decay': 0.022720293054870666, 'learning_rate': 0.000693522105434715}. Best is trial 4 with value: 0.8101694915254237.\n"
     ]
    },
    {
     "name": "stdout",
     "output_type": "stream",
     "text": [
      "Trainer is running on: mps:0\n"
     ]
    },
    {
     "name": "stderr",
     "output_type": "stream",
     "text": [
      "/Users/anshulvij/opt/anaconda3/lib/python3.9/site-packages/transformers/optimization.py:411: FutureWarning: This implementation of AdamW is deprecated and will be removed in a future version. Use the PyTorch implementation torch.optim.AdamW instead, or set `no_deprecation_warning=True` to disable this warning\n",
      "  warnings.warn(\n"
     ]
    },
    {
     "data": {
      "text/html": [
       "\n",
       "    <div>\n",
       "      \n",
       "      <progress value='344' max='344' style='width:300px; height:20px; vertical-align: middle;'></progress>\n",
       "      [344/344 01:00, Epoch 2/2]\n",
       "    </div>\n",
       "    <table border=\"1\" class=\"dataframe\">\n",
       "  <thead>\n",
       " <tr style=\"text-align: left;\">\n",
       "      <th>Step</th>\n",
       "      <th>Training Loss</th>\n",
       "      <th>Validation Loss</th>\n",
       "      <th>Accuracy</th>\n",
       "    </tr>\n",
       "  </thead>\n",
       "  <tbody>\n",
       "    <tr>\n",
       "      <td>250</td>\n",
       "      <td>0.748100</td>\n",
       "      <td>0.685002</td>\n",
       "      <td>0.738983</td>\n",
       "    </tr>\n",
       "  </tbody>\n",
       "</table><p>"
      ],
      "text/plain": [
       "<IPython.core.display.HTML object>"
      ]
     },
     "metadata": {},
     "output_type": "display_data"
    },
    {
     "data": {
      "text/html": [
       "\n",
       "    <div>\n",
       "      \n",
       "      <progress value='5' max='5' style='width:300px; height:20px; vertical-align: middle;'></progress>\n",
       "      [5/5 00:00]\n",
       "    </div>\n",
       "    "
      ],
      "text/plain": [
       "<IPython.core.display.HTML object>"
      ]
     },
     "metadata": {},
     "output_type": "display_data"
    },
    {
     "name": "stderr",
     "output_type": "stream",
     "text": [
      "[I 2023-08-20 14:17:16,863] Trial 5 finished with value: 0.7559322033898305 and parameters: {'num_train_epochs': 2, 'per_device_train_batch_size': 8, 'warmup_steps': 317, 'weight_decay': 0.02136262824388965, 'learning_rate': 0.0001013144918873407}. Best is trial 4 with value: 0.8101694915254237.\n"
     ]
    },
    {
     "name": "stdout",
     "output_type": "stream",
     "text": [
      "Trainer is running on: mps:0\n"
     ]
    },
    {
     "name": "stderr",
     "output_type": "stream",
     "text": [
      "/Users/anshulvij/opt/anaconda3/lib/python3.9/site-packages/transformers/optimization.py:411: FutureWarning: This implementation of AdamW is deprecated and will be removed in a future version. Use the PyTorch implementation torch.optim.AdamW instead, or set `no_deprecation_warning=True` to disable this warning\n",
      "  warnings.warn(\n"
     ]
    },
    {
     "data": {
      "text/html": [
       "\n",
       "    <div>\n",
       "      \n",
       "      <progress value='154' max='154' style='width:300px; height:20px; vertical-align: middle;'></progress>\n",
       "      [154/154 02:05, Epoch 7/7]\n",
       "    </div>\n",
       "    <table border=\"1\" class=\"dataframe\">\n",
       "  <thead>\n",
       " <tr style=\"text-align: left;\">\n",
       "      <th>Step</th>\n",
       "      <th>Training Loss</th>\n",
       "      <th>Validation Loss</th>\n",
       "    </tr>\n",
       "  </thead>\n",
       "  <tbody>\n",
       "  </tbody>\n",
       "</table><p>"
      ],
      "text/plain": [
       "<IPython.core.display.HTML object>"
      ]
     },
     "metadata": {},
     "output_type": "display_data"
    },
    {
     "data": {
      "text/html": [
       "\n",
       "    <div>\n",
       "      \n",
       "      <progress value='5' max='5' style='width:300px; height:20px; vertical-align: middle;'></progress>\n",
       "      [5/5 00:00]\n",
       "    </div>\n",
       "    "
      ],
      "text/plain": [
       "<IPython.core.display.HTML object>"
      ]
     },
     "metadata": {},
     "output_type": "display_data"
    },
    {
     "name": "stderr",
     "output_type": "stream",
     "text": [
      "[I 2023-08-20 14:19:27,571] Trial 6 finished with value: 0.8372881355932204 and parameters: {'num_train_epochs': 7, 'per_device_train_batch_size': 64, 'warmup_steps': 50, 'weight_decay': 0.06290031023039559, 'learning_rate': 0.0023661656003565383}. Best is trial 6 with value: 0.8372881355932204.\n"
     ]
    },
    {
     "name": "stdout",
     "output_type": "stream",
     "text": [
      "Trainer is running on: mps:0\n"
     ]
    },
    {
     "name": "stderr",
     "output_type": "stream",
     "text": [
      "/Users/anshulvij/opt/anaconda3/lib/python3.9/site-packages/transformers/optimization.py:411: FutureWarning: This implementation of AdamW is deprecated and will be removed in a future version. Use the PyTorch implementation torch.optim.AdamW instead, or set `no_deprecation_warning=True` to disable this warning\n",
      "  warnings.warn(\n"
     ]
    },
    {
     "data": {
      "text/html": [
       "\n",
       "    <div>\n",
       "      \n",
       "      <progress value='430' max='430' style='width:300px; height:20px; vertical-align: middle;'></progress>\n",
       "      [430/430 03:17, Epoch 10/10]\n",
       "    </div>\n",
       "    <table border=\"1\" class=\"dataframe\">\n",
       "  <thead>\n",
       " <tr style=\"text-align: left;\">\n",
       "      <th>Step</th>\n",
       "      <th>Training Loss</th>\n",
       "      <th>Validation Loss</th>\n",
       "      <th>Accuracy</th>\n",
       "    </tr>\n",
       "  </thead>\n",
       "  <tbody>\n",
       "    <tr>\n",
       "      <td>250</td>\n",
       "      <td>0.777200</td>\n",
       "      <td>0.725944</td>\n",
       "      <td>0.732203</td>\n",
       "    </tr>\n",
       "  </tbody>\n",
       "</table><p>"
      ],
      "text/plain": [
       "<IPython.core.display.HTML object>"
      ]
     },
     "metadata": {},
     "output_type": "display_data"
    },
    {
     "data": {
      "text/html": [
       "\n",
       "    <div>\n",
       "      \n",
       "      <progress value='5' max='5' style='width:300px; height:20px; vertical-align: middle;'></progress>\n",
       "      [5/5 00:00]\n",
       "    </div>\n",
       "    "
      ],
      "text/plain": [
       "<IPython.core.display.HTML object>"
      ]
     },
     "metadata": {},
     "output_type": "display_data"
    },
    {
     "name": "stderr",
     "output_type": "stream",
     "text": [
      "[I 2023-08-20 14:22:51,830] Trial 7 finished with value: 0.735593220338983 and parameters: {'num_train_epochs': 10, 'per_device_train_batch_size': 32, 'warmup_steps': 323, 'weight_decay': 0.08995642429250524, 'learning_rate': 1.7017878712098978e-05}. Best is trial 6 with value: 0.8372881355932204.\n"
     ]
    },
    {
     "name": "stdout",
     "output_type": "stream",
     "text": [
      "Trainer is running on: mps:0\n"
     ]
    },
    {
     "name": "stderr",
     "output_type": "stream",
     "text": [
      "/Users/anshulvij/opt/anaconda3/lib/python3.9/site-packages/transformers/optimization.py:411: FutureWarning: This implementation of AdamW is deprecated and will be removed in a future version. Use the PyTorch implementation torch.optim.AdamW instead, or set `no_deprecation_warning=True` to disable this warning\n",
      "  warnings.warn(\n"
     ]
    },
    {
     "data": {
      "text/html": [
       "\n",
       "    <div>\n",
       "      \n",
       "      <progress value='688' max='688' style='width:300px; height:20px; vertical-align: middle;'></progress>\n",
       "      [688/688 02:04, Epoch 4/4]\n",
       "    </div>\n",
       "    <table border=\"1\" class=\"dataframe\">\n",
       "  <thead>\n",
       " <tr style=\"text-align: left;\">\n",
       "      <th>Step</th>\n",
       "      <th>Training Loss</th>\n",
       "      <th>Validation Loss</th>\n",
       "      <th>Accuracy</th>\n",
       "    </tr>\n",
       "  </thead>\n",
       "  <tbody>\n",
       "    <tr>\n",
       "      <td>250</td>\n",
       "      <td>0.637900</td>\n",
       "      <td>0.476743</td>\n",
       "      <td>0.823729</td>\n",
       "    </tr>\n",
       "    <tr>\n",
       "      <td>500</td>\n",
       "      <td>0.678900</td>\n",
       "      <td>0.862941</td>\n",
       "      <td>0.708475</td>\n",
       "    </tr>\n",
       "  </tbody>\n",
       "</table><p>"
      ],
      "text/plain": [
       "<IPython.core.display.HTML object>"
      ]
     },
     "metadata": {},
     "output_type": "display_data"
    },
    {
     "data": {
      "text/html": [
       "\n",
       "    <div>\n",
       "      \n",
       "      <progress value='5' max='5' style='width:300px; height:20px; vertical-align: middle;'></progress>\n",
       "      [5/5 00:00]\n",
       "    </div>\n",
       "    "
      ],
      "text/plain": [
       "<IPython.core.display.HTML object>"
      ]
     },
     "metadata": {},
     "output_type": "display_data"
    },
    {
     "name": "stderr",
     "output_type": "stream",
     "text": [
      "[I 2023-08-20 14:25:01,930] Trial 8 finished with value: 0.7084745762711865 and parameters: {'num_train_epochs': 4, 'per_device_train_batch_size': 8, 'warmup_steps': 480, 'weight_decay': 0.008707000793174813, 'learning_rate': 0.006649994678744354}. Best is trial 6 with value: 0.8372881355932204.\n"
     ]
    },
    {
     "name": "stdout",
     "output_type": "stream",
     "text": [
      "Trainer is running on: mps:0\n"
     ]
    },
    {
     "name": "stderr",
     "output_type": "stream",
     "text": [
      "/Users/anshulvij/opt/anaconda3/lib/python3.9/site-packages/transformers/optimization.py:411: FutureWarning: This implementation of AdamW is deprecated and will be removed in a future version. Use the PyTorch implementation torch.optim.AdamW instead, or set `no_deprecation_warning=True` to disable this warning\n",
      "  warnings.warn(\n"
     ]
    },
    {
     "data": {
      "text/html": [
       "\n",
       "    <div>\n",
       "      \n",
       "      <progress value='344' max='344' style='width:300px; height:20px; vertical-align: middle;'></progress>\n",
       "      [344/344 02:36, Epoch 8/8]\n",
       "    </div>\n",
       "    <table border=\"1\" class=\"dataframe\">\n",
       "  <thead>\n",
       " <tr style=\"text-align: left;\">\n",
       "      <th>Step</th>\n",
       "      <th>Training Loss</th>\n",
       "      <th>Validation Loss</th>\n",
       "      <th>Accuracy</th>\n",
       "    </tr>\n",
       "  </thead>\n",
       "  <tbody>\n",
       "    <tr>\n",
       "      <td>250</td>\n",
       "      <td>0.698300</td>\n",
       "      <td>0.576298</td>\n",
       "      <td>0.783051</td>\n",
       "    </tr>\n",
       "  </tbody>\n",
       "</table><p>"
      ],
      "text/plain": [
       "<IPython.core.display.HTML object>"
      ]
     },
     "metadata": {},
     "output_type": "display_data"
    },
    {
     "data": {
      "text/html": [
       "\n",
       "    <div>\n",
       "      \n",
       "      <progress value='5' max='5' style='width:300px; height:20px; vertical-align: middle;'></progress>\n",
       "      [5/5 00:00]\n",
       "    </div>\n",
       "    "
      ],
      "text/plain": [
       "<IPython.core.display.HTML object>"
      ]
     },
     "metadata": {},
     "output_type": "display_data"
    },
    {
     "name": "stderr",
     "output_type": "stream",
     "text": [
      "[I 2023-08-20 14:27:43,866] Trial 9 finished with value: 0.8033898305084746 and parameters: {'num_train_epochs': 8, 'per_device_train_batch_size': 32, 'warmup_steps': 416, 'weight_decay': 0.09149230988250258, 'learning_rate': 0.0003429655698153725}. Best is trial 6 with value: 0.8372881355932204.\n"
     ]
    },
    {
     "name": "stdout",
     "output_type": "stream",
     "text": [
      "Trainer is running on: mps:0\n"
     ]
    },
    {
     "name": "stderr",
     "output_type": "stream",
     "text": [
      "/Users/anshulvij/opt/anaconda3/lib/python3.9/site-packages/transformers/optimization.py:411: FutureWarning: This implementation of AdamW is deprecated and will be removed in a future version. Use the PyTorch implementation torch.optim.AdamW instead, or set `no_deprecation_warning=True` to disable this warning\n",
      "  warnings.warn(\n"
     ]
    },
    {
     "data": {
      "text/html": [
       "\n",
       "    <div>\n",
       "      \n",
       "      <progress value='132' max='132' style='width:300px; height:20px; vertical-align: middle;'></progress>\n",
       "      [132/132 01:46, Epoch 6/6]\n",
       "    </div>\n",
       "    <table border=\"1\" class=\"dataframe\">\n",
       "  <thead>\n",
       " <tr style=\"text-align: left;\">\n",
       "      <th>Step</th>\n",
       "      <th>Training Loss</th>\n",
       "      <th>Validation Loss</th>\n",
       "    </tr>\n",
       "  </thead>\n",
       "  <tbody>\n",
       "  </tbody>\n",
       "</table><p>"
      ],
      "text/plain": [
       "<IPython.core.display.HTML object>"
      ]
     },
     "metadata": {},
     "output_type": "display_data"
    },
    {
     "data": {
      "text/html": [
       "\n",
       "    <div>\n",
       "      \n",
       "      <progress value='5' max='5' style='width:300px; height:20px; vertical-align: middle;'></progress>\n",
       "      [5/5 00:00]\n",
       "    </div>\n",
       "    "
      ],
      "text/plain": [
       "<IPython.core.display.HTML object>"
      ]
     },
     "metadata": {},
     "output_type": "display_data"
    },
    {
     "name": "stderr",
     "output_type": "stream",
     "text": [
      "[I 2023-08-20 14:29:36,131] Trial 10 finished with value: 0.8440677966101695 and parameters: {'num_train_epochs': 6, 'per_device_train_batch_size': 64, 'warmup_steps': 15, 'weight_decay': 0.056417565762603525, 'learning_rate': 0.0025972802613795243}. Best is trial 10 with value: 0.8440677966101695.\n"
     ]
    },
    {
     "name": "stdout",
     "output_type": "stream",
     "text": [
      "Trainer is running on: mps:0\n"
     ]
    },
    {
     "name": "stderr",
     "output_type": "stream",
     "text": [
      "/Users/anshulvij/opt/anaconda3/lib/python3.9/site-packages/transformers/optimization.py:411: FutureWarning: This implementation of AdamW is deprecated and will be removed in a future version. Use the PyTorch implementation torch.optim.AdamW instead, or set `no_deprecation_warning=True` to disable this warning\n",
      "  warnings.warn(\n"
     ]
    },
    {
     "data": {
      "text/html": [
       "\n",
       "    <div>\n",
       "      \n",
       "      <progress value='132' max='132' style='width:300px; height:20px; vertical-align: middle;'></progress>\n",
       "      [132/132 01:47, Epoch 6/6]\n",
       "    </div>\n",
       "    <table border=\"1\" class=\"dataframe\">\n",
       "  <thead>\n",
       " <tr style=\"text-align: left;\">\n",
       "      <th>Step</th>\n",
       "      <th>Training Loss</th>\n",
       "      <th>Validation Loss</th>\n",
       "    </tr>\n",
       "  </thead>\n",
       "  <tbody>\n",
       "  </tbody>\n",
       "</table><p>"
      ],
      "text/plain": [
       "<IPython.core.display.HTML object>"
      ]
     },
     "metadata": {},
     "output_type": "display_data"
    },
    {
     "data": {
      "text/html": [
       "\n",
       "    <div>\n",
       "      \n",
       "      <progress value='5' max='5' style='width:300px; height:20px; vertical-align: middle;'></progress>\n",
       "      [5/5 00:00]\n",
       "    </div>\n",
       "    "
      ],
      "text/plain": [
       "<IPython.core.display.HTML object>"
      ]
     },
     "metadata": {},
     "output_type": "display_data"
    },
    {
     "name": "stderr",
     "output_type": "stream",
     "text": [
      "[I 2023-08-20 14:31:27,753] Trial 11 finished with value: 0.8406779661016949 and parameters: {'num_train_epochs': 6, 'per_device_train_batch_size': 64, 'warmup_steps': 6, 'weight_decay': 0.057167535327949846, 'learning_rate': 0.0026892793271674504}. Best is trial 10 with value: 0.8440677966101695.\n"
     ]
    },
    {
     "name": "stdout",
     "output_type": "stream",
     "text": [
      "Trainer is running on: mps:0\n"
     ]
    },
    {
     "name": "stderr",
     "output_type": "stream",
     "text": [
      "/Users/anshulvij/opt/anaconda3/lib/python3.9/site-packages/transformers/optimization.py:411: FutureWarning: This implementation of AdamW is deprecated and will be removed in a future version. Use the PyTorch implementation torch.optim.AdamW instead, or set `no_deprecation_warning=True` to disable this warning\n",
      "  warnings.warn(\n"
     ]
    },
    {
     "data": {
      "text/html": [
       "\n",
       "    <div>\n",
       "      \n",
       "      <progress value='110' max='110' style='width:300px; height:20px; vertical-align: middle;'></progress>\n",
       "      [110/110 01:28, Epoch 5/5]\n",
       "    </div>\n",
       "    <table border=\"1\" class=\"dataframe\">\n",
       "  <thead>\n",
       " <tr style=\"text-align: left;\">\n",
       "      <th>Step</th>\n",
       "      <th>Training Loss</th>\n",
       "      <th>Validation Loss</th>\n",
       "    </tr>\n",
       "  </thead>\n",
       "  <tbody>\n",
       "  </tbody>\n",
       "</table><p>"
      ],
      "text/plain": [
       "<IPython.core.display.HTML object>"
      ]
     },
     "metadata": {},
     "output_type": "display_data"
    },
    {
     "data": {
      "text/html": [
       "\n",
       "    <div>\n",
       "      \n",
       "      <progress value='5' max='5' style='width:300px; height:20px; vertical-align: middle;'></progress>\n",
       "      [5/5 00:00]\n",
       "    </div>\n",
       "    "
      ],
      "text/plain": [
       "<IPython.core.display.HTML object>"
      ]
     },
     "metadata": {},
     "output_type": "display_data"
    },
    {
     "name": "stderr",
     "output_type": "stream",
     "text": [
      "[I 2023-08-20 14:33:01,433] Trial 12 finished with value: 0.847457627118644 and parameters: {'num_train_epochs': 5, 'per_device_train_batch_size': 64, 'warmup_steps': 2, 'weight_decay': 0.044354486614017856, 'learning_rate': 0.001563057658262979}. Best is trial 12 with value: 0.847457627118644.\n"
     ]
    },
    {
     "name": "stdout",
     "output_type": "stream",
     "text": [
      "Trainer is running on: mps:0\n"
     ]
    },
    {
     "name": "stderr",
     "output_type": "stream",
     "text": [
      "/Users/anshulvij/opt/anaconda3/lib/python3.9/site-packages/transformers/optimization.py:411: FutureWarning: This implementation of AdamW is deprecated and will be removed in a future version. Use the PyTorch implementation torch.optim.AdamW instead, or set `no_deprecation_warning=True` to disable this warning\n",
      "  warnings.warn(\n"
     ]
    },
    {
     "data": {
      "text/html": [
       "\n",
       "    <div>\n",
       "      \n",
       "      <progress value='110' max='110' style='width:300px; height:20px; vertical-align: middle;'></progress>\n",
       "      [110/110 01:28, Epoch 5/5]\n",
       "    </div>\n",
       "    <table border=\"1\" class=\"dataframe\">\n",
       "  <thead>\n",
       " <tr style=\"text-align: left;\">\n",
       "      <th>Step</th>\n",
       "      <th>Training Loss</th>\n",
       "      <th>Validation Loss</th>\n",
       "    </tr>\n",
       "  </thead>\n",
       "  <tbody>\n",
       "  </tbody>\n",
       "</table><p>"
      ],
      "text/plain": [
       "<IPython.core.display.HTML object>"
      ]
     },
     "metadata": {},
     "output_type": "display_data"
    },
    {
     "data": {
      "text/html": [
       "\n",
       "    <div>\n",
       "      \n",
       "      <progress value='5' max='5' style='width:300px; height:20px; vertical-align: middle;'></progress>\n",
       "      [5/5 00:00]\n",
       "    </div>\n",
       "    "
      ],
      "text/plain": [
       "<IPython.core.display.HTML object>"
      ]
     },
     "metadata": {},
     "output_type": "display_data"
    },
    {
     "name": "stderr",
     "output_type": "stream",
     "text": [
      "[I 2023-08-20 14:34:35,089] Trial 13 finished with value: 0.8203389830508474 and parameters: {'num_train_epochs': 5, 'per_device_train_batch_size': 64, 'warmup_steps': 117, 'weight_decay': 0.040528565735494876, 'learning_rate': 0.0011243495127365526}. Best is trial 12 with value: 0.847457627118644.\n"
     ]
    },
    {
     "name": "stdout",
     "output_type": "stream",
     "text": [
      "Trainer is running on: mps:0\n"
     ]
    },
    {
     "name": "stderr",
     "output_type": "stream",
     "text": [
      "/Users/anshulvij/opt/anaconda3/lib/python3.9/site-packages/transformers/optimization.py:411: FutureWarning: This implementation of AdamW is deprecated and will be removed in a future version. Use the PyTorch implementation torch.optim.AdamW instead, or set `no_deprecation_warning=True` to disable this warning\n",
      "  warnings.warn(\n"
     ]
    },
    {
     "data": {
      "text/html": [
       "\n",
       "    <div>\n",
       "      \n",
       "      <progress value='88' max='88' style='width:300px; height:20px; vertical-align: middle;'></progress>\n",
       "      [88/88 01:11, Epoch 4/4]\n",
       "    </div>\n",
       "    <table border=\"1\" class=\"dataframe\">\n",
       "  <thead>\n",
       " <tr style=\"text-align: left;\">\n",
       "      <th>Step</th>\n",
       "      <th>Training Loss</th>\n",
       "      <th>Validation Loss</th>\n",
       "    </tr>\n",
       "  </thead>\n",
       "  <tbody>\n",
       "  </tbody>\n",
       "</table><p>"
      ],
      "text/plain": [
       "<IPython.core.display.HTML object>"
      ]
     },
     "metadata": {},
     "output_type": "display_data"
    },
    {
     "data": {
      "text/html": [
       "\n",
       "    <div>\n",
       "      \n",
       "      <progress value='5' max='5' style='width:300px; height:20px; vertical-align: middle;'></progress>\n",
       "      [5/5 00:00]\n",
       "    </div>\n",
       "    "
      ],
      "text/plain": [
       "<IPython.core.display.HTML object>"
      ]
     },
     "metadata": {},
     "output_type": "display_data"
    },
    {
     "name": "stderr",
     "output_type": "stream",
     "text": [
      "[I 2023-08-20 14:35:50,747] Trial 14 finished with value: 0.7932203389830509 and parameters: {'num_train_epochs': 4, 'per_device_train_batch_size': 64, 'warmup_steps': 210, 'weight_decay': 0.0436981404230062, 'learning_rate': 0.007770263469183684}. Best is trial 12 with value: 0.847457627118644.\n"
     ]
    },
    {
     "name": "stdout",
     "output_type": "stream",
     "text": [
      "Trainer is running on: mps:0\n"
     ]
    },
    {
     "name": "stderr",
     "output_type": "stream",
     "text": [
      "/Users/anshulvij/opt/anaconda3/lib/python3.9/site-packages/transformers/optimization.py:411: FutureWarning: This implementation of AdamW is deprecated and will be removed in a future version. Use the PyTorch implementation torch.optim.AdamW instead, or set `no_deprecation_warning=True` to disable this warning\n",
      "  warnings.warn(\n"
     ]
    },
    {
     "data": {
      "text/html": [
       "\n",
       "    <div>\n",
       "      \n",
       "      <progress value='344' max='344' style='width:300px; height:20px; vertical-align: middle;'></progress>\n",
       "      [344/344 01:28, Epoch 4/4]\n",
       "    </div>\n",
       "    <table border=\"1\" class=\"dataframe\">\n",
       "  <thead>\n",
       " <tr style=\"text-align: left;\">\n",
       "      <th>Step</th>\n",
       "      <th>Training Loss</th>\n",
       "      <th>Validation Loss</th>\n",
       "      <th>Accuracy</th>\n",
       "    </tr>\n",
       "  </thead>\n",
       "  <tbody>\n",
       "    <tr>\n",
       "      <td>250</td>\n",
       "      <td>0.533000</td>\n",
       "      <td>0.451679</td>\n",
       "      <td>0.844068</td>\n",
       "    </tr>\n",
       "  </tbody>\n",
       "</table><p>"
      ],
      "text/plain": [
       "<IPython.core.display.HTML object>"
      ]
     },
     "metadata": {},
     "output_type": "display_data"
    },
    {
     "data": {
      "text/html": [
       "\n",
       "    <div>\n",
       "      \n",
       "      <progress value='5' max='5' style='width:300px; height:20px; vertical-align: middle;'></progress>\n",
       "      [5/5 00:00]\n",
       "    </div>\n",
       "    "
      ],
      "text/plain": [
       "<IPython.core.display.HTML object>"
      ]
     },
     "metadata": {},
     "output_type": "display_data"
    },
    {
     "name": "stderr",
     "output_type": "stream",
     "text": [
      "[I 2023-08-20 14:37:24,430] Trial 15 finished with value: 0.847457627118644 and parameters: {'num_train_epochs': 4, 'per_device_train_batch_size': 16, 'warmup_steps': 64, 'weight_decay': 0.07319688927984164, 'learning_rate': 0.0017434571888229327}. Best is trial 12 with value: 0.847457627118644.\n"
     ]
    },
    {
     "name": "stdout",
     "output_type": "stream",
     "text": [
      "Trainer is running on: mps:0\n"
     ]
    },
    {
     "name": "stderr",
     "output_type": "stream",
     "text": [
      "/Users/anshulvij/opt/anaconda3/lib/python3.9/site-packages/transformers/optimization.py:411: FutureWarning: This implementation of AdamW is deprecated and will be removed in a future version. Use the PyTorch implementation torch.optim.AdamW instead, or set `no_deprecation_warning=True` to disable this warning\n",
      "  warnings.warn(\n"
     ]
    },
    {
     "data": {
      "text/html": [
       "\n",
       "    <div>\n",
       "      \n",
       "      <progress value='344' max='344' style='width:300px; height:20px; vertical-align: middle;'></progress>\n",
       "      [344/344 01:28, Epoch 4/4]\n",
       "    </div>\n",
       "    <table border=\"1\" class=\"dataframe\">\n",
       "  <thead>\n",
       " <tr style=\"text-align: left;\">\n",
       "      <th>Step</th>\n",
       "      <th>Training Loss</th>\n",
       "      <th>Validation Loss</th>\n",
       "      <th>Accuracy</th>\n",
       "    </tr>\n",
       "  </thead>\n",
       "  <tbody>\n",
       "    <tr>\n",
       "      <td>250</td>\n",
       "      <td>0.661400</td>\n",
       "      <td>0.534650</td>\n",
       "      <td>0.786441</td>\n",
       "    </tr>\n",
       "  </tbody>\n",
       "</table><p>"
      ],
      "text/plain": [
       "<IPython.core.display.HTML object>"
      ]
     },
     "metadata": {},
     "output_type": "display_data"
    },
    {
     "data": {
      "text/html": [
       "\n",
       "    <div>\n",
       "      \n",
       "      <progress value='5' max='5' style='width:300px; height:20px; vertical-align: middle;'></progress>\n",
       "      [5/5 00:00]\n",
       "    </div>\n",
       "    "
      ],
      "text/plain": [
       "<IPython.core.display.HTML object>"
      ]
     },
     "metadata": {},
     "output_type": "display_data"
    },
    {
     "name": "stderr",
     "output_type": "stream",
     "text": [
      "[I 2023-08-20 14:38:57,014] Trial 16 finished with value: 0.8 and parameters: {'num_train_epochs': 4, 'per_device_train_batch_size': 16, 'warmup_steps': 114, 'weight_decay': 0.07420377247352274, 'learning_rate': 0.0003789009741885353}. Best is trial 12 with value: 0.847457627118644.\n"
     ]
    },
    {
     "name": "stdout",
     "output_type": "stream",
     "text": [
      "Trainer is running on: mps:0\n"
     ]
    },
    {
     "name": "stderr",
     "output_type": "stream",
     "text": [
      "/Users/anshulvij/opt/anaconda3/lib/python3.9/site-packages/transformers/optimization.py:411: FutureWarning: This implementation of AdamW is deprecated and will be removed in a future version. Use the PyTorch implementation torch.optim.AdamW instead, or set `no_deprecation_warning=True` to disable this warning\n",
      "  warnings.warn(\n"
     ]
    },
    {
     "data": {
      "text/html": [
       "\n",
       "    <div>\n",
       "      \n",
       "      <progress value='86' max='86' style='width:300px; height:20px; vertical-align: middle;'></progress>\n",
       "      [86/86 00:21, Epoch 1/1]\n",
       "    </div>\n",
       "    <table border=\"1\" class=\"dataframe\">\n",
       "  <thead>\n",
       " <tr style=\"text-align: left;\">\n",
       "      <th>Step</th>\n",
       "      <th>Training Loss</th>\n",
       "      <th>Validation Loss</th>\n",
       "    </tr>\n",
       "  </thead>\n",
       "  <tbody>\n",
       "  </tbody>\n",
       "</table><p>"
      ],
      "text/plain": [
       "<IPython.core.display.HTML object>"
      ]
     },
     "metadata": {},
     "output_type": "display_data"
    },
    {
     "data": {
      "text/html": [
       "\n",
       "    <div>\n",
       "      \n",
       "      <progress value='5' max='5' style='width:300px; height:20px; vertical-align: middle;'></progress>\n",
       "      [5/5 00:00]\n",
       "    </div>\n",
       "    "
      ],
      "text/plain": [
       "<IPython.core.display.HTML object>"
      ]
     },
     "metadata": {},
     "output_type": "display_data"
    },
    {
     "name": "stderr",
     "output_type": "stream",
     "text": [
      "[I 2023-08-20 14:39:23,562] Trial 17 finished with value: 0.7796610169491526 and parameters: {'num_train_epochs': 1, 'per_device_train_batch_size': 16, 'warmup_steps': 72, 'weight_decay': 0.07226682160699228, 'learning_rate': 0.0009866176116726621}. Best is trial 12 with value: 0.847457627118644.\n"
     ]
    },
    {
     "name": "stdout",
     "output_type": "stream",
     "text": [
      "Trainer is running on: mps:0\n"
     ]
    },
    {
     "name": "stderr",
     "output_type": "stream",
     "text": [
      "/Users/anshulvij/opt/anaconda3/lib/python3.9/site-packages/transformers/optimization.py:411: FutureWarning: This implementation of AdamW is deprecated and will be removed in a future version. Use the PyTorch implementation torch.optim.AdamW instead, or set `no_deprecation_warning=True` to disable this warning\n",
      "  warnings.warn(\n"
     ]
    },
    {
     "data": {
      "text/html": [
       "\n",
       "    <div>\n",
       "      \n",
       "      <progress value='258' max='258' style='width:300px; height:20px; vertical-align: middle;'></progress>\n",
       "      [258/258 01:06, Epoch 3/3]\n",
       "    </div>\n",
       "    <table border=\"1\" class=\"dataframe\">\n",
       "  <thead>\n",
       " <tr style=\"text-align: left;\">\n",
       "      <th>Step</th>\n",
       "      <th>Training Loss</th>\n",
       "      <th>Validation Loss</th>\n",
       "      <th>Accuracy</th>\n",
       "    </tr>\n",
       "  </thead>\n",
       "  <tbody>\n",
       "    <tr>\n",
       "      <td>250</td>\n",
       "      <td>0.713500</td>\n",
       "      <td>0.595898</td>\n",
       "      <td>0.793220</td>\n",
       "    </tr>\n",
       "  </tbody>\n",
       "</table><p>"
      ],
      "text/plain": [
       "<IPython.core.display.HTML object>"
      ]
     },
     "metadata": {},
     "output_type": "display_data"
    },
    {
     "data": {
      "text/html": [
       "\n",
       "    <div>\n",
       "      \n",
       "      <progress value='5' max='5' style='width:300px; height:20px; vertical-align: middle;'></progress>\n",
       "      [5/5 00:00]\n",
       "    </div>\n",
       "    "
      ],
      "text/plain": [
       "<IPython.core.display.HTML object>"
      ]
     },
     "metadata": {},
     "output_type": "display_data"
    },
    {
     "name": "stderr",
     "output_type": "stream",
     "text": [
      "[I 2023-08-20 14:40:34,912] Trial 18 finished with value: 0.7898305084745763 and parameters: {'num_train_epochs': 3, 'per_device_train_batch_size': 16, 'warmup_steps': 183, 'weight_decay': 0.04466878791057916, 'learning_rate': 0.00019468942253228117}. Best is trial 12 with value: 0.847457627118644.\n"
     ]
    },
    {
     "name": "stdout",
     "output_type": "stream",
     "text": [
      "Trainer is running on: mps:0\n"
     ]
    },
    {
     "name": "stderr",
     "output_type": "stream",
     "text": [
      "/Users/anshulvij/opt/anaconda3/lib/python3.9/site-packages/transformers/optimization.py:411: FutureWarning: This implementation of AdamW is deprecated and will be removed in a future version. Use the PyTorch implementation torch.optim.AdamW instead, or set `no_deprecation_warning=True` to disable this warning\n",
      "  warnings.warn(\n"
     ]
    },
    {
     "data": {
      "text/html": [
       "\n",
       "    <div>\n",
       "      \n",
       "      <progress value='430' max='430' style='width:300px; height:20px; vertical-align: middle;'></progress>\n",
       "      [430/430 01:49, Epoch 5/5]\n",
       "    </div>\n",
       "    <table border=\"1\" class=\"dataframe\">\n",
       "  <thead>\n",
       " <tr style=\"text-align: left;\">\n",
       "      <th>Step</th>\n",
       "      <th>Training Loss</th>\n",
       "      <th>Validation Loss</th>\n",
       "      <th>Accuracy</th>\n",
       "    </tr>\n",
       "  </thead>\n",
       "  <tbody>\n",
       "    <tr>\n",
       "      <td>250</td>\n",
       "      <td>0.684300</td>\n",
       "      <td>0.516456</td>\n",
       "      <td>0.796610</td>\n",
       "    </tr>\n",
       "  </tbody>\n",
       "</table><p>"
      ],
      "text/plain": [
       "<IPython.core.display.HTML object>"
      ]
     },
     "metadata": {},
     "output_type": "display_data"
    },
    {
     "data": {
      "text/html": [
       "\n",
       "    <div>\n",
       "      \n",
       "      <progress value='5' max='5' style='width:300px; height:20px; vertical-align: middle;'></progress>\n",
       "      [5/5 00:00]\n",
       "    </div>\n",
       "    "
      ],
      "text/plain": [
       "<IPython.core.display.HTML object>"
      ]
     },
     "metadata": {},
     "output_type": "display_data"
    },
    {
     "name": "stderr",
     "output_type": "stream",
     "text": [
      "[I 2023-08-20 14:42:29,457] Trial 19 finished with value: 0.8169491525423729 and parameters: {'num_train_epochs': 5, 'per_device_train_batch_size': 16, 'warmup_steps': 261, 'weight_decay': 0.035151870447208994, 'learning_rate': 0.0005860381454718034}. Best is trial 12 with value: 0.847457627118644.\n"
     ]
    },
    {
     "name": "stdout",
     "output_type": "stream",
     "text": [
      "Trainer is running on: mps:0\n"
     ]
    },
    {
     "name": "stderr",
     "output_type": "stream",
     "text": [
      "/Users/anshulvij/opt/anaconda3/lib/python3.9/site-packages/transformers/optimization.py:411: FutureWarning: This implementation of AdamW is deprecated and will be removed in a future version. Use the PyTorch implementation torch.optim.AdamW instead, or set `no_deprecation_warning=True` to disable this warning\n",
      "  warnings.warn(\n"
     ]
    },
    {
     "data": {
      "text/html": [
       "\n",
       "    <div>\n",
       "      \n",
       "      <progress value='301' max='301' style='width:300px; height:20px; vertical-align: middle;'></progress>\n",
       "      [301/301 02:16, Epoch 7/7]\n",
       "    </div>\n",
       "    <table border=\"1\" class=\"dataframe\">\n",
       "  <thead>\n",
       " <tr style=\"text-align: left;\">\n",
       "      <th>Step</th>\n",
       "      <th>Training Loss</th>\n",
       "      <th>Validation Loss</th>\n",
       "      <th>Accuracy</th>\n",
       "    </tr>\n",
       "  </thead>\n",
       "  <tbody>\n",
       "    <tr>\n",
       "      <td>250</td>\n",
       "      <td>0.498000</td>\n",
       "      <td>0.412760</td>\n",
       "      <td>0.833898</td>\n",
       "    </tr>\n",
       "  </tbody>\n",
       "</table><p>"
      ],
      "text/plain": [
       "<IPython.core.display.HTML object>"
      ]
     },
     "metadata": {},
     "output_type": "display_data"
    },
    {
     "data": {
      "text/html": [
       "\n",
       "    <div>\n",
       "      \n",
       "      <progress value='5' max='5' style='width:300px; height:20px; vertical-align: middle;'></progress>\n",
       "      [5/5 00:00]\n",
       "    </div>\n",
       "    "
      ],
      "text/plain": [
       "<IPython.core.display.HTML object>"
      ]
     },
     "metadata": {},
     "output_type": "display_data"
    },
    {
     "name": "stderr",
     "output_type": "stream",
     "text": [
      "[I 2023-08-20 14:44:50,920] Trial 20 finished with value: 0.8542372881355932 and parameters: {'num_train_epochs': 7, 'per_device_train_batch_size': 32, 'warmup_steps': 82, 'weight_decay': 0.050534541430133535, 'learning_rate': 0.0015626889733172966}. Best is trial 20 with value: 0.8542372881355932.\n"
     ]
    },
    {
     "name": "stdout",
     "output_type": "stream",
     "text": [
      "Trainer is running on: mps:0\n"
     ]
    },
    {
     "name": "stderr",
     "output_type": "stream",
     "text": [
      "/Users/anshulvij/opt/anaconda3/lib/python3.9/site-packages/transformers/optimization.py:411: FutureWarning: This implementation of AdamW is deprecated and will be removed in a future version. Use the PyTorch implementation torch.optim.AdamW instead, or set `no_deprecation_warning=True` to disable this warning\n",
      "  warnings.warn(\n"
     ]
    },
    {
     "data": {
      "text/html": [
       "\n",
       "    <div>\n",
       "      \n",
       "      <progress value='301' max='301' style='width:300px; height:20px; vertical-align: middle;'></progress>\n",
       "      [301/301 02:16, Epoch 7/7]\n",
       "    </div>\n",
       "    <table border=\"1\" class=\"dataframe\">\n",
       "  <thead>\n",
       " <tr style=\"text-align: left;\">\n",
       "      <th>Step</th>\n",
       "      <th>Training Loss</th>\n",
       "      <th>Validation Loss</th>\n",
       "      <th>Accuracy</th>\n",
       "    </tr>\n",
       "  </thead>\n",
       "  <tbody>\n",
       "    <tr>\n",
       "      <td>250</td>\n",
       "      <td>0.497800</td>\n",
       "      <td>0.443903</td>\n",
       "      <td>0.820339</td>\n",
       "    </tr>\n",
       "  </tbody>\n",
       "</table><p>"
      ],
      "text/plain": [
       "<IPython.core.display.HTML object>"
      ]
     },
     "metadata": {},
     "output_type": "display_data"
    },
    {
     "data": {
      "text/html": [
       "\n",
       "    <div>\n",
       "      \n",
       "      <progress value='5' max='5' style='width:300px; height:20px; vertical-align: middle;'></progress>\n",
       "      [5/5 00:00]\n",
       "    </div>\n",
       "    "
      ],
      "text/plain": [
       "<IPython.core.display.HTML object>"
      ]
     },
     "metadata": {},
     "output_type": "display_data"
    },
    {
     "name": "stderr",
     "output_type": "stream",
     "text": [
      "[I 2023-08-20 14:47:12,184] Trial 21 finished with value: 0.8338983050847457 and parameters: {'num_train_epochs': 7, 'per_device_train_batch_size': 32, 'warmup_steps': 83, 'weight_decay': 0.048982663250162095, 'learning_rate': 0.0015491344058346092}. Best is trial 20 with value: 0.8542372881355932.\n"
     ]
    },
    {
     "name": "stdout",
     "output_type": "stream",
     "text": [
      "Trainer is running on: mps:0\n"
     ]
    },
    {
     "name": "stderr",
     "output_type": "stream",
     "text": [
      "/Users/anshulvij/opt/anaconda3/lib/python3.9/site-packages/transformers/optimization.py:411: FutureWarning: This implementation of AdamW is deprecated and will be removed in a future version. Use the PyTorch implementation torch.optim.AdamW instead, or set `no_deprecation_warning=True` to disable this warning\n",
      "  warnings.warn(\n"
     ]
    },
    {
     "data": {
      "text/html": [
       "\n",
       "    <div>\n",
       "      \n",
       "      <progress value='301' max='301' style='width:300px; height:20px; vertical-align: middle;'></progress>\n",
       "      [301/301 02:16, Epoch 7/7]\n",
       "    </div>\n",
       "    <table border=\"1\" class=\"dataframe\">\n",
       "  <thead>\n",
       " <tr style=\"text-align: left;\">\n",
       "      <th>Step</th>\n",
       "      <th>Training Loss</th>\n",
       "      <th>Validation Loss</th>\n",
       "      <th>Accuracy</th>\n",
       "    </tr>\n",
       "  </thead>\n",
       "  <tbody>\n",
       "    <tr>\n",
       "      <td>250</td>\n",
       "      <td>0.502600</td>\n",
       "      <td>0.453424</td>\n",
       "      <td>0.837288</td>\n",
       "    </tr>\n",
       "  </tbody>\n",
       "</table><p>"
      ],
      "text/plain": [
       "<IPython.core.display.HTML object>"
      ]
     },
     "metadata": {},
     "output_type": "display_data"
    },
    {
     "data": {
      "text/html": [
       "\n",
       "    <div>\n",
       "      \n",
       "      <progress value='5' max='5' style='width:300px; height:20px; vertical-align: middle;'></progress>\n",
       "      [5/5 00:00]\n",
       "    </div>\n",
       "    "
      ],
      "text/plain": [
       "<IPython.core.display.HTML object>"
      ]
     },
     "metadata": {},
     "output_type": "display_data"
    },
    {
     "name": "stderr",
     "output_type": "stream",
     "text": [
      "[I 2023-08-20 14:49:33,605] Trial 22 finished with value: 0.8508474576271187 and parameters: {'num_train_epochs': 7, 'per_device_train_batch_size': 32, 'warmup_steps': 156, 'weight_decay': 0.06815079218801787, 'learning_rate': 0.004713224482642352}. Best is trial 20 with value: 0.8542372881355932.\n"
     ]
    },
    {
     "name": "stdout",
     "output_type": "stream",
     "text": [
      "Trainer is running on: mps:0\n"
     ]
    },
    {
     "name": "stderr",
     "output_type": "stream",
     "text": [
      "/Users/anshulvij/opt/anaconda3/lib/python3.9/site-packages/transformers/optimization.py:411: FutureWarning: This implementation of AdamW is deprecated and will be removed in a future version. Use the PyTorch implementation torch.optim.AdamW instead, or set `no_deprecation_warning=True` to disable this warning\n",
      "  warnings.warn(\n"
     ]
    },
    {
     "data": {
      "text/html": [
       "\n",
       "    <div>\n",
       "      \n",
       "      <progress value='344' max='344' style='width:300px; height:20px; vertical-align: middle;'></progress>\n",
       "      [344/344 02:36, Epoch 8/8]\n",
       "    </div>\n",
       "    <table border=\"1\" class=\"dataframe\">\n",
       "  <thead>\n",
       " <tr style=\"text-align: left;\">\n",
       "      <th>Step</th>\n",
       "      <th>Training Loss</th>\n",
       "      <th>Validation Loss</th>\n",
       "      <th>Accuracy</th>\n",
       "    </tr>\n",
       "  </thead>\n",
       "  <tbody>\n",
       "    <tr>\n",
       "      <td>250</td>\n",
       "      <td>0.499400</td>\n",
       "      <td>0.448787</td>\n",
       "      <td>0.827119</td>\n",
       "    </tr>\n",
       "  </tbody>\n",
       "</table><p>"
      ],
      "text/plain": [
       "<IPython.core.display.HTML object>"
      ]
     },
     "metadata": {},
     "output_type": "display_data"
    },
    {
     "data": {
      "text/html": [
       "\n",
       "    <div>\n",
       "      \n",
       "      <progress value='5' max='5' style='width:300px; height:20px; vertical-align: middle;'></progress>\n",
       "      [5/5 00:00]\n",
       "    </div>\n",
       "    "
      ],
      "text/plain": [
       "<IPython.core.display.HTML object>"
      ]
     },
     "metadata": {},
     "output_type": "display_data"
    },
    {
     "name": "stderr",
     "output_type": "stream",
     "text": [
      "[I 2023-08-20 14:52:14,894] Trial 23 finished with value: 0.8305084745762712 and parameters: {'num_train_epochs': 8, 'per_device_train_batch_size': 32, 'warmup_steps': 157, 'weight_decay': 0.049206201111705296, 'learning_rate': 0.00424263180439193}. Best is trial 20 with value: 0.8542372881355932.\n"
     ]
    },
    {
     "name": "stdout",
     "output_type": "stream",
     "text": [
      "Trainer is running on: mps:0\n"
     ]
    },
    {
     "name": "stderr",
     "output_type": "stream",
     "text": [
      "/Users/anshulvij/opt/anaconda3/lib/python3.9/site-packages/transformers/optimization.py:411: FutureWarning: This implementation of AdamW is deprecated and will be removed in a future version. Use the PyTorch implementation torch.optim.AdamW instead, or set `no_deprecation_warning=True` to disable this warning\n",
      "  warnings.warn(\n"
     ]
    },
    {
     "data": {
      "text/html": [
       "\n",
       "    <div>\n",
       "      \n",
       "      <progress value='301' max='301' style='width:300px; height:20px; vertical-align: middle;'></progress>\n",
       "      [301/301 02:16, Epoch 7/7]\n",
       "    </div>\n",
       "    <table border=\"1\" class=\"dataframe\">\n",
       "  <thead>\n",
       " <tr style=\"text-align: left;\">\n",
       "      <th>Step</th>\n",
       "      <th>Training Loss</th>\n",
       "      <th>Validation Loss</th>\n",
       "      <th>Accuracy</th>\n",
       "    </tr>\n",
       "  </thead>\n",
       "  <tbody>\n",
       "    <tr>\n",
       "      <td>250</td>\n",
       "      <td>0.418600</td>\n",
       "      <td>0.474839</td>\n",
       "      <td>0.820339</td>\n",
       "    </tr>\n",
       "  </tbody>\n",
       "</table><p>"
      ],
      "text/plain": [
       "<IPython.core.display.HTML object>"
      ]
     },
     "metadata": {},
     "output_type": "display_data"
    },
    {
     "data": {
      "text/html": [
       "\n",
       "    <div>\n",
       "      \n",
       "      <progress value='5' max='5' style='width:300px; height:20px; vertical-align: middle;'></progress>\n",
       "      [5/5 00:00]\n",
       "    </div>\n",
       "    "
      ],
      "text/plain": [
       "<IPython.core.display.HTML object>"
      ]
     },
     "metadata": {},
     "output_type": "display_data"
    },
    {
     "name": "stderr",
     "output_type": "stream",
     "text": [
      "[I 2023-08-20 14:54:36,041] Trial 24 finished with value: 0.8372881355932204 and parameters: {'num_train_epochs': 7, 'per_device_train_batch_size': 32, 'warmup_steps': 1, 'weight_decay': 0.03269497948250701, 'learning_rate': 0.004319340987712404}. Best is trial 20 with value: 0.8542372881355932.\n"
     ]
    },
    {
     "name": "stdout",
     "output_type": "stream",
     "text": [
      "Trainer is running on: mps:0\n"
     ]
    },
    {
     "name": "stderr",
     "output_type": "stream",
     "text": [
      "/Users/anshulvij/opt/anaconda3/lib/python3.9/site-packages/transformers/optimization.py:411: FutureWarning: This implementation of AdamW is deprecated and will be removed in a future version. Use the PyTorch implementation torch.optim.AdamW instead, or set `no_deprecation_warning=True` to disable this warning\n",
      "  warnings.warn(\n"
     ]
    },
    {
     "data": {
      "text/html": [
       "\n",
       "    <div>\n",
       "      \n",
       "      <progress value='344' max='344' style='width:300px; height:20px; vertical-align: middle;'></progress>\n",
       "      [344/344 02:35, Epoch 8/8]\n",
       "    </div>\n",
       "    <table border=\"1\" class=\"dataframe\">\n",
       "  <thead>\n",
       " <tr style=\"text-align: left;\">\n",
       "      <th>Step</th>\n",
       "      <th>Training Loss</th>\n",
       "      <th>Validation Loss</th>\n",
       "      <th>Accuracy</th>\n",
       "    </tr>\n",
       "  </thead>\n",
       "  <tbody>\n",
       "    <tr>\n",
       "      <td>250</td>\n",
       "      <td>0.529800</td>\n",
       "      <td>0.593270</td>\n",
       "      <td>0.806780</td>\n",
       "    </tr>\n",
       "  </tbody>\n",
       "</table><p>"
      ],
      "text/plain": [
       "<IPython.core.display.HTML object>"
      ]
     },
     "metadata": {},
     "output_type": "display_data"
    },
    {
     "data": {
      "text/html": [
       "\n",
       "    <div>\n",
       "      \n",
       "      <progress value='5' max='5' style='width:300px; height:20px; vertical-align: middle;'></progress>\n",
       "      [5/5 00:00]\n",
       "    </div>\n",
       "    "
      ],
      "text/plain": [
       "<IPython.core.display.HTML object>"
      ]
     },
     "metadata": {},
     "output_type": "display_data"
    },
    {
     "name": "stderr",
     "output_type": "stream",
     "text": [
      "[I 2023-08-20 14:57:16,820] Trial 25 finished with value: 0.8271186440677966 and parameters: {'num_train_epochs': 8, 'per_device_train_batch_size': 32, 'warmup_steps': 239, 'weight_decay': 0.09919164784952968, 'learning_rate': 0.008781033834690205}. Best is trial 20 with value: 0.8542372881355932.\n"
     ]
    },
    {
     "name": "stdout",
     "output_type": "stream",
     "text": [
      "Trainer is running on: mps:0\n"
     ]
    },
    {
     "name": "stderr",
     "output_type": "stream",
     "text": [
      "/Users/anshulvij/opt/anaconda3/lib/python3.9/site-packages/transformers/optimization.py:411: FutureWarning: This implementation of AdamW is deprecated and will be removed in a future version. Use the PyTorch implementation torch.optim.AdamW instead, or set `no_deprecation_warning=True` to disable this warning\n",
      "  warnings.warn(\n"
     ]
    },
    {
     "data": {
      "text/html": [
       "\n",
       "    <div>\n",
       "      \n",
       "      <progress value='387' max='387' style='width:300px; height:20px; vertical-align: middle;'></progress>\n",
       "      [387/387 02:55, Epoch 9/9]\n",
       "    </div>\n",
       "    <table border=\"1\" class=\"dataframe\">\n",
       "  <thead>\n",
       " <tr style=\"text-align: left;\">\n",
       "      <th>Step</th>\n",
       "      <th>Training Loss</th>\n",
       "      <th>Validation Loss</th>\n",
       "      <th>Accuracy</th>\n",
       "    </tr>\n",
       "  </thead>\n",
       "  <tbody>\n",
       "    <tr>\n",
       "      <td>250</td>\n",
       "      <td>0.486700</td>\n",
       "      <td>0.479217</td>\n",
       "      <td>0.830508</td>\n",
       "    </tr>\n",
       "  </tbody>\n",
       "</table><p>"
      ],
      "text/plain": [
       "<IPython.core.display.HTML object>"
      ]
     },
     "metadata": {},
     "output_type": "display_data"
    },
    {
     "data": {
      "text/html": [
       "\n",
       "    <div>\n",
       "      \n",
       "      <progress value='5' max='5' style='width:300px; height:20px; vertical-align: middle;'></progress>\n",
       "      [5/5 00:00]\n",
       "    </div>\n",
       "    "
      ],
      "text/plain": [
       "<IPython.core.display.HTML object>"
      ]
     },
     "metadata": {},
     "output_type": "display_data"
    },
    {
     "name": "stderr",
     "output_type": "stream",
     "text": [
      "[I 2023-08-20 15:00:16,701] Trial 26 finished with value: 0.8338983050847457 and parameters: {'num_train_epochs': 9, 'per_device_train_batch_size': 32, 'warmup_steps': 139, 'weight_decay': 0.06617965590492522, 'learning_rate': 0.004113527786603918}. Best is trial 20 with value: 0.8542372881355932.\n"
     ]
    },
    {
     "name": "stdout",
     "output_type": "stream",
     "text": [
      "Trainer is running on: mps:0\n"
     ]
    },
    {
     "name": "stderr",
     "output_type": "stream",
     "text": [
      "/Users/anshulvij/opt/anaconda3/lib/python3.9/site-packages/transformers/optimization.py:411: FutureWarning: This implementation of AdamW is deprecated and will be removed in a future version. Use the PyTorch implementation torch.optim.AdamW instead, or set `no_deprecation_warning=True` to disable this warning\n",
      "  warnings.warn(\n"
     ]
    },
    {
     "data": {
      "text/html": [
       "\n",
       "    <div>\n",
       "      \n",
       "      <progress value='301' max='301' style='width:300px; height:20px; vertical-align: middle;'></progress>\n",
       "      [301/301 02:16, Epoch 7/7]\n",
       "    </div>\n",
       "    <table border=\"1\" class=\"dataframe\">\n",
       "  <thead>\n",
       " <tr style=\"text-align: left;\">\n",
       "      <th>Step</th>\n",
       "      <th>Training Loss</th>\n",
       "      <th>Validation Loss</th>\n",
       "      <th>Accuracy</th>\n",
       "    </tr>\n",
       "  </thead>\n",
       "  <tbody>\n",
       "    <tr>\n",
       "      <td>250</td>\n",
       "      <td>0.510700</td>\n",
       "      <td>0.423699</td>\n",
       "      <td>0.840678</td>\n",
       "    </tr>\n",
       "  </tbody>\n",
       "</table><p>"
      ],
      "text/plain": [
       "<IPython.core.display.HTML object>"
      ]
     },
     "metadata": {},
     "output_type": "display_data"
    },
    {
     "data": {
      "text/html": [
       "\n",
       "    <div>\n",
       "      \n",
       "      <progress value='5' max='5' style='width:300px; height:20px; vertical-align: middle;'></progress>\n",
       "      [5/5 00:00]\n",
       "    </div>\n",
       "    "
      ],
      "text/plain": [
       "<IPython.core.display.HTML object>"
      ]
     },
     "metadata": {},
     "output_type": "display_data"
    },
    {
     "name": "stderr",
     "output_type": "stream",
     "text": [
      "[I 2023-08-20 15:02:37,692] Trial 27 finished with value: 0.8508474576271187 and parameters: {'num_train_epochs': 7, 'per_device_train_batch_size': 32, 'warmup_steps': 84, 'weight_decay': 0.05471679062278576, 'learning_rate': 0.0013323560104672118}. Best is trial 20 with value: 0.8542372881355932.\n"
     ]
    },
    {
     "name": "stdout",
     "output_type": "stream",
     "text": [
      "Trainer is running on: mps:0\n"
     ]
    },
    {
     "name": "stderr",
     "output_type": "stream",
     "text": [
      "/Users/anshulvij/opt/anaconda3/lib/python3.9/site-packages/transformers/optimization.py:411: FutureWarning: This implementation of AdamW is deprecated and will be removed in a future version. Use the PyTorch implementation torch.optim.AdamW instead, or set `no_deprecation_warning=True` to disable this warning\n",
      "  warnings.warn(\n"
     ]
    },
    {
     "data": {
      "text/html": [
       "\n",
       "    <div>\n",
       "      \n",
       "      <progress value='301' max='301' style='width:300px; height:20px; vertical-align: middle;'></progress>\n",
       "      [301/301 02:16, Epoch 7/7]\n",
       "    </div>\n",
       "    <table border=\"1\" class=\"dataframe\">\n",
       "  <thead>\n",
       " <tr style=\"text-align: left;\">\n",
       "      <th>Step</th>\n",
       "      <th>Training Loss</th>\n",
       "      <th>Validation Loss</th>\n",
       "      <th>Accuracy</th>\n",
       "    </tr>\n",
       "  </thead>\n",
       "  <tbody>\n",
       "    <tr>\n",
       "      <td>250</td>\n",
       "      <td>0.553400</td>\n",
       "      <td>0.446436</td>\n",
       "      <td>0.833898</td>\n",
       "    </tr>\n",
       "  </tbody>\n",
       "</table><p>"
      ],
      "text/plain": [
       "<IPython.core.display.HTML object>"
      ]
     },
     "metadata": {},
     "output_type": "display_data"
    },
    {
     "data": {
      "text/html": [
       "\n",
       "    <div>\n",
       "      \n",
       "      <progress value='5' max='5' style='width:300px; height:20px; vertical-align: middle;'></progress>\n",
       "      [5/5 00:00]\n",
       "    </div>\n",
       "    "
      ],
      "text/plain": [
       "<IPython.core.display.HTML object>"
      ]
     },
     "metadata": {},
     "output_type": "display_data"
    },
    {
     "name": "stderr",
     "output_type": "stream",
     "text": [
      "[I 2023-08-20 15:04:59,378] Trial 28 finished with value: 0.8305084745762712 and parameters: {'num_train_epochs': 7, 'per_device_train_batch_size': 32, 'warmup_steps': 105, 'weight_decay': 0.052799311997308127, 'learning_rate': 0.0007771235499745618}. Best is trial 20 with value: 0.8542372881355932.\n"
     ]
    },
    {
     "name": "stdout",
     "output_type": "stream",
     "text": [
      "Trainer is running on: mps:0\n"
     ]
    },
    {
     "name": "stderr",
     "output_type": "stream",
     "text": [
      "/Users/anshulvij/opt/anaconda3/lib/python3.9/site-packages/transformers/optimization.py:411: FutureWarning: This implementation of AdamW is deprecated and will be removed in a future version. Use the PyTorch implementation torch.optim.AdamW instead, or set `no_deprecation_warning=True` to disable this warning\n",
      "  warnings.warn(\n"
     ]
    },
    {
     "data": {
      "text/html": [
       "\n",
       "    <div>\n",
       "      \n",
       "      <progress value='387' max='387' style='width:300px; height:20px; vertical-align: middle;'></progress>\n",
       "      [387/387 02:55, Epoch 9/9]\n",
       "    </div>\n",
       "    <table border=\"1\" class=\"dataframe\">\n",
       "  <thead>\n",
       " <tr style=\"text-align: left;\">\n",
       "      <th>Step</th>\n",
       "      <th>Training Loss</th>\n",
       "      <th>Validation Loss</th>\n",
       "      <th>Accuracy</th>\n",
       "    </tr>\n",
       "  </thead>\n",
       "  <tbody>\n",
       "    <tr>\n",
       "      <td>250</td>\n",
       "      <td>0.579600</td>\n",
       "      <td>0.440440</td>\n",
       "      <td>0.830508</td>\n",
       "    </tr>\n",
       "  </tbody>\n",
       "</table><p>"
      ],
      "text/plain": [
       "<IPython.core.display.HTML object>"
      ]
     },
     "metadata": {},
     "output_type": "display_data"
    },
    {
     "data": {
      "text/html": [
       "\n",
       "    <div>\n",
       "      \n",
       "      <progress value='5' max='5' style='width:300px; height:20px; vertical-align: middle;'></progress>\n",
       "      [5/5 00:00]\n",
       "    </div>\n",
       "    "
      ],
      "text/plain": [
       "<IPython.core.display.HTML object>"
      ]
     },
     "metadata": {},
     "output_type": "display_data"
    },
    {
     "name": "stderr",
     "output_type": "stream",
     "text": [
      "[I 2023-08-20 15:07:59,770] Trial 29 finished with value: 0.8576271186440678 and parameters: {'num_train_epochs': 9, 'per_device_train_batch_size': 32, 'warmup_steps': 210, 'weight_decay': 0.07830680597137599, 'learning_rate': 0.0010710659975038334}. Best is trial 29 with value: 0.8576271186440678.\n"
     ]
    },
    {
     "name": "stdout",
     "output_type": "stream",
     "text": [
      "Trainer is running on: mps:0\n"
     ]
    },
    {
     "name": "stderr",
     "output_type": "stream",
     "text": [
      "/Users/anshulvij/opt/anaconda3/lib/python3.9/site-packages/transformers/optimization.py:411: FutureWarning: This implementation of AdamW is deprecated and will be removed in a future version. Use the PyTorch implementation torch.optim.AdamW instead, or set `no_deprecation_warning=True` to disable this warning\n",
      "  warnings.warn(\n"
     ]
    },
    {
     "data": {
      "text/html": [
       "\n",
       "    <div>\n",
       "      \n",
       "      <progress value='430' max='430' style='width:300px; height:20px; vertical-align: middle;'></progress>\n",
       "      [430/430 03:14, Epoch 10/10]\n",
       "    </div>\n",
       "    <table border=\"1\" class=\"dataframe\">\n",
       "  <thead>\n",
       " <tr style=\"text-align: left;\">\n",
       "      <th>Step</th>\n",
       "      <th>Training Loss</th>\n",
       "      <th>Validation Loss</th>\n",
       "      <th>Accuracy</th>\n",
       "    </tr>\n",
       "  </thead>\n",
       "  <tbody>\n",
       "    <tr>\n",
       "      <td>250</td>\n",
       "      <td>0.655800</td>\n",
       "      <td>0.506375</td>\n",
       "      <td>0.813559</td>\n",
       "    </tr>\n",
       "  </tbody>\n",
       "</table><p>"
      ],
      "text/plain": [
       "<IPython.core.display.HTML object>"
      ]
     },
     "metadata": {},
     "output_type": "display_data"
    },
    {
     "data": {
      "text/html": [
       "\n",
       "    <div>\n",
       "      \n",
       "      <progress value='5' max='5' style='width:300px; height:20px; vertical-align: middle;'></progress>\n",
       "      [5/5 00:00]\n",
       "    </div>\n",
       "    "
      ],
      "text/plain": [
       "<IPython.core.display.HTML object>"
      ]
     },
     "metadata": {},
     "output_type": "display_data"
    },
    {
     "name": "stderr",
     "output_type": "stream",
     "text": [
      "[I 2023-08-20 15:11:19,459] Trial 30 finished with value: 0.8305084745762712 and parameters: {'num_train_epochs': 10, 'per_device_train_batch_size': 32, 'warmup_steps': 295, 'weight_decay': 0.08076634354748458, 'learning_rate': 0.0004559277898826445}. Best is trial 29 with value: 0.8576271186440678.\n"
     ]
    },
    {
     "name": "stdout",
     "output_type": "stream",
     "text": [
      "Trainer is running on: mps:0\n"
     ]
    },
    {
     "name": "stderr",
     "output_type": "stream",
     "text": [
      "/Users/anshulvij/opt/anaconda3/lib/python3.9/site-packages/transformers/optimization.py:411: FutureWarning: This implementation of AdamW is deprecated and will be removed in a future version. Use the PyTorch implementation torch.optim.AdamW instead, or set `no_deprecation_warning=True` to disable this warning\n",
      "  warnings.warn(\n"
     ]
    },
    {
     "data": {
      "text/html": [
       "\n",
       "    <div>\n",
       "      \n",
       "      <progress value='387' max='387' style='width:300px; height:20px; vertical-align: middle;'></progress>\n",
       "      [387/387 02:55, Epoch 9/9]\n",
       "    </div>\n",
       "    <table border=\"1\" class=\"dataframe\">\n",
       "  <thead>\n",
       " <tr style=\"text-align: left;\">\n",
       "      <th>Step</th>\n",
       "      <th>Training Loss</th>\n",
       "      <th>Validation Loss</th>\n",
       "      <th>Accuracy</th>\n",
       "    </tr>\n",
       "  </thead>\n",
       "  <tbody>\n",
       "    <tr>\n",
       "      <td>250</td>\n",
       "      <td>0.581000</td>\n",
       "      <td>0.514589</td>\n",
       "      <td>0.793220</td>\n",
       "    </tr>\n",
       "  </tbody>\n",
       "</table><p>"
      ],
      "text/plain": [
       "<IPython.core.display.HTML object>"
      ]
     },
     "metadata": {},
     "output_type": "display_data"
    },
    {
     "data": {
      "text/html": [
       "\n",
       "    <div>\n",
       "      \n",
       "      <progress value='5' max='5' style='width:300px; height:20px; vertical-align: middle;'></progress>\n",
       "      [5/5 00:00]\n",
       "    </div>\n",
       "    "
      ],
      "text/plain": [
       "<IPython.core.display.HTML object>"
      ]
     },
     "metadata": {},
     "output_type": "display_data"
    },
    {
     "name": "stderr",
     "output_type": "stream",
     "text": [
      "[I 2023-08-20 15:14:20,074] Trial 31 finished with value: 0.847457627118644 and parameters: {'num_train_epochs': 9, 'per_device_train_batch_size': 32, 'warmup_steps': 219, 'weight_decay': 0.06595275278856609, 'learning_rate': 0.0010501427277445235}. Best is trial 29 with value: 0.8576271186440678.\n"
     ]
    },
    {
     "name": "stdout",
     "output_type": "stream",
     "text": [
      "Trainer is running on: mps:0\n"
     ]
    },
    {
     "name": "stderr",
     "output_type": "stream",
     "text": [
      "/Users/anshulvij/opt/anaconda3/lib/python3.9/site-packages/transformers/optimization.py:411: FutureWarning: This implementation of AdamW is deprecated and will be removed in a future version. Use the PyTorch implementation torch.optim.AdamW instead, or set `no_deprecation_warning=True` to disable this warning\n",
      "  warnings.warn(\n"
     ]
    },
    {
     "data": {
      "text/html": [
       "\n",
       "    <div>\n",
       "      \n",
       "      <progress value='344' max='344' style='width:300px; height:20px; vertical-align: middle;'></progress>\n",
       "      [344/344 02:35, Epoch 8/8]\n",
       "    </div>\n",
       "    <table border=\"1\" class=\"dataframe\">\n",
       "  <thead>\n",
       " <tr style=\"text-align: left;\">\n",
       "      <th>Step</th>\n",
       "      <th>Training Loss</th>\n",
       "      <th>Validation Loss</th>\n",
       "      <th>Accuracy</th>\n",
       "    </tr>\n",
       "  </thead>\n",
       "  <tbody>\n",
       "    <tr>\n",
       "      <td>250</td>\n",
       "      <td>0.611000</td>\n",
       "      <td>0.478292</td>\n",
       "      <td>0.827119</td>\n",
       "    </tr>\n",
       "  </tbody>\n",
       "</table><p>"
      ],
      "text/plain": [
       "<IPython.core.display.HTML object>"
      ]
     },
     "metadata": {},
     "output_type": "display_data"
    },
    {
     "data": {
      "text/html": [
       "\n",
       "    <div>\n",
       "      \n",
       "      <progress value='5' max='5' style='width:300px; height:20px; vertical-align: middle;'></progress>\n",
       "      [5/5 00:00]\n",
       "    </div>\n",
       "    "
      ],
      "text/plain": [
       "<IPython.core.display.HTML object>"
      ]
     },
     "metadata": {},
     "output_type": "display_data"
    },
    {
     "name": "stderr",
     "output_type": "stream",
     "text": [
      "[I 2023-08-20 15:17:00,349] Trial 32 finished with value: 0.847457627118644 and parameters: {'num_train_epochs': 8, 'per_device_train_batch_size': 32, 'warmup_steps': 173, 'weight_decay': 0.060478100667010155, 'learning_rate': 0.0005744167391261727}. Best is trial 29 with value: 0.8576271186440678.\n"
     ]
    },
    {
     "name": "stdout",
     "output_type": "stream",
     "text": [
      "Trainer is running on: mps:0\n"
     ]
    },
    {
     "name": "stderr",
     "output_type": "stream",
     "text": [
      "/Users/anshulvij/opt/anaconda3/lib/python3.9/site-packages/transformers/optimization.py:411: FutureWarning: This implementation of AdamW is deprecated and will be removed in a future version. Use the PyTorch implementation torch.optim.AdamW instead, or set `no_deprecation_warning=True` to disable this warning\n",
      "  warnings.warn(\n"
     ]
    },
    {
     "data": {
      "text/html": [
       "\n",
       "    <div>\n",
       "      \n",
       "      <progress value='301' max='301' style='width:300px; height:20px; vertical-align: middle;'></progress>\n",
       "      [301/301 02:16, Epoch 7/7]\n",
       "    </div>\n",
       "    <table border=\"1\" class=\"dataframe\">\n",
       "  <thead>\n",
       " <tr style=\"text-align: left;\">\n",
       "      <th>Step</th>\n",
       "      <th>Training Loss</th>\n",
       "      <th>Validation Loss</th>\n",
       "      <th>Accuracy</th>\n",
       "    </tr>\n",
       "  </thead>\n",
       "  <tbody>\n",
       "    <tr>\n",
       "      <td>250</td>\n",
       "      <td>0.544200</td>\n",
       "      <td>0.448590</td>\n",
       "      <td>0.837288</td>\n",
       "    </tr>\n",
       "  </tbody>\n",
       "</table><p>"
      ],
      "text/plain": [
       "<IPython.core.display.HTML object>"
      ]
     },
     "metadata": {},
     "output_type": "display_data"
    },
    {
     "data": {
      "text/html": [
       "\n",
       "    <div>\n",
       "      \n",
       "      <progress value='5' max='5' style='width:300px; height:20px; vertical-align: middle;'></progress>\n",
       "      [5/5 00:00]\n",
       "    </div>\n",
       "    "
      ],
      "text/plain": [
       "<IPython.core.display.HTML object>"
      ]
     },
     "metadata": {},
     "output_type": "display_data"
    },
    {
     "name": "stderr",
     "output_type": "stream",
     "text": [
      "[I 2023-08-20 15:19:22,738] Trial 33 finished with value: 0.8372881355932204 and parameters: {'num_train_epochs': 7, 'per_device_train_batch_size': 32, 'warmup_steps': 145, 'weight_decay': 0.07948952365077948, 'learning_rate': 0.0013234870280065183}. Best is trial 29 with value: 0.8576271186440678.\n"
     ]
    },
    {
     "name": "stdout",
     "output_type": "stream",
     "text": [
      "Trainer is running on: mps:0\n"
     ]
    },
    {
     "name": "stderr",
     "output_type": "stream",
     "text": [
      "/Users/anshulvij/opt/anaconda3/lib/python3.9/site-packages/transformers/optimization.py:411: FutureWarning: This implementation of AdamW is deprecated and will be removed in a future version. Use the PyTorch implementation torch.optim.AdamW instead, or set `no_deprecation_warning=True` to disable this warning\n",
      "  warnings.warn(\n"
     ]
    },
    {
     "data": {
      "text/html": [
       "\n",
       "    <div>\n",
       "      \n",
       "      <progress value='258' max='258' style='width:300px; height:20px; vertical-align: middle;'></progress>\n",
       "      [258/258 01:57, Epoch 6/6]\n",
       "    </div>\n",
       "    <table border=\"1\" class=\"dataframe\">\n",
       "  <thead>\n",
       " <tr style=\"text-align: left;\">\n",
       "      <th>Step</th>\n",
       "      <th>Training Loss</th>\n",
       "      <th>Validation Loss</th>\n",
       "      <th>Accuracy</th>\n",
       "    </tr>\n",
       "  </thead>\n",
       "  <tbody>\n",
       "    <tr>\n",
       "      <td>250</td>\n",
       "      <td>0.675000</td>\n",
       "      <td>0.525449</td>\n",
       "      <td>0.796610</td>\n",
       "    </tr>\n",
       "  </tbody>\n",
       "</table><p>"
      ],
      "text/plain": [
       "<IPython.core.display.HTML object>"
      ]
     },
     "metadata": {},
     "output_type": "display_data"
    },
    {
     "data": {
      "text/html": [
       "\n",
       "    <div>\n",
       "      \n",
       "      <progress value='5' max='5' style='width:300px; height:20px; vertical-align: middle;'></progress>\n",
       "      [5/5 00:00]\n",
       "    </div>\n",
       "    "
      ],
      "text/plain": [
       "<IPython.core.display.HTML object>"
      ]
     },
     "metadata": {},
     "output_type": "display_data"
    },
    {
     "name": "stderr",
     "output_type": "stream",
     "text": [
      "[I 2023-08-20 15:21:26,131] Trial 34 finished with value: 0.7932203389830509 and parameters: {'num_train_epochs': 6, 'per_device_train_batch_size': 32, 'warmup_steps': 186, 'weight_decay': 0.06482885404944655, 'learning_rate': 0.00024758895171403254}. Best is trial 29 with value: 0.8576271186440678.\n"
     ]
    },
    {
     "name": "stdout",
     "output_type": "stream",
     "text": [
      "Trainer is running on: mps:0\n"
     ]
    },
    {
     "name": "stderr",
     "output_type": "stream",
     "text": [
      "/Users/anshulvij/opt/anaconda3/lib/python3.9/site-packages/transformers/optimization.py:411: FutureWarning: This implementation of AdamW is deprecated and will be removed in a future version. Use the PyTorch implementation torch.optim.AdamW instead, or set `no_deprecation_warning=True` to disable this warning\n",
      "  warnings.warn(\n"
     ]
    },
    {
     "data": {
      "text/html": [
       "\n",
       "    <div>\n",
       "      \n",
       "      <progress value='387' max='387' style='width:300px; height:20px; vertical-align: middle;'></progress>\n",
       "      [387/387 02:55, Epoch 9/9]\n",
       "    </div>\n",
       "    <table border=\"1\" class=\"dataframe\">\n",
       "  <thead>\n",
       " <tr style=\"text-align: left;\">\n",
       "      <th>Step</th>\n",
       "      <th>Training Loss</th>\n",
       "      <th>Validation Loss</th>\n",
       "      <th>Accuracy</th>\n",
       "    </tr>\n",
       "  </thead>\n",
       "  <tbody>\n",
       "    <tr>\n",
       "      <td>250</td>\n",
       "      <td>0.540700</td>\n",
       "      <td>0.436181</td>\n",
       "      <td>0.827119</td>\n",
       "    </tr>\n",
       "  </tbody>\n",
       "</table><p>"
      ],
      "text/plain": [
       "<IPython.core.display.HTML object>"
      ]
     },
     "metadata": {},
     "output_type": "display_data"
    },
    {
     "data": {
      "text/html": [
       "\n",
       "    <div>\n",
       "      \n",
       "      <progress value='5' max='5' style='width:300px; height:20px; vertical-align: middle;'></progress>\n",
       "      [5/5 00:00]\n",
       "    </div>\n",
       "    "
      ],
      "text/plain": [
       "<IPython.core.display.HTML object>"
      ]
     },
     "metadata": {},
     "output_type": "display_data"
    },
    {
     "name": "stderr",
     "output_type": "stream",
     "text": [
      "[I 2023-08-20 15:24:26,748] Trial 35 finished with value: 0.8372881355932204 and parameters: {'num_train_epochs': 9, 'per_device_train_batch_size': 32, 'warmup_steps': 94, 'weight_decay': 0.05437898403946771, 'learning_rate': 0.0008672425553303243}. Best is trial 29 with value: 0.8576271186440678.\n"
     ]
    },
    {
     "name": "stdout",
     "output_type": "stream",
     "text": [
      "Trainer is running on: mps:0\n"
     ]
    },
    {
     "name": "stderr",
     "output_type": "stream",
     "text": [
      "/Users/anshulvij/opt/anaconda3/lib/python3.9/site-packages/transformers/optimization.py:411: FutureWarning: This implementation of AdamW is deprecated and will be removed in a future version. Use the PyTorch implementation torch.optim.AdamW instead, or set `no_deprecation_warning=True` to disable this warning\n",
      "  warnings.warn(\n"
     ]
    },
    {
     "data": {
      "text/html": [
       "\n",
       "    <div>\n",
       "      \n",
       "      <progress value='344' max='344' style='width:300px; height:20px; vertical-align: middle;'></progress>\n",
       "      [344/344 02:35, Epoch 8/8]\n",
       "    </div>\n",
       "    <table border=\"1\" class=\"dataframe\">\n",
       "  <thead>\n",
       " <tr style=\"text-align: left;\">\n",
       "      <th>Step</th>\n",
       "      <th>Training Loss</th>\n",
       "      <th>Validation Loss</th>\n",
       "      <th>Accuracy</th>\n",
       "    </tr>\n",
       "  </thead>\n",
       "  <tbody>\n",
       "    <tr>\n",
       "      <td>250</td>\n",
       "      <td>0.459900</td>\n",
       "      <td>0.439533</td>\n",
       "      <td>0.820339</td>\n",
       "    </tr>\n",
       "  </tbody>\n",
       "</table><p>"
      ],
      "text/plain": [
       "<IPython.core.display.HTML object>"
      ]
     },
     "metadata": {},
     "output_type": "display_data"
    },
    {
     "data": {
      "text/html": [
       "\n",
       "    <div>\n",
       "      \n",
       "      <progress value='5' max='5' style='width:300px; height:20px; vertical-align: middle;'></progress>\n",
       "      [5/5 00:00]\n",
       "    </div>\n",
       "    "
      ],
      "text/plain": [
       "<IPython.core.display.HTML object>"
      ]
     },
     "metadata": {},
     "output_type": "display_data"
    },
    {
     "name": "stderr",
     "output_type": "stream",
     "text": [
      "[I 2023-08-20 15:27:07,307] Trial 36 finished with value: 0.8305084745762712 and parameters: {'num_train_epochs': 8, 'per_device_train_batch_size': 32, 'warmup_steps': 39, 'weight_decay': 0.06944802891236256, 'learning_rate': 0.0020717186109463484}. Best is trial 29 with value: 0.8576271186440678.\n"
     ]
    },
    {
     "name": "stdout",
     "output_type": "stream",
     "text": [
      "Trainer is running on: mps:0\n"
     ]
    },
    {
     "name": "stderr",
     "output_type": "stream",
     "text": [
      "/Users/anshulvij/opt/anaconda3/lib/python3.9/site-packages/transformers/optimization.py:411: FutureWarning: This implementation of AdamW is deprecated and will be removed in a future version. Use the PyTorch implementation torch.optim.AdamW instead, or set `no_deprecation_warning=True` to disable this warning\n",
      "  warnings.warn(\n"
     ]
    },
    {
     "data": {
      "text/html": [
       "\n",
       "    <div>\n",
       "      \n",
       "      <progress value='258' max='258' style='width:300px; height:20px; vertical-align: middle;'></progress>\n",
       "      [258/258 01:57, Epoch 6/6]\n",
       "    </div>\n",
       "    <table border=\"1\" class=\"dataframe\">\n",
       "  <thead>\n",
       " <tr style=\"text-align: left;\">\n",
       "      <th>Step</th>\n",
       "      <th>Training Loss</th>\n",
       "      <th>Validation Loss</th>\n",
       "      <th>Accuracy</th>\n",
       "    </tr>\n",
       "  </thead>\n",
       "  <tbody>\n",
       "    <tr>\n",
       "      <td>250</td>\n",
       "      <td>0.538500</td>\n",
       "      <td>0.486396</td>\n",
       "      <td>0.796610</td>\n",
       "    </tr>\n",
       "  </tbody>\n",
       "</table><p>"
      ],
      "text/plain": [
       "<IPython.core.display.HTML object>"
      ]
     },
     "metadata": {},
     "output_type": "display_data"
    },
    {
     "data": {
      "text/html": [
       "\n",
       "    <div>\n",
       "      \n",
       "      <progress value='5' max='5' style='width:300px; height:20px; vertical-align: middle;'></progress>\n",
       "      [5/5 00:00]\n",
       "    </div>\n",
       "    "
      ],
      "text/plain": [
       "<IPython.core.display.HTML object>"
      ]
     },
     "metadata": {},
     "output_type": "display_data"
    },
    {
     "name": "stderr",
     "output_type": "stream",
     "text": [
      "[I 2023-08-20 15:29:10,164] Trial 37 finished with value: 0.8169491525423729 and parameters: {'num_train_epochs': 6, 'per_device_train_batch_size': 32, 'warmup_steps': 266, 'weight_decay': 0.059883387437752, 'learning_rate': 0.0031763216600595007}. Best is trial 29 with value: 0.8576271186440678.\n"
     ]
    },
    {
     "name": "stdout",
     "output_type": "stream",
     "text": [
      "Trainer is running on: mps:0\n"
     ]
    },
    {
     "name": "stderr",
     "output_type": "stream",
     "text": [
      "/Users/anshulvij/opt/anaconda3/lib/python3.9/site-packages/transformers/optimization.py:411: FutureWarning: This implementation of AdamW is deprecated and will be removed in a future version. Use the PyTorch implementation torch.optim.AdamW instead, or set `no_deprecation_warning=True` to disable this warning\n",
      "  warnings.warn(\n"
     ]
    },
    {
     "data": {
      "text/html": [
       "\n",
       "    <div>\n",
       "      \n",
       "      <progress value='1720' max='1720' style='width:300px; height:20px; vertical-align: middle;'></progress>\n",
       "      [1720/1720 05:11, Epoch 10/10]\n",
       "    </div>\n",
       "    <table border=\"1\" class=\"dataframe\">\n",
       "  <thead>\n",
       " <tr style=\"text-align: left;\">\n",
       "      <th>Step</th>\n",
       "      <th>Training Loss</th>\n",
       "      <th>Validation Loss</th>\n",
       "      <th>Accuracy</th>\n",
       "    </tr>\n",
       "  </thead>\n",
       "  <tbody>\n",
       "    <tr>\n",
       "      <td>250</td>\n",
       "      <td>0.626400</td>\n",
       "      <td>0.532826</td>\n",
       "      <td>0.796610</td>\n",
       "    </tr>\n",
       "    <tr>\n",
       "      <td>500</td>\n",
       "      <td>0.475600</td>\n",
       "      <td>0.596939</td>\n",
       "      <td>0.803390</td>\n",
       "    </tr>\n",
       "    <tr>\n",
       "      <td>750</td>\n",
       "      <td>0.362200</td>\n",
       "      <td>0.479095</td>\n",
       "      <td>0.813559</td>\n",
       "    </tr>\n",
       "    <tr>\n",
       "      <td>1000</td>\n",
       "      <td>0.293300</td>\n",
       "      <td>0.494607</td>\n",
       "      <td>0.827119</td>\n",
       "    </tr>\n",
       "    <tr>\n",
       "      <td>1250</td>\n",
       "      <td>0.242500</td>\n",
       "      <td>0.537768</td>\n",
       "      <td>0.813559</td>\n",
       "    </tr>\n",
       "    <tr>\n",
       "      <td>1500</td>\n",
       "      <td>0.175600</td>\n",
       "      <td>0.471273</td>\n",
       "      <td>0.837288</td>\n",
       "    </tr>\n",
       "  </tbody>\n",
       "</table><p>"
      ],
      "text/plain": [
       "<IPython.core.display.HTML object>"
      ]
     },
     "metadata": {},
     "output_type": "display_data"
    },
    {
     "data": {
      "text/html": [
       "\n",
       "    <div>\n",
       "      \n",
       "      <progress value='5' max='5' style='width:300px; height:20px; vertical-align: middle;'></progress>\n",
       "      [5/5 00:00]\n",
       "    </div>\n",
       "    "
      ],
      "text/plain": [
       "<IPython.core.display.HTML object>"
      ]
     },
     "metadata": {},
     "output_type": "display_data"
    },
    {
     "name": "stderr",
     "output_type": "stream",
     "text": [
      "[I 2023-08-20 15:34:27,351] Trial 38 finished with value: 0.8372881355932204 and parameters: {'num_train_epochs': 10, 'per_device_train_batch_size': 8, 'warmup_steps': 134, 'weight_decay': 0.08192142004567379, 'learning_rate': 0.0017344846346965114}. Best is trial 29 with value: 0.8576271186440678.\n"
     ]
    },
    {
     "name": "stdout",
     "output_type": "stream",
     "text": [
      "Trainer is running on: mps:0\n"
     ]
    },
    {
     "name": "stderr",
     "output_type": "stream",
     "text": [
      "/Users/anshulvij/opt/anaconda3/lib/python3.9/site-packages/transformers/optimization.py:411: FutureWarning: This implementation of AdamW is deprecated and will be removed in a future version. Use the PyTorch implementation torch.optim.AdamW instead, or set `no_deprecation_warning=True` to disable this warning\n",
      "  warnings.warn(\n"
     ]
    },
    {
     "data": {
      "text/html": [
       "\n",
       "    <div>\n",
       "      \n",
       "      <progress value='387' max='387' style='width:300px; height:20px; vertical-align: middle;'></progress>\n",
       "      [387/387 02:55, Epoch 9/9]\n",
       "    </div>\n",
       "    <table border=\"1\" class=\"dataframe\">\n",
       "  <thead>\n",
       " <tr style=\"text-align: left;\">\n",
       "      <th>Step</th>\n",
       "      <th>Training Loss</th>\n",
       "      <th>Validation Loss</th>\n",
       "      <th>Accuracy</th>\n",
       "    </tr>\n",
       "  </thead>\n",
       "  <tbody>\n",
       "    <tr>\n",
       "      <td>250</td>\n",
       "      <td>0.528500</td>\n",
       "      <td>0.476187</td>\n",
       "      <td>0.823729</td>\n",
       "    </tr>\n",
       "  </tbody>\n",
       "</table><p>"
      ],
      "text/plain": [
       "<IPython.core.display.HTML object>"
      ]
     },
     "metadata": {},
     "output_type": "display_data"
    },
    {
     "data": {
      "text/html": [
       "\n",
       "    <div>\n",
       "      \n",
       "      <progress value='5' max='5' style='width:300px; height:20px; vertical-align: middle;'></progress>\n",
       "      [5/5 00:00]\n",
       "    </div>\n",
       "    "
      ],
      "text/plain": [
       "<IPython.core.display.HTML object>"
      ]
     },
     "metadata": {},
     "output_type": "display_data"
    },
    {
     "name": "stderr",
     "output_type": "stream",
     "text": [
      "[I 2023-08-20 15:37:28,390] Trial 39 finished with value: 0.8271186440677966 and parameters: {'num_train_epochs': 9, 'per_device_train_batch_size': 32, 'warmup_steps': 360, 'weight_decay': 0.06271065261551571, 'learning_rate': 0.00560494521976}. Best is trial 29 with value: 0.8576271186440678.\n"
     ]
    },
    {
     "name": "stdout",
     "output_type": "stream",
     "text": [
      "Trainer is running on: mps:0\n"
     ]
    },
    {
     "name": "stderr",
     "output_type": "stream",
     "text": [
      "/Users/anshulvij/opt/anaconda3/lib/python3.9/site-packages/transformers/optimization.py:411: FutureWarning: This implementation of AdamW is deprecated and will be removed in a future version. Use the PyTorch implementation torch.optim.AdamW instead, or set `no_deprecation_warning=True` to disable this warning\n",
      "  warnings.warn(\n"
     ]
    },
    {
     "data": {
      "text/html": [
       "\n",
       "    <div>\n",
       "      \n",
       "      <progress value='301' max='301' style='width:300px; height:20px; vertical-align: middle;'></progress>\n",
       "      [301/301 02:17, Epoch 7/7]\n",
       "    </div>\n",
       "    <table border=\"1\" class=\"dataframe\">\n",
       "  <thead>\n",
       " <tr style=\"text-align: left;\">\n",
       "      <th>Step</th>\n",
       "      <th>Training Loss</th>\n",
       "      <th>Validation Loss</th>\n",
       "      <th>Accuracy</th>\n",
       "    </tr>\n",
       "  </thead>\n",
       "  <tbody>\n",
       "    <tr>\n",
       "      <td>250</td>\n",
       "      <td>0.523800</td>\n",
       "      <td>0.487018</td>\n",
       "      <td>0.810169</td>\n",
       "    </tr>\n",
       "  </tbody>\n",
       "</table><p>"
      ],
      "text/plain": [
       "<IPython.core.display.HTML object>"
      ]
     },
     "metadata": {},
     "output_type": "display_data"
    },
    {
     "data": {
      "text/html": [
       "\n",
       "    <div>\n",
       "      \n",
       "      <progress value='5' max='5' style='width:300px; height:20px; vertical-align: middle;'></progress>\n",
       "      [5/5 00:00]\n",
       "    </div>\n",
       "    "
      ],
      "text/plain": [
       "<IPython.core.display.HTML object>"
      ]
     },
     "metadata": {},
     "output_type": "display_data"
    },
    {
     "name": "stderr",
     "output_type": "stream",
     "text": [
      "[I 2023-08-20 15:39:51,271] Trial 40 finished with value: 0.8338983050847457 and parameters: {'num_train_epochs': 7, 'per_device_train_batch_size': 32, 'warmup_steps': 231, 'weight_decay': 0.05272124694737593, 'learning_rate': 0.0032961045775229004}. Best is trial 29 with value: 0.8576271186440678.\n"
     ]
    },
    {
     "name": "stdout",
     "output_type": "stream",
     "text": [
      "Trainer is running on: mps:0\n"
     ]
    },
    {
     "name": "stderr",
     "output_type": "stream",
     "text": [
      "/Users/anshulvij/opt/anaconda3/lib/python3.9/site-packages/transformers/optimization.py:411: FutureWarning: This implementation of AdamW is deprecated and will be removed in a future version. Use the PyTorch implementation torch.optim.AdamW instead, or set `no_deprecation_warning=True` to disable this warning\n",
      "  warnings.warn(\n"
     ]
    },
    {
     "data": {
      "text/html": [
       "\n",
       "    <div>\n",
       "      \n",
       "      <progress value='110' max='110' style='width:300px; height:20px; vertical-align: middle;'></progress>\n",
       "      [110/110 01:30, Epoch 5/5]\n",
       "    </div>\n",
       "    <table border=\"1\" class=\"dataframe\">\n",
       "  <thead>\n",
       " <tr style=\"text-align: left;\">\n",
       "      <th>Step</th>\n",
       "      <th>Training Loss</th>\n",
       "      <th>Validation Loss</th>\n",
       "    </tr>\n",
       "  </thead>\n",
       "  <tbody>\n",
       "  </tbody>\n",
       "</table><p>"
      ],
      "text/plain": [
       "<IPython.core.display.HTML object>"
      ]
     },
     "metadata": {},
     "output_type": "display_data"
    },
    {
     "data": {
      "text/html": [
       "\n",
       "    <div>\n",
       "      \n",
       "      <progress value='5' max='5' style='width:300px; height:20px; vertical-align: middle;'></progress>\n",
       "      [5/5 00:00]\n",
       "    </div>\n",
       "    "
      ],
      "text/plain": [
       "<IPython.core.display.HTML object>"
      ]
     },
     "metadata": {},
     "output_type": "display_data"
    },
    {
     "name": "stderr",
     "output_type": "stream",
     "text": [
      "[I 2023-08-20 15:41:26,897] Trial 41 finished with value: 0.823728813559322 and parameters: {'num_train_epochs': 5, 'per_device_train_batch_size': 64, 'warmup_steps': 37, 'weight_decay': 0.04861979186757601, 'learning_rate': 0.0013550535933686523}. Best is trial 29 with value: 0.8576271186440678.\n"
     ]
    },
    {
     "name": "stdout",
     "output_type": "stream",
     "text": [
      "Trainer is running on: mps:0\n"
     ]
    },
    {
     "name": "stderr",
     "output_type": "stream",
     "text": [
      "/Users/anshulvij/opt/anaconda3/lib/python3.9/site-packages/transformers/optimization.py:411: FutureWarning: This implementation of AdamW is deprecated and will be removed in a future version. Use the PyTorch implementation torch.optim.AdamW instead, or set `no_deprecation_warning=True` to disable this warning\n",
      "  warnings.warn(\n"
     ]
    },
    {
     "data": {
      "text/html": [
       "\n",
       "    <div>\n",
       "      \n",
       "      <progress value='132' max='132' style='width:300px; height:20px; vertical-align: middle;'></progress>\n",
       "      [132/132 01:47, Epoch 6/6]\n",
       "    </div>\n",
       "    <table border=\"1\" class=\"dataframe\">\n",
       "  <thead>\n",
       " <tr style=\"text-align: left;\">\n",
       "      <th>Step</th>\n",
       "      <th>Training Loss</th>\n",
       "      <th>Validation Loss</th>\n",
       "    </tr>\n",
       "  </thead>\n",
       "  <tbody>\n",
       "  </tbody>\n",
       "</table><p>"
      ],
      "text/plain": [
       "<IPython.core.display.HTML object>"
      ]
     },
     "metadata": {},
     "output_type": "display_data"
    },
    {
     "data": {
      "text/html": [
       "\n",
       "    <div>\n",
       "      \n",
       "      <progress value='5' max='5' style='width:300px; height:20px; vertical-align: middle;'></progress>\n",
       "      [5/5 00:00]\n",
       "    </div>\n",
       "    "
      ],
      "text/plain": [
       "<IPython.core.display.HTML object>"
      ]
     },
     "metadata": {},
     "output_type": "display_data"
    },
    {
     "name": "stderr",
     "output_type": "stream",
     "text": [
      "[I 2023-08-20 15:43:21,218] Trial 42 finished with value: 0.8440677966101695 and parameters: {'num_train_epochs': 6, 'per_device_train_batch_size': 64, 'warmup_steps': 56, 'weight_decay': 0.000596843650938636, 'learning_rate': 0.0017260738331816828}. Best is trial 29 with value: 0.8576271186440678.\n"
     ]
    },
    {
     "name": "stdout",
     "output_type": "stream",
     "text": [
      "Trainer is running on: mps:0\n"
     ]
    },
    {
     "name": "stderr",
     "output_type": "stream",
     "text": [
      "/Users/anshulvij/opt/anaconda3/lib/python3.9/site-packages/transformers/optimization.py:411: FutureWarning: This implementation of AdamW is deprecated and will be removed in a future version. Use the PyTorch implementation torch.optim.AdamW instead, or set `no_deprecation_warning=True` to disable this warning\n",
      "  warnings.warn(\n"
     ]
    },
    {
     "data": {
      "text/html": [
       "\n",
       "    <div>\n",
       "      \n",
       "      <progress value='860' max='860' style='width:300px; height:20px; vertical-align: middle;'></progress>\n",
       "      [860/860 02:38, Epoch 5/5]\n",
       "    </div>\n",
       "    <table border=\"1\" class=\"dataframe\">\n",
       "  <thead>\n",
       " <tr style=\"text-align: left;\">\n",
       "      <th>Step</th>\n",
       "      <th>Training Loss</th>\n",
       "      <th>Validation Loss</th>\n",
       "      <th>Accuracy</th>\n",
       "    </tr>\n",
       "  </thead>\n",
       "  <tbody>\n",
       "    <tr>\n",
       "      <td>250</td>\n",
       "      <td>0.647300</td>\n",
       "      <td>0.545149</td>\n",
       "      <td>0.800000</td>\n",
       "    </tr>\n",
       "    <tr>\n",
       "      <td>500</td>\n",
       "      <td>0.503400</td>\n",
       "      <td>0.492159</td>\n",
       "      <td>0.827119</td>\n",
       "    </tr>\n",
       "    <tr>\n",
       "      <td>750</td>\n",
       "      <td>0.345600</td>\n",
       "      <td>0.443406</td>\n",
       "      <td>0.844068</td>\n",
       "    </tr>\n",
       "  </tbody>\n",
       "</table><p>"
      ],
      "text/plain": [
       "<IPython.core.display.HTML object>"
      ]
     },
     "metadata": {},
     "output_type": "display_data"
    },
    {
     "data": {
      "text/html": [
       "\n",
       "    <div>\n",
       "      \n",
       "      <progress value='5' max='5' style='width:300px; height:20px; vertical-align: middle;'></progress>\n",
       "      [5/5 00:00]\n",
       "    </div>\n",
       "    "
      ],
      "text/plain": [
       "<IPython.core.display.HTML object>"
      ]
     },
     "metadata": {},
     "output_type": "display_data"
    },
    {
     "name": "stderr",
     "output_type": "stream",
     "text": [
      "[I 2023-08-20 15:46:05,532] Trial 43 finished with value: 0.8271186440677966 and parameters: {'num_train_epochs': 5, 'per_device_train_batch_size': 8, 'warmup_steps': 201, 'weight_decay': 0.05668021917249309, 'learning_rate': 0.002299662625750226}. Best is trial 29 with value: 0.8576271186440678.\n"
     ]
    },
    {
     "name": "stdout",
     "output_type": "stream",
     "text": [
      "Trainer is running on: mps:0\n"
     ]
    },
    {
     "name": "stderr",
     "output_type": "stream",
     "text": [
      "/Users/anshulvij/opt/anaconda3/lib/python3.9/site-packages/transformers/optimization.py:411: FutureWarning: This implementation of AdamW is deprecated and will be removed in a future version. Use the PyTorch implementation torch.optim.AdamW instead, or set `no_deprecation_warning=True` to disable this warning\n",
      "  warnings.warn(\n"
     ]
    },
    {
     "data": {
      "text/html": [
       "\n",
       "    <div>\n",
       "      \n",
       "      <progress value='66' max='66' style='width:300px; height:20px; vertical-align: middle;'></progress>\n",
       "      [66/66 00:53, Epoch 3/3]\n",
       "    </div>\n",
       "    <table border=\"1\" class=\"dataframe\">\n",
       "  <thead>\n",
       " <tr style=\"text-align: left;\">\n",
       "      <th>Step</th>\n",
       "      <th>Training Loss</th>\n",
       "      <th>Validation Loss</th>\n",
       "    </tr>\n",
       "  </thead>\n",
       "  <tbody>\n",
       "  </tbody>\n",
       "</table><p>"
      ],
      "text/plain": [
       "<IPython.core.display.HTML object>"
      ]
     },
     "metadata": {},
     "output_type": "display_data"
    },
    {
     "data": {
      "text/html": [
       "\n",
       "    <div>\n",
       "      \n",
       "      <progress value='5' max='5' style='width:300px; height:20px; vertical-align: middle;'></progress>\n",
       "      [5/5 00:00]\n",
       "    </div>\n",
       "    "
      ],
      "text/plain": [
       "<IPython.core.display.HTML object>"
      ]
     },
     "metadata": {},
     "output_type": "display_data"
    },
    {
     "name": "stderr",
     "output_type": "stream",
     "text": [
      "[I 2023-08-20 15:47:04,614] Trial 44 finished with value: 0.7694915254237288 and parameters: {'num_train_epochs': 3, 'per_device_train_batch_size': 64, 'warmup_steps': 89, 'weight_decay': 0.05941868221855476, 'learning_rate': 0.0007524871712930556}. Best is trial 29 with value: 0.8576271186440678.\n"
     ]
    },
    {
     "name": "stdout",
     "output_type": "stream",
     "text": [
      "Trainer is running on: mps:0\n"
     ]
    },
    {
     "name": "stderr",
     "output_type": "stream",
     "text": [
      "/Users/anshulvij/opt/anaconda3/lib/python3.9/site-packages/transformers/optimization.py:411: FutureWarning: This implementation of AdamW is deprecated and will be removed in a future version. Use the PyTorch implementation torch.optim.AdamW instead, or set `no_deprecation_warning=True` to disable this warning\n",
      "  warnings.warn(\n"
     ]
    },
    {
     "data": {
      "text/html": [
       "\n",
       "    <div>\n",
       "      \n",
       "      <progress value='344' max='344' style='width:300px; height:20px; vertical-align: middle;'></progress>\n",
       "      [344/344 02:36, Epoch 8/8]\n",
       "    </div>\n",
       "    <table border=\"1\" class=\"dataframe\">\n",
       "  <thead>\n",
       " <tr style=\"text-align: left;\">\n",
       "      <th>Step</th>\n",
       "      <th>Training Loss</th>\n",
       "      <th>Validation Loss</th>\n",
       "      <th>Accuracy</th>\n",
       "    </tr>\n",
       "  </thead>\n",
       "  <tbody>\n",
       "    <tr>\n",
       "      <td>250</td>\n",
       "      <td>0.484100</td>\n",
       "      <td>0.411561</td>\n",
       "      <td>0.850847</td>\n",
       "    </tr>\n",
       "  </tbody>\n",
       "</table><p>"
      ],
      "text/plain": [
       "<IPython.core.display.HTML object>"
      ]
     },
     "metadata": {},
     "output_type": "display_data"
    },
    {
     "data": {
      "text/html": [
       "\n",
       "    <div>\n",
       "      \n",
       "      <progress value='5' max='5' style='width:300px; height:20px; vertical-align: middle;'></progress>\n",
       "      [5/5 00:00]\n",
       "    </div>\n",
       "    "
      ],
      "text/plain": [
       "<IPython.core.display.HTML object>"
      ]
     },
     "metadata": {},
     "output_type": "display_data"
    },
    {
     "name": "stderr",
     "output_type": "stream",
     "text": [
      "[I 2023-08-20 15:49:45,898] Trial 45 finished with value: 0.847457627118644 and parameters: {'num_train_epochs': 8, 'per_device_train_batch_size': 32, 'warmup_steps': 24, 'weight_decay': 0.040334013509401564, 'learning_rate': 0.0011729531362079026}. Best is trial 29 with value: 0.8576271186440678.\n"
     ]
    },
    {
     "name": "stdout",
     "output_type": "stream",
     "text": [
      "Trainer is running on: mps:0\n"
     ]
    },
    {
     "name": "stderr",
     "output_type": "stream",
     "text": [
      "/Users/anshulvij/opt/anaconda3/lib/python3.9/site-packages/transformers/optimization.py:411: FutureWarning: This implementation of AdamW is deprecated and will be removed in a future version. Use the PyTorch implementation torch.optim.AdamW instead, or set `no_deprecation_warning=True` to disable this warning\n",
      "  warnings.warn(\n"
     ]
    },
    {
     "data": {
      "text/html": [
       "\n",
       "    <div>\n",
       "      \n",
       "      <progress value='132' max='132' style='width:300px; height:20px; vertical-align: middle;'></progress>\n",
       "      [132/132 01:46, Epoch 6/6]\n",
       "    </div>\n",
       "    <table border=\"1\" class=\"dataframe\">\n",
       "  <thead>\n",
       " <tr style=\"text-align: left;\">\n",
       "      <th>Step</th>\n",
       "      <th>Training Loss</th>\n",
       "      <th>Validation Loss</th>\n",
       "    </tr>\n",
       "  </thead>\n",
       "  <tbody>\n",
       "  </tbody>\n",
       "</table><p>"
      ],
      "text/plain": [
       "<IPython.core.display.HTML object>"
      ]
     },
     "metadata": {},
     "output_type": "display_data"
    },
    {
     "data": {
      "text/html": [
       "\n",
       "    <div>\n",
       "      \n",
       "      <progress value='5' max='5' style='width:300px; height:20px; vertical-align: middle;'></progress>\n",
       "      [5/5 00:00]\n",
       "    </div>\n",
       "    "
      ],
      "text/plain": [
       "<IPython.core.display.HTML object>"
      ]
     },
     "metadata": {},
     "output_type": "display_data"
    },
    {
     "name": "stderr",
     "output_type": "stream",
     "text": [
      "[I 2023-08-20 15:51:37,935] Trial 46 finished with value: 0.8169491525423729 and parameters: {'num_train_epochs': 6, 'per_device_train_batch_size': 64, 'warmup_steps': 165, 'weight_decay': 0.06867536029652702, 'learning_rate': 0.006297839406171058}. Best is trial 29 with value: 0.8576271186440678.\n"
     ]
    },
    {
     "name": "stdout",
     "output_type": "stream",
     "text": [
      "Trainer is running on: mps:0\n"
     ]
    },
    {
     "name": "stderr",
     "output_type": "stream",
     "text": [
      "/Users/anshulvij/opt/anaconda3/lib/python3.9/site-packages/transformers/optimization.py:411: FutureWarning: This implementation of AdamW is deprecated and will be removed in a future version. Use the PyTorch implementation torch.optim.AdamW instead, or set `no_deprecation_warning=True` to disable this warning\n",
      "  warnings.warn(\n"
     ]
    },
    {
     "data": {
      "text/html": [
       "\n",
       "    <div>\n",
       "      \n",
       "      <progress value='1204' max='1204' style='width:300px; height:20px; vertical-align: middle;'></progress>\n",
       "      [1204/1204 03:37, Epoch 7/7]\n",
       "    </div>\n",
       "    <table border=\"1\" class=\"dataframe\">\n",
       "  <thead>\n",
       " <tr style=\"text-align: left;\">\n",
       "      <th>Step</th>\n",
       "      <th>Training Loss</th>\n",
       "      <th>Validation Loss</th>\n",
       "      <th>Accuracy</th>\n",
       "    </tr>\n",
       "  </thead>\n",
       "  <tbody>\n",
       "    <tr>\n",
       "      <td>250</td>\n",
       "      <td>0.638100</td>\n",
       "      <td>0.466574</td>\n",
       "      <td>0.830508</td>\n",
       "    </tr>\n",
       "    <tr>\n",
       "      <td>500</td>\n",
       "      <td>0.504100</td>\n",
       "      <td>0.467573</td>\n",
       "      <td>0.827119</td>\n",
       "    </tr>\n",
       "    <tr>\n",
       "      <td>750</td>\n",
       "      <td>0.370800</td>\n",
       "      <td>0.458472</td>\n",
       "      <td>0.830508</td>\n",
       "    </tr>\n",
       "    <tr>\n",
       "      <td>1000</td>\n",
       "      <td>0.268100</td>\n",
       "      <td>0.472788</td>\n",
       "      <td>0.840678</td>\n",
       "    </tr>\n",
       "  </tbody>\n",
       "</table><p>"
      ],
      "text/plain": [
       "<IPython.core.display.HTML object>"
      ]
     },
     "metadata": {},
     "output_type": "display_data"
    },
    {
     "data": {
      "text/html": [
       "\n",
       "    <div>\n",
       "      \n",
       "      <progress value='5' max='5' style='width:300px; height:20px; vertical-align: middle;'></progress>\n",
       "      [5/5 00:00]\n",
       "    </div>\n",
       "    "
      ],
      "text/plain": [
       "<IPython.core.display.HTML object>"
      ]
     },
     "metadata": {},
     "output_type": "display_data"
    },
    {
     "name": "stderr",
     "output_type": "stream",
     "text": [
      "[I 2023-08-20 15:55:19,604] Trial 47 finished with value: 0.8406779661016949 and parameters: {'num_train_epochs': 7, 'per_device_train_batch_size': 8, 'warmup_steps': 123, 'weight_decay': 0.06211821706491504, 'learning_rate': 0.0027774770952546375}. Best is trial 29 with value: 0.8576271186440678.\n"
     ]
    },
    {
     "name": "stdout",
     "output_type": "stream",
     "text": [
      "Trainer is running on: mps:0\n"
     ]
    },
    {
     "name": "stderr",
     "output_type": "stream",
     "text": [
      "/Users/anshulvij/opt/anaconda3/lib/python3.9/site-packages/transformers/optimization.py:411: FutureWarning: This implementation of AdamW is deprecated and will be removed in a future version. Use the PyTorch implementation torch.optim.AdamW instead, or set `no_deprecation_warning=True` to disable this warning\n",
      "  warnings.warn(\n"
     ]
    },
    {
     "data": {
      "text/html": [
       "\n",
       "    <div>\n",
       "      \n",
       "      <progress value='215' max='215' style='width:300px; height:20px; vertical-align: middle;'></progress>\n",
       "      [215/215 01:37, Epoch 5/5]\n",
       "    </div>\n",
       "    <table border=\"1\" class=\"dataframe\">\n",
       "  <thead>\n",
       " <tr style=\"text-align: left;\">\n",
       "      <th>Step</th>\n",
       "      <th>Training Loss</th>\n",
       "      <th>Validation Loss</th>\n",
       "    </tr>\n",
       "  </thead>\n",
       "  <tbody>\n",
       "  </tbody>\n",
       "</table><p>"
      ],
      "text/plain": [
       "<IPython.core.display.HTML object>"
      ]
     },
     "metadata": {},
     "output_type": "display_data"
    },
    {
     "data": {
      "text/html": [
       "\n",
       "    <div>\n",
       "      \n",
       "      <progress value='5' max='5' style='width:300px; height:20px; vertical-align: middle;'></progress>\n",
       "      [5/5 00:00]\n",
       "    </div>\n",
       "    "
      ],
      "text/plain": [
       "<IPython.core.display.HTML object>"
      ]
     },
     "metadata": {},
     "output_type": "display_data"
    },
    {
     "name": "stderr",
     "output_type": "stream",
     "text": [
      "[I 2023-08-20 15:57:02,251] Trial 48 finished with value: 0.8305084745762712 and parameters: {'num_train_epochs': 5, 'per_device_train_batch_size': 32, 'warmup_steps': 50, 'weight_decay': 0.07524678690313377, 'learning_rate': 0.002384474651380229}. Best is trial 29 with value: 0.8576271186440678.\n"
     ]
    },
    {
     "name": "stdout",
     "output_type": "stream",
     "text": [
      "Trainer is running on: mps:0\n"
     ]
    },
    {
     "name": "stderr",
     "output_type": "stream",
     "text": [
      "/Users/anshulvij/opt/anaconda3/lib/python3.9/site-packages/transformers/optimization.py:411: FutureWarning: This implementation of AdamW is deprecated and will be removed in a future version. Use the PyTorch implementation torch.optim.AdamW instead, or set `no_deprecation_warning=True` to disable this warning\n",
      "  warnings.warn(\n"
     ]
    },
    {
     "data": {
      "text/html": [
       "\n",
       "    <div>\n",
       "      \n",
       "      <progress value='176' max='176' style='width:300px; height:20px; vertical-align: middle;'></progress>\n",
       "      [176/176 02:23, Epoch 8/8]\n",
       "    </div>\n",
       "    <table border=\"1\" class=\"dataframe\">\n",
       "  <thead>\n",
       " <tr style=\"text-align: left;\">\n",
       "      <th>Step</th>\n",
       "      <th>Training Loss</th>\n",
       "      <th>Validation Loss</th>\n",
       "    </tr>\n",
       "  </thead>\n",
       "  <tbody>\n",
       "  </tbody>\n",
       "</table><p>"
      ],
      "text/plain": [
       "<IPython.core.display.HTML object>"
      ]
     },
     "metadata": {},
     "output_type": "display_data"
    },
    {
     "data": {
      "text/html": [
       "\n",
       "    <div>\n",
       "      \n",
       "      <progress value='5' max='5' style='width:300px; height:20px; vertical-align: middle;'></progress>\n",
       "      [5/5 00:00]\n",
       "    </div>\n",
       "    "
      ],
      "text/plain": [
       "<IPython.core.display.HTML object>"
      ]
     },
     "metadata": {},
     "output_type": "display_data"
    },
    {
     "name": "stderr",
     "output_type": "stream",
     "text": [
      "[I 2023-08-20 15:59:31,674] Trial 49 finished with value: 0.8542372881355932 and parameters: {'num_train_epochs': 8, 'per_device_train_batch_size': 64, 'warmup_steps': 70, 'weight_decay': 0.05322090685793005, 'learning_rate': 0.0019027491153365656}. Best is trial 29 with value: 0.8576271186440678.\n"
     ]
    },
    {
     "name": "stdout",
     "output_type": "stream",
     "text": [
      "\n",
      "Optimization Results:\n",
      "Trial 1:\n",
      "  Value (Accuracy): 0.7288135593220338\n",
      "  Params: {'num_train_epochs': 10, 'per_device_train_batch_size': 64, 'warmup_steps': 416, 'weight_decay': 0.0864178182365929, 'learning_rate': 4.006946584754387e-05}\n",
      "---------------------------\n",
      "Trial 2:\n",
      "  Value (Accuracy): 0.7864406779661017\n",
      "  Params: {'num_train_epochs': 6, 'per_device_train_batch_size': 16, 'warmup_steps': 178, 'weight_decay': 0.05953659664645361, 'learning_rate': 0.00011849058183535206}\n",
      "---------------------------\n",
      "Trial 3:\n",
      "  Value (Accuracy): 0.7220338983050848\n",
      "  Params: {'num_train_epochs': 2, 'per_device_train_batch_size': 8, 'warmup_steps': 119, 'weight_decay': 0.026570422078083133, 'learning_rate': 1.9273357280023197e-05}\n",
      "---------------------------\n",
      "Trial 4:\n",
      "  Value (Accuracy): 0.7966101694915254\n",
      "  Params: {'num_train_epochs': 9, 'per_device_train_batch_size': 8, 'warmup_steps': 35, 'weight_decay': 0.010844831774157916, 'learning_rate': 6.767340190117872e-05}\n",
      "---------------------------\n",
      "Trial 5:\n",
      "  Value (Accuracy): 0.8101694915254237\n",
      "  Params: {'num_train_epochs': 2, 'per_device_train_batch_size': 8, 'warmup_steps': 451, 'weight_decay': 0.022720293054870666, 'learning_rate': 0.000693522105434715}\n",
      "---------------------------\n",
      "Trial 6:\n",
      "  Value (Accuracy): 0.7559322033898305\n",
      "  Params: {'num_train_epochs': 2, 'per_device_train_batch_size': 8, 'warmup_steps': 317, 'weight_decay': 0.02136262824388965, 'learning_rate': 0.0001013144918873407}\n",
      "---------------------------\n",
      "Trial 7:\n",
      "  Value (Accuracy): 0.8372881355932204\n",
      "  Params: {'num_train_epochs': 7, 'per_device_train_batch_size': 64, 'warmup_steps': 50, 'weight_decay': 0.06290031023039559, 'learning_rate': 0.0023661656003565383}\n",
      "---------------------------\n",
      "Trial 8:\n",
      "  Value (Accuracy): 0.735593220338983\n",
      "  Params: {'num_train_epochs': 10, 'per_device_train_batch_size': 32, 'warmup_steps': 323, 'weight_decay': 0.08995642429250524, 'learning_rate': 1.7017878712098978e-05}\n",
      "---------------------------\n",
      "Trial 9:\n",
      "  Value (Accuracy): 0.7084745762711865\n",
      "  Params: {'num_train_epochs': 4, 'per_device_train_batch_size': 8, 'warmup_steps': 480, 'weight_decay': 0.008707000793174813, 'learning_rate': 0.006649994678744354}\n",
      "---------------------------\n",
      "Trial 10:\n",
      "  Value (Accuracy): 0.8033898305084746\n",
      "  Params: {'num_train_epochs': 8, 'per_device_train_batch_size': 32, 'warmup_steps': 416, 'weight_decay': 0.09149230988250258, 'learning_rate': 0.0003429655698153725}\n",
      "---------------------------\n",
      "Trial 11:\n",
      "  Value (Accuracy): 0.8440677966101695\n",
      "  Params: {'num_train_epochs': 6, 'per_device_train_batch_size': 64, 'warmup_steps': 15, 'weight_decay': 0.056417565762603525, 'learning_rate': 0.0025972802613795243}\n",
      "---------------------------\n",
      "Trial 12:\n",
      "  Value (Accuracy): 0.8406779661016949\n",
      "  Params: {'num_train_epochs': 6, 'per_device_train_batch_size': 64, 'warmup_steps': 6, 'weight_decay': 0.057167535327949846, 'learning_rate': 0.0026892793271674504}\n",
      "---------------------------\n",
      "Trial 13:\n",
      "  Value (Accuracy): 0.847457627118644\n",
      "  Params: {'num_train_epochs': 5, 'per_device_train_batch_size': 64, 'warmup_steps': 2, 'weight_decay': 0.044354486614017856, 'learning_rate': 0.001563057658262979}\n",
      "---------------------------\n",
      "Trial 14:\n",
      "  Value (Accuracy): 0.8203389830508474\n",
      "  Params: {'num_train_epochs': 5, 'per_device_train_batch_size': 64, 'warmup_steps': 117, 'weight_decay': 0.040528565735494876, 'learning_rate': 0.0011243495127365526}\n",
      "---------------------------\n",
      "Trial 15:\n",
      "  Value (Accuracy): 0.7932203389830509\n",
      "  Params: {'num_train_epochs': 4, 'per_device_train_batch_size': 64, 'warmup_steps': 210, 'weight_decay': 0.0436981404230062, 'learning_rate': 0.007770263469183684}\n",
      "---------------------------\n",
      "Trial 16:\n",
      "  Value (Accuracy): 0.847457627118644\n",
      "  Params: {'num_train_epochs': 4, 'per_device_train_batch_size': 16, 'warmup_steps': 64, 'weight_decay': 0.07319688927984164, 'learning_rate': 0.0017434571888229327}\n",
      "---------------------------\n",
      "Trial 17:\n",
      "  Value (Accuracy): 0.8\n",
      "  Params: {'num_train_epochs': 4, 'per_device_train_batch_size': 16, 'warmup_steps': 114, 'weight_decay': 0.07420377247352274, 'learning_rate': 0.0003789009741885353}\n",
      "---------------------------\n",
      "Trial 18:\n",
      "  Value (Accuracy): 0.7796610169491526\n",
      "  Params: {'num_train_epochs': 1, 'per_device_train_batch_size': 16, 'warmup_steps': 72, 'weight_decay': 0.07226682160699228, 'learning_rate': 0.0009866176116726621}\n",
      "---------------------------\n",
      "Trial 19:\n",
      "  Value (Accuracy): 0.7898305084745763\n",
      "  Params: {'num_train_epochs': 3, 'per_device_train_batch_size': 16, 'warmup_steps': 183, 'weight_decay': 0.04466878791057916, 'learning_rate': 0.00019468942253228117}\n",
      "---------------------------\n",
      "Trial 20:\n",
      "  Value (Accuracy): 0.8169491525423729\n",
      "  Params: {'num_train_epochs': 5, 'per_device_train_batch_size': 16, 'warmup_steps': 261, 'weight_decay': 0.035151870447208994, 'learning_rate': 0.0005860381454718034}\n",
      "---------------------------\n",
      "Trial 21:\n",
      "  Value (Accuracy): 0.8542372881355932\n",
      "  Params: {'num_train_epochs': 7, 'per_device_train_batch_size': 32, 'warmup_steps': 82, 'weight_decay': 0.050534541430133535, 'learning_rate': 0.0015626889733172966}\n",
      "---------------------------\n",
      "Trial 22:\n",
      "  Value (Accuracy): 0.8338983050847457\n",
      "  Params: {'num_train_epochs': 7, 'per_device_train_batch_size': 32, 'warmup_steps': 83, 'weight_decay': 0.048982663250162095, 'learning_rate': 0.0015491344058346092}\n",
      "---------------------------\n",
      "Trial 23:\n",
      "  Value (Accuracy): 0.8508474576271187\n",
      "  Params: {'num_train_epochs': 7, 'per_device_train_batch_size': 32, 'warmup_steps': 156, 'weight_decay': 0.06815079218801787, 'learning_rate': 0.004713224482642352}\n",
      "---------------------------\n",
      "Trial 24:\n",
      "  Value (Accuracy): 0.8305084745762712\n",
      "  Params: {'num_train_epochs': 8, 'per_device_train_batch_size': 32, 'warmup_steps': 157, 'weight_decay': 0.049206201111705296, 'learning_rate': 0.00424263180439193}\n",
      "---------------------------\n",
      "Trial 25:\n",
      "  Value (Accuracy): 0.8372881355932204\n",
      "  Params: {'num_train_epochs': 7, 'per_device_train_batch_size': 32, 'warmup_steps': 1, 'weight_decay': 0.03269497948250701, 'learning_rate': 0.004319340987712404}\n",
      "---------------------------\n",
      "Trial 26:\n",
      "  Value (Accuracy): 0.8271186440677966\n",
      "  Params: {'num_train_epochs': 8, 'per_device_train_batch_size': 32, 'warmup_steps': 239, 'weight_decay': 0.09919164784952968, 'learning_rate': 0.008781033834690205}\n",
      "---------------------------\n",
      "Trial 27:\n",
      "  Value (Accuracy): 0.8338983050847457\n",
      "  Params: {'num_train_epochs': 9, 'per_device_train_batch_size': 32, 'warmup_steps': 139, 'weight_decay': 0.06617965590492522, 'learning_rate': 0.004113527786603918}\n",
      "---------------------------\n",
      "Trial 28:\n",
      "  Value (Accuracy): 0.8508474576271187\n",
      "  Params: {'num_train_epochs': 7, 'per_device_train_batch_size': 32, 'warmup_steps': 84, 'weight_decay': 0.05471679062278576, 'learning_rate': 0.0013323560104672118}\n",
      "---------------------------\n",
      "Trial 29:\n",
      "  Value (Accuracy): 0.8305084745762712\n",
      "  Params: {'num_train_epochs': 7, 'per_device_train_batch_size': 32, 'warmup_steps': 105, 'weight_decay': 0.052799311997308127, 'learning_rate': 0.0007771235499745618}\n",
      "---------------------------\n",
      "Trial 30:\n",
      "  Value (Accuracy): 0.8576271186440678\n",
      "  Params: {'num_train_epochs': 9, 'per_device_train_batch_size': 32, 'warmup_steps': 210, 'weight_decay': 0.07830680597137599, 'learning_rate': 0.0010710659975038334}\n",
      "---------------------------\n",
      "Trial 31:\n",
      "  Value (Accuracy): 0.8305084745762712\n",
      "  Params: {'num_train_epochs': 10, 'per_device_train_batch_size': 32, 'warmup_steps': 295, 'weight_decay': 0.08076634354748458, 'learning_rate': 0.0004559277898826445}\n",
      "---------------------------\n",
      "Trial 32:\n",
      "  Value (Accuracy): 0.847457627118644\n",
      "  Params: {'num_train_epochs': 9, 'per_device_train_batch_size': 32, 'warmup_steps': 219, 'weight_decay': 0.06595275278856609, 'learning_rate': 0.0010501427277445235}\n",
      "---------------------------\n",
      "Trial 33:\n",
      "  Value (Accuracy): 0.847457627118644\n",
      "  Params: {'num_train_epochs': 8, 'per_device_train_batch_size': 32, 'warmup_steps': 173, 'weight_decay': 0.060478100667010155, 'learning_rate': 0.0005744167391261727}\n",
      "---------------------------\n",
      "Trial 34:\n",
      "  Value (Accuracy): 0.8372881355932204\n",
      "  Params: {'num_train_epochs': 7, 'per_device_train_batch_size': 32, 'warmup_steps': 145, 'weight_decay': 0.07948952365077948, 'learning_rate': 0.0013234870280065183}\n",
      "---------------------------\n",
      "Trial 35:\n",
      "  Value (Accuracy): 0.7932203389830509\n",
      "  Params: {'num_train_epochs': 6, 'per_device_train_batch_size': 32, 'warmup_steps': 186, 'weight_decay': 0.06482885404944655, 'learning_rate': 0.00024758895171403254}\n",
      "---------------------------\n",
      "Trial 36:\n",
      "  Value (Accuracy): 0.8372881355932204\n",
      "  Params: {'num_train_epochs': 9, 'per_device_train_batch_size': 32, 'warmup_steps': 94, 'weight_decay': 0.05437898403946771, 'learning_rate': 0.0008672425553303243}\n",
      "---------------------------\n",
      "Trial 37:\n",
      "  Value (Accuracy): 0.8305084745762712\n",
      "  Params: {'num_train_epochs': 8, 'per_device_train_batch_size': 32, 'warmup_steps': 39, 'weight_decay': 0.06944802891236256, 'learning_rate': 0.0020717186109463484}\n",
      "---------------------------\n",
      "Trial 38:\n",
      "  Value (Accuracy): 0.8169491525423729\n",
      "  Params: {'num_train_epochs': 6, 'per_device_train_batch_size': 32, 'warmup_steps': 266, 'weight_decay': 0.059883387437752, 'learning_rate': 0.0031763216600595007}\n",
      "---------------------------\n",
      "Trial 39:\n",
      "  Value (Accuracy): 0.8372881355932204\n",
      "  Params: {'num_train_epochs': 10, 'per_device_train_batch_size': 8, 'warmup_steps': 134, 'weight_decay': 0.08192142004567379, 'learning_rate': 0.0017344846346965114}\n",
      "---------------------------\n",
      "Trial 40:\n",
      "  Value (Accuracy): 0.8271186440677966\n",
      "  Params: {'num_train_epochs': 9, 'per_device_train_batch_size': 32, 'warmup_steps': 360, 'weight_decay': 0.06271065261551571, 'learning_rate': 0.00560494521976}\n",
      "---------------------------\n",
      "Trial 41:\n",
      "  Value (Accuracy): 0.8338983050847457\n",
      "  Params: {'num_train_epochs': 7, 'per_device_train_batch_size': 32, 'warmup_steps': 231, 'weight_decay': 0.05272124694737593, 'learning_rate': 0.0032961045775229004}\n",
      "---------------------------\n",
      "Trial 42:\n",
      "  Value (Accuracy): 0.823728813559322\n",
      "  Params: {'num_train_epochs': 5, 'per_device_train_batch_size': 64, 'warmup_steps': 37, 'weight_decay': 0.04861979186757601, 'learning_rate': 0.0013550535933686523}\n",
      "---------------------------\n",
      "Trial 43:\n",
      "  Value (Accuracy): 0.8440677966101695\n",
      "  Params: {'num_train_epochs': 6, 'per_device_train_batch_size': 64, 'warmup_steps': 56, 'weight_decay': 0.000596843650938636, 'learning_rate': 0.0017260738331816828}\n",
      "---------------------------\n",
      "Trial 44:\n",
      "  Value (Accuracy): 0.8271186440677966\n",
      "  Params: {'num_train_epochs': 5, 'per_device_train_batch_size': 8, 'warmup_steps': 201, 'weight_decay': 0.05668021917249309, 'learning_rate': 0.002299662625750226}\n",
      "---------------------------\n",
      "Trial 45:\n",
      "  Value (Accuracy): 0.7694915254237288\n",
      "  Params: {'num_train_epochs': 3, 'per_device_train_batch_size': 64, 'warmup_steps': 89, 'weight_decay': 0.05941868221855476, 'learning_rate': 0.0007524871712930556}\n",
      "---------------------------\n",
      "Trial 46:\n",
      "  Value (Accuracy): 0.847457627118644\n",
      "  Params: {'num_train_epochs': 8, 'per_device_train_batch_size': 32, 'warmup_steps': 24, 'weight_decay': 0.040334013509401564, 'learning_rate': 0.0011729531362079026}\n",
      "---------------------------\n",
      "Trial 47:\n",
      "  Value (Accuracy): 0.8169491525423729\n",
      "  Params: {'num_train_epochs': 6, 'per_device_train_batch_size': 64, 'warmup_steps': 165, 'weight_decay': 0.06867536029652702, 'learning_rate': 0.006297839406171058}\n",
      "---------------------------\n",
      "Trial 48:\n",
      "  Value (Accuracy): 0.8406779661016949\n",
      "  Params: {'num_train_epochs': 7, 'per_device_train_batch_size': 8, 'warmup_steps': 123, 'weight_decay': 0.06211821706491504, 'learning_rate': 0.0027774770952546375}\n",
      "---------------------------\n",
      "Trial 49:\n",
      "  Value (Accuracy): 0.8305084745762712\n",
      "  Params: {'num_train_epochs': 5, 'per_device_train_batch_size': 32, 'warmup_steps': 50, 'weight_decay': 0.07524678690313377, 'learning_rate': 0.002384474651380229}\n",
      "---------------------------\n",
      "Trial 50:\n",
      "  Value (Accuracy): 0.8542372881355932\n",
      "  Params: {'num_train_epochs': 8, 'per_device_train_batch_size': 64, 'warmup_steps': 70, 'weight_decay': 0.05322090685793005, 'learning_rate': 0.0019027491153365656}\n",
      "---------------------------\n"
     ]
    },
    {
     "ename": "NameError",
     "evalue": "name 'model_t' is not defined",
     "output_type": "error",
     "traceback": [
      "\u001b[0;31m---------------------------------------------------------------------------\u001b[0m",
      "\u001b[0;31mNameError\u001b[0m                                 Traceback (most recent call last)",
      "Input \u001b[0;32mIn [31]\u001b[0m, in \u001b[0;36m<cell line: 30>\u001b[0;34m()\u001b[0m\n\u001b[1;32m     28\u001b[0m \u001b[38;5;66;03m# 5. Train with the best parameters\u001b[39;00m\n\u001b[1;32m     29\u001b[0m best_params \u001b[38;5;241m=\u001b[39m study\u001b[38;5;241m.\u001b[39mbest_params\n\u001b[0;32m---> 30\u001b[0m trainer \u001b[38;5;241m=\u001b[39m train_with_best_params(train_dataset_t, val_dataset,\u001b[43mmodel_t\u001b[49m, best_params)\n\u001b[1;32m     32\u001b[0m \u001b[38;5;66;03m# Save the model after optimization\u001b[39;00m\n\u001b[1;32m     33\u001b[0m trainer\u001b[38;5;241m.\u001b[39msave_model(\u001b[38;5;124m\"\u001b[39m\u001b[38;5;124mmodel_after_optimization\u001b[39m\u001b[38;5;124m\"\u001b[39m)\n",
      "\u001b[0;31mNameError\u001b[0m: name 'model_t' is not defined"
     ]
    }
   ],
   "source": [
    "# 1. Initialize model and tokenizer\n",
    "tokenizer, model = initialize_model_and_tokenizer()\n",
    "\n",
    "# 2. Process your dataframe\n",
    "processed_df = process_dataframe(processed_df)  # Assuming the dataframe is named 'processed_df'\n",
    "\n",
    "# 3. Prepare the dataset\n",
    "df_sample = processed_df.sample(frac=0.25, random_state=5)\n",
    "\n",
    "label_encoder = LabelEncoder()\n",
    "y = label_encoder.fit_transform(df_sample['Target'].values)\n",
    "X = df_sample['Headlines'].values\n",
    "\n",
    "train_dataset, val_dataset, test_dataset, y_true = prepare_dataset(X, y, tokenizer)\n",
    "\n",
    "y_t = label_encoder.fit_transform(processed_df['Target'].values)\n",
    "X_t = processed_df['Headlines'].values\n",
    "\n",
    "train_dataset_t, val_dataset_t, test_dataset_t, y_true_t = prepare_dataset(X_t, y_t, tokenizer)\n",
    "\n",
    "def model_init():\n",
    "    return AutoModelForSequenceClassification.from_pretrained('ProsusAI/finbert')\n",
    "\n",
    "# 4. Optimize hyperparameters using Optuna\n",
    "study = optimize_hyperparameters(train_dataset, val_dataset, model_init)\n",
    "print_study_results(study)\n"
   ]
  },
  {
   "cell_type": "code",
   "execution_count": 32,
   "id": "cff4575e-bc19-4307-af52-d0acc08d731e",
   "metadata": {
    "tags": []
   },
   "outputs": [
    {
     "name": "stdout",
     "output_type": "stream",
     "text": [
      "Trainer is running on: mps:0\n"
     ]
    },
    {
     "name": "stderr",
     "output_type": "stream",
     "text": [
      "/Users/anshulvij/opt/anaconda3/lib/python3.9/site-packages/transformers/optimization.py:411: FutureWarning: This implementation of AdamW is deprecated and will be removed in a future version. Use the PyTorch implementation torch.optim.AdamW instead, or set `no_deprecation_warning=True` to disable this warning\n",
      "  warnings.warn(\n"
     ]
    },
    {
     "data": {
      "text/html": [
       "\n",
       "    <div>\n",
       "      \n",
       "      <progress value='1548' max='1548' style='width:300px; height:20px; vertical-align: middle;'></progress>\n",
       "      [1548/1548 13:48, Epoch 9/9]\n",
       "    </div>\n",
       "    <table border=\"1\" class=\"dataframe\">\n",
       "  <thead>\n",
       " <tr style=\"text-align: left;\">\n",
       "      <th>Step</th>\n",
       "      <th>Training Loss</th>\n",
       "      <th>Validation Loss</th>\n",
       "      <th>Accuracy</th>\n",
       "    </tr>\n",
       "  </thead>\n",
       "  <tbody>\n",
       "    <tr>\n",
       "      <td>250</td>\n",
       "      <td>0.595600</td>\n",
       "      <td>0.495973</td>\n",
       "      <td>0.798134</td>\n",
       "    </tr>\n",
       "    <tr>\n",
       "      <td>500</td>\n",
       "      <td>0.425600</td>\n",
       "      <td>0.434460</td>\n",
       "      <td>0.826972</td>\n",
       "    </tr>\n",
       "    <tr>\n",
       "      <td>750</td>\n",
       "      <td>0.360300</td>\n",
       "      <td>0.419629</td>\n",
       "      <td>0.842239</td>\n",
       "    </tr>\n",
       "    <tr>\n",
       "      <td>1000</td>\n",
       "      <td>0.320300</td>\n",
       "      <td>0.409100</td>\n",
       "      <td>0.844784</td>\n",
       "    </tr>\n",
       "    <tr>\n",
       "      <td>1250</td>\n",
       "      <td>0.294700</td>\n",
       "      <td>0.416176</td>\n",
       "      <td>0.844784</td>\n",
       "    </tr>\n",
       "    <tr>\n",
       "      <td>1500</td>\n",
       "      <td>0.282000</td>\n",
       "      <td>0.419457</td>\n",
       "      <td>0.842239</td>\n",
       "    </tr>\n",
       "  </tbody>\n",
       "</table><p>"
      ],
      "text/plain": [
       "<IPython.core.display.HTML object>"
      ]
     },
     "metadata": {},
     "output_type": "display_data"
    },
    {
     "data": {
      "text/html": [],
      "text/plain": [
       "<IPython.core.display.HTML object>"
      ]
     },
     "metadata": {},
     "output_type": "display_data"
    },
    {
     "name": "stdout",
     "output_type": "stream",
     "text": [
      "\n",
      "Training with Best Parameters:\n",
      "Evaluation Loss: 0.40909987688064575\n",
      "Evaluation Accuracy: 0.8447837150127226\n"
     ]
    },
    {
     "data": {
      "image/png": "[encoded data removed]",
      "text/plain": [
       "<Figure size 432x288 with 1 Axes>"
      ]
     },
     "metadata": {
      "needs_background": "light"
     },
     "output_type": "display_data"
    },
    {
     "name": "stdout",
     "output_type": "stream",
     "text": [
      "\n",
      "Test Set Evaluation:\n",
      "Evaluation Loss: 0.36886531114578247\n",
      "Evaluation Accuracy: 0.8600508905852418\n",
      "              precision    recall  f1-score   support\n",
      "\n",
      "           0       0.92      0.84      0.87       437\n",
      "           1       0.87      0.89      0.88       353\n",
      "           2       0.80      0.86      0.83       389\n",
      "\n",
      "    accuracy                           0.86      1179\n",
      "   macro avg       0.86      0.86      0.86      1179\n",
      "weighted avg       0.86      0.86      0.86      1179\n",
      "\n"
     ]
    },
    {
     "data": {
      "image/png": "[encoded data removed]",
      "text/plain": [
       "<Figure size 720x504 with 2 Axes>"
      ]
     },
     "metadata": {
      "needs_background": "light"
     },
     "output_type": "display_data"
    },
    {
     "data": {
      "text/html": [],
      "text/plain": [
       "<IPython.core.display.HTML object>"
      ]
     },
     "metadata": {},
     "output_type": "display_data"
    },
    {
     "name": "stdout",
     "output_type": "stream",
     "text": [
      "\n",
      "Incorrect positive samples:\n",
      "1. sentences\n",
      "2. probabilities\n",
      "\n",
      "Incorrect negative samples:\n",
      "1. sentences\n",
      "2. probabilities\n",
      "\n",
      "Incorrect neutral samples:\n",
      "1. sentences\n",
      "2. probabilities\n"
     ]
    }
   ],
   "source": [
    "\n",
    "# 5. Train with the best parameters\n",
    "best_params = study.best_params\n",
    "trainer = train_with_best_params(train_dataset_t, val_dataset_t,model, best_params)\n",
    "\n",
    "# Save the model after optimization\n",
    "trainer.save_model(\"model_after_optimization\")\n",
    "model.config.to_json_file(\"model_after_optimization/config.json\")\n",
    "tokenizer.save_pretrained(\"model_after_optimization\")\n",
    "\n",
    "# Print the results after training with the best parameters\n",
    "results = trainer.evaluate()\n",
    "print(\"\\nTraining with Best Parameters:\")\n",
    "print(f\"Evaluation Loss: {results['eval_loss']}\")\n",
    "print(f\"Evaluation Accuracy: {results['eval_accuracy']}\")\n",
    "\n",
    "# Plot the losses\n",
    "plot_losses(trainer)\n",
    "\n",
    "# Test on the test dataset and print report and confusion matrix\n",
    "test_model(trainer, test_dataset_t, y_true_t, label_encoder)\n"
   ]
  },
  {
   "cell_type": "code",
   "execution_count": null,
   "id": "69990828-32e3-4277-bfbd-939dc8ba6240",
   "metadata": {},
   "outputs": [],
   "source": [
    "# This is to get specificity and FPR, need to enter the confusion matrix manually to get the results from the above. As best parameters can change based on the trails. \n",
    "cm = np.array([[366, 10, 61], \n",
    "               [14, 314, 25], \n",
    "               [20, 35, 334]])\n",
    "\n",
    "compute_FPR_spec_metrics(cm)"
   ]
  },
  {
   "cell_type": "code",
   "execution_count": null,
   "id": "6b8b5434-abe6-47f6-a3a6-ab5fae974816",
   "metadata": {},
   "outputs": [],
   "source": [
    "# Extract incorrect samples\n",
    "incorrect_samples = extract_incorrect_samples(trainer, test_dataset_t, label_encoder, tokenizer)\n",
    "\n",
    "# Print the sentences and probabilities\n",
    "for label, data in incorrect_samples.items():\n",
    "    print(f\"\\nIncorrect {label} samples:\")\n",
    "    for idx, (sentence, prob) in enumerate(zip(data['sentences'], data['probabilities']), 1):\n",
    "        print(f\"{idx}. {sentence} (Probability: {prob:.4f})\")"
   ]
  },
  {
   "cell_type": "code",
   "execution_count": null,
   "id": "56668006-28fe-4b7c-a1ec-486cfd357e75",
   "metadata": {},
   "outputs": [],
   "source": []
  },
  {
   "cell_type": "markdown",
   "id": "7493ee09-b6c4-4a36-84f7-823015d8b3a3",
   "metadata": {},
   "source": [
    "### Reloading the trained model, to print the results properly in the format required. "
   ]
  },
  {
   "cell_type": "code",
   "execution_count": 33,
   "id": "e50a25fc-aa86-47e5-abe8-9d27f4f53e36",
   "metadata": {},
   "outputs": [],
   "source": [
    "from transformers import AutoModelForSequenceClassification, AutoTokenizer, AutoConfig\n",
    "\n",
    "# Load model, configuration, and tokenizer\n",
    "config = AutoConfig.from_pretrained(\"model_after_optimization/config.json\")\n",
    "model = AutoModelForSequenceClassification.from_pretrained(\"model_after_optimization\", config=config)\n",
    "tokenizer = AutoTokenizer.from_pretrained(\"model_after_optimization\")"
   ]
  },
  {
   "cell_type": "code",
   "execution_count": 37,
   "id": "0d114b89-f244-4324-ab55-21548efa22a1",
   "metadata": {},
   "outputs": [],
   "source": [
    "processed_df = process_dataframe(processed_df)\n",
    "label_encoder = LabelEncoder()\n",
    "y_t = label_encoder.fit_transform(processed_df['Target'].values)\n",
    "X_t = processed_df['Headlines'].values\n",
    "\n",
    "train_dataset_t, val_dataset_t, test_dataset_t, y_true_t = prepare_dataset(X_t, y_t, tokenizer)"
   ]
  },
  {
   "cell_type": "code",
   "execution_count": 38,
   "id": "d7ae7566-2419-417d-b9f9-2f5099d8ad4a",
   "metadata": {},
   "outputs": [],
   "source": [
    "from transformers import Trainer, TrainingArguments\n",
    "\n",
    "# Set up training arguments (assuming you still have best_params from the optimization)\n",
    "training_args = TrainingArguments(\n",
    "        output_dir=\"model_dir\",\n",
    "        use_mps_device=True,\n",
    "        num_train_epochs=9,\n",
    "        per_device_train_batch_size=32,\n",
    "        learning_rate=0.0010710659975038334,\n",
    "        weight_decay=0.07830680597137599,\n",
    "        warmup_steps=210,\n",
    "        evaluation_strategy=\"steps\",\n",
    "        load_best_model_at_end=True,\n",
    "        save_steps=500,\n",
    "        logging_steps=250,\n",
    "        metric_for_best_model='accuracy',\n",
    "        greater_is_better=True,\n",
    ")\n",
    "\n",
    "# Recreate the trainer\n",
    "trainer = Trainer(\n",
    "        model=model,\n",
    "        args=training_args,\n",
    "        train_dataset=train_dataset_t,\n",
    "        eval_dataset=val_dataset_t,\n",
    "        compute_metrics=compute_metrics,\n",
    ")\n"
   ]
  },
  {
   "cell_type": "code",
   "execution_count": 43,
   "id": "73dcc5a0-b145-4f83-be82-e76bc8453378",
   "metadata": {},
   "outputs": [
    {
     "data": {
      "text/html": [],
      "text/plain": [
       "<IPython.core.display.HTML object>"
      ]
     },
     "metadata": {},
     "output_type": "display_data"
    },
    {
     "name": "stdout",
     "output_type": "stream",
     "text": [
      "\n",
      "Training with Best Parameters:\n",
      "Evaluation Loss: 0.40909987688064575\n",
      "Evaluation Accuracy: 0.8447837150127226\n",
      "\n",
      "Test Set Evaluation:\n",
      "Evaluation Loss: 0.36886531114578247\n",
      "Evaluation Accuracy: 0.8600508905852418\n",
      "              precision    recall  f1-score   support\n",
      "\n",
      "           0     0.9150    0.8375    0.8746       437\n",
      "           1     0.8747    0.8895    0.8820       353\n",
      "           2     0.7952    0.8586    0.8257       389\n",
      "\n",
      "    accuracy                         0.8601      1179\n",
      "   macro avg     0.8616    0.8619    0.8608      1179\n",
      "weighted avg     0.8634    0.8601    0.8607      1179\n",
      "\n"
     ]
    },
    {
     "data": {
      "image/png": "[encoded data removed]",
      "text/plain": [
       "<Figure size 720x504 with 2 Axes>"
      ]
     },
     "metadata": {
      "needs_background": "light"
     },
     "output_type": "display_data"
    }
   ],
   "source": [
    "# Evaluate and print the results\n",
    "results = trainer.evaluate()\n",
    "print(\"\\nTraining with Best Parameters:\")\n",
    "print(f\"Evaluation Loss: {results['eval_loss']}\")\n",
    "print(f\"Evaluation Accuracy: {results['eval_accuracy']}\")\n",
    "\n",
    "# Test on the test dataset and print the report and confusion matrix\n",
    "test_model(trainer, test_dataset_t, y_true_t, label_encoder)\n"
   ]
  },
  {
   "cell_type": "code",
   "execution_count": 44,
   "id": "b5b171e7-796e-411b-8635-6f1a0221a7f9",
   "metadata": {},
   "outputs": [
    {
     "name": "stdout",
     "output_type": "stream",
     "text": [
      "Metrics for class positive (Class value: 0):\n",
      "Specificity: 0.9501\n",
      "FPR: 0.0499\n",
      "Precision: 0.915\n",
      "\n",
      "Metrics for class negative (Class value: 1):\n",
      "Specificity: 0.9396\n",
      "FPR: 0.0604\n",
      "Precision: 0.8747\n",
      "\n",
      "Metrics for class neutral (Class value: 2):\n",
      "Specificity: 0.8877\n",
      "FPR: 0.1123\n",
      "Precision: 0.7952\n",
      "\n",
      "Overall accuracy: 0.8601\n",
      "Weighted average specificity: 0.9264\n",
      "Weighted average FPR: 0.0736\n",
      "Macro average specificity: 0.9258\n",
      "Macro average FPR: 0.0742\n",
      "\n"
     ]
    }
   ],
   "source": [
    "cm = np.array([[366, 10, 61], \n",
    "               [14, 314, 25], \n",
    "               [20, 35, 334]])\n",
    "\n",
    "compute_FPR_spec_metrics(cm)"
   ]
  },
  {
   "cell_type": "code",
   "execution_count": 50,
   "id": "03cc845c-1bc4-43d7-9fab-2252d1274259",
   "metadata": {},
   "outputs": [
    {
     "data": {
      "text/html": [],
      "text/plain": [
       "<IPython.core.display.HTML object>"
      ]
     },
     "metadata": {},
     "output_type": "display_data"
    },
    {
     "name": "stdout",
     "output_type": "stream",
     "text": [
      "\n",
      "Incorrect positive samples:\n",
      "1. oil prices tumble to 45 bring cheer to customers (Probability: -1.6323)\n",
      "2. rupee trims initial losses trades at 6235 vs dlr (Probability: 2.3520)\n",
      "3. hefty fine for insider trade looms over reliance industries (Probability: -0.5291)\n",
      "4. fii buying in vmart retail crosses limit no further purchase (Probability: -1.7944)\n",
      "5. dtc proposal to create volatility in stock markets analysts (Probability: 1.2210)\n",
      "\n",
      "Incorrect negative samples:\n",
      "1. omc should be a part of an investors portfolio mehraboon irani (Probability: -0.5123)\n",
      "2. kingfisher at yearhigh on report of wilbur ross investment plan (Probability: -1.5060)\n",
      "3. rupee trims losses against us dollar still trading 2 paise down (Probability: 2.9256)\n",
      "4. leisure revenue buoys cox kings (Probability: -1.7944)\n",
      "5. punters make a killing in geometric (Probability: -0.2987)\n",
      "\n",
      "Incorrect neutral samples:\n",
      "1. investors may not gain much from new structure of crompton greaves (Probability: 2.6486)\n",
      "2. inflation corporate governance biggest market worries blackstone asia advisors (Probability: -2.1220)\n",
      "3. nifty unlikely to get past the 75507560 mark ashwani gujral (Probability: 2.9256)\n",
      "4. euro steadies after slumping on dovish draghi comments (Probability: 1.6062)\n",
      "5. recommend wait and watch for midcap it stocks dipan mehta (Probability: -0.2987)\n"
     ]
    }
   ],
   "source": [
    "# Extract incorrect samples\n",
    "incorrect_samples = extract_incorrect_samples(trainer, test_dataset_t, label_encoder, tokenizer)\n",
    "\n",
    "# Print the sentences and probabilities\n",
    "for label, data in incorrect_samples.items():\n",
    "    print(f\"\\nIncorrect {label} samples:\")\n",
    "    for idx, (sentence, prob) in enumerate(zip(data['sentences'], data['probabilities']), 1):\n",
    "        print(f\"{idx}. {sentence} (Probability: {prob:.4f})\")"
   ]
  },
  {
   "cell_type": "code",
   "execution_count": null,
   "id": "a3ea742f-9b4a-4dfb-9cea-9a41de580cfe",
   "metadata": {},
   "outputs": [],
   "source": []
  }
 ],
 "metadata": {
  "kernelspec": {
   "display_name": "Python 3 (ipykernel)",
   "language": "python",
   "name": "python3"
  },
  "language_info": {
   "codemirror_mode": {
    "name": "ipython",
    "version": 3
   },
   "file_extension": ".py",
   "mimetype": "text/x-python",
   "name": "python",
   "nbconvert_exporter": "python",
   "pygments_lexer": "ipython3",
   "version": "3.9.12"
  }
 },
 "nbformat": 4,
 "nbformat_minor": 5
}
