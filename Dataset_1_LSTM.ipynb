{
 "cells": [
  {
   "cell_type": "markdown",
   "id": "7becc987-ea6b-46dc-8d9c-5139864dae1e",
   "metadata": {},
   "source": [
    "## LSTM METHOD IMPLEMENTATION"
   ]
  },
  {
   "cell_type": "code",
   "execution_count": 1,
   "id": "d0dd09e1-606e-4c9d-8f44-49494c8ab3cd",
   "metadata": {
    "tags": []
   },
   "outputs": [],
   "source": [
    "import torch"
   ]
  },
  {
   "cell_type": "code",
   "execution_count": 2,
   "id": "a1126699-aa84-4c73-95dd-cd5c931fe9bd",
   "metadata": {
    "tags": []
   },
   "outputs": [
    {
     "name": "stdout",
     "output_type": "stream",
     "text": [
      "PyTorch is built with MPS\n"
     ]
    }
   ],
   "source": [
    "if torch.backends.mps.is_built():\n",
    "    print(\"PyTorch is built with MPS\")\n",
    "else:\n",
    "    print(\"MPS not available.\")\n"
   ]
  },
  {
   "cell_type": "code",
   "execution_count": 3,
   "id": "f2865284-ba73-4a0d-bcdd-810e7d4fd84c",
   "metadata": {
    "tags": []
   },
   "outputs": [],
   "source": [
    "if torch.backends.mps.is_available():\n",
    "    mps_device = torch.device(\"mps\")\n",
    "else:\n",
    "    print(\"MPS device not found\") "
   ]
  },
  {
   "cell_type": "code",
   "execution_count": 4,
   "id": "af938daa-72b6-4b5d-aef7-d57fe6d6e9d0",
   "metadata": {
    "tags": []
   },
   "outputs": [
    {
     "name": "stdout",
     "output_type": "stream",
     "text": [
      "mps:0\n",
      "mps:0\n"
     ]
    }
   ],
   "source": [
    "torch.set_default_device('mps')\n",
    "\n",
    "mod = torch.nn.Linear(20,30)\n",
    "print(mod.weight.device)\n",
    "print(mod(torch.randn(128, 20)).device)"
   ]
  },
  {
   "cell_type": "markdown",
   "id": "692df749-6cd5-4aa1-921c-1ff0fe0b1c29",
   "metadata": {},
   "source": [
    "## PRE-PROCESSING"
   ]
  },
  {
   "cell_type": "code",
   "execution_count": 2,
   "id": "cc0d1daa-348e-43f9-a4dd-efea2c7a4207",
   "metadata": {
    "tags": []
   },
   "outputs": [],
   "source": [
    "# Basic utilities\n",
    "import os\n",
    "import platform\n",
    "\n",
    "# Data handling and manipulation\n",
    "import numpy as np\n",
    "import pandas as pd\n",
    "import ast\n",
    "\n",
    "# Text preprocessing and sentiment analysis utilities\n",
    "import nltk\n",
    "from nltk.corpus import stopwords\n",
    "from nltk.stem import WordNetLemmatizer\n",
    "from nltk.sentiment import SentimentIntensityAnalyzer\n",
    "from bs4 import BeautifulSoup\n",
    "from textblob import TextBlob\n",
    "\n",
    "# Visualization tools\n",
    "import matplotlib.pyplot as plt\n",
    "import seaborn as sns\n",
    "\n",
    "# Scikit-learn utilities for model evaluation and data splitting\n",
    "from sklearn.model_selection import train_test_split\n",
    "from sklearn.metrics import (accuracy_score, f1_score, recall_score, \n",
    "                             precision_score, confusion_matrix, classification_report)\n",
    "from tensorflow.keras.layers import Bidirectional\n",
    "from tensorflow.keras.models import Sequential\n",
    "from tensorflow.keras.layers import Embedding, LSTM, Dense, SpatialDropout1D\n",
    "from tensorflow.keras.preprocessing.text import Tokenizer\n",
    "from tensorflow.keras.preprocessing.sequence import pad_sequences\n",
    "from tensorflow.keras.callbacks import EarlyStopping\n",
    "from sklearn.model_selection import train_test_split\n",
    "from keras_tuner.tuners import RandomSearch"
   ]
  },
  {
   "cell_type": "code",
   "execution_count": 6,
   "id": "150681d7-fbbc-4ed9-b6f6-f2ae4933387e",
   "metadata": {
    "tags": []
   },
   "outputs": [
    {
     "name": "stdout",
     "output_type": "stream",
     "text": [
      "Machine: arm64\n",
      "Platform: macOS-13.5-arm64-i386-64bit\n",
      "Mac Version: ('13.5', ('', '', ''), 'arm64')\n",
      "Processor: i386\n",
      "Python Version: 3.11.4\n"
     ]
    }
   ],
   "source": [
    "def general_info():\n",
    "    print(\"Machine:\", platform.machine())\n",
    "    print(\"Platform:\", platform.platform())\n",
    "    print(\"Mac Version:\", platform.mac_ver())\n",
    "    print(\"Processor:\", platform.processor())\n",
    "    print(\"Python Version:\", platform.python_version())\n",
    "  \n",
    "general_info()"
   ]
  },
  {
   "cell_type": "code",
   "execution_count": 7,
   "id": "5f6fc87c-4d23-4dce-a571-2d928213fe90",
   "metadata": {
    "tags": []
   },
   "outputs": [
    {
     "name": "stdout",
     "output_type": "stream",
     "text": [
      "Selected Jupyter core packages...\n",
      "IPython          : 8.12.0\n",
      "ipykernel        : 6.19.2\n",
      "ipywidgets       : 8.0.4\n",
      "jupyter_client   : 7.4.9\n",
      "jupyter_core     : 5.3.0\n",
      "jupyter_server   : 1.23.4\n",
      "jupyterlab       : 3.6.3\n",
      "nbclient         : 0.5.13\n",
      "nbconvert        : 6.5.4\n",
      "nbformat         : 5.7.0\n",
      "notebook         : 6.5.4\n",
      "qtconsole        : 5.4.2\n",
      "traitlets        : 5.7.1\n"
     ]
    }
   ],
   "source": [
    "!jupyter --version"
   ]
  },
  {
   "cell_type": "code",
   "execution_count": 40,
   "id": "708bb953",
   "metadata": {
    "tags": []
   },
   "outputs": [
    {
     "data": {
      "text/html": [
       "<div>\n",
       "<style scoped>\n",
       "    .dataframe tbody tr th:only-of-type {\n",
       "        vertical-align: middle;\n",
       "    }\n",
       "\n",
       "    .dataframe tbody tr th {\n",
       "        vertical-align: top;\n",
       "    }\n",
       "\n",
       "    .dataframe thead th {\n",
       "        text-align: right;\n",
       "    }\n",
       "</style>\n",
       "<table border=\"1\" class=\"dataframe\">\n",
       "  <thead>\n",
       "    <tr style=\"text-align: right;\">\n",
       "      <th></th>\n",
       "      <th>S No.</th>\n",
       "      <th>Title</th>\n",
       "      <th>Decisions</th>\n",
       "      <th>Words</th>\n",
       "    </tr>\n",
       "  </thead>\n",
       "  <tbody>\n",
       "    <tr>\n",
       "      <th>0</th>\n",
       "      <td>1</td>\n",
       "      <td>SpiceJet to issue 6.4 crore warrants to promoters</td>\n",
       "      <td>{\"SpiceJet\": \"neutral\"}</td>\n",
       "      <td>8</td>\n",
       "    </tr>\n",
       "    <tr>\n",
       "      <th>1</th>\n",
       "      <td>2</td>\n",
       "      <td>MMTC Q2 net loss at Rs 10.4 crore</td>\n",
       "      <td>{\"MMTC\": \"neutral\"}</td>\n",
       "      <td>8</td>\n",
       "    </tr>\n",
       "    <tr>\n",
       "      <th>2</th>\n",
       "      <td>3</td>\n",
       "      <td>Mid-cap funds can deliver more, stay put: Experts</td>\n",
       "      <td>{\"Mid-cap funds\": \"positive\"}</td>\n",
       "      <td>8</td>\n",
       "    </tr>\n",
       "    <tr>\n",
       "      <th>3</th>\n",
       "      <td>4</td>\n",
       "      <td>Mid caps now turn into market darlings</td>\n",
       "      <td>{\"Mid caps\": \"positive\"}</td>\n",
       "      <td>7</td>\n",
       "    </tr>\n",
       "    <tr>\n",
       "      <th>4</th>\n",
       "      <td>5</td>\n",
       "      <td>Market seeing patience, if not conviction: Pra...</td>\n",
       "      <td>{\"Market\": \"neutral\"}</td>\n",
       "      <td>8</td>\n",
       "    </tr>\n",
       "    <tr>\n",
       "      <th>...</th>\n",
       "      <td>...</td>\n",
       "      <td>...</td>\n",
       "      <td>...</td>\n",
       "      <td>...</td>\n",
       "    </tr>\n",
       "    <tr>\n",
       "      <th>10748</th>\n",
       "      <td>10749</td>\n",
       "      <td>Negative on Chambal, Advanta: Mitesh Thacker</td>\n",
       "      <td>{\"Chambal\": \"negative\", \"Advanta\": \"negative\"}</td>\n",
       "      <td>6</td>\n",
       "    </tr>\n",
       "    <tr>\n",
       "      <th>10749</th>\n",
       "      <td>10750</td>\n",
       "      <td>Small, Mid-cap stocks may emerge outperformers</td>\n",
       "      <td>{\"Small\": \"positive\", \"Mid-cap stocks\": \"posit...</td>\n",
       "      <td>6</td>\n",
       "    </tr>\n",
       "    <tr>\n",
       "      <th>10750</th>\n",
       "      <td>10751</td>\n",
       "      <td>Rupee slips against US dollar</td>\n",
       "      <td>{\"Rupee\": \"negative\", \"US dollar\": \"neutral\"}</td>\n",
       "      <td>5</td>\n",
       "    </tr>\n",
       "    <tr>\n",
       "      <th>10751</th>\n",
       "      <td>10752</td>\n",
       "      <td>Rupee weak against US dollar</td>\n",
       "      <td>{\"Rupee\": \"negative\", \"US dollar\": \"neutral\"}</td>\n",
       "      <td>5</td>\n",
       "    </tr>\n",
       "    <tr>\n",
       "      <th>10752</th>\n",
       "      <td>10753</td>\n",
       "      <td>Australia shares flat; energy drags</td>\n",
       "      <td>{\"Australia shares\": \"neutral\", \"energy\": \"neu...</td>\n",
       "      <td>5</td>\n",
       "    </tr>\n",
       "  </tbody>\n",
       "</table>\n",
       "<p>10753 rows × 4 columns</p>\n",
       "</div>"
      ],
      "text/plain": [
       "       S No.                                              Title  \\\n",
       "0          1  SpiceJet to issue 6.4 crore warrants to promoters   \n",
       "1          2                  MMTC Q2 net loss at Rs 10.4 crore   \n",
       "2          3  Mid-cap funds can deliver more, stay put: Experts   \n",
       "3          4             Mid caps now turn into market darlings   \n",
       "4          5  Market seeing patience, if not conviction: Pra...   \n",
       "...      ...                                                ...   \n",
       "10748  10749       Negative on Chambal, Advanta: Mitesh Thacker   \n",
       "10749  10750     Small, Mid-cap stocks may emerge outperformers   \n",
       "10750  10751                      Rupee slips against US dollar   \n",
       "10751  10752                       Rupee weak against US dollar   \n",
       "10752  10753                Australia shares flat; energy drags   \n",
       "\n",
       "                                               Decisions  Words  \n",
       "0                                {\"SpiceJet\": \"neutral\"}      8  \n",
       "1                                    {\"MMTC\": \"neutral\"}      8  \n",
       "2                          {\"Mid-cap funds\": \"positive\"}      8  \n",
       "3                               {\"Mid caps\": \"positive\"}      7  \n",
       "4                                  {\"Market\": \"neutral\"}      8  \n",
       "...                                                  ...    ...  \n",
       "10748     {\"Chambal\": \"negative\", \"Advanta\": \"negative\"}      6  \n",
       "10749  {\"Small\": \"positive\", \"Mid-cap stocks\": \"posit...      6  \n",
       "10750      {\"Rupee\": \"negative\", \"US dollar\": \"neutral\"}      5  \n",
       "10751      {\"Rupee\": \"negative\", \"US dollar\": \"neutral\"}      5  \n",
       "10752  {\"Australia shares\": \"neutral\", \"energy\": \"neu...      5  \n",
       "\n",
       "[10753 rows x 4 columns]"
      ]
     },
     "execution_count": 40,
     "metadata": {},
     "output_type": "execute_result"
    }
   ],
   "source": [
    "# Specify the path to the dataset, load the csv into Pandas DataFrame\n",
    "data_pth = '/users/anshulvij/Desktop/Masters Project/Datasets/SEntFiN-v1.1.csv'\n",
    "df = pd.read_csv(data_pth)\n",
    "df"
   ]
  },
  {
   "cell_type": "markdown",
   "id": "369b596f-54b3-4450-996b-e8751f912aad",
   "metadata": {},
   "source": [
    "#### PRE-PROCESSING STEPS IMPLEMENTED BELOW:-"
   ]
  },
  {
   "cell_type": "code",
   "execution_count": 41,
   "id": "6c03cbd9",
   "metadata": {
    "tags": []
   },
   "outputs": [],
   "source": [
    "def filter_rows_by_colon_count(data, column):\n",
    "    \"\"\"\n",
    "    Filters out rows where the count of colons in the specified column exceeds one.\n",
    "\n",
    "    Parameters:\n",
    "    - data (pd.DataFrame): The DataFrame to be processed.\n",
    "    - column (str): The column name in which colon count needs to be checked.\n",
    "\n",
    "    Returns:\n",
    "    - pd.DataFrame: DataFrame after filtering out specific rows.\n",
    "    \"\"\"\n",
    "    condition = data[column].apply(lambda entry: str(entry).count(':') > 1)\n",
    "    return data[~condition]"
   ]
  },
  {
   "cell_type": "code",
   "execution_count": 42,
   "id": "5d7708cc",
   "metadata": {
    "tags": []
   },
   "outputs": [
    {
     "name": "stdout",
     "output_type": "stream",
     "text": [
      "Post Filtering Stage-1 Step-1: Total Rows - 7903\n"
     ]
    }
   ],
   "source": [
    "df = filter_rows_by_colon_count(df, 'Decisions')\n",
    "print(f\"Post Filtering Stage-1 Step-1: Total Rows - {len(df)}\")"
   ]
  },
  {
   "cell_type": "code",
   "execution_count": 43,
   "id": "bc52fa53",
   "metadata": {
    "tags": []
   },
   "outputs": [
    {
     "name": "stdout",
     "output_type": "stream",
     "text": [
      "Post Filtering Stage-1 Step-2: Total Rows - 7903\n"
     ]
    }
   ],
   "source": [
    "def transform_decision_data(data, column):\n",
    "    \"\"\"\n",
    "    Transforms the specified column of the DataFrame by extracting 'Entity' and 'Polarity' \n",
    "    from a dictionary representation. Ensures that strings mimicking dictionaries are \n",
    "    converted to actual dictionaries.\n",
    "\n",
    "    Parameters:\n",
    "    - data (pd.DataFrame): The DataFrame to be processed.\n",
    "    - column (str): The column name which contains dictionary or its string representation.\n",
    "\n",
    "    Returns:\n",
    "    - pd.DataFrame: Transformed DataFrame with 'Headlines', 'Entity', and 'Sentiment' columns.\n",
    "    \"\"\"\n",
    "    data_copy = data.copy()\n",
    "    \n",
    "    # Convert string representation of dictionary to actual dictionary\n",
    "    data_copy[column] = data_copy[column].apply(lambda item: ast.literal_eval(item) if isinstance(item, str) else item)\n",
    "    \n",
    "    # Extract key and value from the dictionary\n",
    "    data_copy['Entity'] = data_copy[column].apply(lambda item: list(item.keys())[0] if isinstance(item, dict) else None)\n",
    "    data_copy['Sentiment'] = data_copy[column].apply(lambda item: list(item.values())[0] if isinstance(item, dict) else None)\n",
    "    \n",
    "    return data_copy[['Title', 'Entity', 'Sentiment']].rename(columns={'Title': 'Headlines'})\n",
    "\n",
    "processed_df = transform_decision_data(df, 'Decisions')\n",
    "\n",
    "#Dropping the entity column as the rest have been set aside in the transform_decision_data\n",
    "processed_df = processed_df.drop(columns=['Entity'])\n",
    "\n",
    "\n",
    "print(f\"Post Filtering Stage-1 Step-2: Total Rows - {len(processed_df)}\")"
   ]
  },
  {
   "cell_type": "code",
   "execution_count": 44,
   "id": "4f0b9a3b",
   "metadata": {
    "tags": []
   },
   "outputs": [
    {
     "name": "stdout",
     "output_type": "stream",
     "text": [
      "Missing Values:\n",
      " Headlines    0\n",
      "Sentiment    0\n",
      "dtype: int64\n",
      "Post Filtering Stage-2 Step-1: Total Rows - 7903\n"
     ]
    }
   ],
   "source": [
    "def check_missing_data(dataframe):\n",
    "    \"\"\"\n",
    "    Checks and returns the number of missing values in each column of a DataFrame.\n",
    "\n",
    "    Parameters:\n",
    "    - dataframe (pd.DataFrame): The DataFrame to be checked.\n",
    "\n",
    "    Returns:\n",
    "    - Series: Number of missing values for each column.\n",
    "    \"\"\"\n",
    "    return dataframe.isnull().sum()\n",
    "\n",
    "print(\"Missing Values:\\n\", check_missing_data(processed_df))\n",
    "processed_df = processed_df.dropna()\n",
    "print(f\"Post Filtering Stage-2 Step-1: Total Rows - {len(processed_df)}\")"
   ]
  },
  {
   "cell_type": "code",
   "execution_count": 45,
   "id": "7e1a81b5",
   "metadata": {
    "tags": []
   },
   "outputs": [
    {
     "name": "stdout",
     "output_type": "stream",
     "text": [
      "Post Filtering Stage-2 Step-2: Total Rows - 7903\n"
     ]
    }
   ],
   "source": [
    "def refine_headlines(column):\n",
    "    \"\"\"\n",
    "    Cleans and refines a given text column. The function lowercases the text, removes \n",
    "    HTML content, URLs, non-alphanumeric characters, and stopwords. It also lemmatises \n",
    "    each word for better text consistency.\n",
    "\n",
    "    Parameters:\n",
    "    - column (pd.Series): The column containing text data to be refined.\n",
    "\n",
    "    Returns:\n",
    "    - pd.Series: The refined column.\n",
    "    \"\"\"\n",
    "    column = column.str.lower()\n",
    "    \n",
    "    # Check if text looks like filename or not\n",
    "    def extract_text(text):\n",
    "        if re.match(r'^[A-Za-z0-9_\\-\\.]+$', text):\n",
    "            return text\n",
    "        return BeautifulSoup(text, 'lxml').get_text()\n",
    "    \n",
    "    column = column.str.replace('http\\S+|www.\\S+|[^\\w\\s]', '', regex=True)\n",
    "    \n",
    "   # lemmatizer = WordNetLemmatizer()\n",
    "   # stop_words = set(stopwords.words('english'))\n",
    "   # column = column.apply(lambda x: ' '.join([lemmatizer.lemmatize(word) for word in x.split() if word not in stop_words]))\n",
    "    \n",
    "    return column\n",
    "\n",
    "processed_df['Headlines'] = refine_headlines(processed_df['Headlines'])\n",
    "print(f\"Post Filtering Stage-2 Step-2: Total Rows - {len(processed_df)}\")\n"
   ]
  },
  {
   "cell_type": "code",
   "execution_count": 46,
   "id": "fdf53a3f",
   "metadata": {
    "tags": []
   },
   "outputs": [
    {
     "name": "stdout",
     "output_type": "stream",
     "text": [
      "Post Filtering Stage-2 Step-3 Total Rows - 7858\n"
     ]
    }
   ],
   "source": [
    "# Detect and remove duplicate rows from the DataFrame\n",
    "duplicated_rows = processed_df[processed_df.duplicated()]\n",
    "processed_df.drop_duplicates(inplace=True)\n",
    "print(f\"Post Filtering Stage-2 Step-3 Total Rows - {len(processed_df)}\")\n"
   ]
  },
  {
   "cell_type": "code",
   "execution_count": 47,
   "id": "66625ab3",
   "metadata": {
    "tags": []
   },
   "outputs": [
    {
     "name": "stdout",
     "output_type": "stream",
     "text": [
      "\n",
      "Count of each sentiment:\n",
      "positive    2830\n",
      "neutral     2657\n",
      "negative    2371\n",
      "Name: Sentiment, dtype: int64\n",
      "positive    36.014253\n",
      "neutral     33.812675\n",
      "negative    30.173072\n",
      "Name: Sentiment, dtype: float64\n"
     ]
    }
   ],
   "source": [
    "def display_sentiment_counts(dataframe, column_name='Sentiment'):\n",
    "    \"\"\"\n",
    "    Displays the frequency and relative percentage of each sentiment value in the given DataFrame.\n",
    "\n",
    "    Parameters:\n",
    "    - dataframe (pd.DataFrame): The DataFrame containing sentiment data.\n",
    "    - column_name (str, optional): The name of the column containing sentiment values. Default is 'Sentiment'.\n",
    "\n",
    "    Prints:\n",
    "    - Sentiment counts and their relative percentages.\n",
    "    \"\"\"\n",
    "    sentiment_counts = dataframe[column_name].value_counts()\n",
    "    print(\"\\nCount of each sentiment:\")\n",
    "    print(sentiment_counts)\n",
    "\n",
    "    sentiment_percentages = dataframe[column_name].value_counts(normalize=True)*100\n",
    "    print(sentiment_percentages)\n",
    "\n",
    "display_sentiment_counts(processed_df)\n"
   ]
  },
  {
   "cell_type": "code",
   "execution_count": 48,
   "id": "1e704f36",
   "metadata": {
    "tags": []
   },
   "outputs": [
    {
     "data": {
      "image/png": "[encoded data removed]",
      "text/plain": [
       "<Figure size 640x480 with 1 Axes>"
      ]
     },
     "metadata": {},
     "output_type": "display_data"
    }
   ],
   "source": [
    "# Calculate and visualize the distribution of sentiment values in the DataFrame using a bar chart.\n",
    "# Each bar is labelled with the sentiment count and its relative percentage.\n",
    "\n",
    "# Calculate sentiment frequency and its relative percentage\n",
    "sentiment_frequency = processed_df['Sentiment'].value_counts()\n",
    "sentiment_ratio = processed_df['Sentiment'].value_counts(normalize=True) * 100\n",
    "\n",
    "# Display sentiment distribution using a bar chart\n",
    "bars = plt.bar(sentiment_frequency.index, sentiment_frequency.values, alpha=0.8)\n",
    "\n",
    "# Adjust the y-axis limit\n",
    "plt.ylim(0, max(sentiment_frequency.values) * 1.15)  # Increase the upper limit by 15% of the highest bar value\n",
    "\n",
    "# Label each bar with the sentiment count and its percentage\n",
    "for idx, bar in enumerate(bars):\n",
    "    yval = bar.get_height()\n",
    "    sentiment_label = sentiment_frequency.index[idx]\n",
    "    plt.text(bar.get_x() + bar.get_width()/2, yval + max(sentiment_frequency.values) * 0.05, \n",
    "             f'{int(yval)} ({sentiment_ratio[sentiment_label]:.2f}%)',\n",
    "             ha='center', va='center')\n",
    "\n",
    "plt.xlabel('Sentiment Value')\n",
    "plt.ylabel('Frequency')\n",
    "plt.title('Sentiment Distribution Visualization')\n",
    "plt.tight_layout()\n",
    "plt.show()"
   ]
  },
  {
   "cell_type": "code",
   "execution_count": 18,
   "id": "5cb4d172-bbc5-442e-a4bd-14c16220dfaa",
   "metadata": {
    "tags": []
   },
   "outputs": [
    {
     "data": {
      "text/html": [
       "<div>\n",
       "<style scoped>\n",
       "    .dataframe tbody tr th:only-of-type {\n",
       "        vertical-align: middle;\n",
       "    }\n",
       "\n",
       "    .dataframe tbody tr th {\n",
       "        vertical-align: top;\n",
       "    }\n",
       "\n",
       "    .dataframe thead th {\n",
       "        text-align: right;\n",
       "    }\n",
       "</style>\n",
       "<table border=\"1\" class=\"dataframe\">\n",
       "  <thead>\n",
       "    <tr style=\"text-align: right;\">\n",
       "      <th></th>\n",
       "      <th>Headlines</th>\n",
       "      <th>Sentiment</th>\n",
       "    </tr>\n",
       "  </thead>\n",
       "  <tbody>\n",
       "    <tr>\n",
       "      <th>0</th>\n",
       "      <td>spicejet to issue 64 crore warrants to promoters</td>\n",
       "      <td>neutral</td>\n",
       "    </tr>\n",
       "    <tr>\n",
       "      <th>1</th>\n",
       "      <td>mmtc q2 net loss at rs 104 crore</td>\n",
       "      <td>neutral</td>\n",
       "    </tr>\n",
       "    <tr>\n",
       "      <th>2</th>\n",
       "      <td>midcap funds can deliver more stay put experts</td>\n",
       "      <td>positive</td>\n",
       "    </tr>\n",
       "    <tr>\n",
       "      <th>3</th>\n",
       "      <td>mid caps now turn into market darlings</td>\n",
       "      <td>positive</td>\n",
       "    </tr>\n",
       "    <tr>\n",
       "      <th>4</th>\n",
       "      <td>market seeing patience if not conviction praka...</td>\n",
       "      <td>neutral</td>\n",
       "    </tr>\n",
       "    <tr>\n",
       "      <th>...</th>\n",
       "      <td>...</td>\n",
       "      <td>...</td>\n",
       "    </tr>\n",
       "    <tr>\n",
       "      <th>10697</th>\n",
       "      <td>vedantacairn deal may not go through ajay bagga</td>\n",
       "      <td>negative</td>\n",
       "    </tr>\n",
       "    <tr>\n",
       "      <th>10700</th>\n",
       "      <td>wall street opens flat sp 500 near record</td>\n",
       "      <td>neutral</td>\n",
       "    </tr>\n",
       "    <tr>\n",
       "      <th>10710</th>\n",
       "      <td>heard on the street dutchman mf fiis</td>\n",
       "      <td>neutral</td>\n",
       "    </tr>\n",
       "    <tr>\n",
       "      <th>10714</th>\n",
       "      <td>rebound for russia and china lifts stocks</td>\n",
       "      <td>positive</td>\n",
       "    </tr>\n",
       "    <tr>\n",
       "      <th>10732</th>\n",
       "      <td>masoor gram prices weaken on sluggish demand</td>\n",
       "      <td>negative</td>\n",
       "    </tr>\n",
       "  </tbody>\n",
       "</table>\n",
       "<p>7858 rows × 2 columns</p>\n",
       "</div>"
      ],
      "text/plain": [
       "                                               Headlines Sentiment\n",
       "0       spicejet to issue 64 crore warrants to promoters   neutral\n",
       "1                       mmtc q2 net loss at rs 104 crore   neutral\n",
       "2         midcap funds can deliver more stay put experts  positive\n",
       "3                 mid caps now turn into market darlings  positive\n",
       "4      market seeing patience if not conviction praka...   neutral\n",
       "...                                                  ...       ...\n",
       "10697    vedantacairn deal may not go through ajay bagga  negative\n",
       "10700          wall street opens flat sp 500 near record   neutral\n",
       "10710               heard on the street dutchman mf fiis   neutral\n",
       "10714          rebound for russia and china lifts stocks  positive\n",
       "10732       masoor gram prices weaken on sluggish demand  negative\n",
       "\n",
       "[7858 rows x 2 columns]"
      ]
     },
     "execution_count": 18,
     "metadata": {},
     "output_type": "execute_result"
    }
   ],
   "source": [
    "processed_df"
   ]
  },
  {
   "cell_type": "markdown",
   "id": "620b64d5-130f-4d3e-aa78-4bae12e51065",
   "metadata": {},
   "source": [
    "### Implementation of LSTM and it's variants"
   ]
  },
  {
   "cell_type": "code",
   "execution_count": 52,
   "id": "720afc01-1a81-434a-ac20-891254444739",
   "metadata": {},
   "outputs": [],
   "source": [
    "MAX_NB_WORDS = 50000\n",
    "MAX_SEQUENCE_LENGTH = 250\n",
    "\n",
    "def tokenize_and_pad(data):\n",
    "    \"\"\"\n",
    "    Tokenizes and pads input data sequences.\n",
    "    \n",
    "    Args:\n",
    "        data (list): A list of text data to be tokenized and padded.\n",
    "    \n",
    "    Returns:\n",
    "        ndarray: Tokenized and padded data.\n",
    "    \"\"\"\n",
    "    tokenizer = Tokenizer(num_words=MAX_NB_WORDS, filters='!\"#$%&()*+,-./:;<=>?@[\\]^_`{|}~', lower=True)\n",
    "    tokenizer.fit_on_texts(data)\n",
    "    sequences = tokenizer.texts_to_sequences(data)\n",
    "    return pad_sequences(sequences, maxlen=MAX_SEQUENCE_LENGTH),tokenizer"
   ]
  },
  {
   "cell_type": "code",
   "execution_count": 41,
   "id": "ebf58729-437b-438f-a7f1-61d95f425510",
   "metadata": {},
   "outputs": [],
   "source": [
    "def split_data(X, Y, test_size=0.3, val_split=0.5):\n",
    "    \"\"\"\n",
    "    Splits data into training, validation, and testing sets.\n",
    "    \n",
    "    Args:\n",
    "        X (ndarray): Features data.\n",
    "        Y (ndarray): Labels data.\n",
    "        test_size (float): Proportion of test data.\n",
    "        val_split (float): Proportion of validation data from test data.\n",
    "    \n",
    "    Returns:\n",
    "        tuple: Training, validation, and test sets for features and labels.\n",
    "    \"\"\"\n",
    "    X_train, X_temp, Y_train, Y_temp = train_test_split(X, Y, test_size=test_size, random_state=5)\n",
    "    X_val, X_test, Y_val, Y_test = train_test_split(X_temp, Y_temp, test_size=val_split, random_state=5)\n",
    "    return X_train, X_val, X_test, Y_train, Y_val, Y_test"
   ]
  },
  {
   "cell_type": "code",
   "execution_count": 49,
   "id": "ca68c846-6ba6-4f9c-a5d7-12d837c6808a",
   "metadata": {
    "tags": []
   },
   "outputs": [],
   "source": [
    "def plot_training_history(history):\n",
    "    \"\"\"\n",
    "    Plot training & validation accuracy and loss.\n",
    "    \"\"\"\n",
    "    plt.figure(figsize=(15, 5))\n",
    "    plt.subplot(1, 2, 1)\n",
    "    plt.plot(history.history['accuracy'], label='Training Accuracy')\n",
    "    plt.plot(history.history['val_accuracy'], label='Validation Accuracy')\n",
    "    plt.legend()\n",
    "    plt.title('Training and Validation Accuracy')\n",
    "    plt.subplot(1, 2, 2)\n",
    "    plt.plot(history.history['loss'], label='Training Loss')\n",
    "    plt.plot(history.history['val_loss'], label='Validation Loss')\n",
    "    plt.legend()\n",
    "    plt.title('Training and Validation Loss')\n",
    "    plt.show()\n",
    "\n",
    "def plot_confusion_matrix(Y_true, Y_pred_classes):\n",
    "    \"\"\"\n",
    "    Plot the confusion matrix using Seaborn.\n",
    "    \"\"\"\n",
    "    conf_matrix = confusion_matrix(Y_true, Y_pred_classes)\n",
    "    plt.figure(figsize=(10,7))\n",
    "    sns.heatmap(conf_matrix, annot=True, fmt='g', cmap='Blues')\n",
    "    plt.xlabel('Predicted')\n",
    "    plt.ylabel('Actual')\n",
    "    plt.title('Confusion Matrix')\n",
    "    plt.show()\n",
    "\n",
    "def print_misclassified_sentences(Y_true, Y_pred_classes, X_data_indices, processed_df):\n",
    "    \"\"\"\n",
    "    Print misclassified sentences using original DataFrame.\n",
    "    \"\"\"\n",
    "    misclassified_idx = np.where(Y_pred_classes != Y_true)[0]\n",
    "    for idx in misclassified_idx:\n",
    "        true_label = Y_true[idx]\n",
    "        pred_label = Y_pred_classes[idx]\n",
    "        original_text = processed_df.iloc[X_data_indices[idx]]['Headlines']\n",
    "        print(f\"Original label: {true_label} - Predicted: {pred_label} - Text: {original_text}\")\n"
   ]
  },
  {
   "cell_type": "code",
   "execution_count": 4,
   "id": "25d32c20-fb86-4561-abe4-c4aaa0a85b7a",
   "metadata": {
    "tags": []
   },
   "outputs": [],
   "source": [
    "def compute_FPR_spec_metrics(cm, labels=[\"negative\", \"neutral\" , \"positive\"]):\n",
    "    \"\"\"\n",
    "    Compute specificity, FPR, precision for each class, and the overall accuracy given a 3x3 confusion matrix.\n",
    "    Also, computes weighted and macro average for FPR and specificity.\n",
    "\n",
    "    Args:\n",
    "    - cm (numpy array): 3x3 confusion matrix\n",
    "    - labels (list): List of class labels in order\n",
    "\n",
    "    Returns:\n",
    "    None. It will print the results directly.\n",
    "    \"\"\"\n",
    "    \n",
    "    specificities = []\n",
    "    fprs = []\n",
    "    precisions = []\n",
    "\n",
    "    for i in range(3):\n",
    "        tp = cm[i, i]\n",
    "        tn = sum(cm[j, j] for j in range(3) if j != i)\n",
    "        fp = sum(cm[j, i] for j in range(3) if j != i)\n",
    "        fn = sum(cm[i, j] for j in range(3) if j != i)\n",
    "        \n",
    "        specificity = tn / (tn + fp) if tn + fp != 0 else 0\n",
    "        fpr = 1 - specificity\n",
    "        precision = tp / (tp + fp) if tp + fp != 0 else 0\n",
    "        \n",
    "        specificities.append(round(specificity, 4))\n",
    "        fprs.append(round(fpr, 4))\n",
    "        precisions.append(round(precision, 4))\n",
    "    \n",
    "    # Print the class values with their corresponding metrics\n",
    "    for i, label in enumerate(labels):\n",
    "        print(f\"Metrics for class {label} (Class value: {i}):\")\n",
    "        print(f\"Specificity: {specificities[i]}\")\n",
    "        print(f\"FPR: {fprs[i]}\")\n",
    "        print(f\"Precision: {precisions[i]}\\n\")\n",
    "\n",
    "    # Calculate overall accuracy\n",
    "    accuracy = round(np.trace(cm) / np.sum(cm), 4)\n",
    "    print(f\"Overall accuracy: {accuracy}\")\n",
    "\n",
    "    # Calculate true values for each class for weighting purposes\n",
    "    true_values = np.sum(cm, axis=1)\n",
    "    total_true_values = np.sum(true_values)\n",
    "\n",
    "    # Calculate weighted average specificity and FPR\n",
    "    weighted_avg_spec = round(sum(specificities[i] * true_values[i] for i in range(3)) / total_true_values, 4)\n",
    "    weighted_avg_fpr = round(sum(fprs[i] * true_values[i] for i in range(3)) / total_true_values, 4)\n",
    "\n",
    "    # Calculate macro average specificity and FPR\n",
    "    macro_avg_spec = round(np.mean(specificities), 4)\n",
    "    macro_avg_fpr = round(np.mean(fprs), 4)\n",
    "\n",
    "    print(f\"Weighted average specificity: {weighted_avg_spec}\")\n",
    "    print(f\"Weighted average FPR: {weighted_avg_fpr}\")\n",
    "    print(f\"Macro average specificity: {macro_avg_spec}\")\n",
    "    print(f\"Macro average FPR: {macro_avg_fpr}\\n\")\n"
   ]
  },
  {
   "cell_type": "code",
   "execution_count": null,
   "id": "389c783e-4be4-4aec-804b-e40a790e5ccf",
   "metadata": {},
   "outputs": [],
   "source": [
    "def misclassification_report(model, X_test, Y_test, tokenizer, n_samples):\n",
    "    \"\"\"\n",
    "    Generates a report on the misclassified samples from a test dataset based on the model's predictions.\n",
    "\n",
    "    This function decodes tokenized sequences from a test dataset to original sentences,\n",
    "    identifies the sentences that were misclassified by the model, and then prints them along with\n",
    "    their true and predicted labels.\n",
    "\n",
    "    Parameters:\n",
    "    - model: A trained machine learning model used for predictions.\n",
    "    - X_test: A sequence of tokenized sentences representing the test dataset.\n",
    "    - Y_test: The true labels of the test dataset.\n",
    "    - tokenizer: Tokenizer object used to tokenize the text data. Should have a `word_index` attribute.\n",
    "    - n_samples: Integer indicating the number of misclassified samples to display in the report.\n",
    "\n",
    "    Returns:\n",
    "    None. The function prints out misclassified samples directly.\n",
    "    \"\"\"\n",
    "    reverse_word_map = dict(map(reversed, tokenizer.word_index.items()))\n",
    "\n",
    "    def sequence_to_text(sequence):\n",
    "        return ' '.join([reverse_word_map.get(word, '?') for word in sequence if word != 0])  # 0 is padding\n",
    "\n",
    "    test_pred = model.predict(X_test)\n",
    "    test_pred = np.argmax(test_pred, axis=-1)\n",
    "    Y_test_argmax = np.argmax(Y_test, axis=-1)\n",
    "\n",
    "    misclassified_indices = np.where(test_pred != Y_test_argmax)[0]\n",
    "\n",
    "    # Get the first n_samples misclassified indices, sentences, true labels, and predicted labels\n",
    "    misclassified_sentences = [sequence_to_text(X_test[i]) for i in misclassified_indices[:n_samples]]\n",
    "    true_labels = [Y_test_argmax[i] for i in misclassified_indices[:n_samples]]\n",
    "    misclassified_labels = [test_pred[i] for i in misclassified_indices[:n_samples]]\n",
    "\n",
    "    label_map = {0: 'Negative', 1: 'Neutral', 2: 'Positive'}\n",
    "\n",
    "    # Print the first n_samples misclassified sentences along with their true and predicted labels\n",
    "    for idx, (sentence, true_label, pred_label) in enumerate(zip(misclassified_sentences, true_labels, misclassified_labels)):\n",
    "        print(f\"{idx + 1}. {sentence}\")\n",
    "        print(f\"   True Sentiment: {label_map[true_label]}\")\n",
    "        print(f\"   Misclassified as: {label_map[pred_label]}\\n\")"
   ]
  },
  {
   "cell_type": "markdown",
   "id": "e36f80e9-08ce-436b-8c38-3f17b04351fe",
   "metadata": {},
   "source": [
    "### The Implementation of standard LSTM Model(batch size-32,64 and 128)"
   ]
  },
  {
   "cell_type": "code",
   "execution_count": 42,
   "id": "1616c8dd-170e-4178-8d54-f6b492d93a87",
   "metadata": {},
   "outputs": [],
   "source": [
    "def build_model(hp, max_nb_words=MAX_NB_WORDS, input_length=MAX_SEQUENCE_LENGTH):\n",
    "    \"\"\"\n",
    "    Builds a LSTM model for sentiment analysis.\n",
    "    \n",
    "    Args:\n",
    "        hp (HyperParameters): Hyperparameters for the model.\n",
    "        max_nb_words (int): Maximum number of words for the Embedding layer.\n",
    "        input_length (int): Input length for the Embedding layer.\n",
    "    \n",
    "    Returns:\n",
    "        Model: A compiled Keras model.\n",
    "    \"\"\"\n",
    "    model = Sequential()\n",
    "    model.add(Embedding(max_nb_words, hp.Int('embedding_dim', min_value=32, max_value=512, step=32), input_length=input_length))\n",
    "    model.add(SpatialDropout1D(hp.Float('dropout_rate', min_value=0.0, max_value=0.5, step=0.05)))\n",
    "    model.add(LSTM(hp.Int('lstm_units', min_value=32, max_value=512, step=32), dropout=0.2, recurrent_dropout=0.2))\n",
    "    model.add(Dense(3, activation='softmax'))\n",
    "    model.compile(loss='categorical_crossentropy', optimizer='adam', metrics=['accuracy'])\n",
    "    return model"
   ]
  },
  {
   "cell_type": "code",
   "execution_count": 43,
   "id": "aa4a0ee8-5d9b-4545-a2e7-909a2d1e7db5",
   "metadata": {},
   "outputs": [],
   "source": [
    "def run_tuner(batch_size, X_train, Y_train, X_val, Y_val, project_name):\n",
    "    \"\"\"\n",
    "    Runs the Keras tuner for hyperparameter optimization.\n",
    "    \n",
    "    Args:\n",
    "        batch_size (int): Batch size for training.\n",
    "        X_train (ndarray): Training features.\n",
    "        Y_train (ndarray): Training labels.\n",
    "        X_val (ndarray): Validation features.\n",
    "        Y_val (ndarray): Validation labels.\n",
    "        project_name (str): Name of the tuning project.\n",
    "    \"\"\"\n",
    "    tuner = RandomSearch(\n",
    "        build_model,\n",
    "        objective='val_accuracy',\n",
    "        max_trials=20,\n",
    "        executions_per_trial=2,\n",
    "        directory='output_',\n",
    "        project_name=project_name)\n",
    "    \n",
    "    tuner.search(X_train, Y_train, epochs=5, validation_data=(X_val, Y_val), batch_size=batch_size, callbacks=[EarlyStopping(monitor='val_loss', patience=3)])"
   ]
  },
  {
   "cell_type": "code",
   "execution_count": 53,
   "id": "55c6967c-dbe7-4a6f-8060-f8338786bd81",
   "metadata": {
    "tags": []
   },
   "outputs": [
    {
     "name": "stdout",
     "output_type": "stream",
     "text": [
      "INFO:tensorflow:Reloading Tuner from output_/SentimentAnalysis_32/tuner0.json\n",
      "INFO:tensorflow:Oracle triggered exit\n",
      "INFO:tensorflow:Reloading Tuner from output_/SentimentAnalysis_64/tuner0.json\n",
      "INFO:tensorflow:Oracle triggered exit\n",
      "INFO:tensorflow:Reloading Tuner from output_/SentimentAnalysis_128/tuner0.json\n",
      "INFO:tensorflow:Oracle triggered exit\n"
     ]
    }
   ],
   "source": [
    "X,tokenizer = tokenize_and_pad(processed_df['Headlines'].values)# Tokenizer used here is for the misclassification report\n",
    "Y = pd.get_dummies(processed_df['Sentiment']).values\n",
    "\n",
    "X_train, X_val, X_test, Y_train, Y_val, Y_test = split_data(X, Y)\n",
    "\n",
    "run_tuner(32, X_train, Y_train, X_val, Y_val, 'SentimentAnalysis_32')\n",
    "run_tuner(64, X_train, Y_train, X_val, Y_val, 'SentimentAnalysis_64')\n",
    "run_tuner(128, X_train, Y_train, X_val, Y_val, 'SentimentAnalysis_128')"
   ]
  },
  {
   "cell_type": "code",
   "execution_count": 45,
   "id": "d4f81738-d690-4d59-94b9-75c310031137",
   "metadata": {
    "tags": []
   },
   "outputs": [],
   "source": [
    "#helps reloading the project after it has been tuned.\n",
    "def tuner_reload(project_name):\n",
    "    tuner = RandomSearch(\n",
    "        build_model,\n",
    "        objective='val_accuracy',\n",
    "        max_trials=20,\n",
    "        executions_per_trial=2,\n",
    "        directory='output_',\n",
    "        project_name=project_name\n",
    "    )\n",
    "    tuner.reload()\n",
    "    print(f\"Hyperparameter values for {project_name}\")    \n",
    "    best_hps = tuner.get_best_hyperparameters(num_trials=1)[0]\n",
    "    print_hyperparameters(best_hps)\n",
    "\n",
    "    best_model = tuner.get_best_models(num_models=1)[0]\n",
    "    print_model_summary(best_model)\n",
    "\n",
    "    best_trial = tuner.oracle.get_best_trials(num_trials=1)[0]\n",
    "    \n",
    "    # Modify the metric retrieval line\n",
    "    best_val_accuracy = best_trial.metrics.metrics['val_accuracy'].get_best_value()\n",
    "    print(f\"Best validation accuracy: {best_val_accuracy}\")"
   ]
  },
  {
   "cell_type": "code",
   "execution_count": 46,
   "id": "058290e8-1752-4cd8-85c6-fe275fa7a91c",
   "metadata": {
    "tags": []
   },
   "outputs": [
    {
     "name": "stdout",
     "output_type": "stream",
     "text": [
      "INFO:tensorflow:Reloading Tuner from output_/SentimentAnalysis_32/tuner0.json\n",
      "Hyperparameter values for SentimentAnalysis_32\n",
      "\n",
      "    The hyperparameters :. \n",
      "    LSTM Units: 160\n",
      "    Dropout Rate: 0.4\n",
      "    Embedding Dimension: 96\n",
      "    \n",
      "Best Model Summary:\n",
      "Model: \"sequential\"\n",
      "_________________________________________________________________\n",
      " Layer (type)                Output Shape              Param #   \n",
      "=================================================================\n",
      " embedding (Embedding)       (None, 250, 96)           4800000   \n",
      "                                                                 \n",
      " spatial_dropout1d (Spatial  (None, 250, 96)           0         \n",
      " Dropout1D)                                                      \n",
      "                                                                 \n",
      " lstm (LSTM)                 (None, 160)               164480    \n",
      "                                                                 \n",
      " dense (Dense)               (None, 3)                 483       \n",
      "                                                                 \n",
      "=================================================================\n",
      "Total params: 4964963 (18.94 MB)\n",
      "Trainable params: 4964963 (18.94 MB)\n",
      "Non-trainable params: 0 (0.00 Byte)\n",
      "_________________________________________________________________\n",
      "Best validation accuracy: 0.7900763154029846\n",
      "WARNING:tensorflow:Detecting that an object or model or tf.train.Checkpoint is being deleted with unrestored values. See the following logs for the specific values in question. To silence these warnings, use `status.expect_partial()`. See https://www.tensorflow.org/api_docs/python/tf/train/Checkpoint#restorefor details about the status object returned by the restore function.\n",
      "WARNING:tensorflow:Value in checkpoint could not be found in the restored object: (root).optimizer._variables.1\n",
      "WARNING:tensorflow:Value in checkpoint could not be found in the restored object: (root).optimizer._variables.2\n",
      "WARNING:tensorflow:Value in checkpoint could not be found in the restored object: (root).optimizer._variables.3\n",
      "WARNING:tensorflow:Value in checkpoint could not be found in the restored object: (root).optimizer._variables.4\n",
      "WARNING:tensorflow:Value in checkpoint could not be found in the restored object: (root).optimizer._variables.5\n",
      "WARNING:tensorflow:Value in checkpoint could not be found in the restored object: (root).optimizer._variables.6\n",
      "WARNING:tensorflow:Value in checkpoint could not be found in the restored object: (root).optimizer._variables.7\n",
      "WARNING:tensorflow:Value in checkpoint could not be found in the restored object: (root).optimizer._variables.8\n",
      "WARNING:tensorflow:Value in checkpoint could not be found in the restored object: (root).optimizer._variables.9\n",
      "WARNING:tensorflow:Value in checkpoint could not be found in the restored object: (root).optimizer._variables.10\n",
      "WARNING:tensorflow:Value in checkpoint could not be found in the restored object: (root).optimizer._variables.11\n",
      "WARNING:tensorflow:Value in checkpoint could not be found in the restored object: (root).optimizer._variables.12\n"
     ]
    }
   ],
   "source": [
    "tuner_reload('SentimentAnalysis_32')"
   ]
  },
  {
   "cell_type": "code",
   "execution_count": 47,
   "id": "c57c9b2c-3ebb-4dc3-b345-3f800b4470d5",
   "metadata": {
    "tags": []
   },
   "outputs": [
    {
     "name": "stdout",
     "output_type": "stream",
     "text": [
      "INFO:tensorflow:Reloading Tuner from output_/SentimentAnalysis_64/tuner0.json\n",
      "Hyperparameter values for SentimentAnalysis_64\n",
      "\n",
      "    The hyperparameters :. \n",
      "    LSTM Units: 32\n",
      "    Dropout Rate: 0.4\n",
      "    Embedding Dimension: 64\n",
      "    \n",
      "Best Model Summary:\n",
      "Model: \"sequential\"\n",
      "_________________________________________________________________\n",
      " Layer (type)                Output Shape              Param #   \n",
      "=================================================================\n",
      " embedding (Embedding)       (None, 250, 64)           3200000   \n",
      "                                                                 \n",
      " spatial_dropout1d (Spatial  (None, 250, 64)           0         \n",
      " Dropout1D)                                                      \n",
      "                                                                 \n",
      " lstm (LSTM)                 (None, 32)                12416     \n",
      "                                                                 \n",
      " dense (Dense)               (None, 3)                 99        \n",
      "                                                                 \n",
      "=================================================================\n",
      "Total params: 3212515 (12.25 MB)\n",
      "Trainable params: 3212515 (12.25 MB)\n",
      "Non-trainable params: 0 (0.00 Byte)\n",
      "_________________________________________________________________\n",
      "Best validation accuracy: 0.7930449545383453\n",
      "WARNING:tensorflow:Detecting that an object or model or tf.train.Checkpoint is being deleted with unrestored values. See the following logs for the specific values in question. To silence these warnings, use `status.expect_partial()`. See https://www.tensorflow.org/api_docs/python/tf/train/Checkpoint#restorefor details about the status object returned by the restore function.\n",
      "WARNING:tensorflow:Value in checkpoint could not be found in the restored object: (root).optimizer._variables.1\n",
      "WARNING:tensorflow:Value in checkpoint could not be found in the restored object: (root).optimizer._variables.2\n",
      "WARNING:tensorflow:Value in checkpoint could not be found in the restored object: (root).optimizer._variables.3\n",
      "WARNING:tensorflow:Value in checkpoint could not be found in the restored object: (root).optimizer._variables.4\n",
      "WARNING:tensorflow:Value in checkpoint could not be found in the restored object: (root).optimizer._variables.5\n",
      "WARNING:tensorflow:Value in checkpoint could not be found in the restored object: (root).optimizer._variables.6\n",
      "WARNING:tensorflow:Value in checkpoint could not be found in the restored object: (root).optimizer._variables.7\n",
      "WARNING:tensorflow:Value in checkpoint could not be found in the restored object: (root).optimizer._variables.8\n",
      "WARNING:tensorflow:Value in checkpoint could not be found in the restored object: (root).optimizer._variables.9\n",
      "WARNING:tensorflow:Value in checkpoint could not be found in the restored object: (root).optimizer._variables.10\n",
      "WARNING:tensorflow:Value in checkpoint could not be found in the restored object: (root).optimizer._variables.11\n",
      "WARNING:tensorflow:Value in checkpoint could not be found in the restored object: (root).optimizer._variables.12\n"
     ]
    }
   ],
   "source": [
    "tuner_reload('SentimentAnalysis_64')"
   ]
  },
  {
   "cell_type": "code",
   "execution_count": 48,
   "id": "b225fc31-13df-4518-865a-967b6aee8ef4",
   "metadata": {
    "tags": []
   },
   "outputs": [
    {
     "name": "stdout",
     "output_type": "stream",
     "text": [
      "INFO:tensorflow:Reloading Tuner from output_/SentimentAnalysis_128/tuner0.json\n",
      "Hyperparameter values for SentimentAnalysis_128\n",
      "\n",
      "    The hyperparameters :. \n",
      "    LSTM Units: 96\n",
      "    Dropout Rate: 0.4\n",
      "    Embedding Dimension: 288\n",
      "    \n",
      "Best Model Summary:\n",
      "Model: \"sequential\"\n",
      "_________________________________________________________________\n",
      " Layer (type)                Output Shape              Param #   \n",
      "=================================================================\n",
      " embedding (Embedding)       (None, 250, 288)          14400000  \n",
      "                                                                 \n",
      " spatial_dropout1d (Spatial  (None, 250, 288)          0         \n",
      " Dropout1D)                                                      \n",
      "                                                                 \n",
      " lstm (LSTM)                 (None, 96)                147840    \n",
      "                                                                 \n",
      " dense (Dense)               (None, 3)                 291       \n",
      "                                                                 \n",
      "=================================================================\n",
      "Total params: 14548131 (55.50 MB)\n",
      "Trainable params: 14548131 (55.50 MB)\n",
      "Non-trainable params: 0 (0.00 Byte)\n",
      "_________________________________________________________________\n",
      "Best validation accuracy: 0.7888040542602539\n",
      "WARNING:tensorflow:Detecting that an object or model or tf.train.Checkpoint is being deleted with unrestored values. See the following logs for the specific values in question. To silence these warnings, use `status.expect_partial()`. See https://www.tensorflow.org/api_docs/python/tf/train/Checkpoint#restorefor details about the status object returned by the restore function.\n",
      "WARNING:tensorflow:Value in checkpoint could not be found in the restored object: (root).optimizer._variables.1\n",
      "WARNING:tensorflow:Value in checkpoint could not be found in the restored object: (root).optimizer._variables.2\n",
      "WARNING:tensorflow:Value in checkpoint could not be found in the restored object: (root).optimizer._variables.3\n",
      "WARNING:tensorflow:Value in checkpoint could not be found in the restored object: (root).optimizer._variables.4\n",
      "WARNING:tensorflow:Value in checkpoint could not be found in the restored object: (root).optimizer._variables.5\n",
      "WARNING:tensorflow:Value in checkpoint could not be found in the restored object: (root).optimizer._variables.6\n",
      "WARNING:tensorflow:Value in checkpoint could not be found in the restored object: (root).optimizer._variables.7\n",
      "WARNING:tensorflow:Value in checkpoint could not be found in the restored object: (root).optimizer._variables.8\n",
      "WARNING:tensorflow:Value in checkpoint could not be found in the restored object: (root).optimizer._variables.9\n",
      "WARNING:tensorflow:Value in checkpoint could not be found in the restored object: (root).optimizer._variables.10\n",
      "WARNING:tensorflow:Value in checkpoint could not be found in the restored object: (root).optimizer._variables.11\n",
      "WARNING:tensorflow:Value in checkpoint could not be found in the restored object: (root).optimizer._variables.12\n"
     ]
    }
   ],
   "source": [
    "tuner_reload('SentimentAnalysis_128')"
   ]
  },
  {
   "cell_type": "markdown",
   "id": "0763cfb9-9361-4579-bc8e-83c7fd718233",
   "metadata": {},
   "source": [
    "#### The best results were obtained by 64 batch size and the batch size 64 will remian constant in the implementation of the LSTM variants"
   ]
  },
  {
   "cell_type": "code",
   "execution_count": 103,
   "id": "d2067433-d636-4cfb-b79c-458f04ceceaf",
   "metadata": {
    "tags": []
   },
   "outputs": [
    {
     "name": "stdout",
     "output_type": "stream",
     "text": [
      "Epoch 1/10\n",
      "86/86 [==============================] - 11s 117ms/step - loss: 1.0432 - accuracy: 0.4578 - val_loss: 0.9054 - val_accuracy: 0.6158\n",
      "Epoch 2/10\n",
      "86/86 [==============================] - 10s 116ms/step - loss: 0.7001 - accuracy: 0.7431 - val_loss: 0.6459 - val_accuracy: 0.7464\n",
      "Epoch 3/10\n",
      "86/86 [==============================] - 10s 114ms/step - loss: 0.3855 - accuracy: 0.8665 - val_loss: 0.5582 - val_accuracy: 0.7829\n",
      "Epoch 4/10\n",
      "86/86 [==============================] - 10s 116ms/step - loss: 0.2451 - accuracy: 0.9173 - val_loss: 0.5716 - val_accuracy: 0.7880\n",
      "Epoch 5/10\n",
      "86/86 [==============================] - 10s 114ms/step - loss: 0.1632 - accuracy: 0.9507 - val_loss: 0.6051 - val_accuracy: 0.7820\n",
      "Epoch 6/10\n",
      "86/86 [==============================] - 10s 116ms/step - loss: 0.1201 - accuracy: 0.9629 - val_loss: 0.6327 - val_accuracy: 0.7761\n",
      "37/37 [==============================] - 0s 9ms/step\n"
     ]
    },
    {
     "data": {
      "image/png": "[encoded data removed]",
      "text/plain": [
       "<Figure size 1000x700 with 2 Axes>"
      ]
     },
     "metadata": {},
     "output_type": "display_data"
    },
    {
     "name": "stdout",
     "output_type": "stream",
     "text": [
      "              precision    recall  f1-score   support\n",
      "\n",
      "    Negative     0.8282    0.8329    0.8305       353\n",
      "     Neutral     0.7537    0.7789    0.7661       389\n",
      "    Positive     0.8318    0.8032    0.8172       437\n",
      "\n",
      "    accuracy                         0.8041      1179\n",
      "   macro avg     0.8046    0.8050    0.8046      1179\n",
      "weighted avg     0.8049    0.8041    0.8043      1179\n",
      "\n"
     ]
    },
    {
     "data": {
      "image/png": "[encoded data removed]",
      "text/plain": [
       "<Figure size 1500x500 with 2 Axes>"
      ]
     },
     "metadata": {},
     "output_type": "display_data"
    }
   ],
   "source": [
    "#implementing the standard LSTM with the best parameters\n",
    "model = Sequential()\n",
    "model.add(Embedding(MAX_NB_WORDS, 64, input_length=X.shape[1]))\n",
    "model.add(SpatialDropout1D(0.4))\n",
    "model.add(LSTM(32, dropout=0.2, recurrent_dropout=0.2))\n",
    "model.add(Dense(3, activation='softmax'))\n",
    "model.compile(loss='categorical_crossentropy', optimizer='adam', metrics=['accuracy'])\n",
    "\n",
    "history = model.fit(X_train, Y_train, epochs=10, batch_size=64, validation_data=(X_val, Y_val), callbacks=[EarlyStopping(monitor='val_loss', patience=3, min_delta=0.0001)])\n",
    "\n",
    "test_pred = model.predict(X_test)\n",
    "test_pred = np.argmax(test_pred, axis=-1)\n",
    "Y_test_argmax = np.argmax(Y_test, axis=-1)\n",
    "\n",
    "plot_confusion_matrix(Y_test_argmax, test_pred)\n",
    "print(classification_report(Y_test_argmax, test_pred, target_names=['Negative', 'Neutral', 'Positive'],digits=4))\n",
    "\n",
    "plot_training_history(history)"
   ]
  },
  {
   "cell_type": "code",
   "execution_count": 5,
   "id": "1496c9c7-83cd-4f33-a794-740ca56b3bf2",
   "metadata": {
    "tags": []
   },
   "outputs": [
    {
     "name": "stdout",
     "output_type": "stream",
     "text": [
      "Metrics for class negative (Class value: 0):\n",
      "Specificity: 0.9147\n",
      "FPR: 0.0853\n",
      "Precision: 0.8282\n",
      "\n",
      "Metrics for class neutral (Class value: 1):\n",
      "Specificity: 0.8669\n",
      "FPR: 0.1331\n",
      "Precision: 0.7537\n",
      "\n",
      "Metrics for class positive (Class value: 2):\n",
      "Specificity: 0.8937\n",
      "FPR: 0.1063\n",
      "Precision: 0.8318\n",
      "\n",
      "Overall accuracy: 0.8041\n",
      "Weighted average specificity: 0.8911\n",
      "Weighted average FPR: 0.1089\n",
      "Macro average specificity: 0.8918\n",
      "Macro average FPR: 0.1082\n",
      "\n"
     ]
    }
   ],
   "source": [
    "#need to enter the values to the matrix manually as this can change based on the fine tuning of the model\n",
    "cm = np.array([[294, 38, 21], \n",
    "               [36, 303, 50], \n",
    "               [25, 61, 351]])\n",
    "\n",
    "compute_FPR_spec_metrics(cm)"
   ]
  },
  {
   "cell_type": "code",
   "execution_count": 104,
   "id": "57871b4b-0209-4b12-bcc5-c77c7aad12b5",
   "metadata": {
    "tags": []
   },
   "outputs": [
    {
     "name": "stdout",
     "output_type": "stream",
     "text": [
      "37/37 [==============================] - 0s 9ms/step\n",
      "1. expect maruti stocks to hold up with upcoming product launches pramod gubbi\n",
      "   True Sentiment: Positive\n",
      "   Misclassified as: Neutral\n",
      "\n",
      "2. gold steady below 3week top fed meeting eyed\n",
      "   True Sentiment: Negative\n",
      "   Misclassified as: Neutral\n",
      "\n",
      "3. avoid bank stocks prateek agarwal ask investment managers\n",
      "   True Sentiment: Negative\n",
      "   Misclassified as: Neutral\n",
      "\n",
      "4. fii buying in vmart retail crosses limit no further purchase\n",
      "   True Sentiment: Negative\n",
      "   Misclassified as: Neutral\n",
      "\n",
      "5. sustained call writing at strike price 8300 on nifty50 keeping bulls at bay\n",
      "   True Sentiment: Negative\n",
      "   Misclassified as: Positive\n",
      "\n",
      "6. mindtree on course to join 1bn revenue club in next 5 years but present valuations fairly rich girish pai\n",
      "   True Sentiment: Positive\n",
      "   Misclassified as: Negative\n",
      "\n",
      "7. strong deals crucial for wipros growth push\n",
      "   True Sentiment: Neutral\n",
      "   Misclassified as: Positive\n",
      "\n",
      "8. tcs signals slowdown brokerages remain unfazed retain rating\n",
      "   True Sentiment: Positive\n",
      "   Misclassified as: Negative\n",
      "\n",
      "9. invest in stocks of companies with high pricing power matthews asia\n",
      "   True Sentiment: Neutral\n",
      "   Misclassified as: Positive\n",
      "\n",
      "10. titagarh wagons a bit too steep to get into prakash diwan\n",
      "   True Sentiment: Negative\n",
      "   Misclassified as: Neutral\n",
      "\n"
     ]
    }
   ],
   "source": [
    "misclassification_report(model, X_test, Y_test, tokenizer, n_samples=10)"
   ]
  },
  {
   "cell_type": "code",
   "execution_count": 105,
   "id": "ebeec4c0-eb0f-481f-ade8-cb2e638ae339",
   "metadata": {
    "tags": []
   },
   "outputs": [
    {
     "name": "stdout",
     "output_type": "stream",
     "text": [
      "Model: \"sequential_4\"\n",
      "_________________________________________________________________\n",
      " Layer (type)                Output Shape              Param #   \n",
      "=================================================================\n",
      " embedding_4 (Embedding)     (None, 250, 64)           3200000   \n",
      "                                                                 \n",
      " spatial_dropout1d_4 (Spati  (None, 250, 64)           0         \n",
      " alDropout1D)                                                    \n",
      "                                                                 \n",
      " lstm_5 (LSTM)               (None, 32)                12416     \n",
      "                                                                 \n",
      " dense_4 (Dense)             (None, 3)                 99        \n",
      "                                                                 \n",
      "=================================================================\n",
      "Total params: 3212515 (12.25 MB)\n",
      "Trainable params: 3212515 (12.25 MB)\n",
      "Non-trainable params: 0 (0.00 Byte)\n",
      "_________________________________________________________________\n"
     ]
    }
   ],
   "source": [
    "model.summary()"
   ]
  },
  {
   "cell_type": "markdown",
   "id": "8972fd9c-96ca-4d5e-bddf-633d8110b08c",
   "metadata": {},
   "source": [
    "### Stacked LSTM"
   ]
  },
  {
   "cell_type": "code",
   "execution_count": 70,
   "id": "6bd9dd7a-b7dc-4886-9da7-19bf1600ab21",
   "metadata": {
    "tags": []
   },
   "outputs": [],
   "source": [
    "def build_stacked_model(hp, max_nb_words=MAX_NB_WORDS, input_length=MAX_SEQUENCE_LENGTH):\n",
    "    \"\"\"\n",
    "    Builds a stacked LSTM model for sentiment analysis.\n",
    "    \n",
    "    Args:\n",
    "        hp (HyperParameters): Hyperparameters for the model.\n",
    "        max_nb_words (int): Maximum number of words for the Embedding layer.\n",
    "        input_length (int): Input length for the Embedding layer.\n",
    "    \n",
    "    Returns:\n",
    "        Model: A compiled Keras model.\n",
    "    \"\"\"\n",
    "    model = Sequential()\n",
    "    model.add(Embedding(max_nb_words, hp.Int('embedding_dim', min_value=32, max_value=512, step=32), input_length=input_length))\n",
    "    model.add(SpatialDropout1D(hp.Float('dropout_rate', min_value=0.0, max_value=0.5, step=0.05)))\n",
    "    model.add(LSTM(hp.Int('lstm_units_1', min_value=32, max_value=512, step=32), dropout=0.2, recurrent_dropout=0.2, return_sequences=True))\n",
    "    model.add(LSTM(hp.Int('lstm_units_2', min_value=32, max_value=512, step=32), dropout=0.2, recurrent_dropout=0.2))\n",
    "    model.add(Dense(3, activation='softmax'))\n",
    "    model.compile(loss='categorical_crossentropy', optimizer='adam', metrics=['accuracy'])\n",
    "    return model\n"
   ]
  },
  {
   "cell_type": "code",
   "execution_count": 83,
   "id": "afc5a9cf-7290-4685-82d0-4affbb671668",
   "metadata": {
    "tags": []
   },
   "outputs": [],
   "source": [
    "def run_stacked_tuner(batch_size, X_train, Y_train, X_val, Y_val, project_name):\n",
    "    \"\"\"\n",
    "    Runs the Keras tuner for hyperparameter optimization of the stacked LSTM model.\n",
    "    \n",
    "    Args:\n",
    "        batch_size (int): Batch size for training.\n",
    "        X_train (ndarray): Training features.\n",
    "        Y_train (ndarray): Training labels.\n",
    "        X_val (ndarray): Validation features.\n",
    "        Y_val (ndarray): Validation labels.\n",
    "        project_name (str): Name of the tuning project.\n",
    "    \"\"\"\n",
    "    tuner = RandomSearch(\n",
    "        build_stacked_model,  # note the change in the function name here\n",
    "        objective='val_accuracy',\n",
    "        max_trials=20,\n",
    "        executions_per_trial=2,\n",
    "        directory='output_',\n",
    "        project_name=project_name)\n",
    "    \n",
    "    tuner.search(X_train, Y_train, epochs=5, validation_data=(X_val, Y_val), batch_size=batch_size, callbacks=[EarlyStopping(monitor='val_loss', patience=3)])\n"
   ]
  },
  {
   "cell_type": "code",
   "execution_count": 87,
   "id": "caf330c6-1140-4f0f-b6b7-c9f3455232d3",
   "metadata": {
    "tags": []
   },
   "outputs": [],
   "source": [
    "#helps reload the project for the fine tuned model\n",
    "def tuner_reload_s(project_name):\n",
    "    tuner = RandomSearch(\n",
    "        build_stacked_model,\n",
    "        objective='val_accuracy',\n",
    "        max_trials=20,\n",
    "        executions_per_trial=2,\n",
    "        directory='output_',\n",
    "        project_name=project_name\n",
    "    )\n",
    "    tuner.reload()\n",
    "    \n",
    "    best_hps = tuner.get_best_hyperparameters(num_trials=1)[0]\n",
    "    best_model = tuner.get_best_models(num_models=1)[0]\n",
    "    best_trial = tuner.oracle.get_best_trials(num_trials=1)[0]\n",
    "    \n",
    "    best_val_accuracy = best_trial.metrics.metrics['val_accuracy'].get_best_value()\n",
    "    \n",
    "    print(f\"\"\"\n",
    "    The hyperparameters search is complete. \n",
    "    The optimal number of units in the first LSTM layer is {best_hps_s.get('lstm_units_1')} \n",
    "    and the optimal number of units in the second LSTM layer is {best_hps_s.get('lstm_units_2')}.\n",
    "    The optimal dropout rate is {best_hps_s.get('dropout_rate')}. \n",
    "    The optimal embedding dimension is {best_hps_s.get('embedding_dim')}.\n",
    "    \"\"\")\n",
    "\n",
    "    print(f\"Best validation accuracy: {best_val_accuracy}\")\n",
    "\n",
    "    # Print best hyperparameters\n",
    "    print(\"Best Hyperparameters:\")\n",
    "    print(best_hps_s.values)\n",
    "\n",
    "    # Print best model summary\n",
    "    print(\"Best Model Summary:\")\n",
    "    best_model_s.summary()"
   ]
  },
  {
   "cell_type": "code",
   "execution_count": 73,
   "id": "d09a3d48-52a9-4a98-8e6d-74fc0a658822",
   "metadata": {
    "tags": []
   },
   "outputs": [
    {
     "name": "stdout",
     "output_type": "stream",
     "text": [
      "Trial 20 Complete [00h 30m 17s]\n",
      "val_accuracy: 0.7718405425548553\n",
      "\n",
      "Best val_accuracy So Far: 0.7811704874038696\n",
      "Total elapsed time: 10h 57m 18s\n",
      "INFO:tensorflow:Oracle triggered exit\n"
     ]
    }
   ],
   "source": [
    "run_stacked_tuner(64, X_train, Y_train, X_val, Y_val, 'SentimentAnalysis_stacked')"
   ]
  },
  {
   "cell_type": "code",
   "execution_count": 88,
   "id": "b538d1f7-96ab-4dc7-a1bb-af5c6b378d27",
   "metadata": {
    "tags": []
   },
   "outputs": [
    {
     "name": "stdout",
     "output_type": "stream",
     "text": [
      "INFO:tensorflow:Reloading Tuner from output_/SentimentAnalysis_stacked/tuner0.json\n",
      "\n",
      "    The hyperparameters search is complete. \n",
      "    The optimal number of units in the first LSTM layer is 256 \n",
      "    and the optimal number of units in the second LSTM layer is 256.\n",
      "    The optimal dropout rate is 0.35000000000000003. \n",
      "    The optimal embedding dimension is 352.\n",
      "    \n",
      "Best validation accuracy: 0.7811704874038696\n",
      "Best Hyperparameters:\n",
      "{'embedding_dim': 352, 'dropout_rate': 0.35000000000000003, 'lstm_units_1': 256, 'lstm_units_2': 256}\n",
      "Best Model Summary:\n",
      "Model: \"sequential\"\n",
      "_________________________________________________________________\n",
      " Layer (type)                Output Shape              Param #   \n",
      "=================================================================\n",
      " embedding (Embedding)       (None, 250, 352)          17600000  \n",
      "                                                                 \n",
      " spatial_dropout1d (Spatial  (None, 250, 352)          0         \n",
      " Dropout1D)                                                      \n",
      "                                                                 \n",
      " lstm (LSTM)                 (None, 250, 256)          623616    \n",
      "                                                                 \n",
      " lstm_1 (LSTM)               (None, 256)               525312    \n",
      "                                                                 \n",
      " dense (Dense)               (None, 3)                 771       \n",
      "                                                                 \n",
      "=================================================================\n",
      "Total params: 18749699 (71.52 MB)\n",
      "Trainable params: 18749699 (71.52 MB)\n",
      "Non-trainable params: 0 (0.00 Byte)\n",
      "_________________________________________________________________\n",
      "WARNING:tensorflow:Detecting that an object or model or tf.train.Checkpoint is being deleted with unrestored values. See the following logs for the specific values in question. To silence these warnings, use `status.expect_partial()`. See https://www.tensorflow.org/api_docs/python/tf/train/Checkpoint#restorefor details about the status object returned by the restore function.\n",
      "WARNING:tensorflow:Value in checkpoint could not be found in the restored object: (root).optimizer._variables.1\n",
      "WARNING:tensorflow:Value in checkpoint could not be found in the restored object: (root).optimizer._variables.2\n",
      "WARNING:tensorflow:Value in checkpoint could not be found in the restored object: (root).optimizer._variables.3\n",
      "WARNING:tensorflow:Value in checkpoint could not be found in the restored object: (root).optimizer._variables.4\n",
      "WARNING:tensorflow:Value in checkpoint could not be found in the restored object: (root).optimizer._variables.5\n",
      "WARNING:tensorflow:Value in checkpoint could not be found in the restored object: (root).optimizer._variables.6\n",
      "WARNING:tensorflow:Value in checkpoint could not be found in the restored object: (root).optimizer._variables.7\n",
      "WARNING:tensorflow:Value in checkpoint could not be found in the restored object: (root).optimizer._variables.8\n",
      "WARNING:tensorflow:Value in checkpoint could not be found in the restored object: (root).optimizer._variables.9\n",
      "WARNING:tensorflow:Value in checkpoint could not be found in the restored object: (root).optimizer._variables.10\n",
      "WARNING:tensorflow:Value in checkpoint could not be found in the restored object: (root).optimizer._variables.11\n",
      "WARNING:tensorflow:Value in checkpoint could not be found in the restored object: (root).optimizer._variables.12\n",
      "WARNING:tensorflow:Value in checkpoint could not be found in the restored object: (root).optimizer._variables.13\n",
      "WARNING:tensorflow:Value in checkpoint could not be found in the restored object: (root).optimizer._variables.14\n",
      "WARNING:tensorflow:Value in checkpoint could not be found in the restored object: (root).optimizer._variables.15\n",
      "WARNING:tensorflow:Value in checkpoint could not be found in the restored object: (root).optimizer._variables.16\n",
      "WARNING:tensorflow:Value in checkpoint could not be found in the restored object: (root).optimizer._variables.17\n",
      "WARNING:tensorflow:Value in checkpoint could not be found in the restored object: (root).optimizer._variables.18\n"
     ]
    }
   ],
   "source": [
    "# Reload the tuner and get the best hyperparameters, model, and validation accuracy.\n",
    "tuner_reload_s('SentimentAnalysis_stacked')"
   ]
  },
  {
   "cell_type": "code",
   "execution_count": 99,
   "id": "0309321e-d550-4d08-90e1-6932f1823512",
   "metadata": {
    "tags": []
   },
   "outputs": [
    {
     "name": "stdout",
     "output_type": "stream",
     "text": [
      "Epoch 1/10\n",
      "86/86 [==============================] - 214s 2s/step - loss: 0.8305 - accuracy: 0.6100 - val_loss: 0.5975 - val_accuracy: 0.7600\n",
      "Epoch 2/10\n",
      "86/86 [==============================] - 212s 2s/step - loss: 0.3553 - accuracy: 0.8713 - val_loss: 0.5868 - val_accuracy: 0.7642\n",
      "Epoch 3/10\n",
      "86/86 [==============================] - 214s 2s/step - loss: 0.1833 - accuracy: 0.9373 - val_loss: 0.6729 - val_accuracy: 0.7557\n",
      "Epoch 4/10\n",
      "86/86 [==============================] - 215s 3s/step - loss: 0.0954 - accuracy: 0.9698 - val_loss: 0.8341 - val_accuracy: 0.7634\n",
      "Epoch 5/10\n",
      "86/86 [==============================] - 232s 3s/step - loss: 0.0527 - accuracy: 0.9818 - val_loss: 1.0010 - val_accuracy: 0.7532\n",
      "37/37 [==============================] - 14s 389ms/step\n"
     ]
    },
    {
     "data": {
      "image/png": "[encoded data removed]",
      "text/plain": [
       "<Figure size 1000x700 with 2 Axes>"
      ]
     },
     "metadata": {},
     "output_type": "display_data"
    },
    {
     "name": "stdout",
     "output_type": "stream",
     "text": [
      "              precision    recall  f1-score   support\n",
      "\n",
      "    Negative     0.8365    0.7394    0.7850       353\n",
      "     Neutral     0.7084    0.8432    0.7700       389\n",
      "    Positive     0.8267    0.7643    0.7943       437\n",
      "\n",
      "    accuracy                         0.7829      1179\n",
      "   macro avg     0.7906    0.7823    0.7831      1179\n",
      "weighted avg     0.7906    0.7829    0.7835      1179\n",
      "\n"
     ]
    },
    {
     "data": {
      "image/png": "[encoded data removed]",
      "text/plain": [
       "<Figure size 1500x500 with 2 Axes>"
      ]
     },
     "metadata": {},
     "output_type": "display_data"
    }
   ],
   "source": [
    "#Training the stacked LSTM with the best parameters after tuning\n",
    "model = Sequential()\n",
    "model.add(Embedding(MAX_NB_WORDS, 352, input_length=X.shape[1]))\n",
    "model.add(SpatialDropout1D(0.35000000000000003))\n",
    "model.add(LSTM(256, dropout=0.2, recurrent_dropout=0.2, return_sequences=True))\n",
    "model.add(LSTM(256, dropout=0.2, recurrent_dropout=0.2))\n",
    "model.add(Dense(3, activation='softmax'))\n",
    "model.compile(loss='categorical_crossentropy', optimizer='adam', metrics=['accuracy'])\n",
    "\n",
    "history = model.fit(X_train, Y_train, epochs=10, batch_size=64, validation_data=(X_val, Y_val), callbacks=[EarlyStopping(monitor='val_loss', patience=3, min_delta=0.0001)])\n",
    "\n",
    "test_pred = model.predict(X_test)\n",
    "test_pred = np.argmax(test_pred, axis=-1)\n",
    "Y_test_argmax = np.argmax(Y_test, axis=-1)\n",
    "\n",
    "plot_confusion_matrix(Y_test_argmax, test_pred)\n",
    "print(classification_report(Y_test_argmax, test_pred, target_names=['Negative', 'Neutral', 'Positive'],digits=4))\n",
    "\n",
    "plot_training_history(history)"
   ]
  },
  {
   "cell_type": "code",
   "execution_count": 5,
   "id": "f99d90c1-ec14-4b8d-a7f1-09d3e357ca50",
   "metadata": {
    "tags": []
   },
   "outputs": [
    {
     "name": "stdout",
     "output_type": "stream",
     "text": [
      "Metrics for class negative (Class value: 0):\n",
      "Specificity: 0.9285\n",
      "FPR: 0.0715\n",
      "Precision: 0.8365\n",
      "\n",
      "Metrics for class neutral (Class value: 1):\n",
      "Specificity: 0.8151\n",
      "FPR: 0.1849\n",
      "Precision: 0.7084\n",
      "\n",
      "Metrics for class positive (Class value: 2):\n",
      "Specificity: 0.8938\n",
      "FPR: 0.1062\n",
      "Precision: 0.8267\n",
      "\n",
      "Overall accuracy: 0.7829\n",
      "Weighted average specificity: 0.8782\n",
      "Weighted average FPR: 0.1218\n",
      "Macro average specificity: 0.8791\n",
      "Macro average FPR: 0.1209\n",
      "\n"
     ]
    }
   ],
   "source": [
    "#need to enter the values to the matrix manually as this can change based on the fine tuning of the model\n",
    "cm = np.array([[261, 58, 34], \n",
    "               [25, 328, 36], \n",
    "               [26, 77, 334]])\n",
    "\n",
    "compute_FPR_spec_metrics(cm)"
   ]
  },
  {
   "cell_type": "code",
   "execution_count": 100,
   "id": "6edfcd05-8208-4124-af6b-92d870cefe7b",
   "metadata": {
    "tags": []
   },
   "outputs": [
    {
     "name": "stdout",
     "output_type": "stream",
     "text": [
      "37/37 [==============================] - 15s 394ms/step\n",
      "1. gold trades near 4month low before european central bank decision us data\n",
      "   True Sentiment: Negative\n",
      "   Misclassified as: Positive\n",
      "\n",
      "2. china shares post biggest daily loss in six months on economy liquidity worries\n",
      "   True Sentiment: Negative\n",
      "   Misclassified as: Positive\n",
      "\n",
      "3. expect maruti stocks to hold up with upcoming product launches pramod gubbi\n",
      "   True Sentiment: Positive\n",
      "   Misclassified as: Neutral\n",
      "\n",
      "4. gold steady below 3week top fed meeting eyed\n",
      "   True Sentiment: Negative\n",
      "   Misclassified as: Neutral\n",
      "\n",
      "5. as copper runs low producers turn ideas to boost output of metal\n",
      "   True Sentiment: Negative\n",
      "   Misclassified as: Positive\n",
      "\n",
      "6. unitech q1 dips by 53 pc to rs 4588 crore no dividend for fy12\n",
      "   True Sentiment: Negative\n",
      "   Misclassified as: Neutral\n",
      "\n",
      "7. avoid bank stocks prateek agarwal ask investment managers\n",
      "   True Sentiment: Negative\n",
      "   Misclassified as: Neutral\n",
      "\n",
      "8. fii buying in vmart retail crosses limit no further purchase\n",
      "   True Sentiment: Negative\n",
      "   Misclassified as: Positive\n",
      "\n",
      "9. sustained call writing at strike price 8300 on nifty50 keeping bulls at bay\n",
      "   True Sentiment: Negative\n",
      "   Misclassified as: Positive\n",
      "\n",
      "10. rail stocks plunge upto 20 for second day in a row\n",
      "   True Sentiment: Negative\n",
      "   Misclassified as: Positive\n",
      "\n"
     ]
    }
   ],
   "source": [
    "misclassification_report(model, X_test, Y_test, tokenizer, n_samples=10)"
   ]
  },
  {
   "cell_type": "code",
   "execution_count": 101,
   "id": "b240c4ca-c615-4089-9fd9-8bc9ca050d28",
   "metadata": {
    "tags": []
   },
   "outputs": [
    {
     "name": "stdout",
     "output_type": "stream",
     "text": [
      "Model: \"sequential_2\"\n",
      "_________________________________________________________________\n",
      " Layer (type)                Output Shape              Param #   \n",
      "=================================================================\n",
      " embedding_2 (Embedding)     (None, 250, 352)          17600000  \n",
      "                                                                 \n",
      " spatial_dropout1d_2 (Spati  (None, 250, 352)          0         \n",
      " alDropout1D)                                                    \n",
      "                                                                 \n",
      " lstm_2 (LSTM)               (None, 250, 256)          623616    \n",
      "                                                                 \n",
      " lstm_3 (LSTM)               (None, 256)               525312    \n",
      "                                                                 \n",
      " dense_2 (Dense)             (None, 3)                 771       \n",
      "                                                                 \n",
      "=================================================================\n",
      "Total params: 18749699 (71.52 MB)\n",
      "Trainable params: 18749699 (71.52 MB)\n",
      "Non-trainable params: 0 (0.00 Byte)\n",
      "_________________________________________________________________\n"
     ]
    }
   ],
   "source": [
    "model.summary()"
   ]
  },
  {
   "cell_type": "markdown",
   "id": "2387be33-4b4e-48f8-9289-be6655c2e6d0",
   "metadata": {},
   "source": [
    "### Bi-Directional LSTM"
   ]
  },
  {
   "cell_type": "code",
   "execution_count": 89,
   "id": "dfa20222-f27f-41e3-9160-fbbccc08ac5e",
   "metadata": {},
   "outputs": [],
   "source": [
    "def build_bidirectional_model(hp, max_nb_words=MAX_NB_WORDS, input_length=MAX_SEQUENCE_LENGTH):\n",
    "    \"\"\"\n",
    "    Builds a Bidirectional LSTM model for sentiment analysis.\n",
    "    \n",
    "    Args:\n",
    "        hp (HyperParameters): Hyperparameters for the model.\n",
    "        max_nb_words (int): Maximum number of words for the Embedding layer.\n",
    "        input_length (int): Input length for the Embedding layer.\n",
    "    \n",
    "    Returns:\n",
    "        Model: A compiled Keras model.\n",
    "    \"\"\"\n",
    "    model = Sequential()\n",
    "    model.add(Embedding(max_nb_words, hp.Int('embedding_dim', min_value=32, max_value=512, step=32), input_length=input_length))\n",
    "    model.add(SpatialDropout1D(hp.Float('dropout_rate', min_value=0.0, max_value=0.5, step=0.05)))\n",
    "    model.add(Bidirectional(LSTM(hp.Int('lstm_units', min_value=32, max_value=512, step=32), dropout=0.2, recurrent_dropout=0.2)))\n",
    "    model.add(Dense(3, activation='softmax'))\n",
    "    model.compile(loss='categorical_crossentropy', optimizer='adam', metrics=['accuracy'])\n",
    "    return model\n",
    "\n"
   ]
  },
  {
   "cell_type": "code",
   "execution_count": 90,
   "id": "8742d229-304b-4e69-b2b2-c7a7c615aff3",
   "metadata": {},
   "outputs": [],
   "source": [
    "def run_bidirectional_tuner(batch_size, X_train, Y_train, X_val, Y_val, project_name):\n",
    "    \"\"\"\n",
    "    Runs the Keras tuner for hyperparameter optimization of the Bidirectional LSTM model.\n",
    "    \n",
    "    Args:\n",
    "        batch_size (int): Batch size for training.\n",
    "        X_train (ndarray): Training features.\n",
    "        Y_train (ndarray): Training labels.\n",
    "        X_val (ndarray): Validation features.\n",
    "        Y_val (ndarray): Validation labels.\n",
    "        project_name (str): Name of the tuning project.\n",
    "    \"\"\"\n",
    "    tuner = RandomSearch(\n",
    "        build_bidirectional_model,\n",
    "        objective='val_accuracy',\n",
    "        max_trials=20,\n",
    "        executions_per_trial=2,\n",
    "        directory='output_',\n",
    "        project_name=project_name)\n",
    "    \n",
    "    tuner.search(X_train, Y_train, epochs=5, validation_data=(X_val, Y_val), batch_size=batch_size, callbacks=[EarlyStopping(monitor='val_loss', patience=3)])\n"
   ]
  },
  {
   "cell_type": "code",
   "execution_count": 91,
   "id": "d9b3b6b9-a13e-453a-9c38-d6ff2068d443",
   "metadata": {
    "tags": []
   },
   "outputs": [],
   "source": [
    "#Helps reload the fine tuned parameters\n",
    "def tuner_reload_bi(project_name):\n",
    "    tuner = RandomSearch(\n",
    "        build_bidirectional_model,\n",
    "        objective='val_accuracy',\n",
    "        max_trials=20,\n",
    "        executions_per_trial=2,\n",
    "        directory='output_',\n",
    "        project_name=project_name\n",
    "    )\n",
    "    tuner.reload()\n",
    "    print(f\"Hyperparameter values for {project_name}\")    \n",
    "    best_hps = tuner.get_best_hyperparameters(num_trials=1)[0]\n",
    "    print_hyperparameters(best_hps)\n",
    "\n",
    "    best_model = tuner.get_best_models(num_models=1)[0]\n",
    "    print_model_summary(best_model)\n",
    "\n",
    "    best_trial = tuner.oracle.get_best_trials(num_trials=1)[0]\n",
    "    \n",
    "    # Modify the metric retrieval line\n",
    "    best_val_accuracy = best_trial.metrics.metrics['val_accuracy'].get_best_value()\n",
    "    print(f\"Best validation accuracy: {best_val_accuracy}\")"
   ]
  },
  {
   "cell_type": "code",
   "execution_count": 92,
   "id": "8fa020ce-8f76-46e1-b041-5c39e03f332a",
   "metadata": {
    "tags": []
   },
   "outputs": [
    {
     "name": "stdout",
     "output_type": "stream",
     "text": [
      "Trial 20 Complete [00h 43m 58s]\n",
      "val_accuracy: 0.7866836190223694\n",
      "\n",
      "Best val_accuracy So Far: 0.7921967506408691\n",
      "Total elapsed time: 11h 20m 43s\n",
      "INFO:tensorflow:Oracle triggered exit\n"
     ]
    }
   ],
   "source": [
    "run_bidirectional_tuner(64, X_train, Y_train, X_val, Y_val, 'SentimentAnalysis_bidirectional')"
   ]
  },
  {
   "cell_type": "code",
   "execution_count": 93,
   "id": "35ff69a1-95e3-4dbb-be8b-be2c3bbf484f",
   "metadata": {
    "tags": []
   },
   "outputs": [
    {
     "name": "stdout",
     "output_type": "stream",
     "text": [
      "INFO:tensorflow:Reloading Tuner from output_/SentimentAnalysis_bidirectional/tuner0.json\n",
      "Hyperparameter values for SentimentAnalysis_bidirectional\n",
      "\n",
      "    The hyperparameters :. \n",
      "    LSTM Units: 512\n",
      "    Dropout Rate: 0.0\n",
      "    Embedding Dimension: 384\n",
      "    \n",
      "Best Model Summary:\n",
      "Model: \"sequential\"\n",
      "_________________________________________________________________\n",
      " Layer (type)                Output Shape              Param #   \n",
      "=================================================================\n",
      " embedding (Embedding)       (None, 250, 384)          19200000  \n",
      "                                                                 \n",
      " spatial_dropout1d (Spatial  (None, 250, 384)          0         \n",
      " Dropout1D)                                                      \n",
      "                                                                 \n",
      " bidirectional (Bidirection  (None, 1024)              3674112   \n",
      " al)                                                             \n",
      "                                                                 \n",
      " dense (Dense)               (None, 3)                 3075      \n",
      "                                                                 \n",
      "=================================================================\n",
      "Total params: 22877187 (87.27 MB)\n",
      "Trainable params: 22877187 (87.27 MB)\n",
      "Non-trainable params: 0 (0.00 Byte)\n",
      "_________________________________________________________________\n",
      "Best validation accuracy: 0.7921967506408691\n",
      "WARNING:tensorflow:Detecting that an object or model or tf.train.Checkpoint is being deleted with unrestored values. See the following logs for the specific values in question. To silence these warnings, use `status.expect_partial()`. See https://www.tensorflow.org/api_docs/python/tf/train/Checkpoint#restorefor details about the status object returned by the restore function.\n",
      "WARNING:tensorflow:Value in checkpoint could not be found in the restored object: (root).optimizer._variables.1\n",
      "WARNING:tensorflow:Value in checkpoint could not be found in the restored object: (root).optimizer._variables.2\n",
      "WARNING:tensorflow:Value in checkpoint could not be found in the restored object: (root).optimizer._variables.3\n",
      "WARNING:tensorflow:Value in checkpoint could not be found in the restored object: (root).optimizer._variables.4\n",
      "WARNING:tensorflow:Value in checkpoint could not be found in the restored object: (root).optimizer._variables.5\n",
      "WARNING:tensorflow:Value in checkpoint could not be found in the restored object: (root).optimizer._variables.6\n",
      "WARNING:tensorflow:Value in checkpoint could not be found in the restored object: (root).optimizer._variables.7\n",
      "WARNING:tensorflow:Value in checkpoint could not be found in the restored object: (root).optimizer._variables.8\n",
      "WARNING:tensorflow:Value in checkpoint could not be found in the restored object: (root).optimizer._variables.9\n",
      "WARNING:tensorflow:Value in checkpoint could not be found in the restored object: (root).optimizer._variables.10\n",
      "WARNING:tensorflow:Value in checkpoint could not be found in the restored object: (root).optimizer._variables.11\n",
      "WARNING:tensorflow:Value in checkpoint could not be found in the restored object: (root).optimizer._variables.12\n",
      "WARNING:tensorflow:Value in checkpoint could not be found in the restored object: (root).optimizer._variables.13\n",
      "WARNING:tensorflow:Value in checkpoint could not be found in the restored object: (root).optimizer._variables.14\n",
      "WARNING:tensorflow:Value in checkpoint could not be found in the restored object: (root).optimizer._variables.15\n",
      "WARNING:tensorflow:Value in checkpoint could not be found in the restored object: (root).optimizer._variables.16\n",
      "WARNING:tensorflow:Value in checkpoint could not be found in the restored object: (root).optimizer._variables.17\n",
      "WARNING:tensorflow:Value in checkpoint could not be found in the restored object: (root).optimizer._variables.18\n"
     ]
    }
   ],
   "source": [
    "tuner_reload_bi('SentimentAnalysis_bidirectional')"
   ]
  },
  {
   "cell_type": "code",
   "execution_count": 94,
   "id": "f6a1bb1f-bd00-4871-99aa-5348e9cc55ec",
   "metadata": {
    "tags": []
   },
   "outputs": [
    {
     "name": "stdout",
     "output_type": "stream",
     "text": [
      "Epoch 1/10\n",
      "86/86 [==============================] - 369s 4s/step - loss: 1.0189 - accuracy: 0.5625 - val_loss: 0.6453 - val_accuracy: 0.7277\n",
      "Epoch 2/10\n",
      "86/86 [==============================] - 366s 4s/step - loss: 0.3623 - accuracy: 0.8653 - val_loss: 0.5615 - val_accuracy: 0.7812\n",
      "Epoch 3/10\n",
      "86/86 [==============================] - 365s 4s/step - loss: 0.1493 - accuracy: 0.9518 - val_loss: 0.6198 - val_accuracy: 0.7769\n",
      "Epoch 4/10\n",
      "86/86 [==============================] - 372s 4s/step - loss: 0.0695 - accuracy: 0.9784 - val_loss: 0.8152 - val_accuracy: 0.7625\n",
      "Epoch 5/10\n",
      "86/86 [==============================] - 375s 4s/step - loss: 0.0369 - accuracy: 0.9891 - val_loss: 0.9955 - val_accuracy: 0.7591\n",
      "37/37 [==============================] - 40s 1s/step\n"
     ]
    },
    {
     "data": {
      "image/png": "[encoded data removed]",
      "text/plain": [
       "<Figure size 1000x700 with 2 Axes>"
      ]
     },
     "metadata": {},
     "output_type": "display_data"
    },
    {
     "name": "stdout",
     "output_type": "stream",
     "text": [
      "              precision    recall  f1-score   support\n",
      "\n",
      "    Negative       0.80      0.80      0.80       353\n",
      "     Neutral       0.72      0.84      0.78       389\n",
      "    Positive       0.86      0.73      0.79       437\n",
      "\n",
      "    accuracy                           0.79      1179\n",
      "   macro avg       0.79      0.79      0.79      1179\n",
      "weighted avg       0.80      0.79      0.79      1179\n",
      "\n"
     ]
    },
    {
     "data": {
      "image/png": "[encoded data removed]",
      "text/plain": [
       "<Figure size 1500x500 with 2 Axes>"
      ]
     },
     "metadata": {},
     "output_type": "display_data"
    }
   ],
   "source": [
    "#implementing BiLSTM with the best parameters from the study\n",
    "model = Sequential()\n",
    "model.add(Embedding(MAX_NB_WORDS, 384, input_length=X.shape[1]))\n",
    "model.add(SpatialDropout1D(0.0))\n",
    "model.add(Bidirectional(LSTM(512, dropout=0.2, recurrent_dropout=0.2)))\n",
    "model.add(Dense(3, activation='softmax'))\n",
    "model.compile(loss='categorical_crossentropy', optimizer='adam', metrics=['accuracy'])\n",
    "\n",
    "history = model.fit(X_train, Y_train, epochs=10, batch_size=64, validation_data=(X_val, Y_val), callbacks=[EarlyStopping(monitor='val_loss', patience=3, min_delta=0.0001)])\n",
    "\n",
    "test_pred = model.predict(X_test)\n",
    "test_pred = np.argmax(test_pred, axis=-1)\n",
    "Y_test_argmax = np.argmax(Y_test, axis=-1)\n",
    "\n",
    "plot_confusion_matrix(Y_test_argmax, test_pred)\n",
    "print(classification_report(Y_test_argmax, test_pred, target_names=['Negative', 'Neutral', 'Positive'], digits=4))\n",
    "\n",
    "plot_training_history(history)"
   ]
  },
  {
   "cell_type": "code",
   "execution_count": 98,
   "id": "5c89688e-b355-4dbd-ad6c-3b4393052815",
   "metadata": {
    "tags": []
   },
   "outputs": [
    {
     "data": {
      "image/png": "[encoded data removed]",
      "text/plain": [
       "<Figure size 1000x700 with 2 Axes>"
      ]
     },
     "metadata": {},
     "output_type": "display_data"
    },
    {
     "name": "stdout",
     "output_type": "stream",
     "text": [
      "              precision    recall  f1-score   support\n",
      "\n",
      "    Negative     0.8006    0.7960    0.7983       353\n",
      "     Neutral     0.7193    0.8432    0.7763       389\n",
      "    Positive     0.8629    0.7346    0.7936       437\n",
      "\n",
      "    accuracy                         0.7888      1179\n",
      "   macro avg     0.7943    0.7913    0.7894      1179\n",
      "weighted avg     0.7969    0.7888    0.7893      1179\n",
      "\n"
     ]
    }
   ],
   "source": [
    "plot_confusion_matrix(Y_test_argmax, test_pred)\n",
    "print(classification_report(Y_test_argmax, test_pred, target_names=['Negative', 'Neutral', 'Positive'],digits=4))"
   ]
  },
  {
   "cell_type": "code",
   "execution_count": 6,
   "id": "e8c1b876-eead-4f0b-9ad6-2d5f9a0e651a",
   "metadata": {
    "tags": []
   },
   "outputs": [
    {
     "name": "stdout",
     "output_type": "stream",
     "text": [
      "Metrics for class negative (Class value: 0):\n",
      "Specificity: 0.9026\n",
      "FPR: 0.0974\n",
      "Precision: 0.8006\n",
      "\n",
      "Metrics for class neutral (Class value: 1):\n",
      "Specificity: 0.8247\n",
      "FPR: 0.1753\n",
      "Precision: 0.7193\n",
      "\n",
      "Metrics for class positive (Class value: 2):\n",
      "Specificity: 0.9227\n",
      "FPR: 0.0773\n",
      "Precision: 0.8629\n",
      "\n",
      "Overall accuracy: 0.7888\n",
      "Weighted average specificity: 0.8843\n",
      "Weighted average FPR: 0.1157\n",
      "Macro average specificity: 0.8833\n",
      "Macro average FPR: 0.1167\n",
      "\n"
     ]
    }
   ],
   "source": [
    "#need to enter the values to the matrix manually as this can change based on the fine tuning of the model\n",
    "cm = np.array([[281, 49, 23], \n",
    "               [33, 328, 28], \n",
    "               [37, 79, 321]])\n",
    "\n",
    "compute_FPR_spec_metrics(cm)"
   ]
  },
  {
   "cell_type": "code",
   "execution_count": 95,
   "id": "d620b69b-0b05-484e-a460-7c5ed83f968e",
   "metadata": {
    "tags": []
   },
   "outputs": [
    {
     "name": "stdout",
     "output_type": "stream",
     "text": [
      "37/37 [==============================] - 41s 1s/step\n",
      "1. gold trades near 4month low before european central bank decision us data\n",
      "   True Sentiment: Negative\n",
      "   Misclassified as: Neutral\n",
      "\n",
      "2. china shares post biggest daily loss in six months on economy liquidity worries\n",
      "   True Sentiment: Negative\n",
      "   Misclassified as: Positive\n",
      "\n",
      "3. expect maruti stocks to hold up with upcoming product launches pramod gubbi\n",
      "   True Sentiment: Positive\n",
      "   Misclassified as: Neutral\n",
      "\n",
      "4. gold steady below 3week top fed meeting eyed\n",
      "   True Sentiment: Negative\n",
      "   Misclassified as: Neutral\n",
      "\n",
      "5. as copper runs low producers turn ideas to boost output of metal\n",
      "   True Sentiment: Negative\n",
      "   Misclassified as: Positive\n",
      "\n",
      "6. avoid bank stocks prateek agarwal ask investment managers\n",
      "   True Sentiment: Negative\n",
      "   Misclassified as: Neutral\n",
      "\n",
      "7. fii buying in vmart retail crosses limit no further purchase\n",
      "   True Sentiment: Negative\n",
      "   Misclassified as: Neutral\n",
      "\n",
      "8. sustained call writing at strike price 8300 on nifty50 keeping bulls at bay\n",
      "   True Sentiment: Negative\n",
      "   Misclassified as: Positive\n",
      "\n",
      "9. rail stocks plunge upto 20 for second day in a row\n",
      "   True Sentiment: Negative\n",
      "   Misclassified as: Positive\n",
      "\n",
      "10. mindtree on course to join 1bn revenue club in next 5 years but present valuations fairly rich girish pai\n",
      "   True Sentiment: Positive\n",
      "   Misclassified as: Neutral\n",
      "\n"
     ]
    }
   ],
   "source": [
    "misclassification_report(model, X_test, Y_test, tokenizer, n_samples=10)"
   ]
  },
  {
   "cell_type": "code",
   "execution_count": 96,
   "id": "6b8fe1f8-92df-42a5-a684-24f5244e1663",
   "metadata": {
    "tags": []
   },
   "outputs": [
    {
     "data": {
      "text/plain": [
       "<keras.src.engine.sequential.Sequential at 0x1263cc250>"
      ]
     },
     "execution_count": 96,
     "metadata": {},
     "output_type": "execute_result"
    }
   ],
   "source": [
    "model"
   ]
  },
  {
   "cell_type": "code",
   "execution_count": 97,
   "id": "b646d56a-74b5-4278-bbfa-b5bdf62a13ea",
   "metadata": {
    "tags": []
   },
   "outputs": [
    {
     "name": "stdout",
     "output_type": "stream",
     "text": [
      "Model: \"sequential_1\"\n",
      "_________________________________________________________________\n",
      " Layer (type)                Output Shape              Param #   \n",
      "=================================================================\n",
      " embedding_1 (Embedding)     (None, 250, 384)          19200000  \n",
      "                                                                 \n",
      " spatial_dropout1d_1 (Spati  (None, 250, 384)          0         \n",
      " alDropout1D)                                                    \n",
      "                                                                 \n",
      " bidirectional_1 (Bidirecti  (None, 1024)              3674112   \n",
      " onal)                                                           \n",
      "                                                                 \n",
      " dense_1 (Dense)             (None, 3)                 3075      \n",
      "                                                                 \n",
      "=================================================================\n",
      "Total params: 22877187 (87.27 MB)\n",
      "Trainable params: 22877187 (87.27 MB)\n",
      "Non-trainable params: 0 (0.00 Byte)\n",
      "_________________________________________________________________\n"
     ]
    }
   ],
   "source": [
    "model.summary()"
   ]
  },
  {
   "cell_type": "code",
   "execution_count": null,
   "id": "aefe7428-f742-453a-8efb-57bff0bcac08",
   "metadata": {
    "tags": []
   },
   "outputs": [],
   "source": [
    "torch.set_default_device('mps')\n",
    "\n",
    "mod = torch.nn.Linear(20,30)\n",
    "print(mod.weight.device)\n",
    "print(mod(torch.randn(128, 20)).device)"
   ]
  }
 ],
 "metadata": {
  "kernelspec": {
   "display_name": "Python 3 (ipykernel)",
   "language": "python",
   "name": "python3"
  },
  "language_info": {
   "codemirror_mode": {
    "name": "ipython",
    "version": 3
   },
   "file_extension": ".py",
   "mimetype": "text/x-python",
   "name": "python",
   "nbconvert_exporter": "python",
   "pygments_lexer": "ipython3",
   "version": "3.9.12"
  }
 },
 "nbformat": 4,
 "nbformat_minor": 5
}
