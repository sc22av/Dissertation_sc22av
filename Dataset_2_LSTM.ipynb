{
 "cells": [
  {
   "cell_type": "markdown",
   "id": "7becc987-ea6b-46dc-8d9c-5139864dae1e",
   "metadata": {},
   "source": [
    "## LSTM METHOD IMPLEMENTATION"
   ]
  },
  {
   "cell_type": "code",
   "execution_count": 1,
   "id": "d0dd09e1-606e-4c9d-8f44-49494c8ab3cd",
   "metadata": {
    "tags": []
   },
   "outputs": [],
   "source": [
    "import torch"
   ]
  },
  {
   "cell_type": "code",
   "execution_count": 2,
   "id": "a1126699-aa84-4c73-95dd-cd5c931fe9bd",
   "metadata": {
    "tags": []
   },
   "outputs": [
    {
     "name": "stdout",
     "output_type": "stream",
     "text": [
      "PyTorch is built with MPS\n"
     ]
    }
   ],
   "source": [
    "if torch.backends.mps.is_built():\n",
    "    print(\"PyTorch is built with MPS\")\n",
    "else:\n",
    "    print(\"MPS not available.\")\n"
   ]
  },
  {
   "cell_type": "code",
   "execution_count": 3,
   "id": "f2865284-ba73-4a0d-bcdd-810e7d4fd84c",
   "metadata": {
    "tags": []
   },
   "outputs": [],
   "source": [
    "if torch.backends.mps.is_available():\n",
    "    mps_device = torch.device(\"mps\")\n",
    "else:\n",
    "    print(\"MPS device not found\") "
   ]
  },
  {
   "cell_type": "code",
   "execution_count": 4,
   "id": "af938daa-72b6-4b5d-aef7-d57fe6d6e9d0",
   "metadata": {
    "tags": []
   },
   "outputs": [
    {
     "name": "stdout",
     "output_type": "stream",
     "text": [
      "mps:0\n",
      "mps:0\n"
     ]
    }
   ],
   "source": [
    "torch.set_default_device('mps')\n",
    "\n",
    "mod = torch.nn.Linear(20,30)\n",
    "print(mod.weight.device)\n",
    "print(mod(torch.randn(128, 20)).device)"
   ]
  },
  {
   "cell_type": "markdown",
   "id": "692df749-6cd5-4aa1-921c-1ff0fe0b1c29",
   "metadata": {},
   "source": [
    "## PRE-PROCESSING"
   ]
  },
  {
   "cell_type": "code",
   "execution_count": 3,
   "id": "cc0d1daa-348e-43f9-a4dd-efea2c7a4207",
   "metadata": {
    "tags": []
   },
   "outputs": [],
   "source": [
    "# Basic utilities\n",
    "import os\n",
    "import platform\n",
    "import re\n",
    "import ast\n",
    "\n",
    "# Data handling and manipulation\n",
    "import numpy as np\n",
    "import pandas as pd\n",
    "\n",
    "# Text preprocessing and sentiment analysis utilities\n",
    "import nltk\n",
    "from nltk.corpus import stopwords\n",
    "from nltk.stem import WordNetLemmatizer\n",
    "from nltk.sentiment import SentimentIntensityAnalyzer\n",
    "from bs4 import BeautifulSoup\n",
    "from textblob import TextBlob\n",
    "import contractions\n",
    "\n",
    "# Visualization tools\n",
    "import matplotlib.pyplot as plt\n",
    "import seaborn as sns\n",
    "\n",
    "# Scikit-learn utilities for model evaluation, data splitting, and metrics\n",
    "from sklearn.model_selection import train_test_split\n",
    "from sklearn.metrics import (accuracy_score, f1_score, recall_score, \n",
    "                             precision_score, confusion_matrix, classification_report)\n",
    "\n",
    "# TensorFlow and Keras utilities for deep learning\n",
    "from tensorflow.keras.layers import Bidirectional, Embedding, LSTM, Dense, SpatialDropout1D\n",
    "from tensorflow.keras.models import Sequential\n",
    "from tensorflow.keras.preprocessing.text import Tokenizer\n",
    "from tensorflow.keras.preprocessing.sequence import pad_sequences\n",
    "from tensorflow.keras.callbacks import EarlyStopping\n",
    "from keras_tuner.tuners import RandomSearch\n"
   ]
  },
  {
   "cell_type": "code",
   "execution_count": 13,
   "id": "150681d7-fbbc-4ed9-b6f6-f2ae4933387e",
   "metadata": {
    "tags": []
   },
   "outputs": [
    {
     "name": "stdout",
     "output_type": "stream",
     "text": [
      "Machine: arm64\n",
      "Platform: macOS-13.5-arm64-i386-64bit\n",
      "Mac Version: ('13.5', ('', '', ''), 'arm64')\n",
      "Processor: i386\n",
      "Python Version: 3.11.4\n"
     ]
    }
   ],
   "source": [
    "def general_info():\n",
    "    print(\"Machine:\", platform.machine())\n",
    "    print(\"Platform:\", platform.platform())\n",
    "    print(\"Mac Version:\", platform.mac_ver())\n",
    "    print(\"Processor:\", platform.processor())\n",
    "    print(\"Python Version:\", platform.python_version())\n",
    "  \n",
    "general_info()"
   ]
  },
  {
   "cell_type": "code",
   "execution_count": 14,
   "id": "5f6fc87c-4d23-4dce-a571-2d928213fe90",
   "metadata": {
    "tags": []
   },
   "outputs": [
    {
     "name": "stdout",
     "output_type": "stream",
     "text": [
      "Selected Jupyter core packages...\n",
      "IPython          : 8.12.0\n",
      "ipykernel        : 6.19.2\n",
      "ipywidgets       : 8.0.4\n",
      "jupyter_client   : 7.4.9\n",
      "jupyter_core     : 5.3.0\n",
      "jupyter_server   : 1.23.4\n",
      "jupyterlab       : 3.6.3\n",
      "nbclient         : 0.5.13\n",
      "nbconvert        : 6.5.4\n",
      "nbformat         : 5.7.0\n",
      "notebook         : 6.5.4\n",
      "qtconsole        : 5.4.2\n",
      "traitlets        : 5.7.1\n"
     ]
    }
   ],
   "source": [
    "!jupyter --version"
   ]
  },
  {
   "cell_type": "code",
   "execution_count": 15,
   "id": "09cb48c6-edad-4878-9ff2-2b093155496e",
   "metadata": {},
   "outputs": [
    {
     "data": {
      "text/html": [
       "<div>\n",
       "<style scoped>\n",
       "    .dataframe tbody tr th:only-of-type {\n",
       "        vertical-align: middle;\n",
       "    }\n",
       "\n",
       "    .dataframe tbody tr th {\n",
       "        vertical-align: top;\n",
       "    }\n",
       "\n",
       "    .dataframe thead th {\n",
       "        text-align: right;\n",
       "    }\n",
       "</style>\n",
       "<table border=\"1\" class=\"dataframe\">\n",
       "  <thead>\n",
       "    <tr style=\"text-align: right;\">\n",
       "      <th></th>\n",
       "      <th>textID</th>\n",
       "      <th>text</th>\n",
       "      <th>selected_text</th>\n",
       "      <th>sentiment</th>\n",
       "    </tr>\n",
       "  </thead>\n",
       "  <tbody>\n",
       "    <tr>\n",
       "      <th>0</th>\n",
       "      <td>cb774db0d1</td>\n",
       "      <td>I`d have responded, if I were going</td>\n",
       "      <td>I`d have responded, if I were going</td>\n",
       "      <td>neutral</td>\n",
       "    </tr>\n",
       "    <tr>\n",
       "      <th>1</th>\n",
       "      <td>549e992a42</td>\n",
       "      <td>Sooo SAD I will miss you here in San Diego!!!</td>\n",
       "      <td>Sooo SAD</td>\n",
       "      <td>negative</td>\n",
       "    </tr>\n",
       "    <tr>\n",
       "      <th>2</th>\n",
       "      <td>088c60f138</td>\n",
       "      <td>my boss is bullying me...</td>\n",
       "      <td>bullying me</td>\n",
       "      <td>negative</td>\n",
       "    </tr>\n",
       "    <tr>\n",
       "      <th>3</th>\n",
       "      <td>9642c003ef</td>\n",
       "      <td>what interview! leave me alone</td>\n",
       "      <td>leave me alone</td>\n",
       "      <td>negative</td>\n",
       "    </tr>\n",
       "    <tr>\n",
       "      <th>4</th>\n",
       "      <td>358bd9e861</td>\n",
       "      <td>Sons of ****, why couldn`t they put them on t...</td>\n",
       "      <td>Sons of ****,</td>\n",
       "      <td>negative</td>\n",
       "    </tr>\n",
       "    <tr>\n",
       "      <th>...</th>\n",
       "      <td>...</td>\n",
       "      <td>...</td>\n",
       "      <td>...</td>\n",
       "      <td>...</td>\n",
       "    </tr>\n",
       "    <tr>\n",
       "      <th>27476</th>\n",
       "      <td>4eac33d1c0</td>\n",
       "      <td>wish we could come see u on Denver  husband l...</td>\n",
       "      <td>d lost</td>\n",
       "      <td>negative</td>\n",
       "    </tr>\n",
       "    <tr>\n",
       "      <th>27477</th>\n",
       "      <td>4f4c4fc327</td>\n",
       "      <td>I`ve wondered about rake to.  The client has ...</td>\n",
       "      <td>, don`t force</td>\n",
       "      <td>negative</td>\n",
       "    </tr>\n",
       "    <tr>\n",
       "      <th>27478</th>\n",
       "      <td>f67aae2310</td>\n",
       "      <td>Yay good for both of you. Enjoy the break - y...</td>\n",
       "      <td>Yay good for both of you.</td>\n",
       "      <td>positive</td>\n",
       "    </tr>\n",
       "    <tr>\n",
       "      <th>27479</th>\n",
       "      <td>ed167662a5</td>\n",
       "      <td>But it was worth it  ****.</td>\n",
       "      <td>But it was worth it  ****.</td>\n",
       "      <td>positive</td>\n",
       "    </tr>\n",
       "    <tr>\n",
       "      <th>27480</th>\n",
       "      <td>6f7127d9d7</td>\n",
       "      <td>All this flirting going on - The ATG smiles...</td>\n",
       "      <td>All this flirting going on - The ATG smiles. Y...</td>\n",
       "      <td>neutral</td>\n",
       "    </tr>\n",
       "  </tbody>\n",
       "</table>\n",
       "<p>27481 rows × 4 columns</p>\n",
       "</div>"
      ],
      "text/plain": [
       "           textID                                               text  \\\n",
       "0      cb774db0d1                I`d have responded, if I were going   \n",
       "1      549e992a42      Sooo SAD I will miss you here in San Diego!!!   \n",
       "2      088c60f138                          my boss is bullying me...   \n",
       "3      9642c003ef                     what interview! leave me alone   \n",
       "4      358bd9e861   Sons of ****, why couldn`t they put them on t...   \n",
       "...           ...                                                ...   \n",
       "27476  4eac33d1c0   wish we could come see u on Denver  husband l...   \n",
       "27477  4f4c4fc327   I`ve wondered about rake to.  The client has ...   \n",
       "27478  f67aae2310   Yay good for both of you. Enjoy the break - y...   \n",
       "27479  ed167662a5                         But it was worth it  ****.   \n",
       "27480  6f7127d9d7     All this flirting going on - The ATG smiles...   \n",
       "\n",
       "                                           selected_text sentiment  \n",
       "0                    I`d have responded, if I were going   neutral  \n",
       "1                                               Sooo SAD  negative  \n",
       "2                                            bullying me  negative  \n",
       "3                                         leave me alone  negative  \n",
       "4                                          Sons of ****,  negative  \n",
       "...                                                  ...       ...  \n",
       "27476                                             d lost  negative  \n",
       "27477                                      , don`t force  negative  \n",
       "27478                          Yay good for both of you.  positive  \n",
       "27479                         But it was worth it  ****.  positive  \n",
       "27480  All this flirting going on - The ATG smiles. Y...   neutral  \n",
       "\n",
       "[27481 rows x 4 columns]"
      ]
     },
     "execution_count": 15,
     "metadata": {},
     "output_type": "execute_result"
    }
   ],
   "source": [
    "# Specify the path to the dataset, load the csv into Pandas DataFrame\n",
    "data_pth = '/users/anshulvij/Desktop/Masters Project Code/Tweets.csv'\n",
    "df = pd.read_csv(data_pth)\n",
    "df"
   ]
  },
  {
   "cell_type": "code",
   "execution_count": 16,
   "id": "2a477383-9f1d-4d28-b120-2c456ccab512",
   "metadata": {},
   "outputs": [
    {
     "name": "stdout",
     "output_type": "stream",
     "text": [
      "\n",
      "Count of each sentiment:\n",
      "neutral     11118\n",
      "positive     8582\n",
      "negative     7781\n",
      "Name: sentiment, dtype: int64\n",
      "neutral     40.457043\n",
      "positive    31.228849\n",
      "negative    28.314108\n",
      "Name: sentiment, dtype: float64\n"
     ]
    }
   ],
   "source": [
    "def display_sentiment_counts(dataframe, column_name='sentiment'):\n",
    "    \"\"\"\n",
    "    Display the counts and percentages of unique values in the specified column.\n",
    "    \n",
    "    Args:\n",
    "    - dataframe (pd.DataFrame): The dataframe containing the data.\n",
    "    - column_name (str): The name of the column to compute the statistics for. Default is 'sentiment'.\n",
    "    \n",
    "    Returns:\n",
    "    - None\n",
    "    \"\"\"\n",
    "    sentiment_counts = dataframe[column_name].value_counts()\n",
    "    print(\"\\nCount of each sentiment:\")\n",
    "    print(sentiment_counts)\n",
    "\n",
    "    sentiment_percentages = dataframe[column_name].value_counts(normalize=True)*100\n",
    "    print(sentiment_percentages)\n",
    "\n",
    "display_sentiment_counts(df)"
   ]
  },
  {
   "cell_type": "code",
   "execution_count": 17,
   "id": "a9c1e712-3c16-4650-b784-84c980c9b7bf",
   "metadata": {},
   "outputs": [
    {
     "name": "stdout",
     "output_type": "stream",
     "text": [
      "Missing Values:\n",
      " textID           0\n",
      "text             1\n",
      "selected_text    1\n",
      "sentiment        0\n",
      "dtype: int64\n",
      "Post Filtering Step-1: Total Rows - 27480\n"
     ]
    }
   ],
   "source": [
    "def check_missing_data(dataframe):\n",
    "    \"\"\"\n",
    "    Check for missing data in the dataframe.\n",
    "    \n",
    "    Args:\n",
    "    - dataframe (pd.DataFrame): The dataframe to inspect.\n",
    "    \n",
    "    Returns:\n",
    "    - pd.Series: A series containing counts of missing data for each column.\n",
    "    \"\"\"\n",
    "    return dataframe.isnull().sum()\n",
    "\n",
    "# Display the number of missing values for each column\n",
    "print(\"Missing Values:\\n\", check_missing_data(df))\n",
    "\n",
    "# Remove rows with missing values\n",
    "df.dropna(inplace=True)\n",
    "print(f\"Post Filtering Step-1: Total Rows - {len(df)}\")"
   ]
  },
  {
   "cell_type": "code",
   "execution_count": 18,
   "id": "a3d3012f-5002-42af-8f6b-58aaa83013f7",
   "metadata": {},
   "outputs": [],
   "source": [
    "def custom_handle_contractions(text):\n",
    "    \"\"\"\n",
    "    Expand contractions in the provided text using a predefined contractions dictionary.\n",
    "    This function handles contractions formed both with standard apostrophes and backticks.\n",
    "    \n",
    "    Args:\n",
    "    - text (str): The input text containing contractions.\n",
    "    \n",
    "    Returns:\n",
    "    - str: The input text with all recognized contractions expanded.\n",
    "    \n",
    "    \"\"\"\n",
    "    \n",
    "    # Define a dictionary of contractions and their expanded forms\n",
    "    contractions_dict = contractions.contractions_dict\n",
    "    \n",
    "    # Replace the contractions with their expanded form\n",
    "    for contraction, expansion in contractions_dict.items():\n",
    "        # Handle both apostrophes and backticks\n",
    "        text = text.replace(contraction, expansion)\n",
    "        text = text.replace(contraction.replace(\"'\", \"`\"), expansion)\n",
    "\n",
    "    return text\n",
    "\n",
    "# Applying it to the DataFrame\n",
    "df['text'] = df['text'].apply(custom_handle_contractions)\n"
   ]
  },
  {
   "cell_type": "code",
   "execution_count": 19,
   "id": "e438a6c7-09df-4fed-84f9-8d5dd19f3fde",
   "metadata": {},
   "outputs": [
    {
     "data": {
      "text/html": [
       "<div>\n",
       "<style scoped>\n",
       "    .dataframe tbody tr th:only-of-type {\n",
       "        vertical-align: middle;\n",
       "    }\n",
       "\n",
       "    .dataframe tbody tr th {\n",
       "        vertical-align: top;\n",
       "    }\n",
       "\n",
       "    .dataframe thead th {\n",
       "        text-align: right;\n",
       "    }\n",
       "</style>\n",
       "<table border=\"1\" class=\"dataframe\">\n",
       "  <thead>\n",
       "    <tr style=\"text-align: right;\">\n",
       "      <th></th>\n",
       "      <th>textID</th>\n",
       "      <th>text</th>\n",
       "      <th>selected_text</th>\n",
       "      <th>sentiment</th>\n",
       "    </tr>\n",
       "  </thead>\n",
       "  <tbody>\n",
       "    <tr>\n",
       "      <th>0</th>\n",
       "      <td>cb774db0d1</td>\n",
       "      <td>I would have responded, if I were going</td>\n",
       "      <td>I`d have responded, if I were going</td>\n",
       "      <td>neutral</td>\n",
       "    </tr>\n",
       "    <tr>\n",
       "      <th>1</th>\n",
       "      <td>549e992a42</td>\n",
       "      <td>Sooo SAD I will miss you here in San Diego!!!</td>\n",
       "      <td>Sooo SAD</td>\n",
       "      <td>negative</td>\n",
       "    </tr>\n",
       "    <tr>\n",
       "      <th>2</th>\n",
       "      <td>088c60f138</td>\n",
       "      <td>my boss is bullying me...</td>\n",
       "      <td>bullying me</td>\n",
       "      <td>negative</td>\n",
       "    </tr>\n",
       "    <tr>\n",
       "      <th>3</th>\n",
       "      <td>9642c003ef</td>\n",
       "      <td>what interview! leave me alone</td>\n",
       "      <td>leave me alone</td>\n",
       "      <td>negative</td>\n",
       "    </tr>\n",
       "    <tr>\n",
       "      <th>4</th>\n",
       "      <td>358bd9e861</td>\n",
       "      <td>Sons of ****, why could not they put them on ...</td>\n",
       "      <td>Sons of ****,</td>\n",
       "      <td>negative</td>\n",
       "    </tr>\n",
       "    <tr>\n",
       "      <th>...</th>\n",
       "      <td>...</td>\n",
       "      <td>...</td>\n",
       "      <td>...</td>\n",
       "      <td>...</td>\n",
       "    </tr>\n",
       "    <tr>\n",
       "      <th>27476</th>\n",
       "      <td>4eac33d1c0</td>\n",
       "      <td>wish we could come see u on Denver  husband l...</td>\n",
       "      <td>d lost</td>\n",
       "      <td>negative</td>\n",
       "    </tr>\n",
       "    <tr>\n",
       "      <th>27477</th>\n",
       "      <td>4f4c4fc327</td>\n",
       "      <td>I have wondered about rake to.  The client ha...</td>\n",
       "      <td>, don`t force</td>\n",
       "      <td>negative</td>\n",
       "    </tr>\n",
       "    <tr>\n",
       "      <th>27478</th>\n",
       "      <td>f67aae2310</td>\n",
       "      <td>Yay good for both of you. Enjoy the break - y...</td>\n",
       "      <td>Yay good for both of you.</td>\n",
       "      <td>positive</td>\n",
       "    </tr>\n",
       "    <tr>\n",
       "      <th>27479</th>\n",
       "      <td>ed167662a5</td>\n",
       "      <td>But it was worth it  ****.</td>\n",
       "      <td>But it was worth it  ****.</td>\n",
       "      <td>positive</td>\n",
       "    </tr>\n",
       "    <tr>\n",
       "      <th>27480</th>\n",
       "      <td>6f7127d9d7</td>\n",
       "      <td>All this flirting going on - The ATG smiles...</td>\n",
       "      <td>All this flirting going on - The ATG smiles. Y...</td>\n",
       "      <td>neutral</td>\n",
       "    </tr>\n",
       "  </tbody>\n",
       "</table>\n",
       "<p>27480 rows × 4 columns</p>\n",
       "</div>"
      ],
      "text/plain": [
       "           textID                                               text  \\\n",
       "0      cb774db0d1            I would have responded, if I were going   \n",
       "1      549e992a42      Sooo SAD I will miss you here in San Diego!!!   \n",
       "2      088c60f138                          my boss is bullying me...   \n",
       "3      9642c003ef                     what interview! leave me alone   \n",
       "4      358bd9e861   Sons of ****, why could not they put them on ...   \n",
       "...           ...                                                ...   \n",
       "27476  4eac33d1c0   wish we could come see u on Denver  husband l...   \n",
       "27477  4f4c4fc327   I have wondered about rake to.  The client ha...   \n",
       "27478  f67aae2310   Yay good for both of you. Enjoy the break - y...   \n",
       "27479  ed167662a5                         But it was worth it  ****.   \n",
       "27480  6f7127d9d7     All this flirting going on - The ATG smiles...   \n",
       "\n",
       "                                           selected_text sentiment  \n",
       "0                    I`d have responded, if I were going   neutral  \n",
       "1                                               Sooo SAD  negative  \n",
       "2                                            bullying me  negative  \n",
       "3                                         leave me alone  negative  \n",
       "4                                          Sons of ****,  negative  \n",
       "...                                                  ...       ...  \n",
       "27476                                             d lost  negative  \n",
       "27477                                      , don`t force  negative  \n",
       "27478                          Yay good for both of you.  positive  \n",
       "27479                         But it was worth it  ****.  positive  \n",
       "27480  All this flirting going on - The ATG smiles. Y...   neutral  \n",
       "\n",
       "[27480 rows x 4 columns]"
      ]
     },
     "execution_count": 19,
     "metadata": {},
     "output_type": "execute_result"
    }
   ],
   "source": [
    "df"
   ]
  },
  {
   "cell_type": "code",
   "execution_count": 20,
   "id": "cab0edd2-5a25-4b4c-84b6-bde9c4bef9e4",
   "metadata": {},
   "outputs": [],
   "source": [
    "def clean_text(text):\n",
    "    \"\"\"\n",
    "    Clean the provided text by removing URLs, mentions, numbers, hashtags, non-ASCII characters, and converting to lowercase.\n",
    "    \n",
    "    Args:\n",
    "    - text (str): The input text.\n",
    "    \n",
    "    Returns:\n",
    "    - str: The cleaned text.\n",
    "    \"\"\"\n",
    "    text = text.lower() \n",
    "    text = re.sub(r'http\\S+|www\\S+|https\\S+', '', text, flags=re.MULTILINE)  # Remove URLs\n",
    "    text = re.sub(r'@\\w+', '', text)  # Remove mentions\n",
    "    text = re.sub(r'\\d+', '', text)  # Remove numbers\n",
    "    text = re.sub(r'#\\S+', '', text)  # Remove hashtags\n",
    "    text = re.sub(r'[^\\w\\s]', '', text)  # Remove punctuation\n",
    "    text = re.sub(r'[^\\x00-\\x7F]+', '', text)  # Remove non-ASCII characters\n",
    "    return text\n",
    "\n",
    "df['cleaned_tweets'] = df['text'].apply(clean_text)\n"
   ]
  },
  {
   "cell_type": "code",
   "execution_count": 21,
   "id": "b70b810c-3473-4611-9131-b0e0a49191b4",
   "metadata": {},
   "outputs": [],
   "source": [
    "def retain_required_columns(df, required_columns):\n",
    "    \"\"\"\n",
    "    Retains only the specified required columns in the DataFrame and drops all others.\n",
    "    \n",
    "    Args:\n",
    "    - df (pd.DataFrame): The input DataFrame.\n",
    "    - required_columns (list): List of column names to retain.\n",
    "    \n",
    "    Returns:\n",
    "    - pd.DataFrame: DataFrame containing only the required columns.\n",
    "    \"\"\"\n",
    "    \n",
    "    # Check if required columns are present in the dataframe\n",
    "    missing_columns = [col for col in required_columns if col not in df.columns]\n",
    "    \n",
    "    if missing_columns:\n",
    "        raise ValueError(f\"The following required columns are not present in the DataFrame: {missing_columns}\")\n",
    "    \n",
    "    return df[required_columns]\n",
    "\n",
    "\n",
    "df = retain_required_columns(df, ['sentiment', 'cleaned_tweets'])"
   ]
  },
  {
   "cell_type": "code",
   "execution_count": 22,
   "id": "4bdc2f23-6d4a-476d-9df0-8fa842616663",
   "metadata": {},
   "outputs": [
    {
     "data": {
      "text/html": [
       "<div>\n",
       "<style scoped>\n",
       "    .dataframe tbody tr th:only-of-type {\n",
       "        vertical-align: middle;\n",
       "    }\n",
       "\n",
       "    .dataframe tbody tr th {\n",
       "        vertical-align: top;\n",
       "    }\n",
       "\n",
       "    .dataframe thead th {\n",
       "        text-align: right;\n",
       "    }\n",
       "</style>\n",
       "<table border=\"1\" class=\"dataframe\">\n",
       "  <thead>\n",
       "    <tr style=\"text-align: right;\">\n",
       "      <th></th>\n",
       "      <th>sentiment</th>\n",
       "      <th>cleaned_tweets</th>\n",
       "    </tr>\n",
       "  </thead>\n",
       "  <tbody>\n",
       "    <tr>\n",
       "      <th>0</th>\n",
       "      <td>neutral</td>\n",
       "      <td>i would have responded if i were going</td>\n",
       "    </tr>\n",
       "    <tr>\n",
       "      <th>1</th>\n",
       "      <td>negative</td>\n",
       "      <td>sooo sad i will miss you here in san diego</td>\n",
       "    </tr>\n",
       "    <tr>\n",
       "      <th>2</th>\n",
       "      <td>negative</td>\n",
       "      <td>my boss is bullying me</td>\n",
       "    </tr>\n",
       "    <tr>\n",
       "      <th>3</th>\n",
       "      <td>negative</td>\n",
       "      <td>what interview leave me alone</td>\n",
       "    </tr>\n",
       "    <tr>\n",
       "      <th>4</th>\n",
       "      <td>negative</td>\n",
       "      <td>sons of  why could not they put them on the r...</td>\n",
       "    </tr>\n",
       "    <tr>\n",
       "      <th>...</th>\n",
       "      <td>...</td>\n",
       "      <td>...</td>\n",
       "    </tr>\n",
       "    <tr>\n",
       "      <th>27476</th>\n",
       "      <td>negative</td>\n",
       "      <td>wish we could come see u on denver  husband l...</td>\n",
       "    </tr>\n",
       "    <tr>\n",
       "      <th>27477</th>\n",
       "      <td>negative</td>\n",
       "      <td>i have wondered about rake to  the client has...</td>\n",
       "    </tr>\n",
       "    <tr>\n",
       "      <th>27478</th>\n",
       "      <td>positive</td>\n",
       "      <td>yay good for both of you enjoy the break  you...</td>\n",
       "    </tr>\n",
       "    <tr>\n",
       "      <th>27479</th>\n",
       "      <td>positive</td>\n",
       "      <td>but it was worth it</td>\n",
       "    </tr>\n",
       "    <tr>\n",
       "      <th>27480</th>\n",
       "      <td>neutral</td>\n",
       "      <td>all this flirting going on  the atg smiles ...</td>\n",
       "    </tr>\n",
       "  </tbody>\n",
       "</table>\n",
       "<p>27480 rows × 2 columns</p>\n",
       "</div>"
      ],
      "text/plain": [
       "      sentiment                                     cleaned_tweets\n",
       "0       neutral             i would have responded if i were going\n",
       "1      negative         sooo sad i will miss you here in san diego\n",
       "2      negative                             my boss is bullying me\n",
       "3      negative                      what interview leave me alone\n",
       "4      negative   sons of  why could not they put them on the r...\n",
       "...         ...                                                ...\n",
       "27476  negative   wish we could come see u on denver  husband l...\n",
       "27477  negative   i have wondered about rake to  the client has...\n",
       "27478  positive   yay good for both of you enjoy the break  you...\n",
       "27479  positive                              but it was worth it  \n",
       "27480   neutral     all this flirting going on  the atg smiles ...\n",
       "\n",
       "[27480 rows x 2 columns]"
      ]
     },
     "execution_count": 22,
     "metadata": {},
     "output_type": "execute_result"
    }
   ],
   "source": [
    "df"
   ]
  },
  {
   "cell_type": "code",
   "execution_count": 23,
   "id": "574e1122-2a41-40dd-989c-6b564e312780",
   "metadata": {},
   "outputs": [],
   "source": [
    "# Detect all duplicates based on the 'cleaned_text' column\n",
    "duplicates_mask = df.duplicated(subset='cleaned_tweets', keep=False)\n",
    "\n",
    "# Remove all rows with duplicate 'cleaned_text'\n",
    "df = df[~duplicates_mask]"
   ]
  },
  {
   "cell_type": "code",
   "execution_count": 24,
   "id": "0d950e8e-d25f-4c25-9b1f-d3d35558a58a",
   "metadata": {},
   "outputs": [
    {
     "data": {
      "text/html": [
       "<div>\n",
       "<style scoped>\n",
       "    .dataframe tbody tr th:only-of-type {\n",
       "        vertical-align: middle;\n",
       "    }\n",
       "\n",
       "    .dataframe tbody tr th {\n",
       "        vertical-align: top;\n",
       "    }\n",
       "\n",
       "    .dataframe thead th {\n",
       "        text-align: right;\n",
       "    }\n",
       "</style>\n",
       "<table border=\"1\" class=\"dataframe\">\n",
       "  <thead>\n",
       "    <tr style=\"text-align: right;\">\n",
       "      <th></th>\n",
       "      <th>sentiment</th>\n",
       "      <th>cleaned_tweets</th>\n",
       "    </tr>\n",
       "  </thead>\n",
       "  <tbody>\n",
       "    <tr>\n",
       "      <th>0</th>\n",
       "      <td>neutral</td>\n",
       "      <td>i would have responded if i were going</td>\n",
       "    </tr>\n",
       "    <tr>\n",
       "      <th>1</th>\n",
       "      <td>negative</td>\n",
       "      <td>sooo sad i will miss you here in san diego</td>\n",
       "    </tr>\n",
       "    <tr>\n",
       "      <th>2</th>\n",
       "      <td>negative</td>\n",
       "      <td>my boss is bullying me</td>\n",
       "    </tr>\n",
       "    <tr>\n",
       "      <th>3</th>\n",
       "      <td>negative</td>\n",
       "      <td>what interview leave me alone</td>\n",
       "    </tr>\n",
       "    <tr>\n",
       "      <th>4</th>\n",
       "      <td>negative</td>\n",
       "      <td>sons of  why could not they put them on the r...</td>\n",
       "    </tr>\n",
       "    <tr>\n",
       "      <th>...</th>\n",
       "      <td>...</td>\n",
       "      <td>...</td>\n",
       "    </tr>\n",
       "    <tr>\n",
       "      <th>27476</th>\n",
       "      <td>negative</td>\n",
       "      <td>wish we could come see u on denver  husband l...</td>\n",
       "    </tr>\n",
       "    <tr>\n",
       "      <th>27477</th>\n",
       "      <td>negative</td>\n",
       "      <td>i have wondered about rake to  the client has...</td>\n",
       "    </tr>\n",
       "    <tr>\n",
       "      <th>27478</th>\n",
       "      <td>positive</td>\n",
       "      <td>yay good for both of you enjoy the break  you...</td>\n",
       "    </tr>\n",
       "    <tr>\n",
       "      <th>27479</th>\n",
       "      <td>positive</td>\n",
       "      <td>but it was worth it</td>\n",
       "    </tr>\n",
       "    <tr>\n",
       "      <th>27480</th>\n",
       "      <td>neutral</td>\n",
       "      <td>all this flirting going on  the atg smiles ...</td>\n",
       "    </tr>\n",
       "  </tbody>\n",
       "</table>\n",
       "<p>27200 rows × 2 columns</p>\n",
       "</div>"
      ],
      "text/plain": [
       "      sentiment                                     cleaned_tweets\n",
       "0       neutral             i would have responded if i were going\n",
       "1      negative         sooo sad i will miss you here in san diego\n",
       "2      negative                             my boss is bullying me\n",
       "3      negative                      what interview leave me alone\n",
       "4      negative   sons of  why could not they put them on the r...\n",
       "...         ...                                                ...\n",
       "27476  negative   wish we could come see u on denver  husband l...\n",
       "27477  negative   i have wondered about rake to  the client has...\n",
       "27478  positive   yay good for both of you enjoy the break  you...\n",
       "27479  positive                              but it was worth it  \n",
       "27480   neutral     all this flirting going on  the atg smiles ...\n",
       "\n",
       "[27200 rows x 2 columns]"
      ]
     },
     "execution_count": 24,
     "metadata": {},
     "output_type": "execute_result"
    }
   ],
   "source": [
    "df"
   ]
  },
  {
   "cell_type": "code",
   "execution_count": 25,
   "id": "40934f56-cdc4-411f-940c-6551eb5f1646",
   "metadata": {},
   "outputs": [
    {
     "name": "stdout",
     "output_type": "stream",
     "text": [
      "\n",
      "Count of each sentiment:\n",
      "neutral     11030\n",
      "positive     8435\n",
      "negative     7735\n",
      "Name: sentiment, dtype: int64\n",
      "neutral     40.551471\n",
      "positive    31.011029\n",
      "negative    28.437500\n",
      "Name: sentiment, dtype: float64\n"
     ]
    }
   ],
   "source": [
    "def display_sentiment_counts(dataframe, column_name='sentiment'):\n",
    "    \"\"\"\n",
    "    Display the counts and percentages of unique values in the specified column.\n",
    "    \n",
    "    Args:\n",
    "    - dataframe (pd.DataFrame): The dataframe containing the data.\n",
    "    - column_name (str): The name of the column to compute the statistics for. Default is 'sentiment'.\n",
    "    \n",
    "    Returns:\n",
    "    - None\n",
    "    \"\"\"\n",
    "    sentiment_counts = dataframe[column_name].value_counts()\n",
    "    print(\"\\nCount of each sentiment:\")\n",
    "    print(sentiment_counts)\n",
    "\n",
    "    sentiment_percentages = dataframe[column_name].value_counts(normalize=True)*100\n",
    "    print(sentiment_percentages)\n",
    "\n",
    "display_sentiment_counts(df)"
   ]
  },
  {
   "cell_type": "code",
   "execution_count": 26,
   "id": "46f7702b-4650-4094-837e-7e0707f52216",
   "metadata": {},
   "outputs": [
    {
     "data": {
      "image/png": "[encoded data removed]",
      "text/plain": [
       "<Figure size 640x480 with 1 Axes>"
      ]
     },
     "metadata": {},
     "output_type": "display_data"
    }
   ],
   "source": [
    "import matplotlib.pyplot as plt\n",
    "\n",
    "# Calculate sentiment frequency and its relative percentage\n",
    "sentiment_frequency = df['sentiment'].value_counts()\n",
    "sentiment_ratio = df['sentiment'].value_counts(normalize=True) * 100\n",
    "\n",
    "# Display sentiment distribution using a bar chart\n",
    "bars = plt.bar(sentiment_frequency.index, sentiment_frequency.values, alpha=0.8)\n",
    "\n",
    "# Adjust the y-axis limit\n",
    "plt.ylim(0, max(sentiment_frequency.values) * 1.15)  # Increase the upper limit by 15% of the highest bar value\n",
    "\n",
    "# Label each bar with the sentiment count and its percentage\n",
    "for idx, bar in enumerate(bars):\n",
    "    yval = bar.get_height()\n",
    "    sentiment_label = sentiment_frequency.index[idx]\n",
    "    plt.text(bar.get_x() + bar.get_width()/2, yval + max(sentiment_frequency.values) * 0.05, \n",
    "             f'{int(yval)} ({sentiment_ratio[sentiment_label]:.2f}%)',\n",
    "             ha='center', va='center')\n",
    "\n",
    "plt.xlabel('Sentiment Value')\n",
    "plt.ylabel('Frequency')\n",
    "plt.title('Sentiment Distribution Visualization')\n",
    "plt.tight_layout()\n",
    "plt.show()"
   ]
  },
  {
   "cell_type": "code",
   "execution_count": null,
   "id": "4056ab57-e2fd-4abc-bf6e-4cbb803ddb98",
   "metadata": {},
   "outputs": [],
   "source": []
  },
  {
   "cell_type": "code",
   "execution_count": 27,
   "id": "720afc01-1a81-434a-ac20-891254444739",
   "metadata": {},
   "outputs": [],
   "source": [
    "MAX_NB_WORDS = 50000\n",
    "MAX_SEQUENCE_LENGTH = 250\n",
    "\n",
    "def tokenize_and_pad(data):\n",
    "    \"\"\"\n",
    "    Tokenizes and pads input data sequences.\n",
    "    \n",
    "    Args:\n",
    "        data (list): A list of text data to be tokenized and padded.\n",
    "    \n",
    "    Returns:\n",
    "        ndarray: Tokenized and padded data.\n",
    "    \"\"\"\n",
    "    tokenizer = Tokenizer(num_words=MAX_NB_WORDS, filters='!\"#$%&()*+,-./:;<=>?@[\\]^_`{|}~', lower=True)\n",
    "    tokenizer.fit_on_texts(data)\n",
    "    sequences = tokenizer.texts_to_sequences(data)\n",
    "    return pad_sequences(sequences, maxlen=MAX_SEQUENCE_LENGTH),tokenizer"
   ]
  },
  {
   "cell_type": "code",
   "execution_count": 28,
   "id": "ebf58729-437b-438f-a7f1-61d95f425510",
   "metadata": {},
   "outputs": [],
   "source": [
    "def split_data(X, Y, test_size=0.3, val_split=0.5):\n",
    "    \"\"\"\n",
    "    Splits data into training, validation, and testing sets.\n",
    "    \n",
    "    Args:\n",
    "        X (ndarray): Features data.\n",
    "        Y (ndarray): Labels data.\n",
    "        test_size (float): Proportion of test data.\n",
    "        val_split (float): Proportion of validation data from test data.\n",
    "    \n",
    "    Returns:\n",
    "        tuple: Training, validation, and test sets for features and labels.\n",
    "    \"\"\"\n",
    "    X_train, X_temp, Y_train, Y_temp = train_test_split(X, Y, test_size=test_size, random_state=5)\n",
    "    X_val, X_test, Y_val, Y_test = train_test_split(X_temp, Y_temp, test_size=val_split, random_state=5)\n",
    "    return X_train, X_val, X_test, Y_train, Y_val, Y_test"
   ]
  },
  {
   "cell_type": "code",
   "execution_count": 29,
   "id": "ca68c846-6ba6-4f9c-a5d7-12d837c6808a",
   "metadata": {
    "tags": []
   },
   "outputs": [],
   "source": [
    "def plot_training_history(history):\n",
    "    \"\"\"\n",
    "    Plot training & validation accuracy and loss.\n",
    "    \"\"\"\n",
    "    plt.figure(figsize=(15, 5))\n",
    "    plt.subplot(1, 2, 1)\n",
    "    plt.plot(history.history['accuracy'], label='Training Accuracy')\n",
    "    plt.plot(history.history['val_accuracy'], label='Validation Accuracy')\n",
    "    plt.legend()\n",
    "    plt.title('Training and Validation Accuracy')\n",
    "    plt.subplot(1, 2, 2)\n",
    "    plt.plot(history.history['loss'], label='Training Loss')\n",
    "    plt.plot(history.history['val_loss'], label='Validation Loss')\n",
    "    plt.legend()\n",
    "    plt.title('Training and Validation Loss')\n",
    "    plt.show()\n",
    "\n",
    "def plot_confusion_matrix(Y_true, Y_pred_classes):\n",
    "    \"\"\"\n",
    "    Plot the confusion matrix using Seaborn.\n",
    "    \"\"\"\n",
    "    conf_matrix = confusion_matrix(Y_true, Y_pred_classes)\n",
    "    plt.figure(figsize=(10,7))\n",
    "    sns.heatmap(conf_matrix, annot=True, fmt='g', cmap='Blues')\n",
    "    plt.xlabel('Predicted')\n",
    "    plt.ylabel('Actual')\n",
    "    plt.title('Confusion Matrix')\n",
    "    plt.show()\n",
    "\n",
    "def print_misclassified_sentences(Y_true, Y_pred_classes, X_data_indices, processed_df):\n",
    "    \"\"\"\n",
    "    Print misclassified sentences using original DataFrame.\n",
    "    \"\"\"\n",
    "    misclassified_idx = np.where(Y_pred_classes != Y_true)[0]\n",
    "    for idx in misclassified_idx:\n",
    "        true_label = Y_true[idx]\n",
    "        pred_label = Y_pred_classes[idx]\n",
    "        original_text = processed_df.iloc[X_data_indices[idx]]['Headlines']\n",
    "        print(f\"Original label: {true_label} - Predicted: {pred_label} - Text: {original_text}\")\n"
   ]
  },
  {
   "cell_type": "code",
   "execution_count": 10,
   "id": "25d32c20-fb86-4561-abe4-c4aaa0a85b7a",
   "metadata": {},
   "outputs": [],
   "source": [
    "def compute_FPR_spec_metrics(cm, labels=[\"negative\", \"neutral\" , \"positive\"]):\n",
    "    \"\"\"\n",
    "    Compute specificity, FPR, precision for each class, and the overall accuracy given a 3x3 confusion matrix.\n",
    "    Also, computes weighted and macro average for FPR and specificity.\n",
    "\n",
    "    Args:\n",
    "    - cm (numpy array): 3x3 confusion matrix\n",
    "    - labels (list): List of class labels in order\n",
    "\n",
    "    Returns:\n",
    "    None. It will print the results directly.\n",
    "    \"\"\"\n",
    "    \n",
    "    specificities = []\n",
    "    fprs = []\n",
    "    precisions = []\n",
    "\n",
    "    for i in range(3):\n",
    "        tp = cm[i, i]\n",
    "        tn = sum(cm[j, j] for j in range(3) if j != i)\n",
    "        fp = sum(cm[j, i] for j in range(3) if j != i)\n",
    "        fn = sum(cm[i, j] for j in range(3) if j != i)\n",
    "        \n",
    "        specificity = tn / (tn + fp) if tn + fp != 0 else 0\n",
    "        fpr = 1 - specificity\n",
    "        precision = tp / (tp + fp) if tp + fp != 0 else 0\n",
    "        \n",
    "        specificities.append(round(specificity, 4))\n",
    "        fprs.append(round(fpr, 4))\n",
    "        precisions.append(round(precision, 4))\n",
    "    \n",
    "    # Print the class values with their corresponding metrics\n",
    "    for i, label in enumerate(labels):\n",
    "        print(f\"Metrics for class {label} (Class value: {i}):\")\n",
    "        print(f\"Specificity: {specificities[i]}\")\n",
    "        print(f\"FPR: {fprs[i]}\")\n",
    "        print(f\"Precision: {precisions[i]}\\n\")\n",
    "\n",
    "    # Calculate overall accuracy\n",
    "    accuracy = round(np.trace(cm) / np.sum(cm), 4)\n",
    "    print(f\"Overall accuracy: {accuracy}\")\n",
    "\n",
    "    # Calculate true values for each class for weighting purposes\n",
    "    true_values = np.sum(cm, axis=1)\n",
    "    total_true_values = np.sum(true_values)\n",
    "\n",
    "    # Calculate weighted average specificity and FPR\n",
    "    weighted_avg_spec = round(sum(specificities[i] * true_values[i] for i in range(3)) / total_true_values, 4)\n",
    "    weighted_avg_fpr = round(sum(fprs[i] * true_values[i] for i in range(3)) / total_true_values, 4)\n",
    "\n",
    "    # Calculate macro average specificity and FPR\n",
    "    macro_avg_spec = round(np.mean(specificities), 4)\n",
    "    macro_avg_fpr = round(np.mean(fprs), 4)\n",
    "\n",
    "    print(f\"Weighted average specificity: {weighted_avg_spec}\")\n",
    "    print(f\"Weighted average FPR: {weighted_avg_fpr}\")\n",
    "    print(f\"Macro average specificity: {macro_avg_spec}\")\n",
    "    print(f\"Macro average FPR: {macro_avg_fpr}\\n\")\n"
   ]
  },
  {
   "cell_type": "code",
   "execution_count": null,
   "id": "5243344c-282c-4e7a-8542-efda91d8bdfb",
   "metadata": {},
   "outputs": [],
   "source": []
  },
  {
   "cell_type": "markdown",
   "id": "e36f80e9-08ce-436b-8c38-3f17b04351fe",
   "metadata": {},
   "source": [
    "## The Implementation of sequential LSTM Model"
   ]
  },
  {
   "cell_type": "code",
   "execution_count": 30,
   "id": "1616c8dd-170e-4178-8d54-f6b492d93a87",
   "metadata": {},
   "outputs": [],
   "source": [
    "def build_model(hp, max_nb_words=MAX_NB_WORDS, input_length=MAX_SEQUENCE_LENGTH):\n",
    "    \"\"\"\n",
    "    Builds a LSTM model for sentiment analysis.\n",
    "    \n",
    "    Args:\n",
    "        hp (HyperParameters): Hyperparameters for the model.\n",
    "        max_nb_words (int): Maximum number of words for the Embedding layer.\n",
    "        input_length (int): Input length for the Embedding layer.\n",
    "    \n",
    "    Returns:\n",
    "        Model: A compiled Keras model.\n",
    "    \"\"\"\n",
    "    model = Sequential()\n",
    "    model.add(Embedding(max_nb_words, hp.Int('embedding_dim', min_value=32, max_value=512, step=32), input_length=input_length))\n",
    "    model.add(SpatialDropout1D(hp.Float('dropout_rate', min_value=0.0, max_value=0.5, step=0.05)))\n",
    "    model.add(LSTM(hp.Int('lstm_units', min_value=32, max_value=512, step=32), dropout=0.2, recurrent_dropout=0.2))\n",
    "    model.add(Dense(3, activation='softmax'))\n",
    "    model.compile(loss='categorical_crossentropy', optimizer='adam', metrics=['accuracy'])\n",
    "    return model"
   ]
  },
  {
   "cell_type": "code",
   "execution_count": 33,
   "id": "aa4a0ee8-5d9b-4545-a2e7-909a2d1e7db5",
   "metadata": {},
   "outputs": [],
   "source": [
    "def run_tuner(batch_size, X_train, Y_train, X_val, Y_val, project_name):\n",
    "    \"\"\"\n",
    "    Runs the Keras tuner for hyperparameter optimization.\n",
    "    \n",
    "    Args:\n",
    "        batch_size (int): Batch size for training.\n",
    "        X_train (ndarray): Training features.\n",
    "        Y_train (ndarray): Training labels.\n",
    "        X_val (ndarray): Validation features.\n",
    "        Y_val (ndarray): Validation labels.\n",
    "        project_name (str): Name of the tuning project.\n",
    "    \"\"\"\n",
    "    tuner = RandomSearch(\n",
    "        build_model,\n",
    "        objective='val_accuracy',\n",
    "        max_trials=10,\n",
    "        executions_per_trial=2,\n",
    "        directory='output_',\n",
    "        project_name=project_name)\n",
    "    \n",
    "    tuner.search(X_train, Y_train, epochs=5, validation_data=(X_val, Y_val), batch_size=batch_size, callbacks=[EarlyStopping(monitor='val_loss', patience=3)])"
   ]
  },
  {
   "cell_type": "code",
   "execution_count": null,
   "id": "d16817e3-a731-4bf5-8ecf-9eb8d7b9e47e",
   "metadata": {},
   "outputs": [],
   "source": []
  },
  {
   "cell_type": "code",
   "execution_count": 34,
   "id": "55c6967c-dbe7-4a6f-8060-f8338786bd81",
   "metadata": {
    "tags": []
   },
   "outputs": [
    {
     "name": "stdout",
     "output_type": "stream",
     "text": [
      "Trial 10 Complete [00h 19m 07s]\n",
      "val_accuracy: 0.6930147111415863\n",
      "\n",
      "Best val_accuracy So Far: 0.6950980424880981\n",
      "Total elapsed time: 05h 35m 38s\n",
      "INFO:tensorflow:Oracle triggered exit\n"
     ]
    }
   ],
   "source": [
    "X,tokenizer = tokenize_and_pad(df['cleaned_tweets'].values)# Tokenizer used here is for the misclassification report\n",
    "Y = pd.get_dummies(df['sentiment']).values\n",
    "\n",
    "X_train, X_val, X_test, Y_train, Y_val, Y_test = split_data(X, Y)\n",
    "\n",
    "run_tuner(32, X_train, Y_train, X_val, Y_val, 'SentimentAnalysis_32')\n",
    "run_tuner(64, X_train, Y_train, X_val, Y_val, 'SentimentAnalysis_64')\n",
    "run_tuner(128, X_train, Y_train, X_val, Y_val, 'SentimentAnalysis_128')"
   ]
  },
  {
   "cell_type": "code",
   "execution_count": 39,
   "id": "9c4836c4-476f-486b-9909-1423d52293a4",
   "metadata": {
    "tags": []
   },
   "outputs": [],
   "source": [
    "def print_hyperparameters(hps):\n",
    "    for hp, value in hps.values.items():\n",
    "        print(f\"{hp}: {value}\")"
   ]
  },
  {
   "cell_type": "code",
   "execution_count": 40,
   "id": "d4f81738-d690-4d59-94b9-75c310031137",
   "metadata": {
    "tags": []
   },
   "outputs": [],
   "source": [
    "def tuner_reload(project_name):\n",
    "    tuner = RandomSearch(\n",
    "        build_model,\n",
    "        objective='val_accuracy',\n",
    "        max_trials=10,\n",
    "        executions_per_trial=2,\n",
    "        directory='output_',\n",
    "        project_name=project_name\n",
    "    )\n",
    "    tuner.reload()\n",
    "    print(f\"Hyperparameter values for {project_name}\")    \n",
    "    best_hps = tuner.get_best_hyperparameters(num_trials=1)[0]\n",
    "    print_hyperparameters(best_hps)\n",
    "\n",
    "    best_model = tuner.get_best_models(num_models=1)[0]\n",
    "    best_model.summary()\n",
    "\n",
    "    best_trial = tuner.oracle.get_best_trials(num_trials=1)[0]\n",
    "    \n",
    "    # Modify the metric retrieval line\n",
    "    best_val_accuracy = best_trial.metrics.metrics['val_accuracy'].get_best_value()\n",
    "    print(f\"Best validation accuracy: {best_val_accuracy}\")"
   ]
  },
  {
   "cell_type": "code",
   "execution_count": 41,
   "id": "058290e8-1752-4cd8-85c6-fe275fa7a91c",
   "metadata": {
    "tags": []
   },
   "outputs": [
    {
     "name": "stdout",
     "output_type": "stream",
     "text": [
      "INFO:tensorflow:Reloading Tuner from output_/SentimentAnalysis_32/tuner0.json\n",
      "Hyperparameter values for SentimentAnalysis_32\n",
      "embedding_dim: 384\n",
      "dropout_rate: 0.45\n",
      "lstm_units: 416\n",
      "Model: \"sequential\"\n",
      "_________________________________________________________________\n",
      " Layer (type)                Output Shape              Param #   \n",
      "=================================================================\n",
      " embedding (Embedding)       (None, 250, 384)          19200000  \n",
      "                                                                 \n",
      " spatial_dropout1d (Spatial  (None, 250, 384)          0         \n",
      " Dropout1D)                                                      \n",
      "                                                                 \n",
      " lstm (LSTM)                 (None, 416)               1332864   \n",
      "                                                                 \n",
      " dense (Dense)               (None, 3)                 1251      \n",
      "                                                                 \n",
      "=================================================================\n",
      "Total params: 20534115 (78.33 MB)\n",
      "Trainable params: 20534115 (78.33 MB)\n",
      "Non-trainable params: 0 (0.00 Byte)\n",
      "_________________________________________________________________\n",
      "Best validation accuracy: 0.7180147171020508\n",
      "WARNING:tensorflow:Detecting that an object or model or tf.train.Checkpoint is being deleted with unrestored values. See the following logs for the specific values in question. To silence these warnings, use `status.expect_partial()`. See https://www.tensorflow.org/api_docs/python/tf/train/Checkpoint#restorefor details about the status object returned by the restore function.\n",
      "WARNING:tensorflow:Value in checkpoint could not be found in the restored object: (root).optimizer._variables.1\n",
      "WARNING:tensorflow:Value in checkpoint could not be found in the restored object: (root).optimizer._variables.2\n",
      "WARNING:tensorflow:Value in checkpoint could not be found in the restored object: (root).optimizer._variables.3\n",
      "WARNING:tensorflow:Value in checkpoint could not be found in the restored object: (root).optimizer._variables.4\n",
      "WARNING:tensorflow:Value in checkpoint could not be found in the restored object: (root).optimizer._variables.5\n",
      "WARNING:tensorflow:Value in checkpoint could not be found in the restored object: (root).optimizer._variables.6\n",
      "WARNING:tensorflow:Value in checkpoint could not be found in the restored object: (root).optimizer._variables.7\n",
      "WARNING:tensorflow:Value in checkpoint could not be found in the restored object: (root).optimizer._variables.8\n",
      "WARNING:tensorflow:Value in checkpoint could not be found in the restored object: (root).optimizer._variables.9\n",
      "WARNING:tensorflow:Value in checkpoint could not be found in the restored object: (root).optimizer._variables.10\n",
      "WARNING:tensorflow:Value in checkpoint could not be found in the restored object: (root).optimizer._variables.11\n",
      "WARNING:tensorflow:Value in checkpoint could not be found in the restored object: (root).optimizer._variables.12\n"
     ]
    }
   ],
   "source": [
    "tuner_reload('SentimentAnalysis_32')"
   ]
  },
  {
   "cell_type": "code",
   "execution_count": 42,
   "id": "c57c9b2c-3ebb-4dc3-b345-3f800b4470d5",
   "metadata": {
    "tags": []
   },
   "outputs": [
    {
     "name": "stdout",
     "output_type": "stream",
     "text": [
      "INFO:tensorflow:Reloading Tuner from output_/SentimentAnalysis_64/tuner0.json\n",
      "Hyperparameter values for SentimentAnalysis_64\n",
      "embedding_dim: 96\n",
      "dropout_rate: 0.35000000000000003\n",
      "lstm_units: 288\n",
      "Model: \"sequential\"\n",
      "_________________________________________________________________\n",
      " Layer (type)                Output Shape              Param #   \n",
      "=================================================================\n",
      " embedding (Embedding)       (None, 250, 96)           4800000   \n",
      "                                                                 \n",
      " spatial_dropout1d (Spatial  (None, 250, 96)           0         \n",
      " Dropout1D)                                                      \n",
      "                                                                 \n",
      " lstm (LSTM)                 (None, 288)               443520    \n",
      "                                                                 \n",
      " dense (Dense)               (None, 3)                 867       \n",
      "                                                                 \n",
      "=================================================================\n",
      "Total params: 5244387 (20.01 MB)\n",
      "Trainable params: 5244387 (20.01 MB)\n",
      "Non-trainable params: 0 (0.00 Byte)\n",
      "_________________________________________________________________\n",
      "Best validation accuracy: 0.7055146992206573\n",
      "WARNING:tensorflow:Detecting that an object or model or tf.train.Checkpoint is being deleted with unrestored values. See the following logs for the specific values in question. To silence these warnings, use `status.expect_partial()`. See https://www.tensorflow.org/api_docs/python/tf/train/Checkpoint#restorefor details about the status object returned by the restore function.\n",
      "WARNING:tensorflow:Value in checkpoint could not be found in the restored object: (root).optimizer._variables.1\n",
      "WARNING:tensorflow:Value in checkpoint could not be found in the restored object: (root).optimizer._variables.2\n",
      "WARNING:tensorflow:Value in checkpoint could not be found in the restored object: (root).optimizer._variables.3\n",
      "WARNING:tensorflow:Value in checkpoint could not be found in the restored object: (root).optimizer._variables.4\n",
      "WARNING:tensorflow:Value in checkpoint could not be found in the restored object: (root).optimizer._variables.5\n",
      "WARNING:tensorflow:Value in checkpoint could not be found in the restored object: (root).optimizer._variables.6\n",
      "WARNING:tensorflow:Value in checkpoint could not be found in the restored object: (root).optimizer._variables.7\n",
      "WARNING:tensorflow:Value in checkpoint could not be found in the restored object: (root).optimizer._variables.8\n",
      "WARNING:tensorflow:Value in checkpoint could not be found in the restored object: (root).optimizer._variables.9\n",
      "WARNING:tensorflow:Value in checkpoint could not be found in the restored object: (root).optimizer._variables.10\n",
      "WARNING:tensorflow:Value in checkpoint could not be found in the restored object: (root).optimizer._variables.11\n",
      "WARNING:tensorflow:Value in checkpoint could not be found in the restored object: (root).optimizer._variables.12\n"
     ]
    }
   ],
   "source": [
    "tuner_reload('SentimentAnalysis_64')"
   ]
  },
  {
   "cell_type": "code",
   "execution_count": 43,
   "id": "b225fc31-13df-4518-865a-967b6aee8ef4",
   "metadata": {
    "tags": []
   },
   "outputs": [
    {
     "name": "stdout",
     "output_type": "stream",
     "text": [
      "INFO:tensorflow:Reloading Tuner from output_/SentimentAnalysis_128/tuner0.json\n",
      "Hyperparameter values for SentimentAnalysis_128\n",
      "embedding_dim: 64\n",
      "dropout_rate: 0.1\n",
      "lstm_units: 384\n",
      "Model: \"sequential\"\n",
      "_________________________________________________________________\n",
      " Layer (type)                Output Shape              Param #   \n",
      "=================================================================\n",
      " embedding (Embedding)       (None, 250, 64)           3200000   \n",
      "                                                                 \n",
      " spatial_dropout1d (Spatial  (None, 250, 64)           0         \n",
      " Dropout1D)                                                      \n",
      "                                                                 \n",
      " lstm (LSTM)                 (None, 384)               689664    \n",
      "                                                                 \n",
      " dense (Dense)               (None, 3)                 1155      \n",
      "                                                                 \n",
      "=================================================================\n",
      "Total params: 3890819 (14.84 MB)\n",
      "Trainable params: 3890819 (14.84 MB)\n",
      "Non-trainable params: 0 (0.00 Byte)\n",
      "_________________________________________________________________\n",
      "Best validation accuracy: 0.6950980424880981\n",
      "WARNING:tensorflow:Detecting that an object or model or tf.train.Checkpoint is being deleted with unrestored values. See the following logs for the specific values in question. To silence these warnings, use `status.expect_partial()`. See https://www.tensorflow.org/api_docs/python/tf/train/Checkpoint#restorefor details about the status object returned by the restore function.\n",
      "WARNING:tensorflow:Value in checkpoint could not be found in the restored object: (root).optimizer._variables.1\n",
      "WARNING:tensorflow:Value in checkpoint could not be found in the restored object: (root).optimizer._variables.2\n",
      "WARNING:tensorflow:Value in checkpoint could not be found in the restored object: (root).optimizer._variables.3\n",
      "WARNING:tensorflow:Value in checkpoint could not be found in the restored object: (root).optimizer._variables.4\n",
      "WARNING:tensorflow:Value in checkpoint could not be found in the restored object: (root).optimizer._variables.5\n",
      "WARNING:tensorflow:Value in checkpoint could not be found in the restored object: (root).optimizer._variables.6\n",
      "WARNING:tensorflow:Value in checkpoint could not be found in the restored object: (root).optimizer._variables.7\n",
      "WARNING:tensorflow:Value in checkpoint could not be found in the restored object: (root).optimizer._variables.8\n",
      "WARNING:tensorflow:Value in checkpoint could not be found in the restored object: (root).optimizer._variables.9\n",
      "WARNING:tensorflow:Value in checkpoint could not be found in the restored object: (root).optimizer._variables.10\n",
      "WARNING:tensorflow:Value in checkpoint could not be found in the restored object: (root).optimizer._variables.11\n",
      "WARNING:tensorflow:Value in checkpoint could not be found in the restored object: (root).optimizer._variables.12\n"
     ]
    }
   ],
   "source": [
    "tuner_reload('SentimentAnalysis_128')"
   ]
  },
  {
   "cell_type": "markdown",
   "id": "0763cfb9-9361-4579-bc8e-83c7fd718233",
   "metadata": {},
   "source": [
    "#### The best results were obtained by 32 batch size. "
   ]
  },
  {
   "cell_type": "code",
   "execution_count": 44,
   "id": "d2067433-d636-4cfb-b79c-458f04ceceaf",
   "metadata": {
    "tags": []
   },
   "outputs": [
    {
     "name": "stdout",
     "output_type": "stream",
     "text": [
      "Epoch 1/10\n",
      "595/595 [==============================] - 971s 2s/step - loss: 0.8471 - accuracy: 0.6172 - val_loss: 0.7057 - val_accuracy: 0.7010\n",
      "Epoch 2/10\n",
      "595/595 [==============================] - 942s 2s/step - loss: 0.5731 - accuracy: 0.7648 - val_loss: 0.7091 - val_accuracy: 0.7105\n",
      "Epoch 3/10\n",
      "595/595 [==============================] - 954s 2s/step - loss: 0.3987 - accuracy: 0.8475 - val_loss: 0.7700 - val_accuracy: 0.6966\n",
      "Epoch 4/10\n",
      "595/595 [==============================] - 950s 2s/step - loss: 0.2733 - accuracy: 0.8984 - val_loss: 0.8946 - val_accuracy: 0.6846\n",
      "128/128 [==============================] - 49s 382ms/step\n"
     ]
    },
    {
     "data": {
      "image/png": "[encoded data removed]",
      "text/plain": [
       "<Figure size 1000x700 with 2 Axes>"
      ]
     },
     "metadata": {},
     "output_type": "display_data"
    },
    {
     "name": "stdout",
     "output_type": "stream",
     "text": [
      "              precision    recall  f1-score   support\n",
      "\n",
      "    Negative     0.7556    0.5670    0.6478      1194\n",
      "     Neutral     0.6201    0.7279    0.6697      1621\n",
      "    Positive     0.7393    0.7486    0.7439      1265\n",
      "\n",
      "    accuracy                         0.6873      4080\n",
      "   macro avg     0.7050    0.6812    0.6872      4080\n",
      "weighted avg     0.6967    0.6873    0.6863      4080\n",
      "\n"
     ]
    },
    {
     "data": {
      "image/png": "[encoded data removed]",
      "text/plain": [
       "<Figure size 1500x500 with 2 Axes>"
      ]
     },
     "metadata": {},
     "output_type": "display_data"
    }
   ],
   "source": [
    "model = Sequential()\n",
    "model.add(Embedding(MAX_NB_WORDS, 384, input_length=X.shape[1]))\n",
    "model.add(SpatialDropout1D(0.45))\n",
    "model.add(LSTM(416, dropout=0.2, recurrent_dropout=0.2))\n",
    "model.add(Dense(3, activation='softmax'))\n",
    "model.compile(loss='categorical_crossentropy', optimizer='adam', metrics=['accuracy'])\n",
    "\n",
    "history = model.fit(X_train, Y_train, epochs=10, batch_size=32, validation_data=(X_val, Y_val), callbacks=[EarlyStopping(monitor='val_loss', patience=3, min_delta=0.0001)])\n",
    "\n",
    "test_pred = model.predict(X_test)\n",
    "test_pred = np.argmax(test_pred, axis=-1)\n",
    "Y_test_argmax = np.argmax(Y_test, axis=-1)\n",
    "\n",
    "plot_confusion_matrix(Y_test_argmax, test_pred)\n",
    "print(classification_report(Y_test_argmax, test_pred, target_names=['Negative', 'Neutral', 'Positive'],digits=4))\n",
    "\n",
    "plot_training_history(history)"
   ]
  },
  {
   "cell_type": "code",
   "execution_count": 11,
   "id": "be9fbb9c-96a7-43b9-b5b4-fea06f4ff3d0",
   "metadata": {
    "tags": []
   },
   "outputs": [
    {
     "name": "stdout",
     "output_type": "stream",
     "text": [
      "Metrics for class negative (Class value: 0):\n",
      "Specificity: 0.9066\n",
      "FPR: 0.0934\n",
      "Precision: 0.7556\n",
      "\n",
      "Metrics for class neutral (Class value: 1):\n",
      "Specificity: 0.6919\n",
      "FPR: 0.3081\n",
      "Precision: 0.6201\n",
      "\n",
      "Metrics for class positive (Class value: 2):\n",
      "Specificity: 0.8476\n",
      "FPR: 0.1524\n",
      "Precision: 0.7393\n",
      "\n",
      "Overall accuracy: 0.6873\n",
      "Weighted average specificity: 0.803\n",
      "Weighted average FPR: 0.197\n",
      "Macro average specificity: 0.8154\n",
      "Macro average FPR: 0.1846\n",
      "\n"
     ]
    }
   ],
   "source": [
    "cm = np.array([[677, 446, 71], \n",
    "               [178, 1180, 263], \n",
    "               [41, 277, 947]])\n",
    "\n",
    "compute_FPR_spec_metrics(cm)"
   ]
  },
  {
   "cell_type": "code",
   "execution_count": 45,
   "id": "234fd987-52c9-47c7-b181-e680a29f63de",
   "metadata": {
    "tags": []
   },
   "outputs": [],
   "source": [
    "def misclassification_report(model, X_test, Y_test, tokenizer, n_samples):\n",
    "   \n",
    "    reverse_word_map = dict(map(reversed, tokenizer.word_index.items()))\n",
    "\n",
    "    def sequence_to_text(sequence):\n",
    "        return ' '.join([reverse_word_map.get(word, '?') for word in sequence if word != 0])  # 0 is padding\n",
    "\n",
    "    test_pred = model.predict(X_test)\n",
    "    test_pred = np.argmax(test_pred, axis=-1)\n",
    "    Y_test_argmax = np.argmax(Y_test, axis=-1)\n",
    "\n",
    "    misclassified_indices = np.where(test_pred != Y_test_argmax)[0]\n",
    "\n",
    "    # Get the first n_samples misclassified indices, sentences, true labels, and predicted labels\n",
    "    misclassified_sentences = [sequence_to_text(X_test[i]) for i in misclassified_indices[:n_samples]]\n",
    "    true_labels = [Y_test_argmax[i] for i in misclassified_indices[:n_samples]]\n",
    "    misclassified_labels = [test_pred[i] for i in misclassified_indices[:n_samples]]\n",
    "\n",
    "    label_map = {0: 'Negative', 1: 'Neutral', 2: 'Positive'}\n",
    "\n",
    "    # Print the first n_samples misclassified sentences along with their true and predicted labels\n",
    "    for idx, (sentence, true_label, pred_label) in enumerate(zip(misclassified_sentences, true_labels, misclassified_labels)):\n",
    "        print(f\"{idx + 1}. {sentence}\")\n",
    "        print(f\"   True Sentiment: {label_map[true_label]}\")\n",
    "        print(f\"   Misclassified as: {label_map[pred_label]}\\n\")"
   ]
  },
  {
   "cell_type": "code",
   "execution_count": 46,
   "id": "57871b4b-0209-4b12-bcc5-c77c7aad12b5",
   "metadata": {
    "tags": []
   },
   "outputs": [
    {
     "name": "stdout",
     "output_type": "stream",
     "text": [
      "128/128 [==============================] - 48s 374ms/step\n",
      "1. how i wish the result is true\n",
      "   True Sentiment: Neutral\n",
      "   Misclassified as: Positive\n",
      "\n",
      "2. making egg tart chinese egg pudding yum\n",
      "   True Sentiment: Positive\n",
      "   Misclassified as: Neutral\n",
      "\n",
      "3. two macaroons go into a barone says oh your a nut wow i need to get out more\n",
      "   True Sentiment: Positive\n",
      "   Misclassified as: Neutral\n",
      "\n",
      "4. on my way to school of my last friday of high school ever and i do not even get to see holly gabbie and hannah\n",
      "   True Sentiment: Negative\n",
      "   Misclassified as: Neutral\n",
      "\n",
      "5. we drank ours away may day bank holiday today\n",
      "   True Sentiment: Neutral\n",
      "   Misclassified as: Positive\n",
      "\n",
      "6. oh and i am obviously back on my stupid sleep schedule luckily church is not until tomorrow\n",
      "   True Sentiment: Neutral\n",
      "   Misclassified as: Negative\n",
      "\n",
      "7. umhow long has it been since you slept startin to worry over here well i hope you are having fun lots of love to you\n",
      "   True Sentiment: Neutral\n",
      "   Misclassified as: Positive\n",
      "\n",
      "8. apparently today is happy star wars day i am suppose to say may the th be with you\n",
      "   True Sentiment: Neutral\n",
      "   Misclassified as: Positive\n",
      "\n",
      "9. um that is really scary please be safe btw ill be in orlando next week\n",
      "   True Sentiment: Negative\n",
      "   Misclassified as: Neutral\n",
      "\n",
      "10. getting anxious for blink s new album\n",
      "   True Sentiment: Negative\n",
      "   Misclassified as: Neutral\n",
      "\n"
     ]
    }
   ],
   "source": [
    "misclassification_report(model, X_test, Y_test, tokenizer, n_samples=10)"
   ]
  },
  {
   "cell_type": "code",
   "execution_count": 47,
   "id": "ebeec4c0-eb0f-481f-ade8-cb2e638ae339",
   "metadata": {
    "tags": []
   },
   "outputs": [
    {
     "name": "stdout",
     "output_type": "stream",
     "text": [
      "Model: \"sequential_1\"\n",
      "_________________________________________________________________\n",
      " Layer (type)                Output Shape              Param #   \n",
      "=================================================================\n",
      " embedding_1 (Embedding)     (None, 250, 384)          19200000  \n",
      "                                                                 \n",
      " spatial_dropout1d_1 (Spati  (None, 250, 384)          0         \n",
      " alDropout1D)                                                    \n",
      "                                                                 \n",
      " lstm_1 (LSTM)               (None, 416)               1332864   \n",
      "                                                                 \n",
      " dense_1 (Dense)             (None, 3)                 1251      \n",
      "                                                                 \n",
      "=================================================================\n",
      "Total params: 20534115 (78.33 MB)\n",
      "Trainable params: 20534115 (78.33 MB)\n",
      "Non-trainable params: 0 (0.00 Byte)\n",
      "_________________________________________________________________\n"
     ]
    }
   ],
   "source": [
    "model.summary()"
   ]
  },
  {
   "cell_type": "markdown",
   "id": "8972fd9c-96ca-4d5e-bddf-633d8110b08c",
   "metadata": {},
   "source": [
    "Stacked LSTM"
   ]
  },
  {
   "cell_type": "code",
   "execution_count": 51,
   "id": "6bd9dd7a-b7dc-4886-9da7-19bf1600ab21",
   "metadata": {
    "tags": []
   },
   "outputs": [],
   "source": [
    "def build_stacked_model(hp, max_nb_words=MAX_NB_WORDS, input_length=MAX_SEQUENCE_LENGTH):\n",
    "    \"\"\"\n",
    "    Builds a stacked LSTM model for sentiment analysis.\n",
    "    \n",
    "    Args:\n",
    "        hp (HyperParameters): Hyperparameters for the model.\n",
    "        max_nb_words (int): Maximum number of words for the Embedding layer.\n",
    "        input_length (int): Input length for the Embedding layer.\n",
    "    \n",
    "    Returns:\n",
    "        Model: A compiled Keras model.\n",
    "    \"\"\"\n",
    "    model = Sequential()\n",
    "    model.add(Embedding(max_nb_words, hp.Int('embedding_dim', min_value=32, max_value=512, step=32), input_length=input_length))\n",
    "    model.add(SpatialDropout1D(hp.Float('dropout_rate', min_value=0.0, max_value=0.5, step=0.05)))\n",
    "    model.add(LSTM(hp.Int('lstm_units_1', min_value=32, max_value=512, step=32), dropout=0.2, recurrent_dropout=0.2, return_sequences=True))\n",
    "    model.add(LSTM(hp.Int('lstm_units_2', min_value=32, max_value=512, step=32), dropout=0.2, recurrent_dropout=0.2))\n",
    "    model.add(Dense(3, activation='softmax'))\n",
    "    model.compile(loss='categorical_crossentropy', optimizer='adam', metrics=['accuracy'])\n",
    "    return model\n"
   ]
  },
  {
   "cell_type": "code",
   "execution_count": 52,
   "id": "afc5a9cf-7290-4685-82d0-4affbb671668",
   "metadata": {
    "tags": []
   },
   "outputs": [],
   "source": [
    "def run_stacked_tuner(batch_size, X_train, Y_train, X_val, Y_val, project_name):\n",
    "    \"\"\"\n",
    "    Runs the Keras tuner for hyperparameter optimization of the stacked LSTM model.\n",
    "    \n",
    "    Args:\n",
    "        batch_size (int): Batch size for training.\n",
    "        X_train (ndarray): Training features.\n",
    "        Y_train (ndarray): Training labels.\n",
    "        X_val (ndarray): Validation features.\n",
    "        Y_val (ndarray): Validation labels.\n",
    "        project_name (str): Name of the tuning project.\n",
    "    \"\"\"\n",
    "    tuner = RandomSearch(\n",
    "        build_stacked_model,  # note the change in the function name here\n",
    "        objective='val_accuracy',\n",
    "        max_trials=10,\n",
    "        executions_per_trial=2,\n",
    "        directory='output_',\n",
    "        project_name=project_name)\n",
    "    \n",
    "    tuner.search(X_train, Y_train, epochs=5, validation_data=(X_val, Y_val), batch_size=batch_size, callbacks=[EarlyStopping(monitor='val_loss', patience=3)])\n"
   ]
  },
  {
   "cell_type": "code",
   "execution_count": 59,
   "id": "caf330c6-1140-4f0f-b6b7-c9f3455232d3",
   "metadata": {
    "tags": []
   },
   "outputs": [],
   "source": [
    "def tuner_reload_s(project_name):\n",
    "    tuner = RandomSearch(\n",
    "        build_stacked_model,\n",
    "        objective='val_accuracy',\n",
    "        max_trials=10,\n",
    "        executions_per_trial=2,\n",
    "        directory='output_',\n",
    "        project_name=project_name\n",
    "    )\n",
    "    tuner.reload()\n",
    "    \n",
    "    best_hps_s = tuner.get_best_hyperparameters(num_trials=1)[0]\n",
    "    best_model_s = tuner.get_best_models(num_models=1)[0]\n",
    "    best_trial_s = tuner.oracle.get_best_trials(num_trials=1)[0]\n",
    "    \n",
    "    best_val_accuracy = best_trial_s.metrics.metrics['val_accuracy'].get_best_value()\n",
    "    \n",
    "    print(f\"\"\"\n",
    "    The hyperparameters search is complete. \n",
    "    The optimal number of units in the first LSTM layer is {best_hps_s.get('lstm_units_1')} \n",
    "    and the optimal number of units in the second LSTM layer is {best_hps_s.get('lstm_units_2')}.\n",
    "    The optimal dropout rate is {best_hps_s.get('dropout_rate')}. \n",
    "    The optimal embedding dimension is {best_hps_s.get('embedding_dim')}.\n",
    "    \"\"\")\n",
    "\n",
    "    print(f\"Best validation accuracy: {best_val_accuracy}\")\n",
    "\n",
    "    # Print best hyperparameters\n",
    "    print(\"Best Hyperparameters:\")\n",
    "    print(best_hps_s.values)\n",
    "\n",
    "    # Print best model summary\n",
    "    print(\"Best Model Summary:\")\n",
    "    best_model_s.summary()"
   ]
  },
  {
   "cell_type": "code",
   "execution_count": 55,
   "id": "d09a3d48-52a9-4a98-8e6d-74fc0a658822",
   "metadata": {
    "tags": []
   },
   "outputs": [
    {
     "name": "stdout",
     "output_type": "stream",
     "text": [
      "Trial 10 Complete [04h 53m 48s]\n",
      "val_accuracy: 0.7066176533699036\n",
      "\n",
      "Best val_accuracy So Far: 0.7185049057006836\n",
      "Total elapsed time: 1d 11h 05m 11s\n",
      "INFO:tensorflow:Oracle triggered exit\n"
     ]
    }
   ],
   "source": [
    "run_stacked_tuner(32, X_train, Y_train, X_val, Y_val, 'SentimentAnalysis_stacked')"
   ]
  },
  {
   "cell_type": "code",
   "execution_count": 60,
   "id": "b538d1f7-96ab-4dc7-a1bb-af5c6b378d27",
   "metadata": {
    "tags": []
   },
   "outputs": [
    {
     "name": "stdout",
     "output_type": "stream",
     "text": [
      "INFO:tensorflow:Reloading Tuner from output_/SentimentAnalysis_stacked/tuner0.json\n",
      "WARNING:tensorflow:Detecting that an object or model or tf.train.Checkpoint is being deleted with unrestored values. See the following logs for the specific values in question. To silence these warnings, use `status.expect_partial()`. See https://www.tensorflow.org/api_docs/python/tf/train/Checkpoint#restorefor details about the status object returned by the restore function.\n",
      "WARNING:tensorflow:Value in checkpoint could not be found in the restored object: (root).optimizer._variables.1\n",
      "WARNING:tensorflow:Value in checkpoint could not be found in the restored object: (root).optimizer._variables.2\n",
      "WARNING:tensorflow:Value in checkpoint could not be found in the restored object: (root).optimizer._variables.3\n",
      "WARNING:tensorflow:Value in checkpoint could not be found in the restored object: (root).optimizer._variables.4\n",
      "WARNING:tensorflow:Value in checkpoint could not be found in the restored object: (root).optimizer._variables.5\n",
      "WARNING:tensorflow:Value in checkpoint could not be found in the restored object: (root).optimizer._variables.6\n",
      "WARNING:tensorflow:Value in checkpoint could not be found in the restored object: (root).optimizer._variables.7\n",
      "WARNING:tensorflow:Value in checkpoint could not be found in the restored object: (root).optimizer._variables.8\n",
      "WARNING:tensorflow:Value in checkpoint could not be found in the restored object: (root).optimizer._variables.9\n",
      "WARNING:tensorflow:Value in checkpoint could not be found in the restored object: (root).optimizer._variables.10\n",
      "WARNING:tensorflow:Value in checkpoint could not be found in the restored object: (root).optimizer._variables.11\n",
      "WARNING:tensorflow:Value in checkpoint could not be found in the restored object: (root).optimizer._variables.12\n",
      "WARNING:tensorflow:Value in checkpoint could not be found in the restored object: (root).optimizer._variables.13\n",
      "WARNING:tensorflow:Value in checkpoint could not be found in the restored object: (root).optimizer._variables.14\n",
      "WARNING:tensorflow:Value in checkpoint could not be found in the restored object: (root).optimizer._variables.15\n",
      "WARNING:tensorflow:Value in checkpoint could not be found in the restored object: (root).optimizer._variables.16\n",
      "WARNING:tensorflow:Value in checkpoint could not be found in the restored object: (root).optimizer._variables.17\n",
      "WARNING:tensorflow:Value in checkpoint could not be found in the restored object: (root).optimizer._variables.18\n",
      "\n",
      "    The hyperparameters search is complete. \n",
      "    The optimal number of units in the first LSTM layer is 352 \n",
      "    and the optimal number of units in the second LSTM layer is 224.\n",
      "    The optimal dropout rate is 0.4. \n",
      "    The optimal embedding dimension is 96.\n",
      "    \n",
      "Best validation accuracy: 0.7185049057006836\n",
      "Best Hyperparameters:\n",
      "{'embedding_dim': 96, 'dropout_rate': 0.4, 'lstm_units_1': 352, 'lstm_units_2': 224}\n",
      "Best Model Summary:\n",
      "Model: \"sequential\"\n",
      "_________________________________________________________________\n",
      " Layer (type)                Output Shape              Param #   \n",
      "=================================================================\n",
      " embedding (Embedding)       (None, 250, 96)           4800000   \n",
      "                                                                 \n",
      " spatial_dropout1d (Spatial  (None, 250, 96)           0         \n",
      " Dropout1D)                                                      \n",
      "                                                                 \n",
      " lstm (LSTM)                 (None, 250, 352)          632192    \n",
      "                                                                 \n",
      " lstm_1 (LSTM)               (None, 224)               516992    \n",
      "                                                                 \n",
      " dense (Dense)               (None, 3)                 675       \n",
      "                                                                 \n",
      "=================================================================\n",
      "Total params: 5949859 (22.70 MB)\n",
      "Trainable params: 5949859 (22.70 MB)\n",
      "Non-trainable params: 0 (0.00 Byte)\n",
      "_________________________________________________________________\n",
      "WARNING:tensorflow:Detecting that an object or model or tf.train.Checkpoint is being deleted with unrestored values. See the following logs for the specific values in question. To silence these warnings, use `status.expect_partial()`. See https://www.tensorflow.org/api_docs/python/tf/train/Checkpoint#restorefor details about the status object returned by the restore function.\n",
      "WARNING:tensorflow:Value in checkpoint could not be found in the restored object: (root).optimizer._variables.1\n",
      "WARNING:tensorflow:Value in checkpoint could not be found in the restored object: (root).optimizer._variables.2\n",
      "WARNING:tensorflow:Value in checkpoint could not be found in the restored object: (root).optimizer._variables.3\n",
      "WARNING:tensorflow:Value in checkpoint could not be found in the restored object: (root).optimizer._variables.4\n",
      "WARNING:tensorflow:Value in checkpoint could not be found in the restored object: (root).optimizer._variables.5\n",
      "WARNING:tensorflow:Value in checkpoint could not be found in the restored object: (root).optimizer._variables.6\n",
      "WARNING:tensorflow:Value in checkpoint could not be found in the restored object: (root).optimizer._variables.7\n",
      "WARNING:tensorflow:Value in checkpoint could not be found in the restored object: (root).optimizer._variables.8\n",
      "WARNING:tensorflow:Value in checkpoint could not be found in the restored object: (root).optimizer._variables.9\n",
      "WARNING:tensorflow:Value in checkpoint could not be found in the restored object: (root).optimizer._variables.10\n",
      "WARNING:tensorflow:Value in checkpoint could not be found in the restored object: (root).optimizer._variables.11\n",
      "WARNING:tensorflow:Value in checkpoint could not be found in the restored object: (root).optimizer._variables.12\n",
      "WARNING:tensorflow:Value in checkpoint could not be found in the restored object: (root).optimizer._variables.13\n",
      "WARNING:tensorflow:Value in checkpoint could not be found in the restored object: (root).optimizer._variables.14\n",
      "WARNING:tensorflow:Value in checkpoint could not be found in the restored object: (root).optimizer._variables.15\n",
      "WARNING:tensorflow:Value in checkpoint could not be found in the restored object: (root).optimizer._variables.16\n",
      "WARNING:tensorflow:Value in checkpoint could not be found in the restored object: (root).optimizer._variables.17\n",
      "WARNING:tensorflow:Value in checkpoint could not be found in the restored object: (root).optimizer._variables.18\n"
     ]
    }
   ],
   "source": [
    "# Reload the tuner and get the best hyperparameters, model, and validation accuracy.\n",
    "tuner_reload_s('SentimentAnalysis_stacked')"
   ]
  },
  {
   "cell_type": "code",
   "execution_count": 61,
   "id": "0309321e-d550-4d08-90e1-6932f1823512",
   "metadata": {
    "tags": []
   },
   "outputs": [
    {
     "name": "stdout",
     "output_type": "stream",
     "text": [
      "Epoch 1/10\n",
      "298/298 [==============================] - 792s 3s/step - loss: 0.8900 - accuracy: 0.5765 - val_loss: 0.7363 - val_accuracy: 0.6924\n",
      "Epoch 2/10\n",
      "298/298 [==============================] - 820s 3s/step - loss: 0.6340 - accuracy: 0.7395 - val_loss: 0.6919 - val_accuracy: 0.7061\n",
      "Epoch 3/10\n",
      "298/298 [==============================] - 818s 3s/step - loss: 0.4909 - accuracy: 0.8058 - val_loss: 0.7335 - val_accuracy: 0.7032\n",
      "Epoch 4/10\n",
      "298/298 [==============================] - 799s 3s/step - loss: 0.3825 - accuracy: 0.8551 - val_loss: 0.7708 - val_accuracy: 0.6973\n",
      "Epoch 5/10\n",
      "298/298 [==============================] - 857s 3s/step - loss: 0.3162 - accuracy: 0.8858 - val_loss: 0.8883 - val_accuracy: 0.6990\n",
      "128/128 [==============================] - 50s 390ms/step\n"
     ]
    },
    {
     "data": {
      "image/png": "[encoded data removed]",
      "text/plain": [
       "<Figure size 1000x700 with 2 Axes>"
      ]
     },
     "metadata": {},
     "output_type": "display_data"
    },
    {
     "name": "stdout",
     "output_type": "stream",
     "text": [
      "              precision    recall  f1-score   support\n",
      "\n",
      "    Negative     0.7696    0.6181    0.6856      1194\n",
      "     Neutral     0.6407    0.7218    0.6789      1621\n",
      "    Positive     0.7359    0.7534    0.7445      1265\n",
      "\n",
      "    accuracy                         0.7012      4080\n",
      "   macro avg     0.7154    0.6977    0.7030      4080\n",
      "weighted avg     0.7079    0.7012    0.7012      4080\n",
      "\n"
     ]
    },
    {
     "data": {
      "image/png": "[encoded data removed]",
      "text/plain": [
       "<Figure size 1500x500 with 2 Axes>"
      ]
     },
     "metadata": {},
     "output_type": "display_data"
    }
   ],
   "source": [
    "model = Sequential()\n",
    "model.add(Embedding(MAX_NB_WORDS, 96, input_length=X.shape[1]))\n",
    "model.add(SpatialDropout1D(0.4))\n",
    "model.add(LSTM(352, dropout=0.2, recurrent_dropout=0.2, return_sequences=True))\n",
    "model.add(LSTM(224, dropout=0.2, recurrent_dropout=0.2))\n",
    "model.add(Dense(3, activation='softmax'))\n",
    "model.compile(loss='categorical_crossentropy', optimizer='adam', metrics=['accuracy'])\n",
    "\n",
    "history = model.fit(X_train, Y_train, epochs=10, batch_size=64, validation_data=(X_val, Y_val), callbacks=[EarlyStopping(monitor='val_loss', patience=3, min_delta=0.0001)])\n",
    "\n",
    "test_pred = model.predict(X_test)\n",
    "test_pred = np.argmax(test_pred, axis=-1)\n",
    "Y_test_argmax = np.argmax(Y_test, axis=-1)\n",
    "\n",
    "plot_confusion_matrix(Y_test_argmax, test_pred)\n",
    "print(classification_report(Y_test_argmax, test_pred, target_names=['Negative', 'Neutral', 'Positive'],digits=4))\n",
    "\n",
    "plot_training_history(history)"
   ]
  },
  {
   "cell_type": "code",
   "execution_count": 12,
   "id": "e13e4db0-fce2-4b44-b12f-de89af0c1e3a",
   "metadata": {
    "tags": []
   },
   "outputs": [
    {
     "name": "stdout",
     "output_type": "stream",
     "text": [
      "Metrics for class negative (Class value: 0):\n",
      "Specificity: 0.9057\n",
      "FPR: 0.0943\n",
      "Precision: 0.7696\n",
      "\n",
      "Metrics for class neutral (Class value: 1):\n",
      "Specificity: 0.7205\n",
      "FPR: 0.2795\n",
      "Precision: 0.6407\n",
      "\n",
      "Metrics for class positive (Class value: 2):\n",
      "Specificity: 0.848\n",
      "FPR: 0.152\n",
      "Precision: 0.7359\n",
      "\n",
      "Overall accuracy: 0.7012\n",
      "Weighted average specificity: 0.8142\n",
      "Weighted average FPR: 0.1858\n",
      "Macro average specificity: 0.8247\n",
      "Macro average FPR: 0.1753\n",
      "\n"
     ]
    }
   ],
   "source": [
    "cm = np.array([[738, 384, 72], \n",
    "               [181, 1170, 270], \n",
    "               [40, 272, 953]])\n",
    "\n",
    "compute_FPR_spec_metrics(cm)"
   ]
  },
  {
   "cell_type": "code",
   "execution_count": 62,
   "id": "6edfcd05-8208-4124-af6b-92d870cefe7b",
   "metadata": {
    "tags": []
   },
   "outputs": [
    {
     "name": "stdout",
     "output_type": "stream",
     "text": [
      "128/128 [==============================] - 49s 380ms/step\n",
      "1. how i wish the result is true\n",
      "   True Sentiment: Neutral\n",
      "   Misclassified as: Positive\n",
      "\n",
      "2. dinner done shower done now time to chill with block of chocolate\n",
      "   True Sentiment: Positive\n",
      "   Misclassified as: Neutral\n",
      "\n",
      "3. making egg tart chinese egg pudding yum\n",
      "   True Sentiment: Positive\n",
      "   Misclassified as: Neutral\n",
      "\n",
      "4. haaa awesome i remember my brother got given woody and i got upset cause i got buzz but then i got both of them lmfao\n",
      "   True Sentiment: Positive\n",
      "   Misclassified as: Neutral\n",
      "\n",
      "5. on my way to school of my last friday of high school ever and i do not even get to see holly gabbie and hannah\n",
      "   True Sentiment: Negative\n",
      "   Misclassified as: Neutral\n",
      "\n",
      "6. we drank ours away may day bank holiday today\n",
      "   True Sentiment: Neutral\n",
      "   Misclassified as: Positive\n",
      "\n",
      "7. umhow long has it been since you slept startin to worry over here well i hope you are having fun lots of love to you\n",
      "   True Sentiment: Neutral\n",
      "   Misclassified as: Positive\n",
      "\n",
      "8. apparently today is happy star wars day i am suppose to say may the th be with you\n",
      "   True Sentiment: Neutral\n",
      "   Misclassified as: Positive\n",
      "\n",
      "9. im mad it wasnt scarey\n",
      "   True Sentiment: Negative\n",
      "   Misclassified as: Neutral\n",
      "\n",
      "10. um that is really scary please be safe btw ill be in orlando next week\n",
      "   True Sentiment: Negative\n",
      "   Misclassified as: Neutral\n",
      "\n"
     ]
    }
   ],
   "source": [
    "misclassification_report(model, X_test, Y_test, tokenizer, n_samples=10)"
   ]
  },
  {
   "cell_type": "code",
   "execution_count": 63,
   "id": "b240c4ca-c615-4089-9fd9-8bc9ca050d28",
   "metadata": {
    "tags": []
   },
   "outputs": [
    {
     "name": "stdout",
     "output_type": "stream",
     "text": [
      "Model: \"sequential_1\"\n",
      "_________________________________________________________________\n",
      " Layer (type)                Output Shape              Param #   \n",
      "=================================================================\n",
      " embedding_1 (Embedding)     (None, 250, 96)           4800000   \n",
      "                                                                 \n",
      " spatial_dropout1d_1 (Spati  (None, 250, 96)           0         \n",
      " alDropout1D)                                                    \n",
      "                                                                 \n",
      " lstm_2 (LSTM)               (None, 250, 352)          632192    \n",
      "                                                                 \n",
      " lstm_3 (LSTM)               (None, 224)               516992    \n",
      "                                                                 \n",
      " dense_1 (Dense)             (None, 3)                 675       \n",
      "                                                                 \n",
      "=================================================================\n",
      "Total params: 5949859 (22.70 MB)\n",
      "Trainable params: 5949859 (22.70 MB)\n",
      "Non-trainable params: 0 (0.00 Byte)\n",
      "_________________________________________________________________\n"
     ]
    }
   ],
   "source": [
    "model.summary()"
   ]
  },
  {
   "cell_type": "code",
   "execution_count": null,
   "id": "11957138-91ef-419f-aec0-2aca94f35991",
   "metadata": {},
   "outputs": [],
   "source": []
  },
  {
   "cell_type": "code",
   "execution_count": null,
   "id": "8a7e14fc-f1d6-4d95-b681-2ec65db41ceb",
   "metadata": {},
   "outputs": [],
   "source": []
  },
  {
   "cell_type": "markdown",
   "id": "2387be33-4b4e-48f8-9289-be6655c2e6d0",
   "metadata": {},
   "source": [
    "Bi-Directional LSTM"
   ]
  },
  {
   "cell_type": "code",
   "execution_count": 64,
   "id": "dfa20222-f27f-41e3-9160-fbbccc08ac5e",
   "metadata": {
    "tags": []
   },
   "outputs": [],
   "source": [
    "def build_bidirectional_model(hp, max_nb_words=MAX_NB_WORDS, input_length=MAX_SEQUENCE_LENGTH):\n",
    "    \"\"\"\n",
    "    Builds a Bidirectional LSTM model for sentiment analysis.\n",
    "    \n",
    "    Args:\n",
    "        hp (HyperParameters): Hyperparameters for the model.\n",
    "        max_nb_words (int): Maximum number of words for the Embedding layer.\n",
    "        input_length (int): Input length for the Embedding layer.\n",
    "    \n",
    "    Returns:\n",
    "        Model: A compiled Keras model.\n",
    "    \"\"\"\n",
    "    model = Sequential()\n",
    "    model.add(Embedding(max_nb_words, hp.Int('embedding_dim', min_value=32, max_value=512, step=32), input_length=input_length))\n",
    "    model.add(SpatialDropout1D(hp.Float('dropout_rate', min_value=0.0, max_value=0.5, step=0.05)))\n",
    "    model.add(Bidirectional(LSTM(hp.Int('lstm_units', min_value=32, max_value=512, step=32), dropout=0.2, recurrent_dropout=0.2)))\n",
    "    model.add(Dense(3, activation='softmax'))\n",
    "    model.compile(loss='categorical_crossentropy', optimizer='adam', metrics=['accuracy'])\n",
    "    return model\n",
    "\n"
   ]
  },
  {
   "cell_type": "code",
   "execution_count": 65,
   "id": "8742d229-304b-4e69-b2b2-c7a7c615aff3",
   "metadata": {
    "tags": []
   },
   "outputs": [],
   "source": [
    "def run_bidirectional_tuner(batch_size, X_train, Y_train, X_val, Y_val, project_name):\n",
    "    \"\"\"\n",
    "    Runs the Keras tuner for hyperparameter optimization of the Bidirectional LSTM model.\n",
    "    \n",
    "    Args:\n",
    "        batch_size (int): Batch size for training.\n",
    "        X_train (ndarray): Training features.\n",
    "        Y_train (ndarray): Training labels.\n",
    "        X_val (ndarray): Validation features.\n",
    "        Y_val (ndarray): Validation labels.\n",
    "        project_name (str): Name of the tuning project.\n",
    "    \"\"\"\n",
    "    tuner = RandomSearch(\n",
    "        build_bidirectional_model,\n",
    "        objective='val_accuracy',\n",
    "        max_trials=10,\n",
    "        executions_per_trial=2,\n",
    "        directory='output_',\n",
    "        project_name=project_name)\n",
    "    \n",
    "    tuner.search(X_train, Y_train, epochs=5, validation_data=(X_val, Y_val), batch_size=batch_size, callbacks=[EarlyStopping(monitor='val_loss', patience=3)])\n"
   ]
  },
  {
   "cell_type": "code",
   "execution_count": 69,
   "id": "d9b3b6b9-a13e-453a-9c38-d6ff2068d443",
   "metadata": {
    "tags": []
   },
   "outputs": [],
   "source": [
    "def tuner_reload_bi(project_name):\n",
    "    tuner = RandomSearch(\n",
    "        build_bidirectional_model,\n",
    "        objective='val_accuracy',\n",
    "        max_trials=10,\n",
    "        executions_per_trial=2,\n",
    "        directory='output_',\n",
    "        project_name=project_name\n",
    "    )\n",
    "    tuner.reload()\n",
    "    \n",
    "    best_hps_bi = tuner.get_best_hyperparameters(num_trials=1)[0]\n",
    "    best_model_bi = tuner.get_best_models(num_models=1)[0]\n",
    "    best_trial_bi = tuner.oracle.get_best_trials(num_trials=1)[0]\n",
    "    \n",
    "    best_val_accuracy = best_trial_bi.metrics.metrics['val_accuracy'].get_best_value()\n",
    "    \n",
    "\n",
    "    print(f\"Best validation accuracy: {best_val_accuracy}\")\n",
    "\n",
    "    # Print best hyperparameters\n",
    "    print(\"Best Hyperparameters:\")\n",
    "    print(best_hps_bi.values)\n",
    "\n",
    "    # Print best model summary\n",
    "    print(\"Best Model Summary:\")\n",
    "    best_model_bi.summary()\n",
    "    \n"
   ]
  },
  {
   "cell_type": "code",
   "execution_count": 67,
   "id": "8fa020ce-8f76-46e1-b041-5c39e03f332a",
   "metadata": {
    "tags": []
   },
   "outputs": [
    {
     "name": "stdout",
     "output_type": "stream",
     "text": [
      "Trial 10 Complete [04h 44m 43s]\n",
      "val_accuracy: 0.7029411792755127\n",
      "\n",
      "Best val_accuracy So Far: 0.7118872702121735\n",
      "Total elapsed time: 1d 05h 10m 44s\n",
      "INFO:tensorflow:Oracle triggered exit\n"
     ]
    }
   ],
   "source": [
    "run_bidirectional_tuner(32, X_train, Y_train, X_val, Y_val, 'SentimentAnalysis_bidirectional')"
   ]
  },
  {
   "cell_type": "code",
   "execution_count": 70,
   "id": "35ff69a1-95e3-4dbb-be8b-be2c3bbf484f",
   "metadata": {
    "tags": []
   },
   "outputs": [
    {
     "name": "stdout",
     "output_type": "stream",
     "text": [
      "INFO:tensorflow:Reloading Tuner from output_/SentimentAnalysis_bidirectional/tuner0.json\n",
      "WARNING:tensorflow:Detecting that an object or model or tf.train.Checkpoint is being deleted with unrestored values. See the following logs for the specific values in question. To silence these warnings, use `status.expect_partial()`. See https://www.tensorflow.org/api_docs/python/tf/train/Checkpoint#restorefor details about the status object returned by the restore function.\n",
      "WARNING:tensorflow:Value in checkpoint could not be found in the restored object: (root).optimizer._variables.1\n",
      "WARNING:tensorflow:Value in checkpoint could not be found in the restored object: (root).optimizer._variables.2\n",
      "WARNING:tensorflow:Value in checkpoint could not be found in the restored object: (root).optimizer._variables.3\n",
      "WARNING:tensorflow:Value in checkpoint could not be found in the restored object: (root).optimizer._variables.4\n",
      "WARNING:tensorflow:Value in checkpoint could not be found in the restored object: (root).optimizer._variables.5\n",
      "WARNING:tensorflow:Value in checkpoint could not be found in the restored object: (root).optimizer._variables.6\n",
      "WARNING:tensorflow:Value in checkpoint could not be found in the restored object: (root).optimizer._variables.7\n",
      "WARNING:tensorflow:Value in checkpoint could not be found in the restored object: (root).optimizer._variables.8\n",
      "WARNING:tensorflow:Value in checkpoint could not be found in the restored object: (root).optimizer._variables.9\n",
      "WARNING:tensorflow:Value in checkpoint could not be found in the restored object: (root).optimizer._variables.10\n",
      "WARNING:tensorflow:Value in checkpoint could not be found in the restored object: (root).optimizer._variables.11\n",
      "WARNING:tensorflow:Value in checkpoint could not be found in the restored object: (root).optimizer._variables.12\n",
      "WARNING:tensorflow:Value in checkpoint could not be found in the restored object: (root).optimizer._variables.13\n",
      "WARNING:tensorflow:Value in checkpoint could not be found in the restored object: (root).optimizer._variables.14\n",
      "WARNING:tensorflow:Value in checkpoint could not be found in the restored object: (root).optimizer._variables.15\n",
      "WARNING:tensorflow:Value in checkpoint could not be found in the restored object: (root).optimizer._variables.16\n",
      "WARNING:tensorflow:Value in checkpoint could not be found in the restored object: (root).optimizer._variables.17\n",
      "WARNING:tensorflow:Value in checkpoint could not be found in the restored object: (root).optimizer._variables.18\n",
      "Best validation accuracy: 0.7118872702121735\n",
      "Best Hyperparameters:\n",
      "{'embedding_dim': 384, 'dropout_rate': 0.30000000000000004, 'lstm_units': 128}\n",
      "Best Model Summary:\n",
      "Model: \"sequential\"\n",
      "_________________________________________________________________\n",
      " Layer (type)                Output Shape              Param #   \n",
      "=================================================================\n",
      " embedding (Embedding)       (None, 250, 384)          19200000  \n",
      "                                                                 \n",
      " spatial_dropout1d (Spatial  (None, 250, 384)          0         \n",
      " Dropout1D)                                                      \n",
      "                                                                 \n",
      " bidirectional (Bidirection  (None, 256)               525312    \n",
      " al)                                                             \n",
      "                                                                 \n",
      " dense (Dense)               (None, 3)                 771       \n",
      "                                                                 \n",
      "=================================================================\n",
      "Total params: 19726083 (75.25 MB)\n",
      "Trainable params: 19726083 (75.25 MB)\n",
      "Non-trainable params: 0 (0.00 Byte)\n",
      "_________________________________________________________________\n",
      "WARNING:tensorflow:Detecting that an object or model or tf.train.Checkpoint is being deleted with unrestored values. See the following logs for the specific values in question. To silence these warnings, use `status.expect_partial()`. See https://www.tensorflow.org/api_docs/python/tf/train/Checkpoint#restorefor details about the status object returned by the restore function.\n",
      "WARNING:tensorflow:Value in checkpoint could not be found in the restored object: (root).optimizer._variables.1\n",
      "WARNING:tensorflow:Value in checkpoint could not be found in the restored object: (root).optimizer._variables.2\n",
      "WARNING:tensorflow:Value in checkpoint could not be found in the restored object: (root).optimizer._variables.3\n",
      "WARNING:tensorflow:Value in checkpoint could not be found in the restored object: (root).optimizer._variables.4\n",
      "WARNING:tensorflow:Value in checkpoint could not be found in the restored object: (root).optimizer._variables.5\n",
      "WARNING:tensorflow:Value in checkpoint could not be found in the restored object: (root).optimizer._variables.6\n",
      "WARNING:tensorflow:Value in checkpoint could not be found in the restored object: (root).optimizer._variables.7\n",
      "WARNING:tensorflow:Value in checkpoint could not be found in the restored object: (root).optimizer._variables.8\n",
      "WARNING:tensorflow:Value in checkpoint could not be found in the restored object: (root).optimizer._variables.9\n",
      "WARNING:tensorflow:Value in checkpoint could not be found in the restored object: (root).optimizer._variables.10\n",
      "WARNING:tensorflow:Value in checkpoint could not be found in the restored object: (root).optimizer._variables.11\n",
      "WARNING:tensorflow:Value in checkpoint could not be found in the restored object: (root).optimizer._variables.12\n",
      "WARNING:tensorflow:Value in checkpoint could not be found in the restored object: (root).optimizer._variables.13\n",
      "WARNING:tensorflow:Value in checkpoint could not be found in the restored object: (root).optimizer._variables.14\n",
      "WARNING:tensorflow:Value in checkpoint could not be found in the restored object: (root).optimizer._variables.15\n",
      "WARNING:tensorflow:Value in checkpoint could not be found in the restored object: (root).optimizer._variables.16\n",
      "WARNING:tensorflow:Value in checkpoint could not be found in the restored object: (root).optimizer._variables.17\n",
      "WARNING:tensorflow:Value in checkpoint could not be found in the restored object: (root).optimizer._variables.18\n"
     ]
    }
   ],
   "source": [
    "tuner_reload_bi('SentimentAnalysis_bidirectional')"
   ]
  },
  {
   "cell_type": "code",
   "execution_count": 71,
   "id": "f6a1bb1f-bd00-4871-99aa-5348e9cc55ec",
   "metadata": {
    "tags": []
   },
   "outputs": [
    {
     "name": "stdout",
     "output_type": "stream",
     "text": [
      "Epoch 1/10\n",
      "595/595 [==============================] - 538s 903ms/step - loss: 0.8158 - accuracy: 0.6282 - val_loss: 0.7018 - val_accuracy: 0.7078\n",
      "Epoch 2/10\n",
      "595/595 [==============================] - 557s 936ms/step - loss: 0.5461 - accuracy: 0.7816 - val_loss: 0.7203 - val_accuracy: 0.7010\n",
      "Epoch 3/10\n",
      "595/595 [==============================] - 573s 964ms/step - loss: 0.3641 - accuracy: 0.8617 - val_loss: 0.8082 - val_accuracy: 0.6846\n",
      "Epoch 4/10\n",
      "595/595 [==============================] - 553s 928ms/step - loss: 0.2456 - accuracy: 0.9108 - val_loss: 0.9087 - val_accuracy: 0.6946\n",
      "128/128 [==============================] - 16s 121ms/step\n"
     ]
    },
    {
     "data": {
      "image/png": "[encoded data removed]",
      "text/plain": [
       "<Figure size 1000x700 with 2 Axes>"
      ]
     },
     "metadata": {},
     "output_type": "display_data"
    },
    {
     "name": "stdout",
     "output_type": "stream",
     "text": [
      "              precision    recall  f1-score   support\n",
      "\n",
      "    Negative     0.7500    0.6256    0.6822      1194\n",
      "     Neutral     0.6362    0.7131    0.6725      1621\n",
      "    Positive     0.7395    0.7407    0.7401      1265\n",
      "\n",
      "    accuracy                         0.6961      4080\n",
      "   macro avg     0.7086    0.6932    0.6983      4080\n",
      "weighted avg     0.7015    0.6961    0.6963      4080\n",
      "\n"
     ]
    },
    {
     "data": {
      "image/png": "[encoded data removed]",
      "text/plain": [
       "<Figure size 1500x500 with 2 Axes>"
      ]
     },
     "metadata": {},
     "output_type": "display_data"
    }
   ],
   "source": [
    "model = Sequential()\n",
    "model.add(Embedding(MAX_NB_WORDS, 384, input_length=X.shape[1]))\n",
    "model.add(SpatialDropout1D(0.30000000000000004))\n",
    "model.add(Bidirectional(LSTM(128, dropout=0.2, recurrent_dropout=0.2)))\n",
    "model.add(Dense(3, activation='softmax'))\n",
    "model.compile(loss='categorical_crossentropy', optimizer='adam', metrics=['accuracy'])\n",
    "\n",
    "history = model.fit(X_train, Y_train, epochs=10, batch_size=32, validation_data=(X_val, Y_val), callbacks=[EarlyStopping(monitor='val_loss', patience=3, min_delta=0.0001)])\n",
    "\n",
    "test_pred = model.predict(X_test)\n",
    "test_pred = np.argmax(test_pred, axis=-1)\n",
    "Y_test_argmax = np.argmax(Y_test, axis=-1)\n",
    "\n",
    "plot_confusion_matrix(Y_test_argmax, test_pred)\n",
    "print(classification_report(Y_test_argmax, test_pred, target_names=['Negative', 'Neutral', 'Positive'],digits=4))\n",
    "\n",
    "plot_training_history(history)"
   ]
  },
  {
   "cell_type": "code",
   "execution_count": 13,
   "id": "412de3a5-e14f-43f5-9e5f-9235aba9435b",
   "metadata": {
    "tags": []
   },
   "outputs": [
    {
     "name": "stdout",
     "output_type": "stream",
     "text": [
      "Metrics for class negative (Class value: 0):\n",
      "Specificity: 0.8937\n",
      "FPR: 0.1063\n",
      "Precision: 0.75\n",
      "\n",
      "Metrics for class neutral (Class value: 1):\n",
      "Specificity: 0.7181\n",
      "FPR: 0.2819\n",
      "Precision: 0.6362\n",
      "\n",
      "Metrics for class positive (Class value: 2):\n",
      "Specificity: 0.8522\n",
      "FPR: 0.1478\n",
      "Precision: 0.7395\n",
      "\n",
      "Overall accuracy: 0.6961\n",
      "Weighted average specificity: 0.8111\n",
      "Weighted average FPR: 0.1889\n",
      "Macro average specificity: 0.8213\n",
      "Macro average FPR: 0.1787\n",
      "\n"
     ]
    }
   ],
   "source": [
    "cm = np.array([[747, 381, 66], \n",
    "               [201, 1156, 264], \n",
    "               [48, 280, 937]])\n",
    "\n",
    "compute_FPR_spec_metrics(cm)"
   ]
  },
  {
   "cell_type": "code",
   "execution_count": 72,
   "id": "5c89688e-b355-4dbd-ad6c-3b4393052815",
   "metadata": {
    "tags": []
   },
   "outputs": [
    {
     "data": {
      "image/png": "[encoded data removed]",
      "text/plain": [
       "<Figure size 1000x700 with 2 Axes>"
      ]
     },
     "metadata": {},
     "output_type": "display_data"
    },
    {
     "name": "stdout",
     "output_type": "stream",
     "text": [
      "              precision    recall  f1-score   support\n",
      "\n",
      "    Negative     0.7500    0.6256    0.6822      1194\n",
      "     Neutral     0.6362    0.7131    0.6725      1621\n",
      "    Positive     0.7395    0.7407    0.7401      1265\n",
      "\n",
      "    accuracy                         0.6961      4080\n",
      "   macro avg     0.7086    0.6932    0.6983      4080\n",
      "weighted avg     0.7015    0.6961    0.6963      4080\n",
      "\n"
     ]
    }
   ],
   "source": [
    "plot_confusion_matrix(Y_test_argmax, test_pred)\n",
    "print(classification_report(Y_test_argmax, test_pred, target_names=['Negative', 'Neutral', 'Positive'],digits=4))"
   ]
  },
  {
   "cell_type": "code",
   "execution_count": 73,
   "id": "d620b69b-0b05-484e-a460-7c5ed83f968e",
   "metadata": {
    "tags": []
   },
   "outputs": [
    {
     "name": "stdout",
     "output_type": "stream",
     "text": [
      "128/128 [==============================] - 15s 117ms/step\n",
      "1. how i wish the result is true\n",
      "   True Sentiment: Neutral\n",
      "   Misclassified as: Positive\n",
      "\n",
      "2. making egg tart chinese egg pudding yum\n",
      "   True Sentiment: Positive\n",
      "   Misclassified as: Neutral\n",
      "\n",
      "3. haaa awesome i remember my brother got given woody and i got upset cause i got buzz but then i got both of them lmfao\n",
      "   True Sentiment: Positive\n",
      "   Misclassified as: Neutral\n",
      "\n",
      "4. on my way to school of my last friday of high school ever and i do not even get to see holly gabbie and hannah\n",
      "   True Sentiment: Negative\n",
      "   Misclassified as: Neutral\n",
      "\n",
      "5. juz donated booksmags charity not only do i feel good but it gave me a good workout from all that heavy lifting\n",
      "   True Sentiment: Positive\n",
      "   Misclassified as: Neutral\n",
      "\n",
      "6. oh and i am obviously back on my stupid sleep schedule luckily church is not until tomorrow\n",
      "   True Sentiment: Neutral\n",
      "   Misclassified as: Negative\n",
      "\n",
      "7. umhow long has it been since you slept startin to worry over here well i hope you are having fun lots of love to you\n",
      "   True Sentiment: Neutral\n",
      "   Misclassified as: Positive\n",
      "\n",
      "8. apparently today is happy star wars day i am suppose to say may the th be with you\n",
      "   True Sentiment: Neutral\n",
      "   Misclassified as: Positive\n",
      "\n",
      "9. um that is really scary please be safe btw ill be in orlando next week\n",
      "   True Sentiment: Negative\n",
      "   Misclassified as: Neutral\n",
      "\n",
      "10. ian is waiting for a very important pic\n",
      "   True Sentiment: Neutral\n",
      "   Misclassified as: Positive\n",
      "\n"
     ]
    }
   ],
   "source": [
    "misclassification_report(model, X_test, Y_test, tokenizer, n_samples=10)"
   ]
  },
  {
   "cell_type": "code",
   "execution_count": 74,
   "id": "b646d56a-74b5-4278-bbfa-b5bdf62a13ea",
   "metadata": {
    "tags": []
   },
   "outputs": [
    {
     "name": "stdout",
     "output_type": "stream",
     "text": [
      "Model: \"sequential_1\"\n",
      "_________________________________________________________________\n",
      " Layer (type)                Output Shape              Param #   \n",
      "=================================================================\n",
      " embedding_1 (Embedding)     (None, 250, 384)          19200000  \n",
      "                                                                 \n",
      " spatial_dropout1d_1 (Spati  (None, 250, 384)          0         \n",
      " alDropout1D)                                                    \n",
      "                                                                 \n",
      " bidirectional_1 (Bidirecti  (None, 256)               525312    \n",
      " onal)                                                           \n",
      "                                                                 \n",
      " dense_1 (Dense)             (None, 3)                 771       \n",
      "                                                                 \n",
      "=================================================================\n",
      "Total params: 19726083 (75.25 MB)\n",
      "Trainable params: 19726083 (75.25 MB)\n",
      "Non-trainable params: 0 (0.00 Byte)\n",
      "_________________________________________________________________\n"
     ]
    }
   ],
   "source": [
    "model.summary()"
   ]
  },
  {
   "cell_type": "code",
   "execution_count": 75,
   "id": "aefe7428-f742-453a-8efb-57bff0bcac08",
   "metadata": {
    "tags": []
   },
   "outputs": [
    {
     "name": "stdout",
     "output_type": "stream",
     "text": [
      "mps:0\n",
      "mps:0\n"
     ]
    }
   ],
   "source": [
    "torch.set_default_device('mps')\n",
    "\n",
    "mod = torch.nn.Linear(20,30)\n",
    "print(mod.weight.device)\n",
    "print(mod(torch.randn(128, 20)).device)"
   ]
  }
 ],
 "metadata": {
  "kernelspec": {
   "display_name": "Python 3 (ipykernel)",
   "language": "python",
   "name": "python3"
  },
  "language_info": {
   "codemirror_mode": {
    "name": "ipython",
    "version": 3
   },
   "file_extension": ".py",
   "mimetype": "text/x-python",
   "name": "python",
   "nbconvert_exporter": "python",
   "pygments_lexer": "ipython3",
   "version": "3.9.12"
  }
 },
 "nbformat": 4,
 "nbformat_minor": 5
}
